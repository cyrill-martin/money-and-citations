{
 "cells": [
  {
   "cell_type": "code",
   "execution_count": 1,
   "id": "25cf91fc-54b2-4ce3-bacc-b4c90375a045",
   "metadata": {
    "vscode": {
     "languageId": "r"
    }
   },
   "outputs": [
    {
     "name": "stderr",
     "output_type": "stream",
     "text": [
      "-- \u001b[1mAttaching packages\u001b[22m --------------------------------------- tidyverse 1.3.2 --\n",
      "\u001b[32mv\u001b[39m \u001b[34mggplot2\u001b[39m 3.4.1     \u001b[32mv\u001b[39m \u001b[34mpurrr  \u001b[39m 1.0.1\n",
      "\u001b[32mv\u001b[39m \u001b[34mtibble \u001b[39m 3.1.8     \u001b[32mv\u001b[39m \u001b[34mdplyr  \u001b[39m 1.1.0\n",
      "\u001b[32mv\u001b[39m \u001b[34mtidyr  \u001b[39m 1.3.0     \u001b[32mv\u001b[39m \u001b[34mstringr\u001b[39m 1.5.0\n",
      "\u001b[32mv\u001b[39m \u001b[34mreadr  \u001b[39m 2.1.4     \u001b[32mv\u001b[39m \u001b[34mforcats\u001b[39m 1.0.0\n",
      "-- \u001b[1mConflicts\u001b[22m ------------------------------------------ tidyverse_conflicts() --\n",
      "\u001b[31mx\u001b[39m \u001b[34mdplyr\u001b[39m::\u001b[32mfilter()\u001b[39m masks \u001b[34mstats\u001b[39m::filter()\n",
      "\u001b[31mx\u001b[39m \u001b[34mdplyr\u001b[39m::\u001b[32mlag()\u001b[39m    masks \u001b[34mstats\u001b[39m::lag()\n"
     ]
    }
   ],
   "source": [
    "library(tidyverse)"
   ]
  },
  {
   "cell_type": "code",
   "execution_count": 2,
   "id": "58d297cd",
   "metadata": {
    "vscode": {
     "languageId": "r"
    }
   },
   "outputs": [],
   "source": [
    "# Make sure all columns of a tibble are being shown\n",
    "options(repr.matrix.max.rows = Inf, repr.matrix.max.cols = Inf)"
   ]
  },
  {
   "cell_type": "code",
   "execution_count": 3,
   "id": "de5cf073-9171-43aa-bb2d-93341343548b",
   "metadata": {
    "vscode": {
     "languageId": "r"
    }
   },
   "outputs": [],
   "source": [
    "# 1 ##########################################################################################################\n",
    "# The grant data #############################################################################################"
   ]
  },
  {
   "cell_type": "code",
   "execution_count": 4,
   "id": "34e523a5-ab78-4abc-9945-2d97fa2360a4",
   "metadata": {
    "vscode": {
     "languageId": "r"
    }
   },
   "outputs": [
    {
     "name": "stderr",
     "output_type": "stream",
     "text": [
      "\u001b[1mRows: \u001b[22m\u001b[34m84341\u001b[39m \u001b[1mColumns: \u001b[22m\u001b[34m24\u001b[39m\n",
      "\u001b[36m--\u001b[39m \u001b[1mColumn specification\u001b[22m \u001b[36m--------------------------------------------------------\u001b[39m\n",
      "\u001b[1mDelimiter:\u001b[22m \";\"\n",
      "\u001b[31mchr\u001b[39m  (17): AllDisciplines, CallFullTitle, FundingInstrumentLevel1, FundingIn...\n",
      "\u001b[32mdbl\u001b[39m   (4): AmountGrantedAllSets, CallDecisionYear, GrantNumber, MainDiscipli...\n",
      "\u001b[34mdttm\u001b[39m  (3): CallEndDate, EffectiveGrantEndDate, EffectiveGrantStartDate\n",
      "\n",
      "\u001b[36mi\u001b[39m Use `spec()` to retrieve the full column specification for this data.\n",
      "\u001b[36mi\u001b[39m Specify the column types or set `show_col_types = FALSE` to quiet this message.\n"
     ]
    }
   ],
   "source": [
    "# Raw grant data\n",
    "raw_grantdata <- read_delim(\"../raw/Grant.csv\", delim=\";\", col_names=TRUE)"
   ]
  },
  {
   "cell_type": "code",
   "execution_count": 5,
   "id": "27418715-d720-4903-a62c-298ae64c38ac",
   "metadata": {
    "vscode": {
     "languageId": "r"
    }
   },
   "outputs": [],
   "source": [
    "# Keep the columns of interest\n",
    "grantdata_default <- select(raw_grantdata, \n",
    "                        GrantNumber, \n",
    "                        CallDecisionYear, \n",
    "                        EffectiveGrantStartDate, \n",
    "                        EffectiveGrantEndDate, \n",
    "                        State,\n",
    "                        FundingInstrumentLevel1, # Careers, projects, etc.\n",
    "                        AmountGrantedAllSets,    # Approved amount\n",
    "                        ResearchInstitution,     # On the level of university, university of applied science, etc.\n",
    "                        InstituteCountry,\n",
    "                        MainDiscipline_Level1,   # Main discipline\n",
    "                        MainDiscipline_Level2,   # Subdiscipline\n",
    "                        MainDiscipline           # Speciality\n",
    "                    )"
   ]
  },
  {
   "cell_type": "code",
   "execution_count": 6,
   "id": "340ad7b9-b2d8-4876-8a01-dd04da8e8ce7",
   "metadata": {
    "vscode": {
     "languageId": "r"
    }
   },
   "outputs": [],
   "source": [
    "# Add the effective approved grant duration in days and years\n",
    "\n",
    "# Duration in days\n",
    "grantdata_default <- mutate(grantdata_default, GrantDurationDays=ifelse(\n",
    "    as.numeric(as.Date(EffectiveGrantEndDate) - as.Date(EffectiveGrantStartDate)) < 0,\n",
    "    0, # There's data where the end date is smaller than the start date\n",
    "    as.numeric(as.Date(EffectiveGrantEndDate) - as.Date(EffectiveGrantStartDate))),\n",
    "    .after=EffectiveGrantStartDate)\n",
    "\n",
    "# Duration in years\n",
    "grantdata_default <- mutate(grantdata_default, GrantDurationYears=GrantDurationDays/365, .after=GrantDurationDays)"
   ]
  },
  {
   "cell_type": "code",
   "execution_count": 7,
   "id": "6671cea4-25b1-4db4-a27a-600555fcfa0d",
   "metadata": {
    "vscode": {
     "languageId": "r"
    }
   },
   "outputs": [
    {
     "data": {
      "text/html": [
       "<table class=\"dataframe\">\n",
       "<caption>A tibble: 3 × 14</caption>\n",
       "<thead>\n",
       "\t<tr><th scope=col>GrantNumber</th><th scope=col>CallDecisionYear</th><th scope=col>EffectiveGrantStartDate</th><th scope=col>GrantDurationDays</th><th scope=col>GrantDurationYears</th><th scope=col>EffectiveGrantEndDate</th><th scope=col>State</th><th scope=col>FundingInstrumentLevel1</th><th scope=col>AmountGrantedAllSets</th><th scope=col>ResearchInstitution</th><th scope=col>InstituteCountry</th><th scope=col>MainDiscipline_Level1</th><th scope=col>MainDiscipline_Level2</th><th scope=col>MainDiscipline</th></tr>\n",
       "\t<tr><th scope=col>&lt;dbl&gt;</th><th scope=col>&lt;dbl&gt;</th><th scope=col>&lt;dttm&gt;</th><th scope=col>&lt;dbl&gt;</th><th scope=col>&lt;dbl&gt;</th><th scope=col>&lt;dttm&gt;</th><th scope=col>&lt;chr&gt;</th><th scope=col>&lt;chr&gt;</th><th scope=col>&lt;dbl&gt;</th><th scope=col>&lt;chr&gt;</th><th scope=col>&lt;chr&gt;</th><th scope=col>&lt;chr&gt;</th><th scope=col>&lt;chr&gt;</th><th scope=col>&lt;chr&gt;</th></tr>\n",
       "</thead>\n",
       "<tbody>\n",
       "\t<tr><td>208399</td><td>2022</td><td>2022-10-01</td><td> 608</td><td>1.665753</td><td>2024-05-31</td><td>Ongoing  </td><td>Science communication</td><td>150000</td><td>University of Berne - BE   </td><td>Switzerland</td><td>Humanities and Social Sciences</td><td>Art studies, musicology, theatre and film studies, architecture</td><td>Theatre and Cinema              </td></tr>\n",
       "\t<tr><td>158034</td><td>2014</td><td>2014-12-01</td><td>1095</td><td>3.000000</td><td>2017-11-30</td><td>Completed</td><td>Science communication</td><td> 11390</td><td>University of Berne - BE   </td><td>Switzerland</td><td>Humanities and Social Sciences</td><td>Art studies, musicology, theatre and film studies, architecture</td><td>Theatre and Cinema              </td></tr>\n",
       "\t<tr><td>139781</td><td>2011</td><td>2012-01-01</td><td> 365</td><td>1.000000</td><td>2012-12-31</td><td>Completed</td><td>Careers              </td><td> 45360</td><td>Institution abroad - France</td><td>France     </td><td>Humanities and Social Sciences</td><td>Linguistics and literature, philosophy                         </td><td>Romance languages and literature</td></tr>\n",
       "</tbody>\n",
       "</table>\n"
      ],
      "text/latex": [
       "A tibble: 3 × 14\n",
       "\\begin{tabular}{llllllllllllll}\n",
       " GrantNumber & CallDecisionYear & EffectiveGrantStartDate & GrantDurationDays & GrantDurationYears & EffectiveGrantEndDate & State & FundingInstrumentLevel1 & AmountGrantedAllSets & ResearchInstitution & InstituteCountry & MainDiscipline\\_Level1 & MainDiscipline\\_Level2 & MainDiscipline\\\\\n",
       " <dbl> & <dbl> & <dttm> & <dbl> & <dbl> & <dttm> & <chr> & <chr> & <dbl> & <chr> & <chr> & <chr> & <chr> & <chr>\\\\\n",
       "\\hline\n",
       "\t 208399 & 2022 & 2022-10-01 &  608 & 1.665753 & 2024-05-31 & Ongoing   & Science communication & 150000 & University of Berne - BE    & Switzerland & Humanities and Social Sciences & Art studies, musicology, theatre and film studies, architecture & Theatre and Cinema              \\\\\n",
       "\t 158034 & 2014 & 2014-12-01 & 1095 & 3.000000 & 2017-11-30 & Completed & Science communication &  11390 & University of Berne - BE    & Switzerland & Humanities and Social Sciences & Art studies, musicology, theatre and film studies, architecture & Theatre and Cinema              \\\\\n",
       "\t 139781 & 2011 & 2012-01-01 &  365 & 1.000000 & 2012-12-31 & Completed & Careers               &  45360 & Institution abroad - France & France      & Humanities and Social Sciences & Linguistics and literature, philosophy                          & Romance languages and literature\\\\\n",
       "\\end{tabular}\n"
      ],
      "text/markdown": [
       "\n",
       "A tibble: 3 × 14\n",
       "\n",
       "| GrantNumber &lt;dbl&gt; | CallDecisionYear &lt;dbl&gt; | EffectiveGrantStartDate &lt;dttm&gt; | GrantDurationDays &lt;dbl&gt; | GrantDurationYears &lt;dbl&gt; | EffectiveGrantEndDate &lt;dttm&gt; | State &lt;chr&gt; | FundingInstrumentLevel1 &lt;chr&gt; | AmountGrantedAllSets &lt;dbl&gt; | ResearchInstitution &lt;chr&gt; | InstituteCountry &lt;chr&gt; | MainDiscipline_Level1 &lt;chr&gt; | MainDiscipline_Level2 &lt;chr&gt; | MainDiscipline &lt;chr&gt; |\n",
       "|---|---|---|---|---|---|---|---|---|---|---|---|---|---|\n",
       "| 208399 | 2022 | 2022-10-01 |  608 | 1.665753 | 2024-05-31 | Ongoing   | Science communication | 150000 | University of Berne - BE    | Switzerland | Humanities and Social Sciences | Art studies, musicology, theatre and film studies, architecture | Theatre and Cinema               |\n",
       "| 158034 | 2014 | 2014-12-01 | 1095 | 3.000000 | 2017-11-30 | Completed | Science communication |  11390 | University of Berne - BE    | Switzerland | Humanities and Social Sciences | Art studies, musicology, theatre and film studies, architecture | Theatre and Cinema               |\n",
       "| 139781 | 2011 | 2012-01-01 |  365 | 1.000000 | 2012-12-31 | Completed | Careers               |  45360 | Institution abroad - France | France      | Humanities and Social Sciences | Linguistics and literature, philosophy                          | Romance languages and literature |\n",
       "\n"
      ],
      "text/plain": [
       "  GrantNumber CallDecisionYear EffectiveGrantStartDate GrantDurationDays\n",
       "1 208399      2022             2022-10-01               608             \n",
       "2 158034      2014             2014-12-01              1095             \n",
       "3 139781      2011             2012-01-01               365             \n",
       "  GrantDurationYears EffectiveGrantEndDate State     FundingInstrumentLevel1\n",
       "1 1.665753           2024-05-31            Ongoing   Science communication  \n",
       "2 3.000000           2017-11-30            Completed Science communication  \n",
       "3 1.000000           2012-12-31            Completed Careers                \n",
       "  AmountGrantedAllSets ResearchInstitution         InstituteCountry\n",
       "1 150000               University of Berne - BE    Switzerland     \n",
       "2  11390               University of Berne - BE    Switzerland     \n",
       "3  45360               Institution abroad - France France          \n",
       "  MainDiscipline_Level1         \n",
       "1 Humanities and Social Sciences\n",
       "2 Humanities and Social Sciences\n",
       "3 Humanities and Social Sciences\n",
       "  MainDiscipline_Level2                                          \n",
       "1 Art studies, musicology, theatre and film studies, architecture\n",
       "2 Art studies, musicology, theatre and film studies, architecture\n",
       "3 Linguistics and literature, philosophy                         \n",
       "  MainDiscipline                  \n",
       "1 Theatre and Cinema              \n",
       "2 Theatre and Cinema              \n",
       "3 Romance languages and literature"
      ]
     },
     "metadata": {},
     "output_type": "display_data"
    }
   ],
   "source": [
    "head(grantdata_default, 3)"
   ]
  },
  {
   "cell_type": "code",
   "execution_count": 8,
   "id": "0fffd769-1b5f-41c1-94c8-b72b5e680179",
   "metadata": {
    "vscode": {
     "languageId": "r"
    }
   },
   "outputs": [],
   "source": [
    "# 2 ##########################################################################################################\n",
    "# The number of employess per grant ##########################################################################"
   ]
  },
  {
   "cell_type": "code",
   "execution_count": 9,
   "id": "19c701f5-8f38-4853-82a0-639ea78fda63",
   "metadata": {
    "vscode": {
     "languageId": "r"
    }
   },
   "outputs": [
    {
     "name": "stderr",
     "output_type": "stream",
     "text": [
      "Warning message:\n",
      "\"\u001b[1m\u001b[22mOne or more parsing issues, call `problems()` on your data frame for details,\n",
      "e.g.:\n",
      "  dat <- vroom(...)\n",
      "  problems(dat)\"\n",
      "\u001b[1mRows: \u001b[22m\u001b[34m127057\u001b[39m \u001b[1mColumns: \u001b[22m\u001b[34m16\u001b[39m\n",
      "\u001b[36m--\u001b[39m \u001b[1mColumn specification\u001b[22m \u001b[36m--------------------------------------------------------\u001b[39m\n",
      "\u001b[1mDelimiter:\u001b[22m \";\"\n",
      "\u001b[31mchr\u001b[39m (12): CoApplicantGrantNumber, EmployeeGrantNumber, FirstName, Gender, In...\n",
      "\u001b[32mdbl\u001b[39m  (3): ContactPersonGrantNumber, PersonNumber, PracticePartnerGrantNumber\n",
      "\u001b[33mlgl\u001b[39m  (1): ApplicantAbroadGrantNumber\n",
      "\n",
      "\u001b[36mi\u001b[39m Use `spec()` to retrieve the full column specification for this data.\n",
      "\u001b[36mi\u001b[39m Specify the column types or set `show_col_types = FALSE` to quiet this message.\n"
     ]
    }
   ],
   "source": [
    "# Raw person data\n",
    "raw_persondata <- read_delim(\"../raw/Person.csv\", delim = \";\", col_names=TRUE)"
   ]
  },
  {
   "cell_type": "code",
   "execution_count": 10,
   "id": "fb8bd6dc-1a69-47f7-b5d7-de1f5ca17180",
   "metadata": {
    "vscode": {
     "languageId": "r"
    }
   },
   "outputs": [],
   "source": [
    "# Keep the columns of interest\n",
    "persondata <- select(raw_persondata, \n",
    "                         PersonNumber, \n",
    "                         Gender,\n",
    "                         EmployeeGrantNumber,\n",
    "                         CoApplicantGrantNumber,\n",
    "                         ProjectPartnerGrantNumber\n",
    "                     )"
   ]
  },
  {
   "cell_type": "code",
   "execution_count": 11,
   "id": "0ef5e308-5ed2-44d3-95fa-72db5863c114",
   "metadata": {
    "vscode": {
     "languageId": "r"
    }
   },
   "outputs": [
    {
     "data": {
      "text/html": [
       "<table class=\"dataframe\">\n",
       "<caption>A tibble: 3 × 5</caption>\n",
       "<thead>\n",
       "\t<tr><th scope=col>PersonNumber</th><th scope=col>Gender</th><th scope=col>EmployeeGrantNumber</th><th scope=col>CoApplicantGrantNumber</th><th scope=col>ProjectPartnerGrantNumber</th></tr>\n",
       "\t<tr><th scope=col>&lt;dbl&gt;</th><th scope=col>&lt;chr&gt;</th><th scope=col>&lt;chr&gt;</th><th scope=col>&lt;chr&gt;</th><th scope=col>&lt;chr&gt;</th></tr>\n",
       "</thead>\n",
       "<tbody>\n",
       "\t<tr><td>663397</td><td>female</td><td>156915                     </td><td>NA</td><td>NA    </td></tr>\n",
       "\t<tr><td>791509</td><td>male  </td><td>NA                         </td><td>NA</td><td>216636</td></tr>\n",
       "\t<tr><td>506604</td><td>female</td><td>135721;131339;118704;109908</td><td>NA</td><td>NA    </td></tr>\n",
       "</tbody>\n",
       "</table>\n"
      ],
      "text/latex": [
       "A tibble: 3 × 5\n",
       "\\begin{tabular}{lllll}\n",
       " PersonNumber & Gender & EmployeeGrantNumber & CoApplicantGrantNumber & ProjectPartnerGrantNumber\\\\\n",
       " <dbl> & <chr> & <chr> & <chr> & <chr>\\\\\n",
       "\\hline\n",
       "\t 663397 & female & 156915                      & NA & NA    \\\\\n",
       "\t 791509 & male   & NA                          & NA & 216636\\\\\n",
       "\t 506604 & female & 135721;131339;118704;109908 & NA & NA    \\\\\n",
       "\\end{tabular}\n"
      ],
      "text/markdown": [
       "\n",
       "A tibble: 3 × 5\n",
       "\n",
       "| PersonNumber &lt;dbl&gt; | Gender &lt;chr&gt; | EmployeeGrantNumber &lt;chr&gt; | CoApplicantGrantNumber &lt;chr&gt; | ProjectPartnerGrantNumber &lt;chr&gt; |\n",
       "|---|---|---|---|---|\n",
       "| 663397 | female | 156915                      | NA | NA     |\n",
       "| 791509 | male   | NA                          | NA | 216636 |\n",
       "| 506604 | female | 135721;131339;118704;109908 | NA | NA     |\n",
       "\n"
      ],
      "text/plain": [
       "  PersonNumber Gender EmployeeGrantNumber         CoApplicantGrantNumber\n",
       "1 663397       female 156915                      NA                    \n",
       "2 791509       male   NA                          NA                    \n",
       "3 506604       female 135721;131339;118704;109908 NA                    \n",
       "  ProjectPartnerGrantNumber\n",
       "1 NA                       \n",
       "2 216636                   \n",
       "3 NA                       "
      ]
     },
     "metadata": {},
     "output_type": "display_data"
    }
   ],
   "source": [
    "head(persondata, 3)"
   ]
  },
  {
   "cell_type": "code",
   "execution_count": 12,
   "id": "d09ebc7d-d88e-4d4e-9d4a-ca7333c40d49",
   "metadata": {
    "vscode": {
     "languageId": "r"
    }
   },
   "outputs": [],
   "source": [
    "# The EmployeGrantNumber contains semicolon-separated values\n",
    "# For each unique value in this colunn, a new row with replicated data of the other values is generated\n",
    "persondata <- separate_rows(persondata, EmployeeGrantNumber, sep = \";\")"
   ]
  },
  {
   "cell_type": "code",
   "execution_count": 13,
   "id": "84afefb9-17d0-454c-937d-290f8b7f4e08",
   "metadata": {
    "vscode": {
     "languageId": "r"
    }
   },
   "outputs": [
    {
     "name": "stderr",
     "output_type": "stream",
     "text": [
      "Warning message:\n",
      "\"\u001b[1m\u001b[22mThere were 2 warnings in `mutate()`.\n",
      "The first warning was:\n",
      "\u001b[1m\u001b[22m\u001b[36mi\u001b[39m In argument: `CoApplicantGrantNumber = ifelse(is.na(CoApplicantGrantNumber),\n",
      "  NA, as.numeric(CoApplicantGrantNumber))`.\n",
      "Caused by warning in `ifelse()`:\n",
      "\u001b[33m!\u001b[39m NAs durch Umwandlung erzeugt\n",
      "\u001b[1m\u001b[22m\u001b[36mi\u001b[39m Run `dplyr::last_dplyr_warnings()` to see the 1 remaining warning.\"\n"
     ]
    }
   ],
   "source": [
    "# Convert all the grant number columns into numeric ones so the later merge with the actual grant data will work\n",
    "persondata <- mutate(persondata, \n",
    "                         EmployeeGrantNumber=ifelse(is.na(EmployeeGrantNumber), NA, as.numeric(EmployeeGrantNumber)),\n",
    "                         CoApplicantGrantNumber=ifelse(is.na(CoApplicantGrantNumber), NA, as.numeric(CoApplicantGrantNumber)),\n",
    "                         ProjectPartnerGrantNumber=ifelse(is.na(ProjectPartnerGrantNumber), NA, as.numeric(ProjectPartnerGrantNumber))\n",
    "                     )"
   ]
  },
  {
   "cell_type": "code",
   "execution_count": 14,
   "id": "19e0f954-3525-40de-81d2-dc0236563a45",
   "metadata": {
    "vscode": {
     "languageId": "r"
    }
   },
   "outputs": [],
   "source": [
    "# Create a dataframe for the number of employess per grant\n",
    "employees_per_grant <- summarise(group_by(persondata, EmployeeGrantNumber), NrEmployees=n(), .groups=\"keep\")\n",
    "employees_per_grant <- ungroup(employees_per_grant)"
   ]
  },
  {
   "cell_type": "code",
   "execution_count": 15,
   "id": "43fc619b",
   "metadata": {
    "vscode": {
     "languageId": "r"
    }
   },
   "outputs": [
    {
     "data": {
      "text/html": [
       "<table class=\"dataframe\">\n",
       "<caption>A tibble: 3 × 2</caption>\n",
       "<thead>\n",
       "\t<tr><th scope=col>EmployeeGrantNumber</th><th scope=col>NrEmployees</th></tr>\n",
       "\t<tr><th scope=col>&lt;dbl&gt;</th><th scope=col>&lt;int&gt;</th></tr>\n",
       "</thead>\n",
       "<tbody>\n",
       "\t<tr><td>365</td><td>1</td></tr>\n",
       "\t<tr><td>451</td><td>1</td></tr>\n",
       "\t<tr><td>853</td><td>2</td></tr>\n",
       "</tbody>\n",
       "</table>\n"
      ],
      "text/latex": [
       "A tibble: 3 × 2\n",
       "\\begin{tabular}{ll}\n",
       " EmployeeGrantNumber & NrEmployees\\\\\n",
       " <dbl> & <int>\\\\\n",
       "\\hline\n",
       "\t 365 & 1\\\\\n",
       "\t 451 & 1\\\\\n",
       "\t 853 & 2\\\\\n",
       "\\end{tabular}\n"
      ],
      "text/markdown": [
       "\n",
       "A tibble: 3 × 2\n",
       "\n",
       "| EmployeeGrantNumber &lt;dbl&gt; | NrEmployees &lt;int&gt; |\n",
       "|---|---|\n",
       "| 365 | 1 |\n",
       "| 451 | 1 |\n",
       "| 853 | 2 |\n",
       "\n"
      ],
      "text/plain": [
       "  EmployeeGrantNumber NrEmployees\n",
       "1 365                 1          \n",
       "2 451                 1          \n",
       "3 853                 2          "
      ]
     },
     "metadata": {},
     "output_type": "display_data"
    }
   ],
   "source": [
    "head(employees_per_grant, 3)"
   ]
  },
  {
   "cell_type": "code",
   "execution_count": 16,
   "id": "be66e1e0-cb78-4ae2-9c4d-b360013cd618",
   "metadata": {
    "vscode": {
     "languageId": "r"
    }
   },
   "outputs": [],
   "source": [
    "# Merge all the created person data into the grant data"
   ]
  },
  {
   "cell_type": "code",
   "execution_count": 17,
   "id": "74a3f663-7552-422a-9ead-76c3fef2994b",
   "metadata": {
    "vscode": {
     "languageId": "r"
    }
   },
   "outputs": [],
   "source": [
    "# Employees per grant\n",
    "grantdata_persons <- left_join(grantdata_default, employees_per_grant, by=c(\"GrantNumber\"=\"EmployeeGrantNumber\"))"
   ]
  },
  {
   "cell_type": "code",
   "execution_count": 18,
   "id": "c11a7fc8-cd95-405e-b431-253bd34412a6",
   "metadata": {
    "vscode": {
     "languageId": "r"
    }
   },
   "outputs": [],
   "source": [
    "# 3 ##########################################################################################################\n",
    "# The number of collaborations per grant #####################################################################"
   ]
  },
  {
   "cell_type": "code",
   "execution_count": 19,
   "id": "3224ef8b-8d5e-4f85-bb71-5425d8d4c2e2",
   "metadata": {
    "vscode": {
     "languageId": "r"
    }
   },
   "outputs": [
    {
     "name": "stderr",
     "output_type": "stream",
     "text": [
      "\u001b[1mRows: \u001b[22m\u001b[34m83274\u001b[39m \u001b[1mColumns: \u001b[22m\u001b[34m1\u001b[39m\n",
      "\u001b[36m--\u001b[39m \u001b[1mColumn specification\u001b[22m \u001b[36m--------------------------------------------------------\u001b[39m\n",
      "\u001b[1mDelimiter:\u001b[22m \";\"\n",
      "\u001b[32mdbl\u001b[39m (1): GrantNumber\n",
      "\n",
      "\u001b[36mi\u001b[39m Use `spec()` to retrieve the full column specification for this data.\n",
      "\u001b[36mi\u001b[39m Specify the column types or set `show_col_types = FALSE` to quiet this message.\n"
     ]
    }
   ],
   "source": [
    "# Raw collaboration data\n",
    "raw_collaboration_data <- read_delim(\"../raw/OutputdataCollaboration.csv\", delim = \";\", col_select=\"GrantNumber\", col_names=TRUE)"
   ]
  },
  {
   "cell_type": "code",
   "execution_count": 20,
   "id": "40b2a60a-606d-4a01-b6ad-613a86f823fb",
   "metadata": {
    "vscode": {
     "languageId": "r"
    }
   },
   "outputs": [],
   "source": [
    "collaborations_per_grant <- summarise(group_by(raw_collaboration_data, GrantNumber), NrCollaborations=n(), .groups=\"keep\")\n",
    "collaborations_per_grant <- ungroup(collaborations_per_grant)"
   ]
  },
  {
   "cell_type": "code",
   "execution_count": 21,
   "id": "30f90e89-0c39-433f-b938-8330a2768dba",
   "metadata": {
    "vscode": {
     "languageId": "r"
    }
   },
   "outputs": [],
   "source": [
    "grantdata_collaborations <- left_join(grantdata_persons, collaborations_per_grant, by=\"GrantNumber\")"
   ]
  },
  {
   "cell_type": "code",
   "execution_count": 22,
   "id": "0b1626b7-5dd0-41be-9530-afc4b584750c",
   "metadata": {
    "vscode": {
     "languageId": "r"
    }
   },
   "outputs": [],
   "source": [
    "# 4 ##########################################################################################################\n",
    "# The number of further outputs ##############################################################################"
   ]
  },
  {
   "cell_type": "code",
   "execution_count": 24,
   "id": "f23befc9-88b6-45db-be1d-f6d66da40707",
   "metadata": {
    "vscode": {
     "languageId": "r"
    }
   },
   "outputs": [],
   "source": [
    "# A function to read and merge output data files\n",
    "\n",
    "# Parameters are: \n",
    "    # source:             the source file of the output data\n",
    "    # sourceIdColumn:     the column of the source identifying the grant numer\n",
    "    # sourceDateColumn:   the column of the source identifying the output date or year\n",
    "    # newColumn:          the name of the main new column that should be added to the grant data\n",
    "    # newDateColumn:      the name of the column that indicates the date of the FIRST corresponding event \n",
    "                          # (e.g. DateFirstAcademicEvent or YearFirstPublication)\n",
    "    # target:             the target dataframe the output should be merged into\n",
    "    # targetIdColumn:     the target column identifying the grant number\n",
    "\n",
    "# For the given target dataframe, this function adds the total number of corresponding outputs as well as the date/year of the first output\n",
    "\n",
    "addOutput <- function(source, sourceIdColumn, sourceDateColumn, newColumn, newDateColumn, target, targetIdColumn) {\n",
    "    \n",
    "    # Loading the output data\n",
    "    dfx <- read_delim(source, delim = \";\", col_select = c(!!sourceIdColumn, !!sourceDateColumn), col_names=TRUE)\n",
    "    \n",
    "    # Creating a dataframe with the total number of events as well as the oldest output date/year\n",
    "    output_per_grant <- summarise(group_by(dfx, !!sym(sourceIdColumn)), !!newColumn := n(), !!newDateColumn := min(!!sym(sourceDateColumn)), .groups=\"keep\")\n",
    "\n",
    "    # Merging the output data into the given target\n",
    "    target <- left_join(target, output_per_grant, by=sprintf(\"%s\", targetIdColumn))\n",
    "    \n",
    "    return(target)\n",
    "}"
   ]
  },
  {
   "cell_type": "code",
   "execution_count": 25,
   "id": "8d5bd159-0734-4b85-bc7b-40b7aa213287",
   "metadata": {
    "vscode": {
     "languageId": "r"
    }
   },
   "outputs": [],
   "source": [
    "# 4 ##########################################################################################################\n",
    "# Number of acedemic events per grant ########################################################################"
   ]
  },
  {
   "cell_type": "code",
   "execution_count": 26,
   "id": "5a63d4c9-96d8-4b61-b285-cf00123f18d9",
   "metadata": {
    "vscode": {
     "languageId": "r"
    }
   },
   "outputs": [
    {
     "name": "stderr",
     "output_type": "stream",
     "text": [
      "\u001b[1mRows: \u001b[22m\u001b[34m171369\u001b[39m \u001b[1mColumns: \u001b[22m\u001b[34m2\u001b[39m\n",
      "\u001b[36m--\u001b[39m \u001b[1mColumn specification\u001b[22m \u001b[36m--------------------------------------------------------\u001b[39m\n",
      "\u001b[1mDelimiter:\u001b[22m \";\"\n",
      "\u001b[32mdbl\u001b[39m  (1): GrantNumber\n",
      "\u001b[34mdttm\u001b[39m (1): AcademicEvent_Date\n",
      "\n",
      "\u001b[36mi\u001b[39m Use `spec()` to retrieve the full column specification for this data.\n",
      "\u001b[36mi\u001b[39m Specify the column types or set `show_col_types = FALSE` to quiet this message.\n"
     ]
    }
   ],
   "source": [
    "grantdata_outputs_1 <- addOutput(\"../raw/OutputdataAcademicEvent.csv\", \n",
    "                                 \"GrantNumber\", \n",
    "                                 \"AcademicEvent_Date\", \n",
    "                                 \"NrAcademicEvents\", \n",
    "                                 \"DateFirstAcademicEvent\", \n",
    "                                 grantdata_collaborations, \n",
    "                                 \"GrantNumber\"\n",
    "                                )"
   ]
  },
  {
   "cell_type": "code",
   "execution_count": 27,
   "id": "77699f68-019f-4fbd-a204-5e58bda69704",
   "metadata": {
    "vscode": {
     "languageId": "r"
    }
   },
   "outputs": [],
   "source": [
    "# 5 ##########################################################################################################\n",
    "# Number of awards per grant #################################################################################"
   ]
  },
  {
   "cell_type": "code",
   "execution_count": 28,
   "id": "17bb62db-7392-43ec-a6ae-b0986c6d50ad",
   "metadata": {
    "vscode": {
     "languageId": "r"
    }
   },
   "outputs": [
    {
     "name": "stderr",
     "output_type": "stream",
     "text": [
      "\u001b[1mRows: \u001b[22m\u001b[34m10799\u001b[39m \u001b[1mColumns: \u001b[22m\u001b[34m2\u001b[39m\n",
      "\u001b[36m--\u001b[39m \u001b[1mColumn specification\u001b[22m \u001b[36m--------------------------------------------------------\u001b[39m\n",
      "\u001b[1mDelimiter:\u001b[22m \";\"\n",
      "\u001b[32mdbl\u001b[39m (2): Award_Year, GrantNumber\n",
      "\n",
      "\u001b[36mi\u001b[39m Use `spec()` to retrieve the full column specification for this data.\n",
      "\u001b[36mi\u001b[39m Specify the column types or set `show_col_types = FALSE` to quiet this message.\n"
     ]
    }
   ],
   "source": [
    "grantdata_outputs_2 <- addOutput(\"../raw/OutputdataAward.csv\",\n",
    "                                 \"GrantNumber\", \n",
    "                                 \"Award_Year\",\n",
    "                                 \"NrAwards\",\n",
    "                                 \"YearFirstAward\",\n",
    "                                 grantdata_outputs_1,\n",
    "                                 \"GrantNumber\"\n",
    "                                )"
   ]
  },
  {
   "cell_type": "code",
   "execution_count": 29,
   "id": "69cdaeb8-2268-4b5c-b037-a65c0c80b6dd",
   "metadata": {
    "vscode": {
     "languageId": "r"
    }
   },
   "outputs": [],
   "source": [
    "# 6 ##########################################################################################################\n",
    "# Number of datasets per grant ###############################################################################"
   ]
  },
  {
   "cell_type": "code",
   "execution_count": 30,
   "id": "321731a5-dbd6-4ecf-9114-824fab06b0a0",
   "metadata": {
    "vscode": {
     "languageId": "r"
    }
   },
   "outputs": [
    {
     "name": "stderr",
     "output_type": "stream",
     "text": [
      "\u001b[1mRows: \u001b[22m\u001b[34m4264\u001b[39m \u001b[1mColumns: \u001b[22m\u001b[34m2\u001b[39m\n",
      "\u001b[36m--\u001b[39m \u001b[1mColumn specification\u001b[22m \u001b[36m--------------------------------------------------------\u001b[39m\n",
      "\u001b[1mDelimiter:\u001b[22m \";\"\n",
      "\u001b[32mdbl\u001b[39m  (1): GrantNumber\n",
      "\u001b[34mdttm\u001b[39m (1): DataSet_PublicationDate\n",
      "\n",
      "\u001b[36mi\u001b[39m Use `spec()` to retrieve the full column specification for this data.\n",
      "\u001b[36mi\u001b[39m Specify the column types or set `show_col_types = FALSE` to quiet this message.\n"
     ]
    }
   ],
   "source": [
    "grantdata_outputs_3 <- addOutput(\"../raw/OutputdataDataSet.csv\",\n",
    "                                 \"GrantNumber\", \n",
    "                                 \"DataSet_PublicationDate\",\n",
    "                                 \"NrDatasets\",\n",
    "                                 \"DateFirstDataset\",\n",
    "                                 grantdata_outputs_2,\n",
    "                                 \"GrantNumber\"\n",
    "                                )"
   ]
  },
  {
   "cell_type": "code",
   "execution_count": 31,
   "id": "cc3ed582-6417-447e-b0ad-055983ba00ca",
   "metadata": {
    "vscode": {
     "languageId": "r"
    }
   },
   "outputs": [],
   "source": [
    "# 7 ##########################################################################################################\n",
    "# Number of knowledge transfer events per grant ##############################################################"
   ]
  },
  {
   "cell_type": "code",
   "execution_count": 32,
   "id": "3242b7e6-db3c-4738-bf66-22854d52220d",
   "metadata": {
    "vscode": {
     "languageId": "r"
    }
   },
   "outputs": [
    {
     "name": "stderr",
     "output_type": "stream",
     "text": [
      "\u001b[1mRows: \u001b[22m\u001b[34m16374\u001b[39m \u001b[1mColumns: \u001b[22m\u001b[34m2\u001b[39m\n",
      "\u001b[36m--\u001b[39m \u001b[1mColumn specification\u001b[22m \u001b[36m--------------------------------------------------------\u001b[39m\n",
      "\u001b[1mDelimiter:\u001b[22m \";\"\n",
      "\u001b[32mdbl\u001b[39m  (1): GrantNumber\n",
      "\u001b[34mdttm\u001b[39m (1): KnowledgeTransferEvent_Date\n",
      "\n",
      "\u001b[36mi\u001b[39m Use `spec()` to retrieve the full column specification for this data.\n",
      "\u001b[36mi\u001b[39m Specify the column types or set `show_col_types = FALSE` to quiet this message.\n"
     ]
    }
   ],
   "source": [
    "grantdata_outputs_4 <- addOutput(\"../raw/OutputdataKnowledgeTransferEvent.csv\",\n",
    "                                 \"GrantNumber\", \n",
    "                                 \"KnowledgeTransferEvent_Date\",\n",
    "                                 \"NrKnowledgeTransfer\",\n",
    "                                 \"DateFirstKnowledgeTransfer\",\n",
    "                                 grantdata_outputs_3,\n",
    "                                 \"GrantNumber\"\n",
    "                                )"
   ]
  },
  {
   "cell_type": "code",
   "execution_count": 33,
   "id": "42cddf98-41cc-4c31-b597-8dd421a8cb40",
   "metadata": {
    "vscode": {
     "languageId": "r"
    }
   },
   "outputs": [],
   "source": [
    "# 8 ##########################################################################################################\n",
    "# Number of public communications per grant ##################################################################"
   ]
  },
  {
   "cell_type": "code",
   "execution_count": 34,
   "id": "10fd6d38-ccf8-4471-a889-4af82b00e199",
   "metadata": {
    "vscode": {
     "languageId": "r"
    }
   },
   "outputs": [
    {
     "name": "stderr",
     "output_type": "stream",
     "text": [
      "\u001b[1mRows: \u001b[22m\u001b[34m39365\u001b[39m \u001b[1mColumns: \u001b[22m\u001b[34m2\u001b[39m\n",
      "\u001b[36m--\u001b[39m \u001b[1mColumn specification\u001b[22m \u001b[36m--------------------------------------------------------\u001b[39m\n",
      "\u001b[1mDelimiter:\u001b[22m \";\"\n",
      "\u001b[32mdbl\u001b[39m (2): GrantNumber, PublicCommunication_Year\n",
      "\n",
      "\u001b[36mi\u001b[39m Use `spec()` to retrieve the full column specification for this data.\n",
      "\u001b[36mi\u001b[39m Specify the column types or set `show_col_types = FALSE` to quiet this message.\n"
     ]
    }
   ],
   "source": [
    "grantdata_outputs_5 <- addOutput(\"../raw/OutputdataPublicCommunication.csv\",\n",
    "                                 \"GrantNumber\", \n",
    "                                 \"PublicCommunication_Year\",\n",
    "                                 \"NrCommunication\",\n",
    "                                 \"YearFirstCommunication\",\n",
    "                                 grantdata_outputs_4,\n",
    "                                 \"GrantNumber\"\n",
    "                                )"
   ]
  },
  {
   "cell_type": "code",
   "execution_count": 35,
   "id": "ed0670b5-a3aa-499d-9067-67553efbd39a",
   "metadata": {
    "vscode": {
     "languageId": "r"
    }
   },
   "outputs": [],
   "source": [
    "# 9 ##########################################################################################################\n",
    "# Number of publications per grant ###########################################################################"
   ]
  },
  {
   "cell_type": "code",
   "execution_count": 2,
   "id": "9858784b",
   "metadata": {
    "vscode": {
     "languageId": "r"
    }
   },
   "outputs": [
    {
     "name": "stderr",
     "output_type": "stream",
     "text": [
      "\u001b[1mRows: \u001b[22m\u001b[34m84730\u001b[39m \u001b[1mColumns: \u001b[22m\u001b[34m23\u001b[39m\n",
      "\u001b[36m--\u001b[39m \u001b[1mColumn specification\u001b[22m \u001b[36m--------------------------------------------------------\u001b[39m\n",
      "\u001b[1mDelimiter:\u001b[22m \";\"\n",
      "\u001b[31mchr\u001b[39m (20): ScientificPublication_Abstract, ScientificPublication_Author, Scie...\n",
      "\u001b[32mdbl\u001b[39m  (3): GrantNumber, ScientificPublication_OpenAccessStatusYesNo, Scientif...\n",
      "\n",
      "\u001b[36mi\u001b[39m Use `spec()` to retrieve the full column specification for this data.\n",
      "\u001b[36mi\u001b[39m Specify the column types or set `show_col_types = FALSE` to quiet this message.\n",
      "\u001b[1mRows: \u001b[22m\u001b[34m88482\u001b[39m \u001b[1mColumns: \u001b[22m\u001b[34m23\u001b[39m\n",
      "\u001b[36m--\u001b[39m \u001b[1mColumn specification\u001b[22m \u001b[36m--------------------------------------------------------\u001b[39m\n",
      "\u001b[1mDelimiter:\u001b[22m \";\"\n",
      "\u001b[31mchr\u001b[39m (20): ScientificPublication_Abstract, ScientificPublication_Author, Scie...\n",
      "\u001b[32mdbl\u001b[39m  (3): GrantNumber, ScientificPublication_OpenAccessStatusYesNo, Scientif...\n",
      "\n",
      "\u001b[36mi\u001b[39m Use `spec()` to retrieve the full column specification for this data.\n",
      "\u001b[36mi\u001b[39m Specify the column types or set `show_col_types = FALSE` to quiet this message.\n"
     ]
    }
   ],
   "source": [
    "# The original was too big for GitHub, so it was split. The two files are combined again first.\n",
    "data_1 <- read_delim(\"../raw/OutputdataScientificPublication-1.csv\", delim = \";\", col_names=TRUE)\n",
    "data_2 <- read_delim(\"../raw/OutputdataScientificPublication-2.csv\", delim = \";\", col_names=TRUE)\n",
    "\n",
    "# Combine the two dataframes into one\n",
    "combined_data <- bind_rows(data_1, data_2)\n",
    "\n",
    "# Save the combined dataframe as a new CSV file\n",
    "write.table(combined_data, \"../raw/OutputdataScientificPublication.csv\", sep=\";\", fileEncoding=\"UTF-8\", row.names = FALSE)"
   ]
  },
  {
   "cell_type": "code",
   "execution_count": 36,
   "id": "ddcaef75-4876-40f3-9fb5-2cc57f962ce6",
   "metadata": {
    "vscode": {
     "languageId": "r"
    }
   },
   "outputs": [
    {
     "name": "stderr",
     "output_type": "stream",
     "text": [
      "\u001b[1mRows: \u001b[22m\u001b[34m173212\u001b[39m \u001b[1mColumns: \u001b[22m\u001b[34m2\u001b[39m\n",
      "\u001b[36m--\u001b[39m \u001b[1mColumn specification\u001b[22m \u001b[36m--------------------------------------------------------\u001b[39m\n",
      "\u001b[1mDelimiter:\u001b[22m \";\"\n",
      "\u001b[32mdbl\u001b[39m (2): GrantNumber, ScientificPublication_Year\n",
      "\n",
      "\u001b[36mi\u001b[39m Use `spec()` to retrieve the full column specification for this data.\n",
      "\u001b[36mi\u001b[39m Specify the column types or set `show_col_types = FALSE` to quiet this message.\n"
     ]
    }
   ],
   "source": [
    "grantdata_outputs_6 <- addOutput(\"../raw/OutputdataScientificPublication.csv\",\n",
    "                                 \"GrantNumber\", \n",
    "                                 \"ScientificPublication_Year\",\n",
    "                                 \"NrTotalPublications\",\n",
    "                                 \"YearFirstPublication\",\n",
    "                                 grantdata_outputs_5,\n",
    "                                 \"GrantNumber\"\n",
    "                                )"
   ]
  },
  {
   "cell_type": "code",
   "execution_count": 37,
   "id": "379f3bb4-b7c7-4fa1-9a5d-de4ecf3385b3",
   "metadata": {
    "vscode": {
     "languageId": "r"
    }
   },
   "outputs": [],
   "source": [
    "# 10 #########################################################################################################\n",
    "# Number of practical applications per grant #################################################################"
   ]
  },
  {
   "cell_type": "code",
   "execution_count": 38,
   "id": "c1f0cf78-8e2e-4102-aeac-b354cdd6b177",
   "metadata": {
    "vscode": {
     "languageId": "r"
    }
   },
   "outputs": [
    {
     "name": "stderr",
     "output_type": "stream",
     "text": [
      "\u001b[1mRows: \u001b[22m\u001b[34m4650\u001b[39m \u001b[1mColumns: \u001b[22m\u001b[34m2\u001b[39m\n",
      "\u001b[36m--\u001b[39m \u001b[1mColumn specification\u001b[22m \u001b[36m--------------------------------------------------------\u001b[39m\n",
      "\u001b[1mDelimiter:\u001b[22m \";\"\n",
      "\u001b[32mdbl\u001b[39m (2): GrantNumber, UseInspired_Year\n",
      "\n",
      "\u001b[36mi\u001b[39m Use `spec()` to retrieve the full column specification for this data.\n",
      "\u001b[36mi\u001b[39m Specify the column types or set `show_col_types = FALSE` to quiet this message.\n"
     ]
    }
   ],
   "source": [
    "grantdata_outputs_7 <- addOutput(\"../raw/OutputdataUseInspired.csv\",\n",
    "                                 \"GrantNumber\", \n",
    "                                 \"UseInspired_Year\",\n",
    "                                 \"NrUses\",\n",
    "                                 \"YearFirstUse\",\n",
    "                                 grantdata_outputs_6,\n",
    "                                 \"GrantNumber\"\n",
    "                                )"
   ]
  },
  {
   "cell_type": "code",
   "execution_count": 39,
   "id": "e400b246-3287-4fec-8ff4-59b39fa8b612",
   "metadata": {
    "vscode": {
     "languageId": "r"
    }
   },
   "outputs": [],
   "source": [
    "# NA --> 0 in certain columns\n",
    "columns_to_mutate <- c(\n",
    "    \"NrEmployees\", \n",
    "    \"NrCollaborations\",\n",
    "    \"NrAcademicEvents\",\n",
    "    \"NrAwards\",\n",
    "    \"NrDatasets\",\n",
    "    \"NrKnowledgeTransfer\",\n",
    "    \"NrCommunication\",\n",
    "    \"NrUses\",\n",
    "    \"NrTotalPublications\"\n",
    ")\n",
    "\n",
    "grantdata_outputs <- mutate(grantdata_outputs_7, across(all_of(columns_to_mutate), ~ ifelse(is.na(.), 0, .)))"
   ]
  },
  {
   "cell_type": "code",
   "execution_count": 40,
   "id": "6cd4ce1c-2489-49e5-a3d0-6831f1ffc3ba",
   "metadata": {
    "vscode": {
     "languageId": "r"
    }
   },
   "outputs": [],
   "source": [
    "# Add the total number of outputs (NrCollaborations is not considered an output !!!)\n",
    "grantdata_outputs <- mutate(grantdata_outputs, NrTotalOutputs = NrAcademicEvents + \n",
    "                                NrAwards +\n",
    "                                NrDatasets + \n",
    "                                NrKnowledgeTransfer + \n",
    "                                NrCommunication + \n",
    "                                NrTotalPublications + \n",
    "                                NrUses\n",
    "                           )"
   ]
  },
  {
   "cell_type": "code",
   "execution_count": 41,
   "id": "306835f6-85d6-401d-bcf9-6ca44a4ff57c",
   "metadata": {
    "vscode": {
     "languageId": "r"
    }
   },
   "outputs": [],
   "source": [
    "# NA --> 0\n",
    "grantdata_almost <- mutate(grantdata_outputs, NrTotalOutputs = ifelse(is.na(NrTotalOutputs), 0, NrTotalOutputs))"
   ]
  },
  {
   "cell_type": "code",
   "execution_count": 42,
   "id": "3aeaa003-3cc3-480d-9212-97f12ff008a8",
   "metadata": {
    "vscode": {
     "languageId": "r"
    }
   },
   "outputs": [
    {
     "data": {
      "text/html": [
       "<style>\n",
       ".list-inline {list-style: none; margin:0; padding: 0}\n",
       ".list-inline>li {display: inline-block}\n",
       ".list-inline>li:not(:last-child)::after {content: \"\\00b7\"; padding: 0 .5ex}\n",
       "</style>\n",
       "<ol class=list-inline><li>84341</li><li>31</li></ol>\n"
      ],
      "text/latex": [
       "\\begin{enumerate*}\n",
       "\\item 84341\n",
       "\\item 31\n",
       "\\end{enumerate*}\n"
      ],
      "text/markdown": [
       "1. 84341\n",
       "2. 31\n",
       "\n",
       "\n"
      ],
      "text/plain": [
       "[1] 84341    31"
      ]
     },
     "metadata": {},
     "output_type": "display_data"
    },
    {
     "data": {
      "text/html": [
       "<table class=\"dataframe\">\n",
       "<caption>A tibble: 3 × 31</caption>\n",
       "<thead>\n",
       "\t<tr><th scope=col>GrantNumber</th><th scope=col>CallDecisionYear</th><th scope=col>EffectiveGrantStartDate</th><th scope=col>GrantDurationDays</th><th scope=col>GrantDurationYears</th><th scope=col>EffectiveGrantEndDate</th><th scope=col>State</th><th scope=col>FundingInstrumentLevel1</th><th scope=col>AmountGrantedAllSets</th><th scope=col>ResearchInstitution</th><th scope=col>InstituteCountry</th><th scope=col>MainDiscipline_Level1</th><th scope=col>MainDiscipline_Level2</th><th scope=col>MainDiscipline</th><th scope=col>NrEmployees</th><th scope=col>NrCollaborations</th><th scope=col>NrAcademicEvents</th><th scope=col>DateFirstAcademicEvent</th><th scope=col>NrAwards</th><th scope=col>YearFirstAward</th><th scope=col>NrDatasets</th><th scope=col>DateFirstDataset</th><th scope=col>NrKnowledgeTransfer</th><th scope=col>DateFirstKnowledgeTransfer</th><th scope=col>NrCommunication</th><th scope=col>YearFirstCommunication</th><th scope=col>NrTotalPublications</th><th scope=col>YearFirstPublication</th><th scope=col>NrUses</th><th scope=col>YearFirstUse</th><th scope=col>NrTotalOutputs</th></tr>\n",
       "\t<tr><th scope=col>&lt;dbl&gt;</th><th scope=col>&lt;dbl&gt;</th><th scope=col>&lt;dttm&gt;</th><th scope=col>&lt;dbl&gt;</th><th scope=col>&lt;dbl&gt;</th><th scope=col>&lt;dttm&gt;</th><th scope=col>&lt;chr&gt;</th><th scope=col>&lt;chr&gt;</th><th scope=col>&lt;dbl&gt;</th><th scope=col>&lt;chr&gt;</th><th scope=col>&lt;chr&gt;</th><th scope=col>&lt;chr&gt;</th><th scope=col>&lt;chr&gt;</th><th scope=col>&lt;chr&gt;</th><th scope=col>&lt;dbl&gt;</th><th scope=col>&lt;dbl&gt;</th><th scope=col>&lt;dbl&gt;</th><th scope=col>&lt;dttm&gt;</th><th scope=col>&lt;dbl&gt;</th><th scope=col>&lt;dbl&gt;</th><th scope=col>&lt;dbl&gt;</th><th scope=col>&lt;dttm&gt;</th><th scope=col>&lt;dbl&gt;</th><th scope=col>&lt;dttm&gt;</th><th scope=col>&lt;dbl&gt;</th><th scope=col>&lt;dbl&gt;</th><th scope=col>&lt;dbl&gt;</th><th scope=col>&lt;dbl&gt;</th><th scope=col>&lt;dbl&gt;</th><th scope=col>&lt;dbl&gt;</th><th scope=col>&lt;dbl&gt;</th></tr>\n",
       "</thead>\n",
       "<tbody>\n",
       "\t<tr><td>208399</td><td>2022</td><td>2022-10-01</td><td> 608</td><td>1.665753</td><td>2024-05-31</td><td>Ongoing  </td><td>Science communication</td><td>150000</td><td>University of Berne - BE   </td><td>Switzerland</td><td>Humanities and Social Sciences</td><td>Art studies, musicology, theatre and film studies, architecture</td><td>Theatre and Cinema              </td><td>0</td><td>0</td><td>0</td><td>NA</td><td>0</td><td>NA</td><td>0</td><td>NA</td><td>0</td><td>NA</td><td>0</td><td>NA</td><td>0</td><td>NA</td><td>0</td><td>NA</td><td>0</td></tr>\n",
       "\t<tr><td>158034</td><td>2014</td><td>2014-12-01</td><td>1095</td><td>3.000000</td><td>2017-11-30</td><td>Completed</td><td>Science communication</td><td> 11390</td><td>University of Berne - BE   </td><td>Switzerland</td><td>Humanities and Social Sciences</td><td>Art studies, musicology, theatre and film studies, architecture</td><td>Theatre and Cinema              </td><td>0</td><td>1</td><td>1</td><td>2017-09-27</td><td>0</td><td>NA</td><td>0</td><td>NA</td><td>0</td><td>NA</td><td>0</td><td>NA</td><td>1</td><td>NA</td><td>0</td><td>NA</td><td>2</td></tr>\n",
       "\t<tr><td>139781</td><td>2011</td><td>2012-01-01</td><td> 365</td><td>1.000000</td><td>2012-12-31</td><td>Completed</td><td>Careers              </td><td> 45360</td><td>Institution abroad - France</td><td>France     </td><td>Humanities and Social Sciences</td><td>Linguistics and literature, philosophy                         </td><td>Romance languages and literature</td><td>0</td><td>0</td><td>0</td><td>NA</td><td>0</td><td>NA</td><td>0</td><td>NA</td><td>0</td><td>NA</td><td>0</td><td>NA</td><td>0</td><td>NA</td><td>0</td><td>NA</td><td>0</td></tr>\n",
       "</tbody>\n",
       "</table>\n"
      ],
      "text/latex": [
       "A tibble: 3 × 31\n",
       "\\begin{tabular}{lllllllllllllllllllllllllllllll}\n",
       " GrantNumber & CallDecisionYear & EffectiveGrantStartDate & GrantDurationDays & GrantDurationYears & EffectiveGrantEndDate & State & FundingInstrumentLevel1 & AmountGrantedAllSets & ResearchInstitution & InstituteCountry & MainDiscipline\\_Level1 & MainDiscipline\\_Level2 & MainDiscipline & NrEmployees & NrCollaborations & NrAcademicEvents & DateFirstAcademicEvent & NrAwards & YearFirstAward & NrDatasets & DateFirstDataset & NrKnowledgeTransfer & DateFirstKnowledgeTransfer & NrCommunication & YearFirstCommunication & NrTotalPublications & YearFirstPublication & NrUses & YearFirstUse & NrTotalOutputs\\\\\n",
       " <dbl> & <dbl> & <dttm> & <dbl> & <dbl> & <dttm> & <chr> & <chr> & <dbl> & <chr> & <chr> & <chr> & <chr> & <chr> & <dbl> & <dbl> & <dbl> & <dttm> & <dbl> & <dbl> & <dbl> & <dttm> & <dbl> & <dttm> & <dbl> & <dbl> & <dbl> & <dbl> & <dbl> & <dbl> & <dbl>\\\\\n",
       "\\hline\n",
       "\t 208399 & 2022 & 2022-10-01 &  608 & 1.665753 & 2024-05-31 & Ongoing   & Science communication & 150000 & University of Berne - BE    & Switzerland & Humanities and Social Sciences & Art studies, musicology, theatre and film studies, architecture & Theatre and Cinema               & 0 & 0 & 0 & NA & 0 & NA & 0 & NA & 0 & NA & 0 & NA & 0 & NA & 0 & NA & 0\\\\\n",
       "\t 158034 & 2014 & 2014-12-01 & 1095 & 3.000000 & 2017-11-30 & Completed & Science communication &  11390 & University of Berne - BE    & Switzerland & Humanities and Social Sciences & Art studies, musicology, theatre and film studies, architecture & Theatre and Cinema               & 0 & 1 & 1 & 2017-09-27 & 0 & NA & 0 & NA & 0 & NA & 0 & NA & 1 & NA & 0 & NA & 2\\\\\n",
       "\t 139781 & 2011 & 2012-01-01 &  365 & 1.000000 & 2012-12-31 & Completed & Careers               &  45360 & Institution abroad - France & France      & Humanities and Social Sciences & Linguistics and literature, philosophy                          & Romance languages and literature & 0 & 0 & 0 & NA & 0 & NA & 0 & NA & 0 & NA & 0 & NA & 0 & NA & 0 & NA & 0\\\\\n",
       "\\end{tabular}\n"
      ],
      "text/markdown": [
       "\n",
       "A tibble: 3 × 31\n",
       "\n",
       "| GrantNumber &lt;dbl&gt; | CallDecisionYear &lt;dbl&gt; | EffectiveGrantStartDate &lt;dttm&gt; | GrantDurationDays &lt;dbl&gt; | GrantDurationYears &lt;dbl&gt; | EffectiveGrantEndDate &lt;dttm&gt; | State &lt;chr&gt; | FundingInstrumentLevel1 &lt;chr&gt; | AmountGrantedAllSets &lt;dbl&gt; | ResearchInstitution &lt;chr&gt; | InstituteCountry &lt;chr&gt; | MainDiscipline_Level1 &lt;chr&gt; | MainDiscipline_Level2 &lt;chr&gt; | MainDiscipline &lt;chr&gt; | NrEmployees &lt;dbl&gt; | NrCollaborations &lt;dbl&gt; | NrAcademicEvents &lt;dbl&gt; | DateFirstAcademicEvent &lt;dttm&gt; | NrAwards &lt;dbl&gt; | YearFirstAward &lt;dbl&gt; | NrDatasets &lt;dbl&gt; | DateFirstDataset &lt;dttm&gt; | NrKnowledgeTransfer &lt;dbl&gt; | DateFirstKnowledgeTransfer &lt;dttm&gt; | NrCommunication &lt;dbl&gt; | YearFirstCommunication &lt;dbl&gt; | NrTotalPublications &lt;dbl&gt; | YearFirstPublication &lt;dbl&gt; | NrUses &lt;dbl&gt; | YearFirstUse &lt;dbl&gt; | NrTotalOutputs &lt;dbl&gt; |\n",
       "|---|---|---|---|---|---|---|---|---|---|---|---|---|---|---|---|---|---|---|---|---|---|---|---|---|---|---|---|---|---|---|\n",
       "| 208399 | 2022 | 2022-10-01 |  608 | 1.665753 | 2024-05-31 | Ongoing   | Science communication | 150000 | University of Berne - BE    | Switzerland | Humanities and Social Sciences | Art studies, musicology, theatre and film studies, architecture | Theatre and Cinema               | 0 | 0 | 0 | NA | 0 | NA | 0 | NA | 0 | NA | 0 | NA | 0 | NA | 0 | NA | 0 |\n",
       "| 158034 | 2014 | 2014-12-01 | 1095 | 3.000000 | 2017-11-30 | Completed | Science communication |  11390 | University of Berne - BE    | Switzerland | Humanities and Social Sciences | Art studies, musicology, theatre and film studies, architecture | Theatre and Cinema               | 0 | 1 | 1 | 2017-09-27 | 0 | NA | 0 | NA | 0 | NA | 0 | NA | 1 | NA | 0 | NA | 2 |\n",
       "| 139781 | 2011 | 2012-01-01 |  365 | 1.000000 | 2012-12-31 | Completed | Careers               |  45360 | Institution abroad - France | France      | Humanities and Social Sciences | Linguistics and literature, philosophy                          | Romance languages and literature | 0 | 0 | 0 | NA | 0 | NA | 0 | NA | 0 | NA | 0 | NA | 0 | NA | 0 | NA | 0 |\n",
       "\n"
      ],
      "text/plain": [
       "  GrantNumber CallDecisionYear EffectiveGrantStartDate GrantDurationDays\n",
       "1 208399      2022             2022-10-01               608             \n",
       "2 158034      2014             2014-12-01              1095             \n",
       "3 139781      2011             2012-01-01               365             \n",
       "  GrantDurationYears EffectiveGrantEndDate State     FundingInstrumentLevel1\n",
       "1 1.665753           2024-05-31            Ongoing   Science communication  \n",
       "2 3.000000           2017-11-30            Completed Science communication  \n",
       "3 1.000000           2012-12-31            Completed Careers                \n",
       "  AmountGrantedAllSets ResearchInstitution         InstituteCountry\n",
       "1 150000               University of Berne - BE    Switzerland     \n",
       "2  11390               University of Berne - BE    Switzerland     \n",
       "3  45360               Institution abroad - France France          \n",
       "  MainDiscipline_Level1         \n",
       "1 Humanities and Social Sciences\n",
       "2 Humanities and Social Sciences\n",
       "3 Humanities and Social Sciences\n",
       "  MainDiscipline_Level2                                          \n",
       "1 Art studies, musicology, theatre and film studies, architecture\n",
       "2 Art studies, musicology, theatre and film studies, architecture\n",
       "3 Linguistics and literature, philosophy                         \n",
       "  MainDiscipline                   NrEmployees NrCollaborations\n",
       "1 Theatre and Cinema               0           0               \n",
       "2 Theatre and Cinema               0           1               \n",
       "3 Romance languages and literature 0           0               \n",
       "  NrAcademicEvents DateFirstAcademicEvent NrAwards YearFirstAward NrDatasets\n",
       "1 0                <NA>                   0        NA             0         \n",
       "2 1                2017-09-27             0        NA             0         \n",
       "3 0                <NA>                   0        NA             0         \n",
       "  DateFirstDataset NrKnowledgeTransfer DateFirstKnowledgeTransfer\n",
       "1 <NA>             0                   <NA>                      \n",
       "2 <NA>             0                   <NA>                      \n",
       "3 <NA>             0                   <NA>                      \n",
       "  NrCommunication YearFirstCommunication NrTotalPublications\n",
       "1 0               NA                     0                  \n",
       "2 0               NA                     1                  \n",
       "3 0               NA                     0                  \n",
       "  YearFirstPublication NrUses YearFirstUse NrTotalOutputs\n",
       "1 NA                   0      NA           0             \n",
       "2 NA                   0      NA           2             \n",
       "3 NA                   0      NA           0             "
      ]
     },
     "metadata": {},
     "output_type": "display_data"
    },
    {
     "data": {
      "text/plain": [
       "  GrantNumber     CallDecisionYear EffectiveGrantStartDate      \n",
       " Min.   :     1   Min.   :1975     Min.   :1975-06-01 00:00:00  \n",
       " 1st Qu.: 47261   1st Qu.:1996     1st Qu.:1996-11-01 00:00:00  \n",
       " Median :121472   Median :2008     Median :2008-10-01 00:00:00  \n",
       " Mean   :110628   Mean   :2005     Mean   :2006-02-17 11:43:46  \n",
       " 3rd Qu.:165376   3rd Qu.:2015     3rd Qu.:2016-06-01 00:00:00  \n",
       " Max.   :220283   Max.   :2023     Max.   :2024-07-01 00:00:00  \n",
       "                                                                \n",
       " GrantDurationDays GrantDurationYears EffectiveGrantEndDate        \n",
       " Min.   :   0.0    Min.   : 0.0000    Min.   :1975-12-31 00:00:00  \n",
       " 1st Qu.: 364.0    1st Qu.: 0.9973    1st Qu.:1999-02-28 00:00:00  \n",
       " Median : 729.0    Median : 1.9973    Median :2010-08-31 00:00:00  \n",
       " Mean   : 750.9    Mean   : 2.0573    Mean   :2008-03-09 10:02:50  \n",
       " 3rd Qu.:1095.0    3rd Qu.: 3.0000    3rd Qu.:2018-07-31 00:00:00  \n",
       " Max.   :5477.0    Max.   :15.0055    Max.   :2029-06-30 00:00:00  \n",
       "                                                                   \n",
       "    State           FundingInstrumentLevel1 AmountGrantedAllSets\n",
       " Length:84341       Length:84341            Min.   :       0    \n",
       " Class :character   Class :character        1st Qu.:   43800    \n",
       " Mode  :character   Mode  :character        Median :  130662    \n",
       "                                            Mean   :  264967    \n",
       "                                            3rd Qu.:  311523    \n",
       "                                            Max.   :32800000    \n",
       "                                                                \n",
       " ResearchInstitution InstituteCountry   MainDiscipline_Level1\n",
       " Length:84341        Length:84341       Length:84341         \n",
       " Class :character    Class :character   Class :character     \n",
       " Mode  :character    Mode  :character   Mode  :character     \n",
       "                                                             \n",
       "                                                             \n",
       "                                                             \n",
       "                                                             \n",
       " MainDiscipline_Level2 MainDiscipline      NrEmployees     NrCollaborations \n",
       " Length:84341          Length:84341       Min.   : 0.000   Min.   : 0.0000  \n",
       " Class :character      Class :character   1st Qu.: 0.000   1st Qu.: 0.0000  \n",
       " Mode  :character      Mode  :character   Median : 1.000   Median : 0.0000  \n",
       "                                          Mean   : 1.684   Mean   : 0.9873  \n",
       "                                          3rd Qu.: 2.000   3rd Qu.: 0.0000  \n",
       "                                          Max.   :96.000   Max.   :77.0000  \n",
       "                                                                            \n",
       " NrAcademicEvents  DateFirstAcademicEvent           NrAwards     \n",
       " Min.   :  0.000   Min.   :1930-04-27 00:00:00   Min.   : 0.000  \n",
       " 1st Qu.:  0.000   1st Qu.:2012-12-06 00:00:00   1st Qu.: 0.000  \n",
       " Median :  0.000   Median :2015-09-07 00:00:00   Median : 0.000  \n",
       " Mean   :  2.032   Mean   :2015-09-27 23:22:40   Mean   : 0.128  \n",
       " 3rd Qu.:  0.000   3rd Qu.:2018-05-30 00:00:00   3rd Qu.: 0.000  \n",
       " Max.   :229.000   Max.   :2023-04-24 00:00:00   Max.   :32.000  \n",
       "                   NA's   :64006                                 \n",
       " YearFirstAward    NrDatasets        DateFirstDataset             \n",
       " Min.   :2001    Min.   :  0.00000   Min.   :2001-02-01 00:00:00  \n",
       " 1st Qu.:2013    1st Qu.:  0.00000   1st Qu.:2019-01-26 12:00:00  \n",
       " Median :2016    Median :  0.00000   Median :2020-07-01 00:00:00  \n",
       " Mean   :2016    Mean   :  0.05056   Mean   :2020-04-19 12:36:43  \n",
       " 3rd Qu.:2018    3rd Qu.:  0.00000   3rd Qu.:2021-08-17 12:00:00  \n",
       " Max.   :2023    Max.   :121.00000   Max.   :2029-09-21 00:00:00  \n",
       " NA's   :78692                       NA's   :83106                \n",
       " NrKnowledgeTransfer DateFirstKnowledgeTransfer    NrCommunication   \n",
       " Min.   :  0.0000    Min.   :1930-02-21 00:00:00   Min.   :  0.0000  \n",
       " 1st Qu.:  0.0000    1st Qu.:2013-10-08 00:00:00   1st Qu.:  0.0000  \n",
       " Median :  0.0000    Median :2016-07-06 00:00:00   Median :  0.0000  \n",
       " Mean   :  0.1941    Mean   :2016-05-18 13:24:09   Mean   :  0.4667  \n",
       " 3rd Qu.:  0.0000    3rd Qu.:2018-11-19 00:00:00   3rd Qu.:  0.0000  \n",
       " Max.   :105.0000    Max.   :2023-05-01 00:00:00   Max.   :250.0000  \n",
       "                     NA's   :78960                                   \n",
       " YearFirstCommunication NrTotalPublications YearFirstPublication\n",
       " Min.   :2001           Min.   :  0.000     Min.   :1987        \n",
       " 1st Qu.:2013           1st Qu.:  0.000     1st Qu.:2013        \n",
       " Median :2016           Median :  0.000     Median :2016        \n",
       " Mean   :2016           Mean   :  2.054     Mean   :2016        \n",
       " 3rd Qu.:2019           3rd Qu.:  1.000     3rd Qu.:2019        \n",
       " Max.   :2023           Max.   :772.000     Max.   :2024        \n",
       " NA's   :75607                              NA's   :68625       \n",
       "     NrUses          YearFirstUse   NrTotalOutputs  \n",
       " Min.   : 0.00000   Min.   :2004    Min.   :  0.00  \n",
       " 1st Qu.: 0.00000   1st Qu.:2014    1st Qu.:  0.00  \n",
       " Median : 0.00000   Median :2016    Median :  0.00  \n",
       " Mean   : 0.05513   Mean   :2016    Mean   :  4.98  \n",
       " 3rd Qu.: 0.00000   3rd Qu.:2019    3rd Qu.:  3.00  \n",
       " Max.   :42.00000   Max.   :2023    Max.   :799.00  \n",
       "                    NA's   :82730                   "
      ]
     },
     "metadata": {},
     "output_type": "display_data"
    },
    {
     "name": "stdout",
     "output_type": "stream",
     "text": [
      "tibble [84,341 x 31] (S3: tbl_df/tbl/data.frame)\n",
      " $ GrantNumber               : num [1:84341] 208399 158034 139781 179533 140815 ...\n",
      " $ CallDecisionYear          : num [1:84341] 2022 2014 2011 2017 2012 ...\n",
      " $ EffectiveGrantStartDate   : POSIXct[1:84341], format: \"2022-10-01\" \"2014-12-01\" ...\n",
      " $ GrantDurationDays         : num [1:84341] 608 1095 365 27 1460 ...\n",
      " $ GrantDurationYears        : num [1:84341] 1.666 3 1 0.074 4 ...\n",
      " $ EffectiveGrantEndDate     : POSIXct[1:84341], format: \"2024-05-31\" \"2017-11-30\" ...\n",
      " $ State                     : chr [1:84341] \"Ongoing\" \"Completed\" \"Completed\" \"Completed\" ...\n",
      " $ FundingInstrumentLevel1   : chr [1:84341] \"Science communication\" \"Science communication\" \"Careers\" \"Science communication\" ...\n",
      " $ AmountGrantedAllSets      : num [1:84341] 150000 11390 45360 8000 243562 ...\n",
      " $ ResearchInstitution       : chr [1:84341] \"University of Berne - BE\" \"University of Berne - BE\" \"Institution abroad - France\" \"University of Berne - BE\" ...\n",
      " $ InstituteCountry          : chr [1:84341] \"Switzerland\" \"Switzerland\" \"France\" \"Switzerland\" ...\n",
      " $ MainDiscipline_Level1     : chr [1:84341] \"Humanities and Social Sciences\" \"Humanities and Social Sciences\" \"Humanities and Social Sciences\" \"Humanities and Social Sciences\" ...\n",
      " $ MainDiscipline_Level2     : chr [1:84341] \"Art studies, musicology, theatre and film studies, architecture\" \"Art studies, musicology, theatre and film studies, architecture\" \"Linguistics and literature, philosophy\" \"Theology & religious studies, history, classical studies, archaeology, prehistory and early history\" ...\n",
      " $ MainDiscipline            : chr [1:84341] \"Theatre and Cinema\" \"Theatre and Cinema\" \"Romance languages and literature\" \"General history (without pre-and early history)\" ...\n",
      " $ NrEmployees               : num [1:84341] 0 0 0 0 1 1 1 1 0 4 ...\n",
      " $ NrCollaborations          : num [1:84341] 0 1 0 0 1 0 0 2 0 3 ...\n",
      " $ NrAcademicEvents          : num [1:84341] 0 1 0 0 5 1 0 2 0 0 ...\n",
      " $ DateFirstAcademicEvent    : POSIXct[1:84341], format: NA \"2017-09-27\" ...\n",
      " $ NrAwards                  : num [1:84341] 0 0 0 0 1 0 0 0 0 0 ...\n",
      " $ YearFirstAward            : num [1:84341] NA NA NA NA 2015 ...\n",
      " $ NrDatasets                : num [1:84341] 0 0 0 0 0 0 0 0 0 0 ...\n",
      " $ DateFirstDataset          : POSIXct[1:84341], format: NA NA ...\n",
      " $ NrKnowledgeTransfer       : num [1:84341] 0 0 0 0 0 0 0 0 0 0 ...\n",
      " $ DateFirstKnowledgeTransfer: POSIXct[1:84341], format: NA NA ...\n",
      " $ NrCommunication           : num [1:84341] 0 0 0 0 0 0 0 0 0 0 ...\n",
      " $ YearFirstCommunication    : num [1:84341] NA NA NA NA NA NA NA NA NA NA ...\n",
      " $ NrTotalPublications       : num [1:84341] 0 1 0 1 3 2 3 2 0 6 ...\n",
      " $ YearFirstPublication      : num [1:84341] NA NA NA NA 2016 ...\n",
      " $ NrUses                    : num [1:84341] 0 0 0 0 0 0 0 0 0 0 ...\n",
      " $ YearFirstUse              : num [1:84341] NA NA NA NA NA NA NA NA NA NA ...\n",
      " $ NrTotalOutputs            : num [1:84341] 0 2 0 1 9 3 3 4 0 6 ...\n"
     ]
    }
   ],
   "source": [
    "dim(grantdata_almost)\n",
    "head(grantdata_almost, 3)\n",
    "summary(grantdata_almost)\n",
    "str(grantdata_almost)"
   ]
  },
  {
   "cell_type": "code",
   "execution_count": 43,
   "id": "f5e0ed24-8633-45d7-a5f0-edd4c79a95bc",
   "metadata": {
    "vscode": {
     "languageId": "r"
    }
   },
   "outputs": [],
   "source": [
    "# Add number of outputs per year\n",
    "\n",
    "# Academic events\n",
    "grantdata_outputs_per_year <- mutate(grantdata_almost, NrAcademicEventsPerYear=NrAcademicEvents/GrantDurationYears, .after=NrAcademicEvents)\n",
    "\n",
    "# Awards\n",
    "grantdata_outputs_per_year <- mutate(grantdata_outputs_per_year, NrAwardsPerYear=NrAwards/GrantDurationYears, .after=NrAwards)\n",
    "\n",
    "# Datasets\n",
    "grantdata_outputs_per_year <- mutate(grantdata_outputs_per_year, NrDatasetsPerYear=NrDatasets/GrantDurationYears, .after=NrDatasets)\n",
    "\n",
    "# Knowledge transfer\n",
    "grantdata_outputs_per_year <- mutate(grantdata_outputs_per_year, NrKnowledgeTransferPerYear=NrKnowledgeTransfer/GrantDurationYears, .after=NrKnowledgeTransfer)\n",
    "\n",
    "# Communications\n",
    "grantdata_outputs_per_year <- mutate(grantdata_outputs_per_year, NrCommunicationPerYear=NrCommunication/GrantDurationYears, .after=NrCommunication)\n",
    "\n",
    "# Publications\n",
    "grantdata_outputs_per_year <- mutate(grantdata_outputs_per_year, NrTotalPublicationsPerYear=NrTotalPublications/GrantDurationYears, .after=NrTotalPublications)\n",
    "\n",
    "# Uses\n",
    "grantdata_outputs_per_year <- mutate(grantdata_outputs_per_year, NrUsesPerYear=NrUses/GrantDurationYears, .after=NrUses)\n",
    "\n",
    "# Total outputs\n",
    "grantdata_outputs_per_year <- mutate(grantdata_outputs_per_year, NrTotalOutputsPerYear=NrTotalOutputs/GrantDurationYears, .after=NrTotalOutputs)"
   ]
  },
  {
   "cell_type": "code",
   "execution_count": 44,
   "id": "e8769310-7456-4826-ab55-44a36ca51188",
   "metadata": {
    "vscode": {
     "languageId": "r"
    }
   },
   "outputs": [],
   "source": [
    "# Add more numbers per year\n",
    "\n",
    "# Amount granted per year\n",
    "grantdata <- mutate(grantdata_outputs_per_year, AmountPerYear=ifelse(GrantDurationYears == 0, 0, AmountGrantedAllSets/GrantDurationYears), .after=AmountGrantedAllSets)\n",
    "\n",
    "# Amount granted per employee\n",
    "grantdata <- mutate(grantdata, AmountPerEmployee=ifelse(NrEmployees == 0, 0, AmountGrantedAllSets/NrEmployees), .after=AmountPerYear)\n",
    " \n",
    "# Amount granted per employee and year\n",
    "grantdata <- mutate(grantdata, AmountPerEmployeeAndYear=ifelse(AmountPerEmployee == 0, 0, AmountPerEmployee/GrantDurationYears), .after=AmountPerEmployee)\n",
    "\n",
    "# Number of collaborations per year\n",
    "grantdata <- mutate(grantdata, NrCollaborationsPerYear=NrCollaborations/GrantDurationYears, .after=NrCollaborations)\n",
    "\n",
    "# Number of employees per year\n",
    "grantdata <- mutate(grantdata, NrEmployeesPerYear=ifelse(NrEmployees == 0, 0, NrEmployees/GrantDurationYears), .after=NrEmployees)"
   ]
  },
  {
   "cell_type": "code",
   "execution_count": 45,
   "id": "907e0e39",
   "metadata": {
    "vscode": {
     "languageId": "r"
    }
   },
   "outputs": [
    {
     "data": {
      "text/html": [
       "<table class=\"dataframe\">\n",
       "<caption>A tibble: 6 × 44</caption>\n",
       "<thead>\n",
       "\t<tr><th scope=col>GrantNumber</th><th scope=col>CallDecisionYear</th><th scope=col>EffectiveGrantStartDate</th><th scope=col>GrantDurationDays</th><th scope=col>GrantDurationYears</th><th scope=col>EffectiveGrantEndDate</th><th scope=col>State</th><th scope=col>FundingInstrumentLevel1</th><th scope=col>AmountGrantedAllSets</th><th scope=col>AmountPerYear</th><th scope=col>AmountPerEmployee</th><th scope=col>AmountPerEmployeeAndYear</th><th scope=col>ResearchInstitution</th><th scope=col>InstituteCountry</th><th scope=col>MainDiscipline_Level1</th><th scope=col>MainDiscipline_Level2</th><th scope=col>MainDiscipline</th><th scope=col>NrEmployees</th><th scope=col>NrEmployeesPerYear</th><th scope=col>NrCollaborations</th><th scope=col>NrCollaborationsPerYear</th><th scope=col>NrAcademicEvents</th><th scope=col>NrAcademicEventsPerYear</th><th scope=col>DateFirstAcademicEvent</th><th scope=col>NrAwards</th><th scope=col>NrAwardsPerYear</th><th scope=col>YearFirstAward</th><th scope=col>NrDatasets</th><th scope=col>NrDatasetsPerYear</th><th scope=col>DateFirstDataset</th><th scope=col>NrKnowledgeTransfer</th><th scope=col>NrKnowledgeTransferPerYear</th><th scope=col>DateFirstKnowledgeTransfer</th><th scope=col>NrCommunication</th><th scope=col>NrCommunicationPerYear</th><th scope=col>YearFirstCommunication</th><th scope=col>NrTotalPublications</th><th scope=col>NrTotalPublicationsPerYear</th><th scope=col>YearFirstPublication</th><th scope=col>NrUses</th><th scope=col>NrUsesPerYear</th><th scope=col>YearFirstUse</th><th scope=col>NrTotalOutputs</th><th scope=col>NrTotalOutputsPerYear</th></tr>\n",
       "\t<tr><th scope=col>&lt;dbl&gt;</th><th scope=col>&lt;dbl&gt;</th><th scope=col>&lt;dttm&gt;</th><th scope=col>&lt;dbl&gt;</th><th scope=col>&lt;dbl&gt;</th><th scope=col>&lt;dttm&gt;</th><th scope=col>&lt;chr&gt;</th><th scope=col>&lt;chr&gt;</th><th scope=col>&lt;dbl&gt;</th><th scope=col>&lt;dbl&gt;</th><th scope=col>&lt;dbl&gt;</th><th scope=col>&lt;dbl&gt;</th><th scope=col>&lt;chr&gt;</th><th scope=col>&lt;chr&gt;</th><th scope=col>&lt;chr&gt;</th><th scope=col>&lt;chr&gt;</th><th scope=col>&lt;chr&gt;</th><th scope=col>&lt;dbl&gt;</th><th scope=col>&lt;dbl&gt;</th><th scope=col>&lt;dbl&gt;</th><th scope=col>&lt;dbl&gt;</th><th scope=col>&lt;dbl&gt;</th><th scope=col>&lt;dbl&gt;</th><th scope=col>&lt;dttm&gt;</th><th scope=col>&lt;dbl&gt;</th><th scope=col>&lt;dbl&gt;</th><th scope=col>&lt;dbl&gt;</th><th scope=col>&lt;dbl&gt;</th><th scope=col>&lt;dbl&gt;</th><th scope=col>&lt;dttm&gt;</th><th scope=col>&lt;dbl&gt;</th><th scope=col>&lt;dbl&gt;</th><th scope=col>&lt;dttm&gt;</th><th scope=col>&lt;dbl&gt;</th><th scope=col>&lt;dbl&gt;</th><th scope=col>&lt;dbl&gt;</th><th scope=col>&lt;dbl&gt;</th><th scope=col>&lt;dbl&gt;</th><th scope=col>&lt;dbl&gt;</th><th scope=col>&lt;dbl&gt;</th><th scope=col>&lt;dbl&gt;</th><th scope=col>&lt;dbl&gt;</th><th scope=col>&lt;dbl&gt;</th><th scope=col>&lt;dbl&gt;</th></tr>\n",
       "</thead>\n",
       "<tbody>\n",
       "\t<tr><td>208399</td><td>2022</td><td>2022-10-01</td><td> 608</td><td>1.6657534</td><td>2024-05-31</td><td>Ongoing  </td><td>Science communication</td><td>150000</td><td> 90049.342</td><td>     0</td><td>    0.00</td><td>University of Berne - BE                                         </td><td>Switzerland</td><td>Humanities and Social Sciences                </td><td>Art studies, musicology, theatre and film studies, architecture                                    </td><td>Theatre and Cinema                             </td><td>0</td><td>0.000000</td><td>0</td><td>0.0000000</td><td>0</td><td>0.0000000</td><td>NA</td><td>0</td><td>0.00</td><td>  NA</td><td>0</td><td>0</td><td>NA</td><td>0</td><td>0</td><td>NA</td><td>0</td><td>0</td><td>NA</td><td>0</td><td> 0.0000000</td><td>  NA</td><td>0</td><td>0</td><td>NA</td><td>0</td><td> 0.0000000</td></tr>\n",
       "\t<tr><td>158034</td><td>2014</td><td>2014-12-01</td><td>1095</td><td>3.0000000</td><td>2017-11-30</td><td>Completed</td><td>Science communication</td><td> 11390</td><td>  3796.667</td><td>     0</td><td>    0.00</td><td>University of Berne - BE                                         </td><td>Switzerland</td><td>Humanities and Social Sciences                </td><td>Art studies, musicology, theatre and film studies, architecture                                    </td><td>Theatre and Cinema                             </td><td>0</td><td>0.000000</td><td>1</td><td>0.3333333</td><td>1</td><td>0.3333333</td><td>2017-09-27</td><td>0</td><td>0.00</td><td>  NA</td><td>0</td><td>0</td><td>NA</td><td>0</td><td>0</td><td>NA</td><td>0</td><td>0</td><td>NA</td><td>1</td><td> 0.3333333</td><td>  NA</td><td>0</td><td>0</td><td>NA</td><td>2</td><td> 0.6666667</td></tr>\n",
       "\t<tr><td>139781</td><td>2011</td><td>2012-01-01</td><td> 365</td><td>1.0000000</td><td>2012-12-31</td><td>Completed</td><td>Careers              </td><td> 45360</td><td> 45360.000</td><td>     0</td><td>    0.00</td><td>Institution abroad - France                                      </td><td>France     </td><td>Humanities and Social Sciences                </td><td>Linguistics and literature, philosophy                                                             </td><td>Romance languages and literature               </td><td>0</td><td>0.000000</td><td>0</td><td>0.0000000</td><td>0</td><td>0.0000000</td><td>NA</td><td>0</td><td>0.00</td><td>  NA</td><td>0</td><td>0</td><td>NA</td><td>0</td><td>0</td><td>NA</td><td>0</td><td>0</td><td>NA</td><td>0</td><td> 0.0000000</td><td>  NA</td><td>0</td><td>0</td><td>NA</td><td>0</td><td> 0.0000000</td></tr>\n",
       "\t<tr><td>179533</td><td>2017</td><td>2018-02-01</td><td><span style=white-space:pre-wrap>  27</span></td><td>0.0739726</td><td>2018-02-28</td><td>Completed</td><td>Science communication</td><td><span style=white-space:pre-wrap>  8000</span></td><td>108148.148</td><td><span style=white-space:pre-wrap>     0</span></td><td><span style=white-space:pre-wrap>    0.00</span></td><td><span style=white-space:pre-wrap>University of Berne - BE                                         </span></td><td>Switzerland</td><td><span style=white-space:pre-wrap>Humanities and Social Sciences                </span></td><td>Theology &amp; religious studies, history, classical studies, archaeology, prehistory and early history</td><td>General history (without pre-and early history)</td><td>0</td><td>0.000000</td><td>0</td><td>0.0000000</td><td>0</td><td>0.0000000</td><td>NA</td><td>0</td><td>0.00</td><td><span style=white-space:pre-wrap>  NA</span></td><td>0</td><td>0</td><td>NA</td><td>0</td><td>0</td><td>NA</td><td>0</td><td>0</td><td>NA</td><td>1</td><td>13.5185185</td><td><span style=white-space:pre-wrap>  NA</span></td><td>0</td><td>0</td><td>NA</td><td>1</td><td>13.5185185</td></tr>\n",
       "\t<tr><td>140815</td><td>2012</td><td>2012-09-01</td><td>1460</td><td>4.0000000</td><td>2016-08-31</td><td>Completed</td><td>Projects             </td><td>243562</td><td> 60890.500</td><td>243562</td><td>60890.50</td><td>Swiss Federal Institute of Aquatic Science and Technology - EAWAG</td><td>Switzerland</td><td>Mathematics, Natural- and Engineering Sciences</td><td>Environmental Sciences                                                                             </td><td>Other disciplines of Environmental Sciences    </td><td>1</td><td>0.250000</td><td>1</td><td>0.2500000</td><td>5</td><td>1.2500000</td><td>2013-08-25</td><td>1</td><td>0.25</td><td>2015</td><td>0</td><td>0</td><td>NA</td><td>0</td><td>0</td><td>NA</td><td>0</td><td>0</td><td>NA</td><td>3</td><td> 0.7500000</td><td>2016</td><td>0</td><td>0</td><td>NA</td><td>9</td><td> 2.2500000</td></tr>\n",
       "\t<tr><td>134801</td><td>2011</td><td>2011-04-01</td><td> 305</td><td>0.8356164</td><td>2012-01-31</td><td>Completed</td><td>Projects             </td><td> 51228</td><td> 61305.639</td><td> 51228</td><td>61305.64</td><td>Swiss Federal Institute of Aquatic Science and Technology - EAWAG</td><td>Switzerland</td><td>Mathematics, Natural- and Engineering Sciences</td><td>Environmental Sciences                                                                             </td><td>Other disciplines of Environmental Sciences    </td><td>1</td><td>1.196721</td><td>0</td><td>0.0000000</td><td>1</td><td>1.1967213</td><td>2011-08-28</td><td>0</td><td>0.00</td><td>  NA</td><td>0</td><td>0</td><td>NA</td><td>0</td><td>0</td><td>NA</td><td>0</td><td>0</td><td>NA</td><td>2</td><td> 2.3934426</td><td>2013</td><td>0</td><td>0</td><td>NA</td><td>3</td><td> 3.5901639</td></tr>\n",
       "</tbody>\n",
       "</table>\n"
      ],
      "text/latex": [
       "A tibble: 6 × 44\n",
       "\\begin{tabular}{llllllllllllllllllllllllllllllllllllllllllll}\n",
       " GrantNumber & CallDecisionYear & EffectiveGrantStartDate & GrantDurationDays & GrantDurationYears & EffectiveGrantEndDate & State & FundingInstrumentLevel1 & AmountGrantedAllSets & AmountPerYear & AmountPerEmployee & AmountPerEmployeeAndYear & ResearchInstitution & InstituteCountry & MainDiscipline\\_Level1 & MainDiscipline\\_Level2 & MainDiscipline & NrEmployees & NrEmployeesPerYear & NrCollaborations & NrCollaborationsPerYear & NrAcademicEvents & NrAcademicEventsPerYear & DateFirstAcademicEvent & NrAwards & NrAwardsPerYear & YearFirstAward & NrDatasets & NrDatasetsPerYear & DateFirstDataset & NrKnowledgeTransfer & NrKnowledgeTransferPerYear & DateFirstKnowledgeTransfer & NrCommunication & NrCommunicationPerYear & YearFirstCommunication & NrTotalPublications & NrTotalPublicationsPerYear & YearFirstPublication & NrUses & NrUsesPerYear & YearFirstUse & NrTotalOutputs & NrTotalOutputsPerYear\\\\\n",
       " <dbl> & <dbl> & <dttm> & <dbl> & <dbl> & <dttm> & <chr> & <chr> & <dbl> & <dbl> & <dbl> & <dbl> & <chr> & <chr> & <chr> & <chr> & <chr> & <dbl> & <dbl> & <dbl> & <dbl> & <dbl> & <dbl> & <dttm> & <dbl> & <dbl> & <dbl> & <dbl> & <dbl> & <dttm> & <dbl> & <dbl> & <dttm> & <dbl> & <dbl> & <dbl> & <dbl> & <dbl> & <dbl> & <dbl> & <dbl> & <dbl> & <dbl> & <dbl>\\\\\n",
       "\\hline\n",
       "\t 208399 & 2022 & 2022-10-01 &  608 & 1.6657534 & 2024-05-31 & Ongoing   & Science communication & 150000 &  90049.342 &      0 &     0.00 & University of Berne - BE                                          & Switzerland & Humanities and Social Sciences                 & Art studies, musicology, theatre and film studies, architecture                                     & Theatre and Cinema                              & 0 & 0.000000 & 0 & 0.0000000 & 0 & 0.0000000 & NA & 0 & 0.00 &   NA & 0 & 0 & NA & 0 & 0 & NA & 0 & 0 & NA & 0 &  0.0000000 &   NA & 0 & 0 & NA & 0 &  0.0000000\\\\\n",
       "\t 158034 & 2014 & 2014-12-01 & 1095 & 3.0000000 & 2017-11-30 & Completed & Science communication &  11390 &   3796.667 &      0 &     0.00 & University of Berne - BE                                          & Switzerland & Humanities and Social Sciences                 & Art studies, musicology, theatre and film studies, architecture                                     & Theatre and Cinema                              & 0 & 0.000000 & 1 & 0.3333333 & 1 & 0.3333333 & 2017-09-27 & 0 & 0.00 &   NA & 0 & 0 & NA & 0 & 0 & NA & 0 & 0 & NA & 1 &  0.3333333 &   NA & 0 & 0 & NA & 2 &  0.6666667\\\\\n",
       "\t 139781 & 2011 & 2012-01-01 &  365 & 1.0000000 & 2012-12-31 & Completed & Careers               &  45360 &  45360.000 &      0 &     0.00 & Institution abroad - France                                       & France      & Humanities and Social Sciences                 & Linguistics and literature, philosophy                                                              & Romance languages and literature                & 0 & 0.000000 & 0 & 0.0000000 & 0 & 0.0000000 & NA & 0 & 0.00 &   NA & 0 & 0 & NA & 0 & 0 & NA & 0 & 0 & NA & 0 &  0.0000000 &   NA & 0 & 0 & NA & 0 &  0.0000000\\\\\n",
       "\t 179533 & 2017 & 2018-02-01 &   27 & 0.0739726 & 2018-02-28 & Completed & Science communication &   8000 & 108148.148 &      0 &     0.00 & University of Berne - BE                                          & Switzerland & Humanities and Social Sciences                 & Theology \\& religious studies, history, classical studies, archaeology, prehistory and early history & General history (without pre-and early history) & 0 & 0.000000 & 0 & 0.0000000 & 0 & 0.0000000 & NA & 0 & 0.00 &   NA & 0 & 0 & NA & 0 & 0 & NA & 0 & 0 & NA & 1 & 13.5185185 &   NA & 0 & 0 & NA & 1 & 13.5185185\\\\\n",
       "\t 140815 & 2012 & 2012-09-01 & 1460 & 4.0000000 & 2016-08-31 & Completed & Projects              & 243562 &  60890.500 & 243562 & 60890.50 & Swiss Federal Institute of Aquatic Science and Technology - EAWAG & Switzerland & Mathematics, Natural- and Engineering Sciences & Environmental Sciences                                                                              & Other disciplines of Environmental Sciences     & 1 & 0.250000 & 1 & 0.2500000 & 5 & 1.2500000 & 2013-08-25 & 1 & 0.25 & 2015 & 0 & 0 & NA & 0 & 0 & NA & 0 & 0 & NA & 3 &  0.7500000 & 2016 & 0 & 0 & NA & 9 &  2.2500000\\\\\n",
       "\t 134801 & 2011 & 2011-04-01 &  305 & 0.8356164 & 2012-01-31 & Completed & Projects              &  51228 &  61305.639 &  51228 & 61305.64 & Swiss Federal Institute of Aquatic Science and Technology - EAWAG & Switzerland & Mathematics, Natural- and Engineering Sciences & Environmental Sciences                                                                              & Other disciplines of Environmental Sciences     & 1 & 1.196721 & 0 & 0.0000000 & 1 & 1.1967213 & 2011-08-28 & 0 & 0.00 &   NA & 0 & 0 & NA & 0 & 0 & NA & 0 & 0 & NA & 2 &  2.3934426 & 2013 & 0 & 0 & NA & 3 &  3.5901639\\\\\n",
       "\\end{tabular}\n"
      ],
      "text/markdown": [
       "\n",
       "A tibble: 6 × 44\n",
       "\n",
       "| GrantNumber &lt;dbl&gt; | CallDecisionYear &lt;dbl&gt; | EffectiveGrantStartDate &lt;dttm&gt; | GrantDurationDays &lt;dbl&gt; | GrantDurationYears &lt;dbl&gt; | EffectiveGrantEndDate &lt;dttm&gt; | State &lt;chr&gt; | FundingInstrumentLevel1 &lt;chr&gt; | AmountGrantedAllSets &lt;dbl&gt; | AmountPerYear &lt;dbl&gt; | AmountPerEmployee &lt;dbl&gt; | AmountPerEmployeeAndYear &lt;dbl&gt; | ResearchInstitution &lt;chr&gt; | InstituteCountry &lt;chr&gt; | MainDiscipline_Level1 &lt;chr&gt; | MainDiscipline_Level2 &lt;chr&gt; | MainDiscipline &lt;chr&gt; | NrEmployees &lt;dbl&gt; | NrEmployeesPerYear &lt;dbl&gt; | NrCollaborations &lt;dbl&gt; | NrCollaborationsPerYear &lt;dbl&gt; | NrAcademicEvents &lt;dbl&gt; | NrAcademicEventsPerYear &lt;dbl&gt; | DateFirstAcademicEvent &lt;dttm&gt; | NrAwards &lt;dbl&gt; | NrAwardsPerYear &lt;dbl&gt; | YearFirstAward &lt;dbl&gt; | NrDatasets &lt;dbl&gt; | NrDatasetsPerYear &lt;dbl&gt; | DateFirstDataset &lt;dttm&gt; | NrKnowledgeTransfer &lt;dbl&gt; | NrKnowledgeTransferPerYear &lt;dbl&gt; | DateFirstKnowledgeTransfer &lt;dttm&gt; | NrCommunication &lt;dbl&gt; | NrCommunicationPerYear &lt;dbl&gt; | YearFirstCommunication &lt;dbl&gt; | NrTotalPublications &lt;dbl&gt; | NrTotalPublicationsPerYear &lt;dbl&gt; | YearFirstPublication &lt;dbl&gt; | NrUses &lt;dbl&gt; | NrUsesPerYear &lt;dbl&gt; | YearFirstUse &lt;dbl&gt; | NrTotalOutputs &lt;dbl&gt; | NrTotalOutputsPerYear &lt;dbl&gt; |\n",
       "|---|---|---|---|---|---|---|---|---|---|---|---|---|---|---|---|---|---|---|---|---|---|---|---|---|---|---|---|---|---|---|---|---|---|---|---|---|---|---|---|---|---|---|---|\n",
       "| 208399 | 2022 | 2022-10-01 |  608 | 1.6657534 | 2024-05-31 | Ongoing   | Science communication | 150000 |  90049.342 |      0 |     0.00 | University of Berne - BE                                          | Switzerland | Humanities and Social Sciences                 | Art studies, musicology, theatre and film studies, architecture                                     | Theatre and Cinema                              | 0 | 0.000000 | 0 | 0.0000000 | 0 | 0.0000000 | NA | 0 | 0.00 |   NA | 0 | 0 | NA | 0 | 0 | NA | 0 | 0 | NA | 0 |  0.0000000 |   NA | 0 | 0 | NA | 0 |  0.0000000 |\n",
       "| 158034 | 2014 | 2014-12-01 | 1095 | 3.0000000 | 2017-11-30 | Completed | Science communication |  11390 |   3796.667 |      0 |     0.00 | University of Berne - BE                                          | Switzerland | Humanities and Social Sciences                 | Art studies, musicology, theatre and film studies, architecture                                     | Theatre and Cinema                              | 0 | 0.000000 | 1 | 0.3333333 | 1 | 0.3333333 | 2017-09-27 | 0 | 0.00 |   NA | 0 | 0 | NA | 0 | 0 | NA | 0 | 0 | NA | 1 |  0.3333333 |   NA | 0 | 0 | NA | 2 |  0.6666667 |\n",
       "| 139781 | 2011 | 2012-01-01 |  365 | 1.0000000 | 2012-12-31 | Completed | Careers               |  45360 |  45360.000 |      0 |     0.00 | Institution abroad - France                                       | France      | Humanities and Social Sciences                 | Linguistics and literature, philosophy                                                              | Romance languages and literature                | 0 | 0.000000 | 0 | 0.0000000 | 0 | 0.0000000 | NA | 0 | 0.00 |   NA | 0 | 0 | NA | 0 | 0 | NA | 0 | 0 | NA | 0 |  0.0000000 |   NA | 0 | 0 | NA | 0 |  0.0000000 |\n",
       "| 179533 | 2017 | 2018-02-01 |   27 | 0.0739726 | 2018-02-28 | Completed | Science communication |   8000 | 108148.148 |      0 |     0.00 | University of Berne - BE                                          | Switzerland | Humanities and Social Sciences                 | Theology &amp; religious studies, history, classical studies, archaeology, prehistory and early history | General history (without pre-and early history) | 0 | 0.000000 | 0 | 0.0000000 | 0 | 0.0000000 | NA | 0 | 0.00 |   NA | 0 | 0 | NA | 0 | 0 | NA | 0 | 0 | NA | 1 | 13.5185185 |   NA | 0 | 0 | NA | 1 | 13.5185185 |\n",
       "| 140815 | 2012 | 2012-09-01 | 1460 | 4.0000000 | 2016-08-31 | Completed | Projects              | 243562 |  60890.500 | 243562 | 60890.50 | Swiss Federal Institute of Aquatic Science and Technology - EAWAG | Switzerland | Mathematics, Natural- and Engineering Sciences | Environmental Sciences                                                                              | Other disciplines of Environmental Sciences     | 1 | 0.250000 | 1 | 0.2500000 | 5 | 1.2500000 | 2013-08-25 | 1 | 0.25 | 2015 | 0 | 0 | NA | 0 | 0 | NA | 0 | 0 | NA | 3 |  0.7500000 | 2016 | 0 | 0 | NA | 9 |  2.2500000 |\n",
       "| 134801 | 2011 | 2011-04-01 |  305 | 0.8356164 | 2012-01-31 | Completed | Projects              |  51228 |  61305.639 |  51228 | 61305.64 | Swiss Federal Institute of Aquatic Science and Technology - EAWAG | Switzerland | Mathematics, Natural- and Engineering Sciences | Environmental Sciences                                                                              | Other disciplines of Environmental Sciences     | 1 | 1.196721 | 0 | 0.0000000 | 1 | 1.1967213 | 2011-08-28 | 0 | 0.00 |   NA | 0 | 0 | NA | 0 | 0 | NA | 0 | 0 | NA | 2 |  2.3934426 | 2013 | 0 | 0 | NA | 3 |  3.5901639 |\n",
       "\n"
      ],
      "text/plain": [
       "  GrantNumber CallDecisionYear EffectiveGrantStartDate GrantDurationDays\n",
       "1 208399      2022             2022-10-01               608             \n",
       "2 158034      2014             2014-12-01              1095             \n",
       "3 139781      2011             2012-01-01               365             \n",
       "4 179533      2017             2018-02-01                27             \n",
       "5 140815      2012             2012-09-01              1460             \n",
       "6 134801      2011             2011-04-01               305             \n",
       "  GrantDurationYears EffectiveGrantEndDate State     FundingInstrumentLevel1\n",
       "1 1.6657534          2024-05-31            Ongoing   Science communication  \n",
       "2 3.0000000          2017-11-30            Completed Science communication  \n",
       "3 1.0000000          2012-12-31            Completed Careers                \n",
       "4 0.0739726          2018-02-28            Completed Science communication  \n",
       "5 4.0000000          2016-08-31            Completed Projects               \n",
       "6 0.8356164          2012-01-31            Completed Projects               \n",
       "  AmountGrantedAllSets AmountPerYear AmountPerEmployee AmountPerEmployeeAndYear\n",
       "1 150000                90049.342         0                0.00                \n",
       "2  11390                 3796.667         0                0.00                \n",
       "3  45360                45360.000         0                0.00                \n",
       "4   8000               108148.148         0                0.00                \n",
       "5 243562                60890.500    243562            60890.50                \n",
       "6  51228                61305.639     51228            61305.64                \n",
       "  ResearchInstitution                                              \n",
       "1 University of Berne - BE                                         \n",
       "2 University of Berne - BE                                         \n",
       "3 Institution abroad - France                                      \n",
       "4 University of Berne - BE                                         \n",
       "5 Swiss Federal Institute of Aquatic Science and Technology - EAWAG\n",
       "6 Swiss Federal Institute of Aquatic Science and Technology - EAWAG\n",
       "  InstituteCountry MainDiscipline_Level1                         \n",
       "1 Switzerland      Humanities and Social Sciences                \n",
       "2 Switzerland      Humanities and Social Sciences                \n",
       "3 France           Humanities and Social Sciences                \n",
       "4 Switzerland      Humanities and Social Sciences                \n",
       "5 Switzerland      Mathematics, Natural- and Engineering Sciences\n",
       "6 Switzerland      Mathematics, Natural- and Engineering Sciences\n",
       "  MainDiscipline_Level2                                                                              \n",
       "1 Art studies, musicology, theatre and film studies, architecture                                    \n",
       "2 Art studies, musicology, theatre and film studies, architecture                                    \n",
       "3 Linguistics and literature, philosophy                                                             \n",
       "4 Theology & religious studies, history, classical studies, archaeology, prehistory and early history\n",
       "5 Environmental Sciences                                                                             \n",
       "6 Environmental Sciences                                                                             \n",
       "  MainDiscipline                                  NrEmployees\n",
       "1 Theatre and Cinema                              0          \n",
       "2 Theatre and Cinema                              0          \n",
       "3 Romance languages and literature                0          \n",
       "4 General history (without pre-and early history) 0          \n",
       "5 Other disciplines of Environmental Sciences     1          \n",
       "6 Other disciplines of Environmental Sciences     1          \n",
       "  NrEmployeesPerYear NrCollaborations NrCollaborationsPerYear NrAcademicEvents\n",
       "1 0.000000           0                0.0000000               0               \n",
       "2 0.000000           1                0.3333333               1               \n",
       "3 0.000000           0                0.0000000               0               \n",
       "4 0.000000           0                0.0000000               0               \n",
       "5 0.250000           1                0.2500000               5               \n",
       "6 1.196721           0                0.0000000               1               \n",
       "  NrAcademicEventsPerYear DateFirstAcademicEvent NrAwards NrAwardsPerYear\n",
       "1 0.0000000               <NA>                   0        0.00           \n",
       "2 0.3333333               2017-09-27             0        0.00           \n",
       "3 0.0000000               <NA>                   0        0.00           \n",
       "4 0.0000000               <NA>                   0        0.00           \n",
       "5 1.2500000               2013-08-25             1        0.25           \n",
       "6 1.1967213               2011-08-28             0        0.00           \n",
       "  YearFirstAward NrDatasets NrDatasetsPerYear DateFirstDataset\n",
       "1   NA           0          0                 <NA>            \n",
       "2   NA           0          0                 <NA>            \n",
       "3   NA           0          0                 <NA>            \n",
       "4   NA           0          0                 <NA>            \n",
       "5 2015           0          0                 <NA>            \n",
       "6   NA           0          0                 <NA>            \n",
       "  NrKnowledgeTransfer NrKnowledgeTransferPerYear DateFirstKnowledgeTransfer\n",
       "1 0                   0                          <NA>                      \n",
       "2 0                   0                          <NA>                      \n",
       "3 0                   0                          <NA>                      \n",
       "4 0                   0                          <NA>                      \n",
       "5 0                   0                          <NA>                      \n",
       "6 0                   0                          <NA>                      \n",
       "  NrCommunication NrCommunicationPerYear YearFirstCommunication\n",
       "1 0               0                      NA                    \n",
       "2 0               0                      NA                    \n",
       "3 0               0                      NA                    \n",
       "4 0               0                      NA                    \n",
       "5 0               0                      NA                    \n",
       "6 0               0                      NA                    \n",
       "  NrTotalPublications NrTotalPublicationsPerYear YearFirstPublication NrUses\n",
       "1 0                    0.0000000                   NA                 0     \n",
       "2 1                    0.3333333                   NA                 0     \n",
       "3 0                    0.0000000                   NA                 0     \n",
       "4 1                   13.5185185                   NA                 0     \n",
       "5 3                    0.7500000                 2016                 0     \n",
       "6 2                    2.3934426                 2013                 0     \n",
       "  NrUsesPerYear YearFirstUse NrTotalOutputs NrTotalOutputsPerYear\n",
       "1 0             NA           0               0.0000000           \n",
       "2 0             NA           2               0.6666667           \n",
       "3 0             NA           0               0.0000000           \n",
       "4 0             NA           1              13.5185185           \n",
       "5 0             NA           9               2.2500000           \n",
       "6 0             NA           3               3.5901639           "
      ]
     },
     "metadata": {},
     "output_type": "display_data"
    }
   ],
   "source": [
    "head(grantdata)"
   ]
  },
  {
   "cell_type": "code",
   "execution_count": 46,
   "id": "f02059cd-296f-4298-9d27-5cf1481729e4",
   "metadata": {
    "vscode": {
     "languageId": "r"
    }
   },
   "outputs": [],
   "source": [
    "# Write enriched grant data to file\n",
    "write.table(grantdata, \"1_GrantsWithOutputs.csv\", sep=\";\", fileEncoding=\"UTF-8\", row.names = FALSE)"
   ]
  }
 ],
 "metadata": {
  "kernelspec": {
   "display_name": "R",
   "language": "R",
   "name": "ir"
  },
  "language_info": {
   "codemirror_mode": "r",
   "file_extension": ".r",
   "mimetype": "text/x-r-source",
   "name": "R",
   "pygments_lexer": "r",
   "version": "4.1.3"
  }
 },
 "nbformat": 4,
 "nbformat_minor": 5
}
