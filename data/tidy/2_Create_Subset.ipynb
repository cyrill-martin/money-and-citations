{
 "cells": [
  {
   "cell_type": "code",
   "execution_count": 1,
   "id": "9237242c-5eb6-4ac2-96bf-b32e2dfd06f3",
   "metadata": {
    "vscode": {
     "languageId": "r"
    }
   },
   "outputs": [
    {
     "name": "stderr",
     "output_type": "stream",
     "text": [
      "-- \u001b[1mAttaching packages\u001b[22m --------------------------------------- tidyverse 1.3.2 --\n",
      "\u001b[32mv\u001b[39m \u001b[34mggplot2\u001b[39m 3.4.1     \u001b[32mv\u001b[39m \u001b[34mpurrr  \u001b[39m 1.0.1\n",
      "\u001b[32mv\u001b[39m \u001b[34mtibble \u001b[39m 3.1.8     \u001b[32mv\u001b[39m \u001b[34mdplyr  \u001b[39m 1.1.0\n",
      "\u001b[32mv\u001b[39m \u001b[34mtidyr  \u001b[39m 1.3.0     \u001b[32mv\u001b[39m \u001b[34mstringr\u001b[39m 1.5.0\n",
      "\u001b[32mv\u001b[39m \u001b[34mreadr  \u001b[39m 2.1.4     \u001b[32mv\u001b[39m \u001b[34mforcats\u001b[39m 1.0.0\n",
      "-- \u001b[1mConflicts\u001b[22m ------------------------------------------ tidyverse_conflicts() --\n",
      "\u001b[31mx\u001b[39m \u001b[34mdplyr\u001b[39m::\u001b[32mfilter()\u001b[39m masks \u001b[34mstats\u001b[39m::filter()\n",
      "\u001b[31mx\u001b[39m \u001b[34mdplyr\u001b[39m::\u001b[32mlag()\u001b[39m    masks \u001b[34mstats\u001b[39m::lag()\n"
     ]
    }
   ],
   "source": [
    "library(tidyverse)"
   ]
  },
  {
   "cell_type": "code",
   "execution_count": 2,
   "id": "a283620a",
   "metadata": {
    "vscode": {
     "languageId": "r"
    }
   },
   "outputs": [],
   "source": [
    "# Make sure all columns of a tibble are being shown\n",
    "options(repr.matrix.max.rows = Inf, repr.matrix.max.cols = Inf)"
   ]
  },
  {
   "cell_type": "code",
   "execution_count": 4,
   "id": "f29bfb98-4c5e-4273-80ee-700bbc2a2b00",
   "metadata": {
    "vscode": {
     "languageId": "r"
    }
   },
   "outputs": [
    {
     "name": "stderr",
     "output_type": "stream",
     "text": [
      "\u001b[1mRows: \u001b[22m\u001b[34m84341\u001b[39m \u001b[1mColumns: \u001b[22m\u001b[34m44\u001b[39m\n",
      "\u001b[36m--\u001b[39m \u001b[1mColumn specification\u001b[22m \u001b[36m--------------------------------------------------------\u001b[39m\n",
      "\u001b[1mDelimiter:\u001b[22m \";\"\n",
      "\u001b[31mchr\u001b[39m   (7): State, FundingInstrumentLevel1, ResearchInstitution, InstituteCou...\n",
      "\u001b[32mdbl\u001b[39m  (32): GrantNumber, CallDecisionYear, GrantDurationDays, GrantDurationYe...\n",
      "\u001b[34mdate\u001b[39m  (5): EffectiveGrantStartDate, EffectiveGrantEndDate, DateFirstAcademic...\n",
      "\n",
      "\u001b[36mi\u001b[39m Use `spec()` to retrieve the full column specification for this data.\n",
      "\u001b[36mi\u001b[39m Specify the column types or set `show_col_types = FALSE` to quiet this message.\n"
     ]
    }
   ],
   "source": [
    "grantdata_default <- read_delim(\"1_GrantsWithOutputs.csv\", delim = \";\", col_names=TRUE)"
   ]
  },
  {
   "cell_type": "code",
   "execution_count": 5,
   "id": "3c5cfc8f-9a69-4ecd-bcc7-c78cbecfc984",
   "metadata": {
    "vscode": {
     "languageId": "r"
    }
   },
   "outputs": [],
   "source": [
    "# Make factors\n",
    "grantdata_default <- mutate_if(grantdata_default, is.character, as.factor)"
   ]
  },
  {
   "cell_type": "code",
   "execution_count": 6,
   "id": "725de357-a249-482e-a4fe-26bf369bd705",
   "metadata": {
    "vscode": {
     "languageId": "r"
    }
   },
   "outputs": [],
   "source": [
    "# We'll have a look at biomed grants only\n",
    "grantdata_biomed <- filter(grantdata_default, MainDiscipline_Level1 == \"Biology and Medicine\")"
   ]
  },
  {
   "cell_type": "code",
   "execution_count": 7,
   "id": "7ce0ea64-eeb1-4669-893e-46313f26096b",
   "metadata": {
    "vscode": {
     "languageId": "r"
    }
   },
   "outputs": [],
   "source": [
    "# We'll only consider grants which have been approved from 2012 onwards and have been already completed\n",
    "grantdata_biomed <- filter(grantdata_biomed, CallDecisionYear >= 2012, State == \"Completed\")"
   ]
  },
  {
   "cell_type": "code",
   "execution_count": 8,
   "id": "ba3ac2c2-e39e-4a6e-b2c9-e87af4663f1f",
   "metadata": {
    "vscode": {
     "languageId": "r"
    }
   },
   "outputs": [
    {
     "data": {
      "text/html": [
       "<style>\n",
       ".list-inline {list-style: none; margin:0; padding: 0}\n",
       ".list-inline>li {display: inline-block}\n",
       ".list-inline>li:not(:last-child)::after {content: \"\\00b7\"; padding: 0 .5ex}\n",
       "</style>\n",
       "<ol class=list-inline><li>7609</li><li>44</li></ol>\n"
      ],
      "text/latex": [
       "\\begin{enumerate*}\n",
       "\\item 7609\n",
       "\\item 44\n",
       "\\end{enumerate*}\n"
      ],
      "text/markdown": [
       "1. 7609\n",
       "2. 44\n",
       "\n",
       "\n"
      ],
      "text/plain": [
       "[1] 7609   44"
      ]
     },
     "metadata": {},
     "output_type": "display_data"
    }
   ],
   "source": [
    "dim(grantdata_biomed)"
   ]
  },
  {
   "cell_type": "code",
   "execution_count": 9,
   "id": "50dbff7f-a60f-4d87-8595-726707de4429",
   "metadata": {
    "vscode": {
     "languageId": "r"
    }
   },
   "outputs": [
    {
     "data": {
      "text/html": [
       "<table class=\"dataframe\">\n",
       "<caption>A tibble: 6 × 44</caption>\n",
       "<thead>\n",
       "\t<tr><th scope=col>GrantNumber</th><th scope=col>CallDecisionYear</th><th scope=col>EffectiveGrantStartDate</th><th scope=col>GrantDurationDays</th><th scope=col>GrantDurationYears</th><th scope=col>EffectiveGrantEndDate</th><th scope=col>State</th><th scope=col>FundingInstrumentLevel1</th><th scope=col>AmountGrantedAllSets</th><th scope=col>AmountPerYear</th><th scope=col>AmountPerEmployee</th><th scope=col>AmountPerEmployeeAndYear</th><th scope=col>ResearchInstitution</th><th scope=col>InstituteCountry</th><th scope=col>MainDiscipline_Level1</th><th scope=col>MainDiscipline_Level2</th><th scope=col>MainDiscipline</th><th scope=col>NrEmployees</th><th scope=col>NrEmployeesPerYear</th><th scope=col>NrCollaborations</th><th scope=col>NrCollaborationsPerYear</th><th scope=col>NrAcademicEvents</th><th scope=col>NrAcademicEventsPerYear</th><th scope=col>DateFirstAcademicEvent</th><th scope=col>NrAwards</th><th scope=col>NrAwardsPerYear</th><th scope=col>YearFirstAward</th><th scope=col>NrDatasets</th><th scope=col>NrDatasetsPerYear</th><th scope=col>DateFirstDataset</th><th scope=col>NrKnowledgeTransfer</th><th scope=col>NrKnowledgeTransferPerYear</th><th scope=col>DateFirstKnowledgeTransfer</th><th scope=col>NrCommunication</th><th scope=col>NrCommunicationPerYear</th><th scope=col>YearFirstCommunication</th><th scope=col>NrTotalPublications</th><th scope=col>NrTotalPublicationsPerYear</th><th scope=col>YearFirstPublication</th><th scope=col>NrUses</th><th scope=col>NrUsesPerYear</th><th scope=col>YearFirstUse</th><th scope=col>NrTotalOutputs</th><th scope=col>NrTotalOutputsPerYear</th></tr>\n",
       "\t<tr><th scope=col>&lt;dbl&gt;</th><th scope=col>&lt;dbl&gt;</th><th scope=col>&lt;date&gt;</th><th scope=col>&lt;dbl&gt;</th><th scope=col>&lt;dbl&gt;</th><th scope=col>&lt;date&gt;</th><th scope=col>&lt;fct&gt;</th><th scope=col>&lt;fct&gt;</th><th scope=col>&lt;dbl&gt;</th><th scope=col>&lt;dbl&gt;</th><th scope=col>&lt;dbl&gt;</th><th scope=col>&lt;dbl&gt;</th><th scope=col>&lt;fct&gt;</th><th scope=col>&lt;fct&gt;</th><th scope=col>&lt;fct&gt;</th><th scope=col>&lt;fct&gt;</th><th scope=col>&lt;fct&gt;</th><th scope=col>&lt;dbl&gt;</th><th scope=col>&lt;dbl&gt;</th><th scope=col>&lt;dbl&gt;</th><th scope=col>&lt;dbl&gt;</th><th scope=col>&lt;dbl&gt;</th><th scope=col>&lt;dbl&gt;</th><th scope=col>&lt;date&gt;</th><th scope=col>&lt;dbl&gt;</th><th scope=col>&lt;dbl&gt;</th><th scope=col>&lt;dbl&gt;</th><th scope=col>&lt;dbl&gt;</th><th scope=col>&lt;dbl&gt;</th><th scope=col>&lt;date&gt;</th><th scope=col>&lt;dbl&gt;</th><th scope=col>&lt;dbl&gt;</th><th scope=col>&lt;date&gt;</th><th scope=col>&lt;dbl&gt;</th><th scope=col>&lt;dbl&gt;</th><th scope=col>&lt;dbl&gt;</th><th scope=col>&lt;dbl&gt;</th><th scope=col>&lt;dbl&gt;</th><th scope=col>&lt;dbl&gt;</th><th scope=col>&lt;dbl&gt;</th><th scope=col>&lt;dbl&gt;</th><th scope=col>&lt;dbl&gt;</th><th scope=col>&lt;dbl&gt;</th><th scope=col>&lt;dbl&gt;</th></tr>\n",
       "</thead>\n",
       "<tbody>\n",
       "\t<tr><td>149634</td><td>2013</td><td>2014-01-01</td><td>1095</td><td>3.0000000</td><td>2016-12-31</td><td>Completed</td><td>Projects             </td><td>749688</td><td>249896.00</td><td>149937.6</td><td> 49979.20</td><td>University of Geneva - GE  </td><td>Switzerland</td><td>Biology and Medicine</td><td>Basic Biological Research</td><td>Genetics                 </td><td>5</td><td>1.6666667</td><td>4</td><td>1.333333</td><td>6</td><td>2.000000</td><td>2014-03-26</td><td>0</td><td>0</td><td>NA</td><td>0</td><td>0</td><td>NA</td><td>0</td><td>0</td><td>NA</td><td>2</td><td>0.6666667</td><td>2014</td><td>11</td><td> 3.666667</td><td>2014</td><td>0</td><td>0</td><td>NA</td><td>19</td><td> 6.333333</td></tr>\n",
       "\t<tr><td>204665</td><td>2021</td><td>2022-09-01</td><td> 180</td><td>0.4931507</td><td>2023-02-28</td><td>Completed</td><td>Science communication</td><td> 19600</td><td> 39744.44</td><td>     0.0</td><td>     0.00</td><td>University of Lausanne - LA</td><td>Switzerland</td><td>Biology and Medicine</td><td>Clinical Medicine        </td><td>Geriatrics               </td><td>0</td><td>0.0000000</td><td>0</td><td>0.000000</td><td>0</td><td>0.000000</td><td>NA</td><td>0</td><td>0</td><td>NA</td><td>0</td><td>0</td><td>NA</td><td>0</td><td>0</td><td>NA</td><td>0</td><td>0.0000000</td><td>  NA</td><td> 0</td><td> 0.000000</td><td>  NA</td><td>0</td><td>0</td><td>NA</td><td> 0</td><td> 0.000000</td></tr>\n",
       "\t<tr><td>180190</td><td>2017</td><td>2019-05-01</td><td>1095</td><td>3.0000000</td><td>2022-04-30</td><td>Completed</td><td>Programmes           </td><td>217140</td><td> 72380.00</td><td>217140.0</td><td> 72380.00</td><td>University of Zurich - ZH  </td><td>Switzerland</td><td>Biology and Medicine</td><td>Basic Biological Research</td><td>Experimental Microbiology</td><td>1</td><td>0.3333333</td><td>0</td><td>0.000000</td><td>0</td><td>0.000000</td><td>NA</td><td>0</td><td>0</td><td>NA</td><td>0</td><td>0</td><td>NA</td><td>0</td><td>0</td><td>NA</td><td>0</td><td>0.0000000</td><td>  NA</td><td> 0</td><td> 0.000000</td><td>  NA</td><td>0</td><td>0</td><td>NA</td><td> 0</td><td> 0.000000</td></tr>\n",
       "\t<tr><td>146722</td><td>2013</td><td>2013-06-01</td><td>1705</td><td>4.6712329</td><td>2018-01-31</td><td>Completed</td><td>Projects             </td><td>262960</td><td> 56293.49</td><td> 52592.0</td><td> 11258.70</td><td>University of Berne - BE   </td><td>Switzerland</td><td>Biology and Medicine</td><td>Basic Biological Research</td><td>Molecular Biology        </td><td>5</td><td>1.0703812</td><td>0</td><td>0.000000</td><td>0</td><td>0.000000</td><td>NA</td><td>0</td><td>0</td><td>NA</td><td>0</td><td>0</td><td>NA</td><td>0</td><td>0</td><td>NA</td><td>0</td><td>0.0000000</td><td>  NA</td><td> 5</td><td> 1.070381</td><td>2016</td><td>0</td><td>0</td><td>NA</td><td> 5</td><td> 1.070381</td></tr>\n",
       "\t<tr><td>150754</td><td>2013</td><td>2013-10-01</td><td> 181</td><td>0.4958904</td><td>2014-03-31</td><td>Completed</td><td>Careers              </td><td> 77488</td><td>156260.33</td><td> 77488.0</td><td>156260.33</td><td>University of Geneva - GE  </td><td>Switzerland</td><td>Biology and Medicine</td><td>Basic Biological Research</td><td>Biophysics               </td><td>1</td><td>2.0165746</td><td>3</td><td>6.049724</td><td>3</td><td>6.049724</td><td>2014-01-11</td><td>0</td><td>0</td><td>NA</td><td>0</td><td>0</td><td>NA</td><td>0</td><td>0</td><td>NA</td><td>1</td><td>2.0165746</td><td>2014</td><td> 7</td><td>14.116022</td><td>  NA</td><td>0</td><td>0</td><td>NA</td><td>11</td><td>22.182320</td></tr>\n",
       "\t<tr><td>157023</td><td>2014</td><td>2014-11-01</td><td>1460</td><td>4.0000000</td><td>2018-10-31</td><td>Completed</td><td>Projects             </td><td>707411</td><td>176852.75</td><td>141482.2</td><td> 35370.55</td><td>EPF Lausanne - EPFL        </td><td>Switzerland</td><td>Biology and Medicine</td><td>Basic Biological Research</td><td>Biochemistry             </td><td>5</td><td>1.2500000</td><td>0</td><td>0.000000</td><td>1</td><td>0.250000</td><td>2019-02-24</td><td>0</td><td>0</td><td>NA</td><td>0</td><td>0</td><td>NA</td><td>0</td><td>0</td><td>NA</td><td>2</td><td>0.5000000</td><td>2019</td><td> 4</td><td> 1.000000</td><td>2016</td><td>0</td><td>0</td><td>NA</td><td> 7</td><td> 1.750000</td></tr>\n",
       "</tbody>\n",
       "</table>\n"
      ],
      "text/latex": [
       "A tibble: 6 × 44\n",
       "\\begin{tabular}{llllllllllllllllllllllllllllllllllllllllllll}\n",
       " GrantNumber & CallDecisionYear & EffectiveGrantStartDate & GrantDurationDays & GrantDurationYears & EffectiveGrantEndDate & State & FundingInstrumentLevel1 & AmountGrantedAllSets & AmountPerYear & AmountPerEmployee & AmountPerEmployeeAndYear & ResearchInstitution & InstituteCountry & MainDiscipline\\_Level1 & MainDiscipline\\_Level2 & MainDiscipline & NrEmployees & NrEmployeesPerYear & NrCollaborations & NrCollaborationsPerYear & NrAcademicEvents & NrAcademicEventsPerYear & DateFirstAcademicEvent & NrAwards & NrAwardsPerYear & YearFirstAward & NrDatasets & NrDatasetsPerYear & DateFirstDataset & NrKnowledgeTransfer & NrKnowledgeTransferPerYear & DateFirstKnowledgeTransfer & NrCommunication & NrCommunicationPerYear & YearFirstCommunication & NrTotalPublications & NrTotalPublicationsPerYear & YearFirstPublication & NrUses & NrUsesPerYear & YearFirstUse & NrTotalOutputs & NrTotalOutputsPerYear\\\\\n",
       " <dbl> & <dbl> & <date> & <dbl> & <dbl> & <date> & <fct> & <fct> & <dbl> & <dbl> & <dbl> & <dbl> & <fct> & <fct> & <fct> & <fct> & <fct> & <dbl> & <dbl> & <dbl> & <dbl> & <dbl> & <dbl> & <date> & <dbl> & <dbl> & <dbl> & <dbl> & <dbl> & <date> & <dbl> & <dbl> & <date> & <dbl> & <dbl> & <dbl> & <dbl> & <dbl> & <dbl> & <dbl> & <dbl> & <dbl> & <dbl> & <dbl>\\\\\n",
       "\\hline\n",
       "\t 149634 & 2013 & 2014-01-01 & 1095 & 3.0000000 & 2016-12-31 & Completed & Projects              & 749688 & 249896.00 & 149937.6 &  49979.20 & University of Geneva - GE   & Switzerland & Biology and Medicine & Basic Biological Research & Genetics                  & 5 & 1.6666667 & 4 & 1.333333 & 6 & 2.000000 & 2014-03-26 & 0 & 0 & NA & 0 & 0 & NA & 0 & 0 & NA & 2 & 0.6666667 & 2014 & 11 &  3.666667 & 2014 & 0 & 0 & NA & 19 &  6.333333\\\\\n",
       "\t 204665 & 2021 & 2022-09-01 &  180 & 0.4931507 & 2023-02-28 & Completed & Science communication &  19600 &  39744.44 &      0.0 &      0.00 & University of Lausanne - LA & Switzerland & Biology and Medicine & Clinical Medicine         & Geriatrics                & 0 & 0.0000000 & 0 & 0.000000 & 0 & 0.000000 & NA & 0 & 0 & NA & 0 & 0 & NA & 0 & 0 & NA & 0 & 0.0000000 &   NA &  0 &  0.000000 &   NA & 0 & 0 & NA &  0 &  0.000000\\\\\n",
       "\t 180190 & 2017 & 2019-05-01 & 1095 & 3.0000000 & 2022-04-30 & Completed & Programmes            & 217140 &  72380.00 & 217140.0 &  72380.00 & University of Zurich - ZH   & Switzerland & Biology and Medicine & Basic Biological Research & Experimental Microbiology & 1 & 0.3333333 & 0 & 0.000000 & 0 & 0.000000 & NA & 0 & 0 & NA & 0 & 0 & NA & 0 & 0 & NA & 0 & 0.0000000 &   NA &  0 &  0.000000 &   NA & 0 & 0 & NA &  0 &  0.000000\\\\\n",
       "\t 146722 & 2013 & 2013-06-01 & 1705 & 4.6712329 & 2018-01-31 & Completed & Projects              & 262960 &  56293.49 &  52592.0 &  11258.70 & University of Berne - BE    & Switzerland & Biology and Medicine & Basic Biological Research & Molecular Biology         & 5 & 1.0703812 & 0 & 0.000000 & 0 & 0.000000 & NA & 0 & 0 & NA & 0 & 0 & NA & 0 & 0 & NA & 0 & 0.0000000 &   NA &  5 &  1.070381 & 2016 & 0 & 0 & NA &  5 &  1.070381\\\\\n",
       "\t 150754 & 2013 & 2013-10-01 &  181 & 0.4958904 & 2014-03-31 & Completed & Careers               &  77488 & 156260.33 &  77488.0 & 156260.33 & University of Geneva - GE   & Switzerland & Biology and Medicine & Basic Biological Research & Biophysics                & 1 & 2.0165746 & 3 & 6.049724 & 3 & 6.049724 & 2014-01-11 & 0 & 0 & NA & 0 & 0 & NA & 0 & 0 & NA & 1 & 2.0165746 & 2014 &  7 & 14.116022 &   NA & 0 & 0 & NA & 11 & 22.182320\\\\\n",
       "\t 157023 & 2014 & 2014-11-01 & 1460 & 4.0000000 & 2018-10-31 & Completed & Projects              & 707411 & 176852.75 & 141482.2 &  35370.55 & EPF Lausanne - EPFL         & Switzerland & Biology and Medicine & Basic Biological Research & Biochemistry              & 5 & 1.2500000 & 0 & 0.000000 & 1 & 0.250000 & 2019-02-24 & 0 & 0 & NA & 0 & 0 & NA & 0 & 0 & NA & 2 & 0.5000000 & 2019 &  4 &  1.000000 & 2016 & 0 & 0 & NA &  7 &  1.750000\\\\\n",
       "\\end{tabular}\n"
      ],
      "text/markdown": [
       "\n",
       "A tibble: 6 × 44\n",
       "\n",
       "| GrantNumber &lt;dbl&gt; | CallDecisionYear &lt;dbl&gt; | EffectiveGrantStartDate &lt;date&gt; | GrantDurationDays &lt;dbl&gt; | GrantDurationYears &lt;dbl&gt; | EffectiveGrantEndDate &lt;date&gt; | State &lt;fct&gt; | FundingInstrumentLevel1 &lt;fct&gt; | AmountGrantedAllSets &lt;dbl&gt; | AmountPerYear &lt;dbl&gt; | AmountPerEmployee &lt;dbl&gt; | AmountPerEmployeeAndYear &lt;dbl&gt; | ResearchInstitution &lt;fct&gt; | InstituteCountry &lt;fct&gt; | MainDiscipline_Level1 &lt;fct&gt; | MainDiscipline_Level2 &lt;fct&gt; | MainDiscipline &lt;fct&gt; | NrEmployees &lt;dbl&gt; | NrEmployeesPerYear &lt;dbl&gt; | NrCollaborations &lt;dbl&gt; | NrCollaborationsPerYear &lt;dbl&gt; | NrAcademicEvents &lt;dbl&gt; | NrAcademicEventsPerYear &lt;dbl&gt; | DateFirstAcademicEvent &lt;date&gt; | NrAwards &lt;dbl&gt; | NrAwardsPerYear &lt;dbl&gt; | YearFirstAward &lt;dbl&gt; | NrDatasets &lt;dbl&gt; | NrDatasetsPerYear &lt;dbl&gt; | DateFirstDataset &lt;date&gt; | NrKnowledgeTransfer &lt;dbl&gt; | NrKnowledgeTransferPerYear &lt;dbl&gt; | DateFirstKnowledgeTransfer &lt;date&gt; | NrCommunication &lt;dbl&gt; | NrCommunicationPerYear &lt;dbl&gt; | YearFirstCommunication &lt;dbl&gt; | NrTotalPublications &lt;dbl&gt; | NrTotalPublicationsPerYear &lt;dbl&gt; | YearFirstPublication &lt;dbl&gt; | NrUses &lt;dbl&gt; | NrUsesPerYear &lt;dbl&gt; | YearFirstUse &lt;dbl&gt; | NrTotalOutputs &lt;dbl&gt; | NrTotalOutputsPerYear &lt;dbl&gt; |\n",
       "|---|---|---|---|---|---|---|---|---|---|---|---|---|---|---|---|---|---|---|---|---|---|---|---|---|---|---|---|---|---|---|---|---|---|---|---|---|---|---|---|---|---|---|---|\n",
       "| 149634 | 2013 | 2014-01-01 | 1095 | 3.0000000 | 2016-12-31 | Completed | Projects              | 749688 | 249896.00 | 149937.6 |  49979.20 | University of Geneva - GE   | Switzerland | Biology and Medicine | Basic Biological Research | Genetics                  | 5 | 1.6666667 | 4 | 1.333333 | 6 | 2.000000 | 2014-03-26 | 0 | 0 | NA | 0 | 0 | NA | 0 | 0 | NA | 2 | 0.6666667 | 2014 | 11 |  3.666667 | 2014 | 0 | 0 | NA | 19 |  6.333333 |\n",
       "| 204665 | 2021 | 2022-09-01 |  180 | 0.4931507 | 2023-02-28 | Completed | Science communication |  19600 |  39744.44 |      0.0 |      0.00 | University of Lausanne - LA | Switzerland | Biology and Medicine | Clinical Medicine         | Geriatrics                | 0 | 0.0000000 | 0 | 0.000000 | 0 | 0.000000 | NA | 0 | 0 | NA | 0 | 0 | NA | 0 | 0 | NA | 0 | 0.0000000 |   NA |  0 |  0.000000 |   NA | 0 | 0 | NA |  0 |  0.000000 |\n",
       "| 180190 | 2017 | 2019-05-01 | 1095 | 3.0000000 | 2022-04-30 | Completed | Programmes            | 217140 |  72380.00 | 217140.0 |  72380.00 | University of Zurich - ZH   | Switzerland | Biology and Medicine | Basic Biological Research | Experimental Microbiology | 1 | 0.3333333 | 0 | 0.000000 | 0 | 0.000000 | NA | 0 | 0 | NA | 0 | 0 | NA | 0 | 0 | NA | 0 | 0.0000000 |   NA |  0 |  0.000000 |   NA | 0 | 0 | NA |  0 |  0.000000 |\n",
       "| 146722 | 2013 | 2013-06-01 | 1705 | 4.6712329 | 2018-01-31 | Completed | Projects              | 262960 |  56293.49 |  52592.0 |  11258.70 | University of Berne - BE    | Switzerland | Biology and Medicine | Basic Biological Research | Molecular Biology         | 5 | 1.0703812 | 0 | 0.000000 | 0 | 0.000000 | NA | 0 | 0 | NA | 0 | 0 | NA | 0 | 0 | NA | 0 | 0.0000000 |   NA |  5 |  1.070381 | 2016 | 0 | 0 | NA |  5 |  1.070381 |\n",
       "| 150754 | 2013 | 2013-10-01 |  181 | 0.4958904 | 2014-03-31 | Completed | Careers               |  77488 | 156260.33 |  77488.0 | 156260.33 | University of Geneva - GE   | Switzerland | Biology and Medicine | Basic Biological Research | Biophysics                | 1 | 2.0165746 | 3 | 6.049724 | 3 | 6.049724 | 2014-01-11 | 0 | 0 | NA | 0 | 0 | NA | 0 | 0 | NA | 1 | 2.0165746 | 2014 |  7 | 14.116022 |   NA | 0 | 0 | NA | 11 | 22.182320 |\n",
       "| 157023 | 2014 | 2014-11-01 | 1460 | 4.0000000 | 2018-10-31 | Completed | Projects              | 707411 | 176852.75 | 141482.2 |  35370.55 | EPF Lausanne - EPFL         | Switzerland | Biology and Medicine | Basic Biological Research | Biochemistry              | 5 | 1.2500000 | 0 | 0.000000 | 1 | 0.250000 | 2019-02-24 | 0 | 0 | NA | 0 | 0 | NA | 0 | 0 | NA | 2 | 0.5000000 | 2019 |  4 |  1.000000 | 2016 | 0 | 0 | NA |  7 |  1.750000 |\n",
       "\n"
      ],
      "text/plain": [
       "  GrantNumber CallDecisionYear EffectiveGrantStartDate GrantDurationDays\n",
       "1 149634      2013             2014-01-01              1095             \n",
       "2 204665      2021             2022-09-01               180             \n",
       "3 180190      2017             2019-05-01              1095             \n",
       "4 146722      2013             2013-06-01              1705             \n",
       "5 150754      2013             2013-10-01               181             \n",
       "6 157023      2014             2014-11-01              1460             \n",
       "  GrantDurationYears EffectiveGrantEndDate State     FundingInstrumentLevel1\n",
       "1 3.0000000          2016-12-31            Completed Projects               \n",
       "2 0.4931507          2023-02-28            Completed Science communication  \n",
       "3 3.0000000          2022-04-30            Completed Programmes             \n",
       "4 4.6712329          2018-01-31            Completed Projects               \n",
       "5 0.4958904          2014-03-31            Completed Careers                \n",
       "6 4.0000000          2018-10-31            Completed Projects               \n",
       "  AmountGrantedAllSets AmountPerYear AmountPerEmployee AmountPerEmployeeAndYear\n",
       "1 749688               249896.00     149937.6           49979.20               \n",
       "2  19600                39744.44          0.0               0.00               \n",
       "3 217140                72380.00     217140.0           72380.00               \n",
       "4 262960                56293.49      52592.0           11258.70               \n",
       "5  77488               156260.33      77488.0          156260.33               \n",
       "6 707411               176852.75     141482.2           35370.55               \n",
       "  ResearchInstitution         InstituteCountry MainDiscipline_Level1\n",
       "1 University of Geneva - GE   Switzerland      Biology and Medicine \n",
       "2 University of Lausanne - LA Switzerland      Biology and Medicine \n",
       "3 University of Zurich - ZH   Switzerland      Biology and Medicine \n",
       "4 University of Berne - BE    Switzerland      Biology and Medicine \n",
       "5 University of Geneva - GE   Switzerland      Biology and Medicine \n",
       "6 EPF Lausanne - EPFL         Switzerland      Biology and Medicine \n",
       "  MainDiscipline_Level2     MainDiscipline            NrEmployees\n",
       "1 Basic Biological Research Genetics                  5          \n",
       "2 Clinical Medicine         Geriatrics                0          \n",
       "3 Basic Biological Research Experimental Microbiology 1          \n",
       "4 Basic Biological Research Molecular Biology         5          \n",
       "5 Basic Biological Research Biophysics                1          \n",
       "6 Basic Biological Research Biochemistry              5          \n",
       "  NrEmployeesPerYear NrCollaborations NrCollaborationsPerYear NrAcademicEvents\n",
       "1 1.6666667          4                1.333333                6               \n",
       "2 0.0000000          0                0.000000                0               \n",
       "3 0.3333333          0                0.000000                0               \n",
       "4 1.0703812          0                0.000000                0               \n",
       "5 2.0165746          3                6.049724                3               \n",
       "6 1.2500000          0                0.000000                1               \n",
       "  NrAcademicEventsPerYear DateFirstAcademicEvent NrAwards NrAwardsPerYear\n",
       "1 2.000000                2014-03-26             0        0              \n",
       "2 0.000000                <NA>                   0        0              \n",
       "3 0.000000                <NA>                   0        0              \n",
       "4 0.000000                <NA>                   0        0              \n",
       "5 6.049724                2014-01-11             0        0              \n",
       "6 0.250000                2019-02-24             0        0              \n",
       "  YearFirstAward NrDatasets NrDatasetsPerYear DateFirstDataset\n",
       "1 NA             0          0                 <NA>            \n",
       "2 NA             0          0                 <NA>            \n",
       "3 NA             0          0                 <NA>            \n",
       "4 NA             0          0                 <NA>            \n",
       "5 NA             0          0                 <NA>            \n",
       "6 NA             0          0                 <NA>            \n",
       "  NrKnowledgeTransfer NrKnowledgeTransferPerYear DateFirstKnowledgeTransfer\n",
       "1 0                   0                          <NA>                      \n",
       "2 0                   0                          <NA>                      \n",
       "3 0                   0                          <NA>                      \n",
       "4 0                   0                          <NA>                      \n",
       "5 0                   0                          <NA>                      \n",
       "6 0                   0                          <NA>                      \n",
       "  NrCommunication NrCommunicationPerYear YearFirstCommunication\n",
       "1 2               0.6666667              2014                  \n",
       "2 0               0.0000000                NA                  \n",
       "3 0               0.0000000                NA                  \n",
       "4 0               0.0000000                NA                  \n",
       "5 1               2.0165746              2014                  \n",
       "6 2               0.5000000              2019                  \n",
       "  NrTotalPublications NrTotalPublicationsPerYear YearFirstPublication NrUses\n",
       "1 11                   3.666667                  2014                 0     \n",
       "2  0                   0.000000                    NA                 0     \n",
       "3  0                   0.000000                    NA                 0     \n",
       "4  5                   1.070381                  2016                 0     \n",
       "5  7                  14.116022                    NA                 0     \n",
       "6  4                   1.000000                  2016                 0     \n",
       "  NrUsesPerYear YearFirstUse NrTotalOutputs NrTotalOutputsPerYear\n",
       "1 0             NA           19              6.333333            \n",
       "2 0             NA            0              0.000000            \n",
       "3 0             NA            0              0.000000            \n",
       "4 0             NA            5              1.070381            \n",
       "5 0             NA           11             22.182320            \n",
       "6 0             NA            7              1.750000            "
      ]
     },
     "metadata": {},
     "output_type": "display_data"
    }
   ],
   "source": [
    "head(grantdata_biomed)"
   ]
  },
  {
   "cell_type": "code",
   "execution_count": 10,
   "id": "855543f6-86c1-495a-a5aa-42729483e2cc",
   "metadata": {
    "vscode": {
     "languageId": "r"
    }
   },
   "outputs": [],
   "source": [
    "# Write subset to file\n",
    "write.table(grantdata_biomed, \"2_BiomedGrantsSubset.csv\", sep=\";\", fileEncoding=\"UTF-8\", row.names = FALSE)"
   ]
  },
  {
   "cell_type": "code",
   "execution_count": 11,
   "id": "6bbfc79b-4a50-4da2-879b-96f7c92967b5",
   "metadata": {
    "vscode": {
     "languageId": "r"
    }
   },
   "outputs": [],
   "source": [
    "# Subset of grants with publications\n",
    "grant_ids <- filter(grantdata_biomed, NrTotalPublications > 0)\n",
    "grant_ids <- select(grant_ids, GrantNumber)"
   ]
  },
  {
   "cell_type": "code",
   "execution_count": 12,
   "id": "86a7b6b0-f2ff-4d08-94e1-dbb7fafad983",
   "metadata": {
    "vscode": {
     "languageId": "r"
    }
   },
   "outputs": [],
   "source": [
    "# Write grant numbers to file to get the number of citations of peer reviewed articles\n",
    "write.table(grant_ids, \"2_GrantNumbersWithPublicatons.csv\", sep=\";\", fileEncoding=\"UTF-8\", row.names = FALSE)"
   ]
  }
 ],
 "metadata": {
  "kernelspec": {
   "display_name": "R",
   "language": "R",
   "name": "ir"
  },
  "language_info": {
   "codemirror_mode": "r",
   "file_extension": ".r",
   "mimetype": "text/x-r-source",
   "name": "R",
   "pygments_lexer": "r",
   "version": "4.1.3"
  }
 },
 "nbformat": 4,
 "nbformat_minor": 5
}
