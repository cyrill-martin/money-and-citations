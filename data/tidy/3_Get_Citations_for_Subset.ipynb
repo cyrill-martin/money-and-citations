{
 "cells": [
  {
   "cell_type": "code",
   "execution_count": 1,
   "id": "9e0a25c5-0b1c-4391-aec1-6bb0845db554",
   "metadata": {
    "vscode": {
     "languageId": "r"
    }
   },
   "outputs": [
    {
     "name": "stderr",
     "output_type": "stream",
     "text": [
      "-- \u001b[1mAttaching packages\u001b[22m --------------------------------------- tidyverse 1.3.2 --\n",
      "\u001b[32mv\u001b[39m \u001b[34mggplot2\u001b[39m 3.4.1     \u001b[32mv\u001b[39m \u001b[34mpurrr  \u001b[39m 1.0.1\n",
      "\u001b[32mv\u001b[39m \u001b[34mtibble \u001b[39m 3.1.8     \u001b[32mv\u001b[39m \u001b[34mdplyr  \u001b[39m 1.1.0\n",
      "\u001b[32mv\u001b[39m \u001b[34mtidyr  \u001b[39m 1.3.0     \u001b[32mv\u001b[39m \u001b[34mstringr\u001b[39m 1.5.0\n",
      "\u001b[32mv\u001b[39m \u001b[34mreadr  \u001b[39m 2.1.4     \u001b[32mv\u001b[39m \u001b[34mforcats\u001b[39m 1.0.0\n",
      "-- \u001b[1mConflicts\u001b[22m ------------------------------------------ tidyverse_conflicts() --\n",
      "\u001b[31mx\u001b[39m \u001b[34mdplyr\u001b[39m::\u001b[32mfilter()\u001b[39m masks \u001b[34mstats\u001b[39m::filter()\n",
      "\u001b[31mx\u001b[39m \u001b[34mdplyr\u001b[39m::\u001b[32mlag()\u001b[39m    masks \u001b[34mstats\u001b[39m::lag()\n"
     ]
    }
   ],
   "source": [
    "library(tidyverse)\n",
    "# install.packages(\"rcrossref\")\n",
    "library(rcrossref)"
   ]
  },
  {
   "cell_type": "code",
   "execution_count": 2,
   "id": "436ebe07",
   "metadata": {
    "vscode": {
     "languageId": "r"
    }
   },
   "outputs": [],
   "source": [
    "# Make sure all columns of a tibble are being shown\n",
    "options(repr.matrix.max.rows = Inf, repr.matrix.max.cols = Inf)"
   ]
  },
  {
   "cell_type": "code",
   "execution_count": 3,
   "id": "489fee4d-5cad-4a54-ad69-8e6fc456a918",
   "metadata": {
    "vscode": {
     "languageId": "r"
    }
   },
   "outputs": [
    {
     "name": "stderr",
     "output_type": "stream",
     "text": [
      "\u001b[1mRows: \u001b[22m\u001b[34m4353\u001b[39m \u001b[1mColumns: \u001b[22m\u001b[34m1\u001b[39m\n",
      "\u001b[36m--\u001b[39m \u001b[1mColumn specification\u001b[22m \u001b[36m--------------------------------------------------------\u001b[39m\n",
      "\u001b[1mDelimiter:\u001b[22m \";\"\n",
      "\u001b[32mdbl\u001b[39m (1): GrantNumber\n",
      "\n",
      "\u001b[36mi\u001b[39m Use `spec()` to retrieve the full column specification for this data.\n",
      "\u001b[36mi\u001b[39m Specify the column types or set `show_col_types = FALSE` to quiet this message.\n"
     ]
    }
   ],
   "source": [
    "grants <- read_delim(\"2_GrantNumbersWithPublicatons.csv\", delim = \";\", col_names=TRUE)"
   ]
  },
  {
   "cell_type": "code",
   "execution_count": 4,
   "id": "8fbe1c87-da3f-48e1-a420-c2d11c39a7ad",
   "metadata": {
    "vscode": {
     "languageId": "r"
    }
   },
   "outputs": [
    {
     "data": {
      "text/html": [
       "<style>\n",
       ".list-inline {list-style: none; margin:0; padding: 0}\n",
       ".list-inline>li {display: inline-block}\n",
       ".list-inline>li:not(:last-child)::after {content: \"\\00b7\"; padding: 0 .5ex}\n",
       "</style>\n",
       "<ol class=list-inline><li>4353</li><li>1</li></ol>\n"
      ],
      "text/latex": [
       "\\begin{enumerate*}\n",
       "\\item 4353\n",
       "\\item 1\n",
       "\\end{enumerate*}\n"
      ],
      "text/markdown": [
       "1. 4353\n",
       "2. 1\n",
       "\n",
       "\n"
      ],
      "text/plain": [
       "[1] 4353    1"
      ]
     },
     "metadata": {},
     "output_type": "display_data"
    },
    {
     "data": {
      "text/html": [
       "<table class=\"dataframe\">\n",
       "<caption>A tibble: 6 × 1</caption>\n",
       "<thead>\n",
       "\t<tr><th scope=col>GrantNumber</th></tr>\n",
       "\t<tr><th scope=col>&lt;dbl&gt;</th></tr>\n",
       "</thead>\n",
       "<tbody>\n",
       "\t<tr><td>149634</td></tr>\n",
       "\t<tr><td>146722</td></tr>\n",
       "\t<tr><td>150754</td></tr>\n",
       "\t<tr><td>157023</td></tr>\n",
       "\t<tr><td>172242</td></tr>\n",
       "\t<tr><td>156019</td></tr>\n",
       "</tbody>\n",
       "</table>\n"
      ],
      "text/latex": [
       "A tibble: 6 × 1\n",
       "\\begin{tabular}{l}\n",
       " GrantNumber\\\\\n",
       " <dbl>\\\\\n",
       "\\hline\n",
       "\t 149634\\\\\n",
       "\t 146722\\\\\n",
       "\t 150754\\\\\n",
       "\t 157023\\\\\n",
       "\t 172242\\\\\n",
       "\t 156019\\\\\n",
       "\\end{tabular}\n"
      ],
      "text/markdown": [
       "\n",
       "A tibble: 6 × 1\n",
       "\n",
       "| GrantNumber &lt;dbl&gt; |\n",
       "|---|\n",
       "| 149634 |\n",
       "| 146722 |\n",
       "| 150754 |\n",
       "| 157023 |\n",
       "| 172242 |\n",
       "| 156019 |\n",
       "\n"
      ],
      "text/plain": [
       "  GrantNumber\n",
       "1 149634     \n",
       "2 146722     \n",
       "3 150754     \n",
       "4 157023     \n",
       "5 172242     \n",
       "6 156019     "
      ]
     },
     "metadata": {},
     "output_type": "display_data"
    }
   ],
   "source": [
    "dim(grants)\n",
    "head(grants)"
   ]
  },
  {
   "cell_type": "code",
   "execution_count": 5,
   "id": "c8aa4a5b-45b0-4b5a-b286-71de7e9dcbcf",
   "metadata": {
    "vscode": {
     "languageId": "r"
    }
   },
   "outputs": [
    {
     "name": "stderr",
     "output_type": "stream",
     "text": [
      "\u001b[1mRows: \u001b[22m\u001b[34m173212\u001b[39m \u001b[1mColumns: \u001b[22m\u001b[34m3\u001b[39m\n",
      "\u001b[36m--\u001b[39m \u001b[1mColumn specification\u001b[22m \u001b[36m--------------------------------------------------------\u001b[39m\n",
      "\u001b[1mDelimiter:\u001b[22m \";\"\n",
      "\u001b[31mchr\u001b[39m (1): ScientificPublication_DOI\n",
      "\u001b[32mdbl\u001b[39m (2): GrantNumber, ScientificPublication_Year\n",
      "\n",
      "\u001b[36mi\u001b[39m Use `spec()` to retrieve the full column specification for this data.\n",
      "\u001b[36mi\u001b[39m Specify the column types or set `show_col_types = FALSE` to quiet this message.\n"
     ]
    }
   ],
   "source": [
    "publications <- read_delim(\"../raw/OutputdataScientificPublication.csv\", \n",
    "                           col_select = c(\n",
    "                               \"GrantNumber\",\n",
    "                               \"ScientificPublication_DOI\",\n",
    "                               \"ScientificPublication_Year\"\n",
    "                           ), \n",
    "                           delim = \";\", col_names=TRUE)"
   ]
  },
  {
   "cell_type": "code",
   "execution_count": 6,
   "id": "effa53c7-6b18-48c9-9fb4-227e7f4a399a",
   "metadata": {
    "vscode": {
     "languageId": "r"
    }
   },
   "outputs": [
    {
     "data": {
      "text/html": [
       "<style>\n",
       ".list-inline {list-style: none; margin:0; padding: 0}\n",
       ".list-inline>li {display: inline-block}\n",
       ".list-inline>li:not(:last-child)::after {content: \"\\00b7\"; padding: 0 .5ex}\n",
       "</style>\n",
       "<ol class=list-inline><li>173212</li><li>3</li></ol>\n"
      ],
      "text/latex": [
       "\\begin{enumerate*}\n",
       "\\item 173212\n",
       "\\item 3\n",
       "\\end{enumerate*}\n"
      ],
      "text/markdown": [
       "1. 173212\n",
       "2. 3\n",
       "\n",
       "\n"
      ],
      "text/plain": [
       "[1] 173212      3"
      ]
     },
     "metadata": {},
     "output_type": "display_data"
    }
   ],
   "source": [
    "dim(publications)"
   ]
  },
  {
   "cell_type": "code",
   "execution_count": 7,
   "id": "5b196b14-dae2-4851-b210-1316777a381b",
   "metadata": {
    "vscode": {
     "languageId": "r"
    }
   },
   "outputs": [],
   "source": [
    "# Keep only publications with a DOI\n",
    "publications <- filter(publications, !is.na(ScientificPublication_DOI))"
   ]
  },
  {
   "cell_type": "code",
   "execution_count": 8,
   "id": "0a3abe1f-e7db-47cb-9e15-9366948db275",
   "metadata": {
    "vscode": {
     "languageId": "r"
    }
   },
   "outputs": [
    {
     "data": {
      "text/html": [
       "<style>\n",
       ".list-inline {list-style: none; margin:0; padding: 0}\n",
       ".list-inline>li {display: inline-block}\n",
       ".list-inline>li:not(:last-child)::after {content: \"\\00b7\"; padding: 0 .5ex}\n",
       "</style>\n",
       "<ol class=list-inline><li>110781</li><li>3</li></ol>\n"
      ],
      "text/latex": [
       "\\begin{enumerate*}\n",
       "\\item 110781\n",
       "\\item 3\n",
       "\\end{enumerate*}\n"
      ],
      "text/markdown": [
       "1. 110781\n",
       "2. 3\n",
       "\n",
       "\n"
      ],
      "text/plain": [
       "[1] 110781      3"
      ]
     },
     "metadata": {},
     "output_type": "display_data"
    }
   ],
   "source": [
    "dim(publications)"
   ]
  },
  {
   "cell_type": "code",
   "execution_count": 9,
   "id": "538d6f4b-4b6c-4665-a1be-fe9c9ef1ba15",
   "metadata": {
    "vscode": {
     "languageId": "r"
    }
   },
   "outputs": [],
   "source": [
    "# Keep only the publications of the grants we're interested in (i.e. the biomed grants!)\n",
    "publications <- filter(publications, GrantNumber %in% grants$GrantNumber)"
   ]
  },
  {
   "cell_type": "code",
   "execution_count": 10,
   "id": "c9714f04-0d37-436a-a7ef-5417c98ad16d",
   "metadata": {
    "vscode": {
     "languageId": "r"
    }
   },
   "outputs": [
    {
     "data": {
      "text/html": [
       "<style>\n",
       ".list-inline {list-style: none; margin:0; padding: 0}\n",
       ".list-inline>li {display: inline-block}\n",
       ".list-inline>li:not(:last-child)::after {content: \"\\00b7\"; padding: 0 .5ex}\n",
       "</style>\n",
       "<ol class=list-inline><li>31625</li><li>3</li></ol>\n"
      ],
      "text/latex": [
       "\\begin{enumerate*}\n",
       "\\item 31625\n",
       "\\item 3\n",
       "\\end{enumerate*}\n"
      ],
      "text/markdown": [
       "1. 31625\n",
       "2. 3\n",
       "\n",
       "\n"
      ],
      "text/plain": [
       "[1] 31625     3"
      ]
     },
     "metadata": {},
     "output_type": "display_data"
    }
   ],
   "source": [
    "dim(publications)"
   ]
  },
  {
   "cell_type": "code",
   "execution_count": 11,
   "id": "d8a85a04",
   "metadata": {
    "vscode": {
     "languageId": "r"
    }
   },
   "outputs": [],
   "source": [
    "# Trim the DOIS\n",
    "publications$ScientificPublication_DOI <- str_trim(publications$ScientificPublication_DOI)"
   ]
  },
  {
   "cell_type": "code",
   "execution_count": 12,
   "id": "66182ee5",
   "metadata": {
    "vscode": {
     "languageId": "r"
    }
   },
   "outputs": [],
   "source": [
    "# Apparently, some DOIs in the original data are not well-formed!!!\n",
    "\n",
    "# substring <- \"http\"\n",
    "# result <- publications[grepl(substring, publications$ScientificPublication_DOI), ]\n",
    "# result\n",
    "\n",
    "# substring <- \"works\"\n",
    "# result <- publications[grepl(substring, publications$ScientificPublication_DOI), ]\n",
    "# result"
   ]
  },
  {
   "cell_type": "code",
   "execution_count": 13,
   "id": "37666604",
   "metadata": {
    "vscode": {
     "languageId": "r"
    }
   },
   "outputs": [],
   "source": [
    "# We remove the most obvious mistakes\n",
    "\n",
    "# http://dx.doi.org/\n",
    "# https://doi.org/\n",
    "# http://link.springer.com/article/\n",
    "# http://onlinelibrary.wiley.com/doi/\n",
    "\n",
    "sub_strings <- \"http://dx.doi.org/|https://doi.org/|http://link.springer.com/article/|http://onlinelibrary.wiley.com/doi/\"\n",
    "\n",
    "# Remove the substrings publications$ScientificPublication_DOI\n",
    "publications$ScientificPublication_DOI <- sub(sub_strings, \"\", publications$ScientificPublication_DOI)"
   ]
  },
  {
   "cell_type": "code",
   "execution_count": 14,
   "id": "9d6ccfc5-8130-4e49-992f-e8d4063cf391",
   "metadata": {
    "vscode": {
     "languageId": "r"
    }
   },
   "outputs": [],
   "source": [
    "# Split the data frame into batches of 50 rows in order to retrieve citations per publication from Crossref in batches of 50\n",
    "publication_batches <- split(publications, rep(1:ceiling(nrow(publications)/50), each = 50, length.out = nrow(publications)))"
   ]
  },
  {
   "cell_type": "code",
   "execution_count": 15,
   "id": "0895d686-d495-48ac-a07f-7422ab73224d",
   "metadata": {
    "vscode": {
     "languageId": "r"
    }
   },
   "outputs": [
    {
     "data": {
      "text/html": [
       "633"
      ],
      "text/latex": [
       "633"
      ],
      "text/markdown": [
       "633"
      ],
      "text/plain": [
       "[1] 633"
      ]
     },
     "metadata": {},
     "output_type": "display_data"
    }
   ],
   "source": [
    "# How many batches of 50 do we have?\n",
    "end_index <- length(publication_batches)\n",
    "end_index"
   ]
  },
  {
   "cell_type": "code",
   "execution_count": 16,
   "id": "8a3db478-eacb-449f-a9f3-d040545e00c3",
   "metadata": {
    "vscode": {
     "languageId": "r"
    }
   },
   "outputs": [],
   "source": [
    "# Prepare a bucket to append each batch's citation data\n",
    "bucket <- tibble(doi = character(), is.referenced.by.count = character())\n",
    "\n",
    "# Write an empty file with today's date in the name to keep the citations results\n",
    "date_string <- format(Sys.Date(), \"%Y%m%d\")\n",
    "file_name <- sprintf(\"3_PublicationCitations_%s.csv\", date_string)\n",
    "write.table(bucket, file_name, sep=\";\", fileEncoding=\"UTF-8\", row.names = FALSE)"
   ]
  },
  {
   "cell_type": "code",
   "execution_count": 17,
   "id": "7ccae15a-4f1d-4852-b781-9d193ba5e00c",
   "metadata": {
    "vscode": {
     "languageId": "r"
    }
   },
   "outputs": [
    {
     "name": "stdout",
     "output_type": "stream",
     "text": [
      "-1"
     ]
    },
    {
     "name": "stderr",
     "output_type": "stream",
     "text": [
      "Warning message:\n",
      "\"404 (client error): /works/10.1074/jbc.M114.570879. - Resource not found.\"\n"
     ]
    },
    {
     "name": "stdout",
     "output_type": "stream",
     "text": [
      "-2-3-4-5-6"
     ]
    },
    {
     "name": "stderr",
     "output_type": "stream",
     "text": [
      "Warning message:\n",
      "\"404 (client error): /works/10.1371/journal.pone.019785 - Resource not found.\"\n"
     ]
    },
    {
     "name": "stdout",
     "output_type": "stream",
     "text": [
      "-7-8"
     ]
    },
    {
     "name": "stderr",
     "output_type": "stream",
     "text": [
      "Warning message:\n",
      "\"404 (client error): /works/doi:10.1371/journal.%20pone.0163475 - Resource not found.\"\n"
     ]
    },
    {
     "name": "stdout",
     "output_type": "stream",
     "text": [
      "-9"
     ]
    },
    {
     "name": "stderr",
     "output_type": "stream",
     "text": [
      "Warning message:\n",
      "\"404 (client error): /works/10.1016/j.euroneuro.2016.10.009. - Resource not found.\"\n"
     ]
    },
    {
     "name": "stdout",
     "output_type": "stream",
     "text": [
      "-10-11-12-13"
     ]
    },
    {
     "name": "stderr",
     "output_type": "stream",
     "text": [
      "Warning message:\n",
      "\"404 (client error): /works/10.1016/jdiagmicrobio.2020.115280 - Resource not found.\"\n"
     ]
    },
    {
     "name": "stdout",
     "output_type": "stream",
     "text": [
      "-14-15"
     ]
    },
    {
     "name": "stderr",
     "output_type": "stream",
     "text": [
      "Warning message:\n",
      "\"404 (client error): /works/10.1371 - Resource not found.\"\n"
     ]
    },
    {
     "name": "stdout",
     "output_type": "stream",
     "text": [
      "-16-17-18-19"
     ]
    },
    {
     "name": "stderr",
     "output_type": "stream",
     "text": [
      "Warning message:\n",
      "\"404 (client error): /works/10.1111/apt.16145 - Resource not found.\"\n",
      "Warning message:\n",
      "\"404 (client error): /works/10.4414/phc-d.2022.20108 - Resource not found.\"\n"
     ]
    },
    {
     "name": "stdout",
     "output_type": "stream",
     "text": [
      "-20-21-22-23"
     ]
    },
    {
     "name": "stderr",
     "output_type": "stream",
     "text": [
      "Warning message:\n",
      "\"404 (client error): /works/10.34763/jmotherandchild - Resource not found.\"\n",
      "Warning message:\n",
      "\"404 (client error): /works/10.1186/s13054-015-0751-x. - Resource not found.\"\n",
      "Warning message:\n",
      "\"404 (client error): /works/PMID:%2023946633 - Resource not found.\"\n"
     ]
    },
    {
     "name": "stdout",
     "output_type": "stream",
     "text": [
      "-24-25-26-27-28"
     ]
    },
    {
     "name": "stderr",
     "output_type": "stream",
     "text": [
      "Warning message:\n",
      "\"404 (client error): /works/10.1016/j.arthro.2015.12.0 - Resource not found.\"\n"
     ]
    },
    {
     "name": "stdout",
     "output_type": "stream",
     "text": [
      "-29-30"
     ]
    },
    {
     "name": "stderr",
     "output_type": "stream",
     "text": [
      "Warning message:\n",
      "\"404 (client error): /works/10.1038/emi.2017.71 - Resource not found.\"\n"
     ]
    },
    {
     "name": "stdout",
     "output_type": "stream",
     "text": [
      "-31-32-33-34-35"
     ]
    },
    {
     "name": "stderr",
     "output_type": "stream",
     "text": [
      "Warning message:\n",
      "\"404 (client error): /works/10.1152/ajpcell.00027.2014. - Resource not found.\"\n"
     ]
    },
    {
     "name": "stdout",
     "output_type": "stream",
     "text": [
      "-36-37-38-39"
     ]
    },
    {
     "name": "stderr",
     "output_type": "stream",
     "text": [
      "Warning message:\n",
      "\"404 (client error): /works/doi:10.5194/sd-4-1-2016 - Resource not found.\"\n",
      "Warning message:\n",
      "\"404 (client error): /works/10.18632/oncotarget8385 - Resource not found.\"\n",
      "Warning message:\n",
      "\"404 (client error): /works/10.1111/jne.12342. - Resource not found.\"\n"
     ]
    },
    {
     "name": "stdout",
     "output_type": "stream",
     "text": [
      "-40"
     ]
    },
    {
     "name": "stderr",
     "output_type": "stream",
     "text": [
      "Warning message:\n",
      "\"404 (client error): /works/10.1016/j.semcdb.2016.09.01010.1016/j.semcdb.2016.09.010.epub2016sep28 - Resource not found.\"\n",
      "Warning message:\n",
      "\"404 (client error): /works/Nov%201:jc20162449 - Resource not found.\"\n",
      "Warning message:\n",
      "\"404 (client error): /works/10.1093/schbul/sbt180. - Resource not found.\"\n"
     ]
    },
    {
     "name": "stdout",
     "output_type": "stream",
     "text": [
      "-41"
     ]
    },
    {
     "name": "stderr",
     "output_type": "stream",
     "text": [
      "Warning message:\n",
      "\"404 (client error): /works/10.1016/j.neuropharm.2013.04.019. - Resource not found.\"\n"
     ]
    },
    {
     "name": "stdout",
     "output_type": "stream",
     "text": [
      "-42-43"
     ]
    },
    {
     "name": "stderr",
     "output_type": "stream",
     "text": [
      "Warning message:\n",
      "\"404 (client error): /works/10.3171/2017.7 - Resource not found.\"\n",
      "Warning message:\n",
      "\"404 (client error): /works/10.3897/phytokeys.205.76821 - Resource not found.\"\n"
     ]
    },
    {
     "name": "stdout",
     "output_type": "stream",
     "text": [
      "-44-45-46-47-48-49"
     ]
    },
    {
     "name": "stderr",
     "output_type": "stream",
     "text": [
      "Warning message:\n",
      "\"404 (client error): /works/10.5281/zenodo.7303672 - Resource not found.\"\n"
     ]
    },
    {
     "name": "stdout",
     "output_type": "stream",
     "text": [
      "-50-51"
     ]
    },
    {
     "name": "stderr",
     "output_type": "stream",
     "text": [
      "Warning message:\n",
      "\"404 (client error): /works/PMC4421898 - Resource not found.\"\n",
      "Warning message:\n",
      "\"404 (client error): /works/dx.doi.org/10.5167/uzh-110665 - Resource not found.\"\n"
     ]
    },
    {
     "name": "stdout",
     "output_type": "stream",
     "text": [
      "-52-53"
     ]
    },
    {
     "name": "stderr",
     "output_type": "stream",
     "text": [
      "Warning message:\n",
      "\"404 (client error): /works/10.1021/acs.analchem.6b0336510.1021/acs.analchem.6b03365 - Resource not found.\"\n"
     ]
    },
    {
     "name": "stdout",
     "output_type": "stream",
     "text": [
      "-54"
     ]
    },
    {
     "name": "stderr",
     "output_type": "stream",
     "text": [
      "Warning message:\n",
      "\"404 (client error): /works/10.3929/ethz-b-000535274 - Resource not found.\"\n"
     ]
    },
    {
     "name": "stdout",
     "output_type": "stream",
     "text": [
      "-55"
     ]
    },
    {
     "name": "stderr",
     "output_type": "stream",
     "text": [
      "Warning message:\n",
      "\"404 (client error): /works/10.1016/j.schres.2014.01.015. - Resource not found.\"\n"
     ]
    },
    {
     "name": "stdout",
     "output_type": "stream",
     "text": [
      "-56"
     ]
    },
    {
     "name": "stderr",
     "output_type": "stream",
     "text": [
      "Warning message:\n",
      "\"404 (client error): /works/10.3929/ethz-b-000439004 - Resource not found.\"\n"
     ]
    },
    {
     "name": "stdout",
     "output_type": "stream",
     "text": [
      "-57-58-59-60-61-62-63-64-65-66-67-68"
     ]
    },
    {
     "name": "stderr",
     "output_type": "stream",
     "text": [
      "Warning message:\n",
      "\"404 (client error): /works/smw.2016.14349 - Resource not found.\"\n"
     ]
    },
    {
     "name": "stdout",
     "output_type": "stream",
     "text": [
      "-69"
     ]
    },
    {
     "name": "stderr",
     "output_type": "stream",
     "text": [
      "Warning message:\n",
      "\"404 (client error): /works/10.1155/2020/1948602) - Resource not found.\"\n"
     ]
    },
    {
     "name": "stdout",
     "output_type": "stream",
     "text": [
      "-70-71"
     ]
    },
    {
     "name": "stderr",
     "output_type": "stream",
     "text": [
      "Warning message:\n",
      "\"404 (client error): /works/10.21256/zhaw-20440 - Resource not found.\"\n"
     ]
    },
    {
     "name": "stdout",
     "output_type": "stream",
     "text": [
      "-72-73-74-75-76-77-78-79"
     ]
    },
    {
     "name": "stderr",
     "output_type": "stream",
     "text": [
      "Warning message:\n",
      "\"404 (client error): /works/10.13097/archive-ouverte/unige:151796 - Resource not found.\"\n"
     ]
    },
    {
     "name": "stdout",
     "output_type": "stream",
     "text": [
      "-80-81"
     ]
    },
    {
     "name": "stderr",
     "output_type": "stream",
     "text": [
      "Warning message:\n",
      "\"404 (client error): /works/10.1016/j.anbehay.2015.11.022 - Resource not found.\"\n",
      "Warning message:\n",
      "\"404 (client error): /works/doi:%2010.1007/978-3-319-46503-6_13. - Resource not found.\"\n"
     ]
    },
    {
     "name": "stdout",
     "output_type": "stream",
     "text": [
      "-82"
     ]
    },
    {
     "name": "stderr",
     "output_type": "stream",
     "text": [
      "Warning message:\n",
      "\"404 (client error): /works/10.1016/j.ab.2015.04.039. - Resource not found.\"\n"
     ]
    },
    {
     "name": "stdout",
     "output_type": "stream",
     "text": [
      "-83"
     ]
    },
    {
     "name": "stderr",
     "output_type": "stream",
     "text": [
      "Warning message:\n",
      "\"404 (client error): /works/10.1007/s11606-02-073017 - Resource not found.\"\n",
      "Warning message:\n",
      "\"404 (client error): /works/http:/â€‹/â€‹dx.â€‹doi.â€‹org/â€‹10.â€‹1104/â€‹pp.â€‹112.â€‹213280 - Resource not found.\"\n"
     ]
    },
    {
     "name": "stdout",
     "output_type": "stream",
     "text": [
      "-84-85"
     ]
    },
    {
     "name": "stderr",
     "output_type": "stream",
     "text": [
      "Warning message:\n",
      "\"404 (client error): /works/TBD - Resource not found.\"\n",
      "Warning message:\n",
      "\"404 (client error): /works/10.7916/d8xd127w - Resource not found.\"\n"
     ]
    },
    {
     "name": "stdout",
     "output_type": "stream",
     "text": [
      "-86-87-88"
     ]
    },
    {
     "name": "stderr",
     "output_type": "stream",
     "text": [
      "Warning message:\n",
      "\"404 (client error): /works/10.1160/TH13-07-0531. - Resource not found.\"\n",
      "Warning message:\n",
      "\"404 (client error): /works/10.1111/eci.12238. - Resource not found.\"\n",
      "Warning message:\n",
      "\"404 (client error): /works/10.1155/2012/868251. - Resource not found.\"\n",
      "Warning message:\n",
      "\"404 (client error): /works/10.1210/en.2012-1784. - Resource not found.\"\n"
     ]
    },
    {
     "name": "stdout",
     "output_type": "stream",
     "text": [
      "-89"
     ]
    },
    {
     "name": "stderr",
     "output_type": "stream",
     "text": [
      "Warning message:\n",
      "\"404 (client error): /works/36(10):1445-1458 - Resource not found.\"\n"
     ]
    },
    {
     "name": "stdout",
     "output_type": "stream",
     "text": [
      "-90"
     ]
    },
    {
     "name": "stderr",
     "output_type": "stream",
     "text": [
      "Warning message:\n",
      "\"404 (client error): /works/10.5075/epfl-thesis-10014 - Resource not found.\"\n"
     ]
    },
    {
     "name": "stdout",
     "output_type": "stream",
     "text": [
      "-91-92-93-94-95"
     ]
    },
    {
     "name": "stderr",
     "output_type": "stream",
     "text": [
      "Warning message:\n",
      "\"404 (client error): /works/10.1038/s41598-017-16613-w10.1038/s41598-017-16613-w - Resource not found.\"\n",
      "Warning message:\n",
      "\"404 (client error): /works/10.1007/978-1-4939-6993-7_1010.1007/978-1-4939-6993-7_10 - Resource not found.\"\n",
      "Warning message:\n",
      "\"404 (client error): /works/10.1038/srep4168610.1038/srep41686 - Resource not found.\"\n",
      "Warning message:\n",
      "\"404 (client error): /works/10.13128/bae-7671 - Resource not found.\"\n"
     ]
    },
    {
     "name": "stdout",
     "output_type": "stream",
     "text": [
      "-96-97"
     ]
    },
    {
     "name": "stderr",
     "output_type": "stream",
     "text": [
      "Warning message:\n",
      "\"404 (client error): /works/10.1016/j.jaci.2013.12.1082. - Resource not found.\"\n",
      "Warning message:\n",
      "\"404 (client error): /works/DOI:%2010.1038 - Resource not found.\"\n"
     ]
    },
    {
     "name": "stdout",
     "output_type": "stream",
     "text": [
      "-98-99-100-101-102-103"
     ]
    },
    {
     "name": "stderr",
     "output_type": "stream",
     "text": [
      "Warning message:\n",
      "\"404 (client error): /works/10.1016/j.ydbio.2014.08.016.epub2014aug27 - Resource not found.\"\n",
      "Warning message:\n",
      "\"404 (client error): /works/10.1000/182 - Resource not found.\"\n"
     ]
    },
    {
     "name": "stdout",
     "output_type": "stream",
     "text": [
      "-104-105"
     ]
    },
    {
     "name": "stderr",
     "output_type": "stream",
     "text": [
      "Warning message:\n",
      "\"404 (client error): /works/10.1101/530584v2 - Resource not found.\"\n"
     ]
    },
    {
     "name": "stdout",
     "output_type": "stream",
     "text": [
      "-106-107"
     ]
    },
    {
     "name": "stderr",
     "output_type": "stream",
     "text": [
      "Warning message:\n",
      "\"404 (client error): /works/10.6094/klinpfleg.3.48 - Resource not found.\"\n",
      "Warning message:\n",
      "\"404 (client error): /works/10.1016/j.actbio.2016.07.041. - Resource not found.\"\n",
      "Warning message:\n",
      "\"404 (client error): /works/10.11588/cipeg.2017.1.44165 - Resource not found.\"\n"
     ]
    },
    {
     "name": "stdout",
     "output_type": "stream",
     "text": [
      "-108-109-110-111"
     ]
    },
    {
     "name": "stderr",
     "output_type": "stream",
     "text": [
      "Warning message:\n",
      "\"404 (client error): /works/http:/â€‹/â€‹dx.â€‹doi.â€‹org/â€‹10.â€‹1105/â€‹tpc.â€‹112.â€‹106898 - Resource not found.\"\n",
      "Warning message:\n",
      "\"404 (client error): /works/http:/â€‹/â€‹dx.â€‹doi.â€‹org/â€‹10.â€‹1105/â€‹tpc.â€‹111.â€‹095083 - Resource not found.\"\n",
      "Warning message:\n",
      "\"404 (client error): /works/http:/â€‹/â€‹dx.â€‹doi.â€‹org/â€‹10.â€‹1105/â€‹tpc.â€‹113.â€‹111484 - Resource not found.\"\n"
     ]
    },
    {
     "name": "stdout",
     "output_type": "stream",
     "text": [
      "-112"
     ]
    },
    {
     "name": "stderr",
     "output_type": "stream",
     "text": [
      "Warning message:\n",
      "\"404 (client error): /works/10.1128/genomea.00143-16.copyright - Resource not found.\"\n"
     ]
    },
    {
     "name": "stdout",
     "output_type": "stream",
     "text": [
      "-113"
     ]
    },
    {
     "name": "stderr",
     "output_type": "stream",
     "text": [
      "Warning message:\n",
      "\"404 (client error): /works/10.1371/journal.pone.0125603.eCollection%202015. - Resource not found.\"\n",
      "Warning message:\n",
      "\"404 (client error): /works/10.1523/JNEUROSCI.5212-13.2014. - Resource not found.\"\n"
     ]
    },
    {
     "name": "stdout",
     "output_type": "stream",
     "text": [
      "-114-115-116-117"
     ]
    },
    {
     "name": "stderr",
     "output_type": "stream",
     "text": [
      "Warning message:\n",
      "\"404 (client error): /works/10.1038/gim.2014.166. - Resource not found.\"\n",
      "Warning message:\n",
      "\"404 (client error): /works/10.3929/ethz-b-000399277 - Resource not found.\"\n"
     ]
    },
    {
     "name": "stdout",
     "output_type": "stream",
     "text": [
      "-118"
     ]
    },
    {
     "name": "stderr",
     "output_type": "stream",
     "text": [
      "Warning message:\n",
      "\"404 (client error): /works/10.1002 - Resource not found.\"\n"
     ]
    },
    {
     "name": "stdout",
     "output_type": "stream",
     "text": [
      "-119"
     ]
    },
    {
     "name": "stderr",
     "output_type": "stream",
     "text": [
      "Warning message:\n",
      "\"404 (client error): /works/10.1371 - Resource not found.\"\n"
     ]
    },
    {
     "name": "stdout",
     "output_type": "stream",
     "text": [
      "-120-121-122-123"
     ]
    },
    {
     "name": "stderr",
     "output_type": "stream",
     "text": [
      "Warning message:\n",
      "\"404 (client error): /works/10.4172 - Resource not found.\"\n"
     ]
    },
    {
     "name": "stdout",
     "output_type": "stream",
     "text": [
      "-124"
     ]
    },
    {
     "name": "stderr",
     "output_type": "stream",
     "text": [
      "Warning message:\n",
      "\"404 (client error): /works/10.17590/asr.0000201 - Resource not found.\"\n"
     ]
    },
    {
     "name": "stdout",
     "output_type": "stream",
     "text": [
      "-125-126"
     ]
    },
    {
     "name": "stderr",
     "output_type": "stream",
     "text": [
      "Warning message:\n",
      "\"404 (client error): /works/doi:%2010.21037/tau.2016.02.01. - Resource not found.\"\n"
     ]
    },
    {
     "name": "stdout",
     "output_type": "stream",
     "text": [
      "-127-128-129-130"
     ]
    },
    {
     "name": "stderr",
     "output_type": "stream",
     "text": [
      "Warning message:\n",
      "\"404 (client error): /works/10.1016/j.juro.2016.04.061. - Resource not found.\"\n"
     ]
    },
    {
     "name": "stdout",
     "output_type": "stream",
     "text": [
      "-131"
     ]
    },
    {
     "name": "stderr",
     "output_type": "stream",
     "text": [
      "Warning message:\n",
      "\"404 (client error): /works/10.29392//001c.11943 - Resource not found.\"\n",
      "Warning message:\n",
      "\"404 (client error): /works/doi:%2010.1038/srep42108. - Resource not found.\"\n"
     ]
    },
    {
     "name": "stdout",
     "output_type": "stream",
     "text": [
      "-132"
     ]
    },
    {
     "name": "stderr",
     "output_type": "stream",
     "text": [
      "Warning message:\n",
      "\"404 (client error): /works/10.1111/12362 - Resource not found.\"\n"
     ]
    },
    {
     "name": "stdout",
     "output_type": "stream",
     "text": [
      "-133-134-135-136-137"
     ]
    },
    {
     "name": "stderr",
     "output_type": "stream",
     "text": [
      "Warning message:\n",
      "\"404 (client error): /works/doi:%2010.1074/jbc.M114.589002. - Resource not found.\"\n",
      "Warning message:\n",
      "\"404 (client error): /works/10.1016/j.jbiomech.2013.03.024. - Resource not found.\"\n",
      "Warning message:\n",
      "\"404 (client error): /works/10.3174/ajnr.A3662. - Resource not found.\"\n",
      "Warning message:\n",
      "\"404 (client error): /works/10.1158/2159-8290 - Resource not found.\"\n"
     ]
    },
    {
     "name": "stdout",
     "output_type": "stream",
     "text": [
      "-138-139"
     ]
    },
    {
     "name": "stderr",
     "output_type": "stream",
     "text": [
      "Warning message:\n",
      "\"404 (client error): /works/10.15496/publikation-20836 - Resource not found.\"\n"
     ]
    },
    {
     "name": "stdout",
     "output_type": "stream",
     "text": [
      "-140"
     ]
    },
    {
     "name": "stderr",
     "output_type": "stream",
     "text": [
      "Warning message:\n",
      "\"404 (client error): /works/smw.2017.14411 - Resource not found.\"\n"
     ]
    },
    {
     "name": "stdout",
     "output_type": "stream",
     "text": [
      "-141"
     ]
    },
    {
     "name": "stderr",
     "output_type": "stream",
     "text": [
      "Warning message:\n",
      "\"404 (client error): /works/10.â€‹1007/â€‹s00035-015-0152-4 - Resource not found.\"\n",
      "Warning message:\n",
      "\"404 (client error): /works/10.1007/s11655-017-2974-y10.1007/s11655-017-2974-y.epub2017oct8 - Resource not found.\"\n"
     ]
    },
    {
     "name": "stdout",
     "output_type": "stream",
     "text": [
      "-142"
     ]
    },
    {
     "name": "stderr",
     "output_type": "stream",
     "text": [
      "Warning message:\n",
      "\"404 (client error): /works/urn:nbn:de:bsz:16-heidok-184445 - Resource not found.\"\n"
     ]
    },
    {
     "name": "stdout",
     "output_type": "stream",
     "text": [
      "-143-144-145-146-147"
     ]
    },
    {
     "name": "stderr",
     "output_type": "stream",
     "text": [
      "Warning message:\n",
      "\"404 (client error): /works/doi:%2010.1158/1078-0432.CCR-15-1054. - Resource not found.\"\n",
      "Warning message:\n",
      "\"404 (client error): /works/doi:%2010.1016/S2352-3026(15)00148-9. - Resource not found.\"\n",
      "Warning message:\n",
      "\"404 (client error): /works/doi:%2010.1200/JCO.2015.61.3968. - Resource not found.\"\n",
      "Warning message:\n",
      "\"404 (client error): /works/doi:%2010.1182/blood-2015-05-647172. - Resource not found.\"\n"
     ]
    },
    {
     "name": "stdout",
     "output_type": "stream",
     "text": [
      "-148-149-150-151-152-153"
     ]
    },
    {
     "name": "stderr",
     "output_type": "stream",
     "text": [
      "Warning message:\n",
      "\"404 (client error): /works/10.11014/pp.114.239137 - Resource not found.\"\n"
     ]
    },
    {
     "name": "stdout",
     "output_type": "stream",
     "text": [
      "-154-155"
     ]
    },
    {
     "name": "stderr",
     "output_type": "stream",
     "text": [
      "Warning message:\n",
      "\"404 (client error): /works/10.3389/fnana.2019.00050_rouiller - Resource not found.\"\n",
      "Warning message:\n",
      "\"404 (client error): /works/10.1186/s13059-016-1006- - Resource not found.\"\n"
     ]
    },
    {
     "name": "stdout",
     "output_type": "stream",
     "text": [
      "-156-157"
     ]
    },
    {
     "name": "stderr",
     "output_type": "stream",
     "text": [
      "Warning message:\n",
      "\"404 (client error): /works/10.1007/978-3-319-55050-33 - Resource not found.\"\n",
      "Warning message:\n",
      "\"404 (client error): /works/10.1038/nprot.2017.07210.1038/nprot.2017.072.epub2017aug24 - Resource not found.\"\n",
      "Warning message:\n",
      "\"404 (client error): /works/10.1007/978-1-4939-6993-7_1110.1007/978-1-4939-6993-7_11 - Resource not found.\"\n",
      "Warning message:\n",
      "\"404 (client error): /works/10.5281/zenodo.4699482 - Resource not found.\"\n"
     ]
    },
    {
     "name": "stdout",
     "output_type": "stream",
     "text": [
      "-158-159-160-161-162"
     ]
    },
    {
     "name": "stderr",
     "output_type": "stream",
     "text": [
      "Warning message:\n",
      "\"404 (client error): /works/10.1021/142 - Resource not found.\"\n"
     ]
    },
    {
     "name": "stdout",
     "output_type": "stream",
     "text": [
      "-163-164-165-166-167-168"
     ]
    },
    {
     "name": "stderr",
     "output_type": "stream",
     "text": [
      "Warning message:\n",
      "\"404 (client error): /works/10.4436/jass.98020 - Resource not found.\"\n"
     ]
    },
    {
     "name": "stdout",
     "output_type": "stream",
     "text": [
      "-169-170"
     ]
    },
    {
     "name": "stderr",
     "output_type": "stream",
     "text": [
      "Warning message:\n",
      "\"404 (client error): /works/ISBN%20978-954-2961-75-8 - Resource not found.\"\n"
     ]
    },
    {
     "name": "stdout",
     "output_type": "stream",
     "text": [
      "-171-172-173-174-175-176-177-178-179-180-181"
     ]
    },
    {
     "name": "stderr",
     "output_type": "stream",
     "text": [
      "Warning message:\n",
      "\"404 (client error): /works/10.16910/12 - Resource not found.\"\n"
     ]
    },
    {
     "name": "stdout",
     "output_type": "stream",
     "text": [
      "-182"
     ]
    },
    {
     "name": "stderr",
     "output_type": "stream",
     "text": [
      "Warning message:\n",
      "\"404 (client error): /works/10.1890/15-1110.1/abstract - Resource not found.\"\n"
     ]
    },
    {
     "name": "stdout",
     "output_type": "stream",
     "text": [
      "-183-184-185-186"
     ]
    },
    {
     "name": "stderr",
     "output_type": "stream",
     "text": [
      "Warning message:\n",
      "\"404 (client error): /works/10.3390/ijms/19040932 - Resource not found.\"\n",
      "Warning message:\n",
      "\"404 (client error): /works/10.1172/jci7160 - Resource not found.\"\n",
      "Warning message:\n",
      "\"404 (client error): /works/10.1164/ajrccm-conference.2015.191.1_meetingabstracts.a5298 - Resource not found.\"\n"
     ]
    },
    {
     "name": "stdout",
     "output_type": "stream",
     "text": [
      "-187-188-189-190"
     ]
    },
    {
     "name": "stderr",
     "output_type": "stream",
     "text": [
      "Warning message:\n",
      "\"404 (client error): /works/10.3929/ethz-a-010881600 - Resource not found.\"\n"
     ]
    },
    {
     "name": "stdout",
     "output_type": "stream",
     "text": [
      "-191-192-193-194-195-196-197"
     ]
    },
    {
     "name": "stderr",
     "output_type": "stream",
     "text": [
      "Warning message:\n",
      "\"404 (client error): /works/0.1101/gad.221374.113 - Resource not found.\"\n",
      "Warning message:\n",
      "\"400 (client error): /works/http://proceedings.spiedigitallibrary.org/proceeding.aspx - Parameter articleid specified but there is no such parameter available on any route\"\n"
     ]
    },
    {
     "name": "stdout",
     "output_type": "stream",
     "text": [
      "-198-199"
     ]
    },
    {
     "name": "stderr",
     "output_type": "stream",
     "text": [
      "Warning message:\n",
      "\"404 (client error): /works/CD002768 - Resource not found.\"\n"
     ]
    },
    {
     "name": "stdout",
     "output_type": "stream",
     "text": [
      "-200-201"
     ]
    },
    {
     "name": "stderr",
     "output_type": "stream",
     "text": [
      "Warning message:\n",
      "\"404 (client error): /works/10.1038/ki.2013.199.%20Epub%202013%20May%2029. - Resource not found.\"\n",
      "Warning message:\n",
      "\"404 (client error): /works/10.1111/joim.12214.%20Epub%202014%20Mar%202 - Resource not found.\"\n"
     ]
    },
    {
     "name": "stdout",
     "output_type": "stream",
     "text": [
      "-202-203-204-205"
     ]
    },
    {
     "name": "stderr",
     "output_type": "stream",
     "text": [
      "Warning message:\n",
      "\"404 (client error): /works/10.12691/ajmcr-4-12-4 - Resource not found.\"\n"
     ]
    },
    {
     "name": "stdout",
     "output_type": "stream",
     "text": [
      "-206"
     ]
    },
    {
     "name": "stderr",
     "output_type": "stream",
     "text": [
      "Warning message:\n",
      "\"404 (client error): /works/10.1007/978 - Resource not found.\"\n",
      "Warning message:\n",
      "\"404 (client error): /works/10.30486/ijrowa.2021.1899111.1071 - Resource not found.\"\n"
     ]
    },
    {
     "name": "stdout",
     "output_type": "stream",
     "text": [
      "-207"
     ]
    },
    {
     "name": "stderr",
     "output_type": "stream",
     "text": [
      "Warning message:\n",
      "\"404 (client error): /works/10.14601/phytopathol_mediterr-20292 - Resource not found.\"\n"
     ]
    },
    {
     "name": "stdout",
     "output_type": "stream",
     "text": [
      "-208-209-210"
     ]
    },
    {
     "name": "stderr",
     "output_type": "stream",
     "text": [
      "Warning message:\n",
      "\"404 (client error): /works/10.1016/j.ab.2013.11.013. - Resource not found.\"\n"
     ]
    },
    {
     "name": "stdout",
     "output_type": "stream",
     "text": [
      "-211"
     ]
    },
    {
     "name": "stderr",
     "output_type": "stream",
     "text": [
      "Warning message:\n",
      "\"404 (client error): /works/10.3945/â€‹ajcn.115.111732 - Resource not found.\"\n"
     ]
    },
    {
     "name": "stdout",
     "output_type": "stream",
     "text": [
      "-212"
     ]
    },
    {
     "name": "stderr",
     "output_type": "stream",
     "text": [
      "Warning message:\n",
      "\"404 (client error): /works/doi:%2010.1038/534185a. - Resource not found.\"\n"
     ]
    },
    {
     "name": "stdout",
     "output_type": "stream",
     "text": [
      "-213-214"
     ]
    },
    {
     "name": "stderr",
     "output_type": "stream",
     "text": [
      "Warning message:\n",
      "\"404 (client error): /works/10.1000/182_ei_106477 - Resource not found.\"\n"
     ]
    },
    {
     "name": "stdout",
     "output_type": "stream",
     "text": [
      "-215-216"
     ]
    },
    {
     "name": "stderr",
     "output_type": "stream",
     "text": [
      "Warning message:\n",
      "\"404 (client error): /works/10.1159 - Resource not found.\"\n"
     ]
    },
    {
     "name": "stdout",
     "output_type": "stream",
     "text": [
      "-217-218"
     ]
    },
    {
     "name": "stderr",
     "output_type": "stream",
     "text": [
      "Warning message:\n",
      "\"404 (client error): /works/10.3978/j.issn.2218-6751.2014.02.03 - Resource not found.\"\n",
      "Warning message:\n",
      "\"404 (client error): /works/.%20PloS%20one%209:e86379 - Resource not found.\"\n",
      "Warning message:\n",
      "\"404 (client error): /works/10.1371 - Resource not found.\"\n"
     ]
    },
    {
     "name": "stdout",
     "output_type": "stream",
     "text": [
      "-219-220-221"
     ]
    },
    {
     "name": "stderr",
     "output_type": "stream",
     "text": [
      "Warning message:\n",
      "\"404 (client error): /works/http://bioconductor.org/packages/release/bioc/html/cosmiq.html - Resource not found.\"\n"
     ]
    },
    {
     "name": "stdout",
     "output_type": "stream",
     "text": [
      "-222"
     ]
    },
    {
     "name": "stderr",
     "output_type": "stream",
     "text": [
      "Warning message:\n",
      "\"404 (client error): /works/doi:%2010.1038/ncomms4695. - Resource not found.\"\n",
      "Warning message:\n",
      "\"404 (client error): /works/10.1155/2012/868251. - Resource not found.\"\n",
      "Warning message:\n",
      "\"404 (client error): /works/10.4330/wjc.v6.i5.260. - Resource not found.\"\n",
      "Warning message:\n",
      "\"404 (client error): /works/10.1111/j.1744-9987.2012.01102.x. - Resource not found.\"\n",
      "Warning message:\n",
      "\"404 (client error): /works/10.1111/jre.12014. - Resource not found.\"\n"
     ]
    },
    {
     "name": "stdout",
     "output_type": "stream",
     "text": [
      "-223-224-225"
     ]
    },
    {
     "name": "stderr",
     "output_type": "stream",
     "text": [
      "Warning message:\n",
      "\"404 (client error): /works/10.1523 - Resource not found.\"\n"
     ]
    },
    {
     "name": "stdout",
     "output_type": "stream",
     "text": [
      "-226-227-228"
     ]
    },
    {
     "name": "stderr",
     "output_type": "stream",
     "text": [
      "Warning message:\n",
      "\"404 (client error): /works/NA - Resource not found.\"\n",
      "Warning message:\n",
      "\"404 (client error): /works/10.7892/boris.143354 - Resource not found.\"\n"
     ]
    },
    {
     "name": "stdout",
     "output_type": "stream",
     "text": [
      "-229-230"
     ]
    },
    {
     "name": "stderr",
     "output_type": "stream",
     "text": [
      "Warning message:\n",
      "\"404 (client error): /works/10.5075/epfl-thesis-9395 - Resource not found.\"\n"
     ]
    },
    {
     "name": "stdout",
     "output_type": "stream",
     "text": [
      "-231"
     ]
    },
    {
     "name": "stderr",
     "output_type": "stream",
     "text": [
      "Warning message:\n",
      "\"404 (client error): /works/10.1684/nrp.2022.0700 - Resource not found.\"\n"
     ]
    },
    {
     "name": "stdout",
     "output_type": "stream",
     "text": [
      "-232-233-234-235"
     ]
    },
    {
     "name": "stderr",
     "output_type": "stream",
     "text": [
      "Warning message:\n",
      "\"404 (client error): /works/10.1158/1535-7163 - Resource not found.\"\n"
     ]
    },
    {
     "name": "stdout",
     "output_type": "stream",
     "text": [
      "-236-237"
     ]
    },
    {
     "name": "stderr",
     "output_type": "stream",
     "text": [
      "Warning message:\n",
      "\"404 (client error): /works/10.4414/fms.2019.08072 - Resource not found.\"\n",
      "Warning message:\n",
      "\"404 (client error): /works/10.1038/nmeth.457 - Resource not found.\"\n",
      "Warning message:\n",
      "\"404 (client error): /works/10.1146/annurev-genet-050720-12291 - Resource not found.\"\n"
     ]
    },
    {
     "name": "stdout",
     "output_type": "stream",
     "text": [
      "-238"
     ]
    },
    {
     "name": "stderr",
     "output_type": "stream",
     "text": [
      "Warning message:\n",
      "\"404 (client error): /works/doi:10.1371 - Resource not found.\"\n"
     ]
    },
    {
     "name": "stdout",
     "output_type": "stream",
     "text": [
      "-239"
     ]
    },
    {
     "name": "stderr",
     "output_type": "stream",
     "text": [
      "Warning message:\n",
      "\"404 (client error): /works/10.26124/mitofit:190001.v6 - Resource not found.\"\n"
     ]
    },
    {
     "name": "stdout",
     "output_type": "stream",
     "text": [
      "-240"
     ]
    },
    {
     "name": "stderr",
     "output_type": "stream",
     "text": [
      "Warning message:\n",
      "\"404 (client error): /works/10.5281/zenodo.7131289 - Resource not found.\"\n"
     ]
    },
    {
     "name": "stdout",
     "output_type": "stream",
     "text": [
      "-241"
     ]
    },
    {
     "name": "stderr",
     "output_type": "stream",
     "text": [
      "Warning message:\n",
      "\"404 (client error): /works/10.1038/srep21559(2016) - Resource not found.\"\n"
     ]
    },
    {
     "name": "stdout",
     "output_type": "stream",
     "text": [
      "-242-243"
     ]
    },
    {
     "name": "stderr",
     "output_type": "stream",
     "text": [
      "Warning message:\n",
      "\"404 (client error): /works/smw.2017.14410 - Resource not found.\"\n"
     ]
    },
    {
     "name": "stdout",
     "output_type": "stream",
     "text": [
      "-244"
     ]
    },
    {
     "name": "stderr",
     "output_type": "stream",
     "text": [
      "Warning message:\n",
      "\"404 (client error): /works/10.1017/s0140525x16000959,e195 - Resource not found.\"\n"
     ]
    },
    {
     "name": "stdout",
     "output_type": "stream",
     "text": [
      "-245-246-247-248"
     ]
    },
    {
     "name": "stderr",
     "output_type": "stream",
     "text": [
      "Warning message:\n",
      "\"404 (client error): /works/10.1080/216240x.2016.1234565 - Resource not found.\"\n",
      "Warning message:\n",
      "\"404 (client error): /works/10.1111/all.13041.[epubaheadofprint] - Resource not found.\"\n"
     ]
    },
    {
     "name": "stdout",
     "output_type": "stream",
     "text": [
      "-249-250"
     ]
    },
    {
     "name": "stderr",
     "output_type": "stream",
     "text": [
      "Warning message:\n",
      "\"404 (client error): /works/doi:%2010.1134/S000629791406008X. - Resource not found.\"\n"
     ]
    },
    {
     "name": "stdout",
     "output_type": "stream",
     "text": [
      "-251"
     ]
    },
    {
     "name": "stderr",
     "output_type": "stream",
     "text": [
      "Warning message:\n",
      "\"404 (client error): /works/10.1016/j.cell - Resource not found.\"\n"
     ]
    },
    {
     "name": "stdout",
     "output_type": "stream",
     "text": [
      "-252-253-254-255-256-257"
     ]
    },
    {
     "name": "stderr",
     "output_type": "stream",
     "text": [
      "Warning message:\n",
      "\"404 (client error): /works/10.1002/humu.2319 - Resource not found.\"\n",
      "Warning message:\n",
      "\"404 (client error): /works/10.1097/01.mib.0000512757.76105.34 - Resource not found.\"\n"
     ]
    },
    {
     "name": "stdout",
     "output_type": "stream",
     "text": [
      "-258-259-260"
     ]
    },
    {
     "name": "stderr",
     "output_type": "stream",
     "text": [
      "Warning message:\n",
      "\"404 (client error): /works/http:/â€‹/â€‹dx.â€‹doi.â€‹org/â€‹10.â€‹1105/â€‹tpc.â€‹114.â€‹129031 - Resource not found.\"\n",
      "Warning message:\n",
      "\"404 (client error): /works/10.1101/gad.350140.122 - Resource not found.\"\n",
      "Warning message:\n",
      "\"404 (client error): /works/doi:%2010.3324/haematol.2015.135780. - Resource not found.\"\n",
      "Warning message:\n",
      "\"404 (client error): /works/doi:%2010.4414/smw.2015.14100.%20eCollection%202015. - Resource not found.\"\n",
      "Warning message:\n",
      "\"404 (client error): /works/doi:%2010.1016/j.leukres.2015.03.004. - Resource not found.\"\n",
      "Warning message:\n",
      "\"404 (client error): /works/doi:%2010.1080/23744235.2016.1205216. - Resource not found.\"\n"
     ]
    },
    {
     "name": "stdout",
     "output_type": "stream",
     "text": [
      "-261-262"
     ]
    },
    {
     "name": "stderr",
     "output_type": "stream",
     "text": [
      "Warning message:\n",
      "\"404 (client error): /works/10.1002/biof.1278 - Resource not found.\"\n"
     ]
    },
    {
     "name": "stdout",
     "output_type": "stream",
     "text": [
      "-263-264-265-266"
     ]
    },
    {
     "name": "stderr",
     "output_type": "stream",
     "text": [
      "Warning message:\n",
      "\"404 (client error): /works/doi:%2010.3389/fgene.2013.00060. - Resource not found.\"\n",
      "Warning message:\n",
      "\"404 (client error): /works/10.1002/prca.201400125. - Resource not found.\"\n",
      "Warning message:\n",
      "\"404 (client error): /works/10.3174/ajnr.A3322. - Resource not found.\"\n",
      "Warning message:\n",
      "\"404 (client error): /works/10.4414/smw.2018.14637 - Resource not found.\"\n",
      "Warning message:\n",
      "\"404 (client error): /works/10.1160/TH13-08-0712. - Resource not found.\"\n",
      "Warning message:\n",
      "\"404 (client error): /works/10.4330/wjc.v6.i5.314. - Resource not found.\"\n"
     ]
    },
    {
     "name": "stdout",
     "output_type": "stream",
     "text": [
      "-267-268"
     ]
    },
    {
     "name": "stderr",
     "output_type": "stream",
     "text": [
      "Warning message:\n",
      "\"404 (client error): /works/10.6084/m9 - Resource not found.\"\n",
      "Warning message:\n",
      "\"404 (client error): /works/10.4414/smw.2015.14138.%20eCollection%202015. - Resource not found.\"\n",
      "Warning message:\n",
      "\"404 (client error): /works/10.1371/journal.pone.0105210.ecollection2014 - Resource not found.\"\n"
     ]
    },
    {
     "name": "stdout",
     "output_type": "stream",
     "text": [
      "-269-270"
     ]
    },
    {
     "name": "stderr",
     "output_type": "stream",
     "text": [
      "Warning message:\n",
      "\"404 (client error): /works/10.1371/journal.pgen.1006354. - Resource not found.\"\n"
     ]
    },
    {
     "name": "stdout",
     "output_type": "stream",
     "text": [
      "-271-272"
     ]
    },
    {
     "name": "stderr",
     "output_type": "stream",
     "text": [
      "Warning message:\n",
      "\"404 (client error): /works/Doi:10.1038 - Resource not found.\"\n"
     ]
    },
    {
     "name": "stdout",
     "output_type": "stream",
     "text": [
      "-273-274"
     ]
    },
    {
     "name": "stderr",
     "output_type": "stream",
     "text": [
      "Warning message:\n",
      "\"404 (client error): /works/10.1371/journal.pone.0154699.%20eCollection%202016. - Resource not found.\"\n",
      "Warning message:\n",
      "\"404 (client error): /works/10.5061/dryad.b4mr5/1 - Resource not found.\"\n"
     ]
    },
    {
     "name": "stdout",
     "output_type": "stream",
     "text": [
      "-275-276-277-278-279"
     ]
    },
    {
     "name": "stderr",
     "output_type": "stream",
     "text": [
      "Warning message:\n",
      "\"404 (client error): /works/10.1016/j.neuron.2017 - Resource not found.\"\n"
     ]
    },
    {
     "name": "stdout",
     "output_type": "stream",
     "text": [
      "-280-281-282-283"
     ]
    },
    {
     "name": "stderr",
     "output_type": "stream",
     "text": [
      "Warning message:\n",
      "\"404 (client error): /works/10.1016/j.clnu.2016.04.004. - Resource not found.\"\n"
     ]
    },
    {
     "name": "stdout",
     "output_type": "stream",
     "text": [
      "-284-285-286-287-288"
     ]
    },
    {
     "name": "stderr",
     "output_type": "stream",
     "text": [
      "Warning message:\n",
      "\"404 (client error): /works/10.1016/j.neuron.2015.11.033. - Resource not found.\"\n"
     ]
    },
    {
     "name": "stdout",
     "output_type": "stream",
     "text": [
      "-289"
     ]
    },
    {
     "name": "stderr",
     "output_type": "stream",
     "text": [
      "Warning message:\n",
      "\"404 (client error): /works/10.15502/9783958570825 - Resource not found.\"\n"
     ]
    },
    {
     "name": "stdout",
     "output_type": "stream",
     "text": [
      "-290-291-292-293"
     ]
    },
    {
     "name": "stderr",
     "output_type": "stream",
     "text": [
      "Warning message:\n",
      "\"404 (client error): /works/doi:%2010.3324/haematol.2015.130013. - Resource not found.\"\n",
      "Warning message:\n",
      "\"404 (client error): /works/doi:%2010.1002/hon.2307. - Resource not found.\"\n",
      "Warning message:\n",
      "\"404 (client error): /works/doi:%2010.1016/j.leukres.2015.03.015. - Resource not found.\"\n"
     ]
    },
    {
     "name": "stdout",
     "output_type": "stream",
     "text": [
      "-294-295-296-297"
     ]
    },
    {
     "name": "stderr",
     "output_type": "stream",
     "text": [
      "Warning message:\n",
      "\"404 (client error): /works/10.5281/zenodo.4748914 - Resource not found.\"\n",
      "Warning message:\n",
      "\"404 (client error): /works/10.4414/smw.2018.14637 - Resource not found.\"\n"
     ]
    },
    {
     "name": "stdout",
     "output_type": "stream",
     "text": [
      "-298"
     ]
    },
    {
     "name": "stderr",
     "output_type": "stream",
     "text": [
      "Warning message:\n",
      "\"404 (client error): /works/10.1109/tpami - Resource not found.\"\n"
     ]
    },
    {
     "name": "stdout",
     "output_type": "stream",
     "text": [
      "-299-300-301"
     ]
    },
    {
     "name": "stderr",
     "output_type": "stream",
     "text": [
      "Warning message:\n",
      "\"404 (client error): /works/10.1038 - Resource not found.\"\n"
     ]
    },
    {
     "name": "stdout",
     "output_type": "stream",
     "text": [
      "-302-303-304-305"
     ]
    },
    {
     "name": "stderr",
     "output_type": "stream",
     "text": [
      "Warning message:\n",
      "\"404 (client error): /works/10.1016/j.jaci.2012.12.1562. - Resource not found.\"\n"
     ]
    },
    {
     "name": "stdout",
     "output_type": "stream",
     "text": [
      "-306"
     ]
    },
    {
     "name": "stderr",
     "output_type": "stream",
     "text": [
      "Warning message:\n",
      "\"404 (client error): /works/10.1101/2022.03.30 - Resource not found.\"\n"
     ]
    },
    {
     "name": "stdout",
     "output_type": "stream",
     "text": [
      "-307-308"
     ]
    },
    {
     "name": "stderr",
     "output_type": "stream",
     "text": [
      "Warning message:\n",
      "\"404 (client error): /works/10.1016/j.ejmp.2015.09.01 - Resource not found.\"\n"
     ]
    },
    {
     "name": "stdout",
     "output_type": "stream",
     "text": [
      "-309-310-311"
     ]
    },
    {
     "name": "stderr",
     "output_type": "stream",
     "text": [
      "Warning message:\n",
      "\"404 (client error): /works/10.1101/690495v2 - Resource not found.\"\n"
     ]
    },
    {
     "name": "stdout",
     "output_type": "stream",
     "text": [
      "-312-313-314-315"
     ]
    },
    {
     "name": "stderr",
     "output_type": "stream",
     "text": [
      "Warning message:\n",
      "\"404 (client error): /works/1016/j.jmb.2013.09.025 - Resource not found.\"\n"
     ]
    },
    {
     "name": "stdout",
     "output_type": "stream",
     "text": [
      "-316-317"
     ]
    },
    {
     "name": "stderr",
     "output_type": "stream",
     "text": [
      "Warning message:\n",
      "\"404 (client error): /works/10.26049/vz69-3-2019-03 - Resource not found.\"\n"
     ]
    },
    {
     "name": "stdout",
     "output_type": "stream",
     "text": [
      "-318-319"
     ]
    },
    {
     "name": "stderr",
     "output_type": "stream",
     "text": [
      "Warning message:\n",
      "\"404 (client error): /works/10.1155/2013/159124. - Resource not found.\"\n"
     ]
    },
    {
     "name": "stdout",
     "output_type": "stream",
     "text": [
      "-320-321-322-323"
     ]
    },
    {
     "name": "stderr",
     "output_type": "stream",
     "text": [
      "Warning message:\n",
      "\"404 (client error): /works/10.ann/rscb-2016-0004:rscb - Resource not found.\"\n",
      "Warning message:\n",
      "\"404 (client error): /works/10.3929/ethz-a-010611136 - Resource not found.\"\n"
     ]
    },
    {
     "name": "stdout",
     "output_type": "stream",
     "text": [
      "-324-325"
     ]
    },
    {
     "name": "stderr",
     "output_type": "stream",
     "text": [
      "Warning message:\n",
      "\"404 (client error): /works/10.3897/neobiota.65.58380 - Resource not found.\"\n"
     ]
    },
    {
     "name": "stdout",
     "output_type": "stream",
     "text": [
      "-326-327"
     ]
    },
    {
     "name": "stderr",
     "output_type": "stream",
     "text": [
      "Warning message:\n",
      "\"404 (client error): /works/10.1371/journal.pone.0177555.ecollection2017 - Resource not found.\"\n"
     ]
    },
    {
     "name": "stdout",
     "output_type": "stream",
     "text": [
      "-328-329-330"
     ]
    },
    {
     "name": "stderr",
     "output_type": "stream",
     "text": [
      "Warning message:\n",
      "\"404 (client error): /works/10.4467/16890027ap.16.009.4944 - Resource not found.\"\n",
      "Warning message:\n",
      "\"404 (client error): /works/10.1517/14656566.2014.903923.%20Epub%202014%20Mar%2028 - Resource not found.\"\n",
      "Warning message:\n",
      "\"404 (client error): /works/10.1016/j.freeradbiomed - Resource not found.\"\n"
     ]
    },
    {
     "name": "stdout",
     "output_type": "stream",
     "text": [
      "-331-332"
     ]
    },
    {
     "name": "stderr",
     "output_type": "stream",
     "text": [
      "Warning message:\n",
      "\"404 (client error): /works/10.4414/smw.2019.20004 - Resource not found.\"\n"
     ]
    },
    {
     "name": "stdout",
     "output_type": "stream",
     "text": [
      "-333-334-335"
     ]
    },
    {
     "name": "stderr",
     "output_type": "stream",
     "text": [
      "Warning message:\n",
      "\"404 (client error): /works/10.1093/ecco-jcc/jjw013. - Resource not found.\"\n"
     ]
    },
    {
     "name": "stdout",
     "output_type": "stream",
     "text": [
      "-336-337"
     ]
    },
    {
     "name": "stderr",
     "output_type": "stream",
     "text": [
      "Warning message:\n",
      "\"404 (client error): /works/ISBN%20978-954-2961-75-8 - Resource not found.\"\n"
     ]
    },
    {
     "name": "stdout",
     "output_type": "stream",
     "text": [
      "-338-339"
     ]
    },
    {
     "name": "stderr",
     "output_type": "stream",
     "text": [
      "Warning message:\n",
      "\"404 (client error): /works/j.copbio.2013.08.017 - Resource not found.\"\n",
      "Warning message:\n",
      "\"404 (client error): /works/10.4207/pa.2019.art134 - Resource not found.\"\n"
     ]
    },
    {
     "name": "stdout",
     "output_type": "stream",
     "text": [
      "-340-341-342-343"
     ]
    },
    {
     "name": "stderr",
     "output_type": "stream",
     "text": [
      "Warning message:\n",
      "\"404 (client error): /works/10.13097/archive-ouverte/unige:94660 - Resource not found.\"\n",
      "Warning message:\n",
      "\"404 (client error): /works/10.1007/978-1-0716-2541-5_10 - Resource not found.\"\n",
      "Warning message:\n",
      "\"404 (client error): /works/10.5167/uzh-150772 - Resource not found.\"\n"
     ]
    },
    {
     "name": "stdout",
     "output_type": "stream",
     "text": [
      "-344"
     ]
    },
    {
     "name": "stderr",
     "output_type": "stream",
     "text": [
      "Warning message:\n",
      "\"404 (client error): /works/doi:%2010.3978/j.issn.2305-5839.2015.09.44 - Resource not found.\"\n"
     ]
    },
    {
     "name": "stdout",
     "output_type": "stream",
     "text": [
      "-345-346-347-348-349"
     ]
    },
    {
     "name": "stderr",
     "output_type": "stream",
     "text": [
      "Warning message:\n",
      "\"404 (client error): /works/10.1126/4298 - Resource not found.\"\n"
     ]
    },
    {
     "name": "stdout",
     "output_type": "stream",
     "text": [
      "-350-351-352-353"
     ]
    },
    {
     "name": "stderr",
     "output_type": "stream",
     "text": [
      "Warning message:\n",
      "\"404 (client error): /works/10.3929/ethz-b-000535274 - Resource not found.\"\n",
      "Warning message:\n",
      "\"404 (client error): /works/10.1016/j.jbiomech.2014.06.017. - Resource not found.\"\n"
     ]
    },
    {
     "name": "stdout",
     "output_type": "stream",
     "text": [
      "-354-355-356-357"
     ]
    },
    {
     "name": "stderr",
     "output_type": "stream",
     "text": [
      "Warning message:\n",
      "\"404 (client error): /works/10.1016/j.mce.2015.12.014. - Resource not found.\"\n"
     ]
    },
    {
     "name": "stdout",
     "output_type": "stream",
     "text": [
      "-358-359"
     ]
    },
    {
     "name": "stderr",
     "output_type": "stream",
     "text": [
      "Warning message:\n",
      "\"404 (client error): /works/10.48550/arxiv.2107.06407 - Resource not found.\"\n"
     ]
    },
    {
     "name": "stdout",
     "output_type": "stream",
     "text": [
      "-360-361"
     ]
    },
    {
     "name": "stderr",
     "output_type": "stream",
     "text": [
      "Warning message:\n",
      "\"404 (client error): /works/doi:%2010.1200/JCO.2014.58.9846. - Resource not found.\"\n",
      "Warning message:\n",
      "\"404 (client error): /works/doi:%2010.1016/j.bbagrm.2015.07.003. - Resource not found.\"\n",
      "Warning message:\n",
      "\"404 (client error): /works/doi:%2010.3389/fimmu.2015.00588. - Resource not found.\"\n",
      "Warning message:\n",
      "\"404 (client error): /works/doi:%2010.1111/bjh.14049. - Resource not found.\"\n"
     ]
    },
    {
     "name": "stdout",
     "output_type": "stream",
     "text": [
      "-362"
     ]
    },
    {
     "name": "stderr",
     "output_type": "stream",
     "text": [
      "Warning message:\n",
      "\"404 (client error): /works/10.1000/182 - Resource not found.\"\n"
     ]
    },
    {
     "name": "stdout",
     "output_type": "stream",
     "text": [
      "-363-364-365-366"
     ]
    },
    {
     "name": "stderr",
     "output_type": "stream",
     "text": [
      "Warning message:\n",
      "\"404 (client error): /works/10.1080/15476286.2014.996494. - Resource not found.\"\n",
      "Warning message:\n",
      "\"404 (client error): /works/10.1016/j.jgar - Resource not found.\"\n"
     ]
    },
    {
     "name": "stdout",
     "output_type": "stream",
     "text": [
      "-367-368-369-370"
     ]
    },
    {
     "name": "stderr",
     "output_type": "stream",
     "text": [
      "Warning message:\n",
      "\"404 (client error): /works/10.1016/j.immuni - Resource not found.\"\n",
      "Warning message:\n",
      "\"404 (client error): /works/10.1136/medethics-2014-102091.%20Epub%202014%20Aug%2020 - Resource not found.\"\n"
     ]
    },
    {
     "name": "stdout",
     "output_type": "stream",
     "text": [
      "-371"
     ]
    },
    {
     "name": "stderr",
     "output_type": "stream",
     "text": [
      "Warning message:\n",
      "\"404 (client error): /works/n.a. - Resource not found.\"\n"
     ]
    },
    {
     "name": "stdout",
     "output_type": "stream",
     "text": [
      "-372-373"
     ]
    },
    {
     "name": "stderr",
     "output_type": "stream",
     "text": [
      "Warning message:\n",
      "\"404 (client error): /works/10.1152/ajpgi.00297 - Resource not found.\"\n"
     ]
    },
    {
     "name": "stdout",
     "output_type": "stream",
     "text": [
      "-374"
     ]
    },
    {
     "name": "stderr",
     "output_type": "stream",
     "text": [
      "Warning message:\n",
      "\"404 (client error): /works/10.10007/s000-012-0983-8 - Resource not found.\"\n"
     ]
    },
    {
     "name": "stdout",
     "output_type": "stream",
     "text": [
      "-375"
     ]
    },
    {
     "name": "stderr",
     "output_type": "stream",
     "text": [
      "Warning message:\n",
      "\"404 (client error): /works/10.1007/978-3-319-47157-02 - Resource not found.\"\n"
     ]
    },
    {
     "name": "stdout",
     "output_type": "stream",
     "text": [
      "-376"
     ]
    },
    {
     "name": "stderr",
     "output_type": "stream",
     "text": [
      "Warning message:\n",
      "\"404 (client error): /works/10.1073/pnas.1516546113. - Resource not found.\"\n"
     ]
    },
    {
     "name": "stdout",
     "output_type": "stream",
     "text": [
      "-377"
     ]
    },
    {
     "name": "stderr",
     "output_type": "stream",
     "text": [
      "Warning message:\n",
      "\"404 (client error): /works/10.1016/j.thromres.2013.08.015. - Resource not found.\"\n"
     ]
    },
    {
     "name": "stdout",
     "output_type": "stream",
     "text": [
      "-378"
     ]
    },
    {
     "name": "stderr",
     "output_type": "stream",
     "text": [
      "Warning message:\n",
      "\"404 (client error): /works/10.1101/202 - Resource not found.\"\n"
     ]
    },
    {
     "name": "stdout",
     "output_type": "stream",
     "text": [
      "-379-380-381-382-383-384-385-386"
     ]
    },
    {
     "name": "stderr",
     "output_type": "stream",
     "text": [
      "Warning message:\n",
      "\"404 (client error): /works/10.2390/biecoll-jib-2014-240 - Resource not found.\"\n"
     ]
    },
    {
     "name": "stdout",
     "output_type": "stream",
     "text": [
      "-387"
     ]
    },
    {
     "name": "stderr",
     "output_type": "stream",
     "text": [
      "Warning message:\n",
      "\"404 (client error): /works/10.5281/zenodo.33990 - Resource not found.\"\n"
     ]
    },
    {
     "name": "stdout",
     "output_type": "stream",
     "text": [
      "-388"
     ]
    },
    {
     "name": "stderr",
     "output_type": "stream",
     "text": [
      "Warning message:\n",
      "\"404 (client error): /works/10.17170/kobra-202107134319 - Resource not found.\"\n",
      "Warning message:\n",
      "\"404 (client error): /works/10.17170/kobra-202102113200 - Resource not found.\"\n"
     ]
    },
    {
     "name": "stdout",
     "output_type": "stream",
     "text": [
      "-389"
     ]
    },
    {
     "name": "stderr",
     "output_type": "stream",
     "text": [
      "Warning message:\n",
      "\"404 (client error): /works/10.106/j.celrep.2015.12.095 - Resource not found.\"\n",
      "Warning message:\n",
      "\"404 (client error): /works/10.1101/816 - Resource not found.\"\n"
     ]
    },
    {
     "name": "stdout",
     "output_type": "stream",
     "text": [
      "-390"
     ]
    },
    {
     "name": "stderr",
     "output_type": "stream",
     "text": [
      "Warning message:\n",
      "\"404 (client error): /works/10.1016/j.virusres.2014 - Resource not found.\"\n"
     ]
    },
    {
     "name": "stdout",
     "output_type": "stream",
     "text": [
      "-391"
     ]
    },
    {
     "name": "stderr",
     "output_type": "stream",
     "text": [
      "Warning message:\n",
      "\"404 (client error): /works/10.1097/txd.00000000000000959 - Resource not found.\"\n"
     ]
    },
    {
     "name": "stdout",
     "output_type": "stream",
     "text": [
      "-392"
     ]
    },
    {
     "name": "stderr",
     "output_type": "stream",
     "text": [
      "Warning message:\n",
      "\"404 (client error): /works/10.11111/ctr.12896 - Resource not found.\"\n"
     ]
    },
    {
     "name": "stdout",
     "output_type": "stream",
     "text": [
      "-393-394"
     ]
    },
    {
     "name": "stderr",
     "output_type": "stream",
     "text": [
      "Warning message:\n",
      "\"404 (client error): /works/doi:%2010.1002/hon.2348. - Resource not found.\"\n"
     ]
    },
    {
     "name": "stdout",
     "output_type": "stream",
     "text": [
      "-395-396-397-398-399-400-401-402-403-404-405"
     ]
    },
    {
     "name": "stderr",
     "output_type": "stream",
     "text": [
      "Warning message:\n",
      "\"404 (client error): /works/doi:%2010.1146/annurev-genet-112414-055214. - Resource not found.\"\n"
     ]
    },
    {
     "name": "stdout",
     "output_type": "stream",
     "text": [
      "-406-407-408-409-410-411"
     ]
    },
    {
     "name": "stderr",
     "output_type": "stream",
     "text": [
      "Warning message:\n",
      "\"404 (client error): /works/10.1016/j.exer.2015 - Resource not found.\"\n"
     ]
    },
    {
     "name": "stdout",
     "output_type": "stream",
     "text": [
      "-412"
     ]
    },
    {
     "name": "stderr",
     "output_type": "stream",
     "text": [
      "Warning message:\n",
      "\"404 (client error): /works/10.1680/ecsmge.60678 - Resource not found.\"\n"
     ]
    },
    {
     "name": "stdout",
     "output_type": "stream",
     "text": [
      "-413"
     ]
    },
    {
     "name": "stderr",
     "output_type": "stream",
     "text": [
      "Warning message:\n",
      "\"404 (client error): /works/10.3929/ethz-b-000314013 - Resource not found.\"\n"
     ]
    },
    {
     "name": "stdout",
     "output_type": "stream",
     "text": [
      "-414-415-416"
     ]
    },
    {
     "name": "stderr",
     "output_type": "stream",
     "text": [
      "Warning message:\n",
      "\"404 (client error): /works/10.1523/0484 - Resource not found.\"\n",
      "Warning message:\n",
      "\"404 (client error): /works/10.4414/smw.2013.13781. - Resource not found.\"\n",
      "Warning message:\n",
      "\"404 (client error): /works/10.1155/2012/515692. - Resource not found.\"\n",
      "Warning message:\n",
      "\"404 (client error): /works/10.1160/TH13-02-0121. - Resource not found.\"\n",
      "Warning message:\n",
      "\"404 (client error): /works/10.1160/TH13-03-0211. - Resource not found.\"\n"
     ]
    },
    {
     "name": "stdout",
     "output_type": "stream",
     "text": [
      "-417-418-419-420-421-422"
     ]
    },
    {
     "name": "stderr",
     "output_type": "stream",
     "text": [
      "Warning message:\n",
      "\"404 (client error): /works/10.1097/tp.00000000001700 - Resource not found.\"\n",
      "Warning message:\n",
      "\"404 (client error): /works/10.1016/j.hep - Resource not found.\"\n"
     ]
    },
    {
     "name": "stdout",
     "output_type": "stream",
     "text": [
      "-423"
     ]
    },
    {
     "name": "stderr",
     "output_type": "stream",
     "text": [
      "Warning message:\n",
      "\"404 (client error): /works/10.4455/eu.2020.002 - Resource not found.\"\n",
      "Warning message:\n",
      "\"404 (client error): /works/10.4455/eu.2016.046 - Resource not found.\"\n"
     ]
    },
    {
     "name": "stdout",
     "output_type": "stream",
     "text": [
      "-424"
     ]
    },
    {
     "name": "stderr",
     "output_type": "stream",
     "text": [
      "Warning message:\n",
      "\"404 (client error): /works/10.1016/j.radonc.2013.03.020. - Resource not found.\"\n"
     ]
    },
    {
     "name": "stdout",
     "output_type": "stream",
     "text": [
      "-425-426-427"
     ]
    },
    {
     "name": "stderr",
     "output_type": "stream",
     "text": [
      "Warning message:\n",
      "\"404 (client error): /works/10.1038/ncomms3848. - Resource not found.\"\n"
     ]
    },
    {
     "name": "stdout",
     "output_type": "stream",
     "text": [
      "-428-429"
     ]
    },
    {
     "name": "stderr",
     "output_type": "stream",
     "text": [
      "Warning message:\n",
      "\"404 (client error): /works/10.1016/j - Resource not found.\"\n"
     ]
    },
    {
     "name": "stdout",
     "output_type": "stream",
     "text": [
      "-430-431-432-433-434-435-436-437-438"
     ]
    },
    {
     "name": "stderr",
     "output_type": "stream",
     "text": [
      "Warning message:\n",
      "\"404 (client error): /works/10.1038/tp.2016.176. - Resource not found.\"\n",
      "Warning message:\n",
      "\"404 (client error): /works/10.1016 - Resource not found.\"\n"
     ]
    },
    {
     "name": "stdout",
     "output_type": "stream",
     "text": [
      "-439"
     ]
    },
    {
     "name": "stderr",
     "output_type": "stream",
     "text": [
      "Warning message:\n",
      "\"404 (client error): /works/10.5281/zenodo.34002 - Resource not found.\"\n"
     ]
    },
    {
     "name": "stdout",
     "output_type": "stream",
     "text": [
      "-440-441-442-443-444-445-446-447"
     ]
    },
    {
     "name": "stderr",
     "output_type": "stream",
     "text": [
      "Warning message:\n",
      "\"404 (client error): /works/doi:%2010.1016/j.ccell.2014. - Resource not found.\"\n"
     ]
    },
    {
     "name": "stdout",
     "output_type": "stream",
     "text": [
      "-448"
     ]
    },
    {
     "name": "stderr",
     "output_type": "stream",
     "text": [
      "Warning message:\n",
      "\"404 (client error): /works/10.1038/ng.3103. - Resource not found.\"\n"
     ]
    },
    {
     "name": "stdout",
     "output_type": "stream",
     "text": [
      "-449-450"
     ]
    },
    {
     "name": "stderr",
     "output_type": "stream",
     "text": [
      "Warning message:\n",
      "\"404 (client error): /works/10.3929/ethz-b-000421901 - Resource not found.\"\n"
     ]
    },
    {
     "name": "stdout",
     "output_type": "stream",
     "text": [
      "-451-452"
     ]
    },
    {
     "name": "stderr",
     "output_type": "stream",
     "text": [
      "Warning message:\n",
      "\"404 (client error): /works/10.2312/bzpm_0716_2018 - Resource not found.\"\n",
      "Warning message:\n",
      "\"404 (client error): /works/under%20revision - Resource not found.\"\n",
      "Warning message:\n",
      "\"404 (client error): /works/doi:%2010.1016/j.neuron.2014.11.027.%20Epub%202014%20Dec%2018. - Resource not found.\"\n"
     ]
    },
    {
     "name": "stdout",
     "output_type": "stream",
     "text": [
      "-453-454-455-456-457-458-459"
     ]
    },
    {
     "name": "stderr",
     "output_type": "stream",
     "text": [
      "Warning message:\n",
      "\"404 (client error): /works/10.1371/journal.pone.0155546.%20eCollection%202016. - Resource not found.\"\n"
     ]
    },
    {
     "name": "stdout",
     "output_type": "stream",
     "text": [
      "-460-461"
     ]
    },
    {
     "name": "stderr",
     "output_type": "stream",
     "text": [
      "Warning message:\n",
      "\"404 (client error): /works/gkw1059 - Resource not found.\"\n",
      "Warning message:\n",
      "\"404 (client error): /works/doi:%2010.1093/hmg/ddu202.%20Epub%202014%20May%202. - Resource not found.\"\n"
     ]
    },
    {
     "name": "stdout",
     "output_type": "stream",
     "text": [
      "-462-463"
     ]
    },
    {
     "name": "stderr",
     "output_type": "stream",
     "text": [
      "Warning message:\n",
      "\"404 (client error): /works/10.1093/databasse/bav056 - Resource not found.\"\n"
     ]
    },
    {
     "name": "stdout",
     "output_type": "stream",
     "text": [
      "-464-465"
     ]
    },
    {
     "name": "stderr",
     "output_type": "stream",
     "text": [
      "Warning message:\n",
      "\"404 (client error): /works/10.1371 - Resource not found.\"\n"
     ]
    },
    {
     "name": "stdout",
     "output_type": "stream",
     "text": [
      "-466"
     ]
    },
    {
     "name": "stderr",
     "output_type": "stream",
     "text": [
      "Warning message:\n",
      "\"404 (client error): /works/10.1261/rna.047209.114. - Resource not found.\"\n"
     ]
    },
    {
     "name": "stdout",
     "output_type": "stream",
     "text": [
      "-467"
     ]
    },
    {
     "name": "stderr",
     "output_type": "stream",
     "text": [
      "Warning message:\n",
      "\"404 (client error): /works/10.1101/gad.277665 - Resource not found.\"\n"
     ]
    },
    {
     "name": "stdout",
     "output_type": "stream",
     "text": [
      "-468-469-470-471-472-473"
     ]
    },
    {
     "name": "stderr",
     "output_type": "stream",
     "text": [
      "Warning message:\n",
      "\"404 (client error): /works/10.1371/journal.pone.0150219.ecollection2016 - Resource not found.\"\n"
     ]
    },
    {
     "name": "stdout",
     "output_type": "stream",
     "text": [
      "-474-475-476-477-478-479-480-481-482"
     ]
    },
    {
     "name": "stderr",
     "output_type": "stream",
     "text": [
      "Warning message:\n",
      "\"404 (client error): /works/10.5281/zenodo.14985 - Resource not found.\"\n"
     ]
    },
    {
     "name": "stdout",
     "output_type": "stream",
     "text": [
      "-483-484"
     ]
    },
    {
     "name": "stderr",
     "output_type": "stream",
     "text": [
      "Warning message:\n",
      "\"404 (client error): /works/10.4414 - Resource not found.\"\n"
     ]
    },
    {
     "name": "stdout",
     "output_type": "stream",
     "text": [
      "-485-486-487-488-489-490-491"
     ]
    },
    {
     "name": "stderr",
     "output_type": "stream",
     "text": [
      "Warning message:\n",
      "\"404 (client error): /works/10.2105/AJPH.2016.303629a. - Resource not found.\"\n"
     ]
    },
    {
     "name": "stdout",
     "output_type": "stream",
     "text": [
      "-492-493"
     ]
    },
    {
     "name": "stderr",
     "output_type": "stream",
     "text": [
      "Warning message:\n",
      "\"404 (client error): /works/FRONTIERS%20IN%20PLANT%20SCIENCE - Resource not found.\"\n"
     ]
    },
    {
     "name": "stdout",
     "output_type": "stream",
     "text": [
      "-494-495"
     ]
    },
    {
     "name": "stderr",
     "output_type": "stream",
     "text": [
      "Warning message:\n",
      "\"404 (client error): /works/10.1101/966119 - Resource not found.\"\n"
     ]
    },
    {
     "name": "stdout",
     "output_type": "stream",
     "text": [
      "-496"
     ]
    },
    {
     "name": "stderr",
     "output_type": "stream",
     "text": [
      "Warning message:\n",
      "\"404 (client error): /works/10.1093/ijnp/pyv020. - Resource not found.\"\n"
     ]
    },
    {
     "name": "stdout",
     "output_type": "stream",
     "text": [
      "-497-498"
     ]
    },
    {
     "name": "stderr",
     "output_type": "stream",
     "text": [
      "Warning message:\n",
      "\"404 (client error): /works/10.1016/j.cell.2015.07.022. - Resource not found.\"\n"
     ]
    },
    {
     "name": "stdout",
     "output_type": "stream",
     "text": [
      "-499"
     ]
    },
    {
     "name": "stderr",
     "output_type": "stream",
     "text": [
      "Warning message:\n",
      "\"404 (client error): /works/NA - Resource not found.\"\n"
     ]
    },
    {
     "name": "stdout",
     "output_type": "stream",
     "text": [
      "-500-501-502"
     ]
    },
    {
     "name": "stderr",
     "output_type": "stream",
     "text": [
      "Warning message:\n",
      "\"404 (client error): /works/10.13140/rg.2.2.17947.72487 - Resource not found.\"\n"
     ]
    },
    {
     "name": "stdout",
     "output_type": "stream",
     "text": [
      "-503-504-505-506-507-508"
     ]
    },
    {
     "name": "stderr",
     "output_type": "stream",
     "text": [
      "Warning message:\n",
      "\"404 (client error): /works/10.1371/journal.pone.0080743. - Resource not found.\"\n",
      "Warning message:\n",
      "\"404 (client error): /works/10.1111/jth.13257. - Resource not found.\"\n"
     ]
    },
    {
     "name": "stdout",
     "output_type": "stream",
     "text": [
      "-509-510-511"
     ]
    },
    {
     "name": "stderr",
     "output_type": "stream",
     "text": [
      "Warning message:\n",
      "\"404 (client error): /works/doi:%2010.1158/0008-5472 - Resource not found.\"\n",
      "Warning message:\n",
      "\"404 (client error): /works/10.5281/zenodo.7131289 - Resource not found.\"\n"
     ]
    },
    {
     "name": "stdout",
     "output_type": "stream",
     "text": [
      "-512-513"
     ]
    },
    {
     "name": "stderr",
     "output_type": "stream",
     "text": [
      "Warning message:\n",
      "\"404 (client error): /works/10.21256/zhaw-18865 - Resource not found.\"\n"
     ]
    },
    {
     "name": "stdout",
     "output_type": "stream",
     "text": [
      "-514"
     ]
    },
    {
     "name": "stderr",
     "output_type": "stream",
     "text": [
      "Warning message:\n",
      "\"404 (client error): /works/10.1080/08941939 - Resource not found.\"\n",
      "Warning message:\n",
      "\"404 (client error): /works/10.1097/tp.00000000000001723 - Resource not found.\"\n"
     ]
    },
    {
     "name": "stdout",
     "output_type": "stream",
     "text": [
      "-515"
     ]
    },
    {
     "name": "stderr",
     "output_type": "stream",
     "text": [
      "Warning message:\n",
      "\"404 (client error): /works/10.1136/bmjopen-2017-016972 - Resource not found.\"\n",
      "Warning message:\n",
      "\"404 (client error): /works/10.12688/f1000research.19423 - Resource not found.\"\n"
     ]
    },
    {
     "name": "stdout",
     "output_type": "stream",
     "text": [
      "-516-517-518-519-520"
     ]
    },
    {
     "name": "stderr",
     "output_type": "stream",
     "text": [
      "Warning message:\n",
      "\"404 (client error): /works/doi:%2010.1038/gt.2014 - Resource not found.\"\n"
     ]
    },
    {
     "name": "stdout",
     "output_type": "stream",
     "text": [
      "-521"
     ]
    },
    {
     "name": "stderr",
     "output_type": "stream",
     "text": [
      "Warning message:\n",
      "\"404 (client error): /works/10.15502/9783958570023 - Resource not found.\"\n"
     ]
    },
    {
     "name": "stdout",
     "output_type": "stream",
     "text": [
      "-522"
     ]
    },
    {
     "name": "stderr",
     "output_type": "stream",
     "text": [
      "Warning message:\n",
      "\"404 (client error): /works/10.1038/019 - Resource not found.\"\n"
     ]
    },
    {
     "name": "stdout",
     "output_type": "stream",
     "text": [
      "-523-524-525"
     ]
    },
    {
     "name": "stderr",
     "output_type": "stream",
     "text": [
      "Warning message:\n",
      "\"404 (client error): /works/10.1007/s00467-016-3419-0. - Resource not found.\"\n"
     ]
    },
    {
     "name": "stdout",
     "output_type": "stream",
     "text": [
      "-526-527-528"
     ]
    },
    {
     "name": "stderr",
     "output_type": "stream",
     "text": [
      "Warning message:\n",
      "\"404 (client error): /works/10.1073/pnas.131862811 - Resource not found.\"\n"
     ]
    },
    {
     "name": "stdout",
     "output_type": "stream",
     "text": [
      "-529-530-531-532"
     ]
    },
    {
     "name": "stderr",
     "output_type": "stream",
     "text": [
      "Warning message:\n",
      "\"404 (client error): /works/10.1038/s41598 - Resource not found.\"\n"
     ]
    },
    {
     "name": "stdout",
     "output_type": "stream",
     "text": [
      "-533-534-535"
     ]
    },
    {
     "name": "stderr",
     "output_type": "stream",
     "text": [
      "Warning message:\n",
      "\"404 (client error): /works/10.3174/ajnr.A4063. - Resource not found.\"\n"
     ]
    },
    {
     "name": "stdout",
     "output_type": "stream",
     "text": [
      "-536-537"
     ]
    },
    {
     "name": "stderr",
     "output_type": "stream",
     "text": [
      "Warning message:\n",
      "\"404 (client error): /works/10.1016/%20j.cub.2017.01.027 - Resource not found.\"\n"
     ]
    },
    {
     "name": "stdout",
     "output_type": "stream",
     "text": [
      "-538-539-540-541"
     ]
    },
    {
     "name": "stderr",
     "output_type": "stream",
     "text": [
      "Warning message:\n",
      "\"404 (client error): /works/10.1074/jbc.M114.622274. - Resource not found.\"\n",
      "Warning message:\n",
      "\"404 (client error): /works/10.1101/2021.09.21.461167v1 - Resource not found.\"\n"
     ]
    },
    {
     "name": "stdout",
     "output_type": "stream",
     "text": [
      "-542-543"
     ]
    },
    {
     "name": "stderr",
     "output_type": "stream",
     "text": [
      "Warning message:\n",
      "\"404 (client error): /works/10.4414/smw.2014 - Resource not found.\"\n"
     ]
    },
    {
     "name": "stdout",
     "output_type": "stream",
     "text": [
      "-544-545-546-547-548-549"
     ]
    },
    {
     "name": "stderr",
     "output_type": "stream",
     "text": [
      "Warning message:\n",
      "\"404 (client error): /works/10.1002/bbb.1548/abstract - Resource not found.\"\n"
     ]
    },
    {
     "name": "stdout",
     "output_type": "stream",
     "text": [
      "-550"
     ]
    },
    {
     "name": "stderr",
     "output_type": "stream",
     "text": [
      "Warning message:\n",
      "\"404 (client error): /works/10.1081/E-ESS-120001617 - Resource not found.\"\n"
     ]
    },
    {
     "name": "stdout",
     "output_type": "stream",
     "text": [
      "-551-552-553-554-555-556"
     ]
    },
    {
     "name": "stderr",
     "output_type": "stream",
     "text": [
      "Warning message:\n",
      "\"404 (client error): /works/10.4455/eu.2019.049 - Resource not found.\"\n"
     ]
    },
    {
     "name": "stdout",
     "output_type": "stream",
     "text": [
      "-557-558"
     ]
    },
    {
     "name": "stderr",
     "output_type": "stream",
     "text": [
      "Warning message:\n",
      "\"404 (client error): /works/10.1038/nn - Resource not found.\"\n"
     ]
    },
    {
     "name": "stdout",
     "output_type": "stream",
     "text": [
      "-559"
     ]
    },
    {
     "name": "stderr",
     "output_type": "stream",
     "text": [
      "Warning message:\n",
      "\"404 (client error): /works/doi:%2010.1016/j.radonc.2013.04.019. - Resource not found.\"\n"
     ]
    },
    {
     "name": "stdout",
     "output_type": "stream",
     "text": [
      "-560"
     ]
    },
    {
     "name": "stderr",
     "output_type": "stream",
     "text": [
      "Warning message:\n",
      "\"404 (client error): /works/10.1111/ele.12490/full - Resource not found.\"\n",
      "Warning message:\n",
      "\"404 (client error): /works/10.4414/smw.2012.13694. - Resource not found.\"\n",
      "Warning message:\n",
      "\"404 (client error): /works/10.16908/issn.1660-7104/291 - Resource not found.\"\n"
     ]
    },
    {
     "name": "stdout",
     "output_type": "stream",
     "text": [
      "-561"
     ]
    },
    {
     "name": "stderr",
     "output_type": "stream",
     "text": [
      "Warning message:\n",
      "\"404 (client error): /works/10.17458/per.vol15.2017.l.humansexdevelopment - Resource not found.\"\n"
     ]
    },
    {
     "name": "stdout",
     "output_type": "stream",
     "text": [
      "-562"
     ]
    },
    {
     "name": "stderr",
     "output_type": "stream",
     "text": [
      "Warning message:\n",
      "\"404 (client error): /works/Targeted%20delivery%20of%20interleukin-10%20to%20chronic%20cardiac%20allograft%20rejection%20using%20a%20human%20antibody%20s - Resource not found.\"\n"
     ]
    },
    {
     "name": "stdout",
     "output_type": "stream",
     "text": [
      "-563-564-565-566-567-568-569-570-571-572-573"
     ]
    },
    {
     "name": "stderr",
     "output_type": "stream",
     "text": [
      "Warning message:\n",
      "\"404 (client error): /works/10.3390/12010176 - Resource not found.\"\n"
     ]
    },
    {
     "name": "stdout",
     "output_type": "stream",
     "text": [
      "-574"
     ]
    },
    {
     "name": "stderr",
     "output_type": "stream",
     "text": [
      "Warning message:\n",
      "\"404 (client error): /works/10.25849/myrmecol.news_031:181 - Resource not found.\"\n"
     ]
    },
    {
     "name": "stdout",
     "output_type": "stream",
     "text": [
      "-575-576"
     ]
    },
    {
     "name": "stderr",
     "output_type": "stream",
     "text": [
      "Warning message:\n",
      "\"404 (client error): /works/10.1007/s11695 - Resource not found.\"\n"
     ]
    },
    {
     "name": "stdout",
     "output_type": "stream",
     "text": [
      "-577-578-579"
     ]
    },
    {
     "name": "stderr",
     "output_type": "stream",
     "text": [
      "Warning message:\n",
      "\"404 (client error): /works/doi:%2010.3324/haematol.2015. - Resource not found.\"\n",
      "Warning message:\n",
      "\"404 (client error): /works/doi:%2010.3109/10428194.2015.1079315. - Resource not found.\"\n"
     ]
    },
    {
     "name": "stdout",
     "output_type": "stream",
     "text": [
      "-580"
     ]
    },
    {
     "name": "stderr",
     "output_type": "stream",
     "text": [
      "Warning message:\n",
      "\"404 (client error): /works/10.1159/00 - Resource not found.\"\n"
     ]
    },
    {
     "name": "stdout",
     "output_type": "stream",
     "text": [
      "-581-582-583-584-585-586-587"
     ]
    },
    {
     "name": "stderr",
     "output_type": "stream",
     "text": [
      "Warning message:\n",
      "\"404 (client error): /works/10.2312/bzpm_0700_2016 - Resource not found.\"\n"
     ]
    },
    {
     "name": "stdout",
     "output_type": "stream",
     "text": [
      "-588"
     ]
    },
    {
     "name": "stderr",
     "output_type": "stream",
     "text": [
      "Warning message:\n",
      "\"404 (client error): /works/25261198 - Resource not found.\"\n"
     ]
    },
    {
     "name": "stdout",
     "output_type": "stream",
     "text": [
      "-589-590-591"
     ]
    },
    {
     "name": "stderr",
     "output_type": "stream",
     "text": [
      "Warning message:\n",
      "\"404 (client error): /works/10.1016/j.anbehav.%202013.04 - Resource not found.\"\n"
     ]
    },
    {
     "name": "stdout",
     "output_type": "stream",
     "text": [
      "-592-593-594-595"
     ]
    },
    {
     "name": "stderr",
     "output_type": "stream",
     "text": [
      "Warning message:\n",
      "\"404 (client error): /works/10.1111/jth.12536. - Resource not found.\"\n"
     ]
    },
    {
     "name": "stdout",
     "output_type": "stream",
     "text": [
      "-596-597-598"
     ]
    },
    {
     "name": "stderr",
     "output_type": "stream",
     "text": [
      "Warning message:\n",
      "\"404 (client error): /works/10.1111/jeb.1245 - Resource not found.\"\n",
      "Warning message:\n",
      "\"404 (client error): /works/10.5281/zenodo.192634 - Resource not found.\"\n"
     ]
    },
    {
     "name": "stdout",
     "output_type": "stream",
     "text": [
      "-599"
     ]
    },
    {
     "name": "stderr",
     "output_type": "stream",
     "text": [
      "Warning message:\n",
      "\"404 (client error): /works/10.1016/j.tins.2013 - Resource not found.\"\n",
      "Warning message:\n",
      "\"404 (client error): /works/10.1016/j.mcn.2015.11.00710.1016/j.mcn.2015.11.007 - Resource not found.\"\n"
     ]
    },
    {
     "name": "stdout",
     "output_type": "stream",
     "text": [
      "-600-601-602-603"
     ]
    },
    {
     "name": "stderr",
     "output_type": "stream",
     "text": [
      "Warning message:\n",
      "\"404 (client error): /works/10.1111/ait.14192 - Resource not found.\"\n",
      "Warning message:\n",
      "\"404 (client error): /works/10.111/tri.12904 - Resource not found.\"\n"
     ]
    },
    {
     "name": "stdout",
     "output_type": "stream",
     "text": [
      "-604"
     ]
    },
    {
     "name": "stderr",
     "output_type": "stream",
     "text": [
      "Warning message:\n",
      "\"404 (client error): /works/10.1016/j.ejso - Resource not found.\"\n"
     ]
    },
    {
     "name": "stdout",
     "output_type": "stream",
     "text": [
      "-605-606"
     ]
    },
    {
     "name": "stderr",
     "output_type": "stream",
     "text": [
      "Warning message:\n",
      "\"404 (client error): /works/116.308807 - Resource not found.\"\n"
     ]
    },
    {
     "name": "stdout",
     "output_type": "stream",
     "text": [
      "-607-608-609"
     ]
    },
    {
     "name": "stderr",
     "output_type": "stream",
     "text": [
      "Warning message:\n",
      "\"404 (client error): /works/10.1016/j - Resource not found.\"\n"
     ]
    },
    {
     "name": "stdout",
     "output_type": "stream",
     "text": [
      "-610-611-612-613-614"
     ]
    },
    {
     "name": "stderr",
     "output_type": "stream",
     "text": [
      "Warning message:\n",
      "\"404 (client error): /works/10.1074/mcp.m116.062273.epub2017jan4 - Resource not found.\"\n"
     ]
    },
    {
     "name": "stdout",
     "output_type": "stream",
     "text": [
      "-615-616"
     ]
    },
    {
     "name": "stderr",
     "output_type": "stream",
     "text": [
      "Warning message:\n",
      "\"404 (client error): /works/DOI:%2010.1128 - Resource not found.\"\n"
     ]
    },
    {
     "name": "stdout",
     "output_type": "stream",
     "text": [
      "-617-618-619-620"
     ]
    },
    {
     "name": "stderr",
     "output_type": "stream",
     "text": [
      "Warning message:\n",
      "\"404 (client error): /works/10.1101/gad.287094.116.%20Epub%202016%20Sep%2015. - Resource not found.\"\n"
     ]
    },
    {
     "name": "stdout",
     "output_type": "stream",
     "text": [
      "-621-622-623-624-625-626-627-628-629"
     ]
    },
    {
     "name": "stderr",
     "output_type": "stream",
     "text": [
      "Warning message:\n",
      "\"404 (client error): /works/10.1038 - Resource not found.\"\n"
     ]
    },
    {
     "name": "stdout",
     "output_type": "stream",
     "text": [
      "-630-631-632"
     ]
    },
    {
     "name": "stderr",
     "output_type": "stream",
     "text": [
      "Warning message:\n",
      "\"404 (client error): /works/10.ann/rscb-2015-0044:rscb - Resource not found.\"\n"
     ]
    },
    {
     "name": "stdout",
     "output_type": "stream",
     "text": [
      "-633[1] \"Loop done\"\n"
     ]
    }
   ],
   "source": [
    "start_index <- 1\n",
    "\n",
    "# Loop from 1 to the number of batches of 50\n",
    "# To avoid timeouts at the Crossref server, there are quite some system delays implemented in this loop.\n",
    "# ...also, the Crossref API is not too fast. For 600 batches of 50 DOIs, this loop runs probabyl 10 to 11 hours!!!\n",
    "\n",
    "for (i in start_index:end_index) {\n",
    "    \n",
    "    # tryCatch to deal with Crossref server timeouts\n",
    "    tryCatch({\n",
    "        \n",
    "        # The bucket for the current batch of DOIs\n",
    "        batch_bucket <- tibble(doi = character(), is.referenced.by.count = character())\n",
    "        \n",
    "        # The current batch index as a string\n",
    "        idx <- sprintf(\"%s\", i)\n",
    "      \n",
    "        # The DOIs of the current batch of 50\n",
    "        dois <- publication_batches[i][[idx]]$ScientificPublication_DOI\n",
    "      \n",
    "        # Print some progress to the console\n",
    "        cat(sprintf(\"-%s\", i))\n",
    "        flush.console()\n",
    "      \n",
    "        # Search for records in Crossref\n",
    "        results <- cr_works(dois)\n",
    "        citation_counts <- select(results$data, c(doi, is.referenced.by.count))\n",
    "        \n",
    "        # Append to current bucket\n",
    "        batch_bucket <- rbind(batch_bucket, citation_counts)\n",
    "        \n",
    "        # Write results so far to a file, in case of a desaster\n",
    "        write.table(batch_bucket, file_name, sep = \";\", append = TRUE, row.names = FALSE, col.names = FALSE)\n",
    "\n",
    "        # 30 seconds delay before the next request  \n",
    "        Sys.sleep(30)\n",
    "      \n",
    "  }, error = function(e) {\n",
    "        \n",
    "        # Print error message\n",
    "        cat(sprintf(\"-%s\", e$message))\n",
    "        flush.console()\n",
    "      \n",
    "        next_index <- i + 1\n",
    "      \n",
    "        if (next_index <= end_index) {\n",
    "            # If the loop isn't done yet, restart at the last index\n",
    "            # ...after a 60 seconds delay to avoid running into the next timeout by the Crossref server\n",
    "            Sys.sleep(60)\n",
    "            i <- next_index - 1\n",
    "        } else {\n",
    "            stop(e)\n",
    "        }\n",
    "  })\n",
    "}\n",
    "\n",
    "print(\"Loop done\")"
   ]
  },
  {
   "cell_type": "code",
   "execution_count": 18,
   "id": "91de7301-b3c1-4585-a255-fe25306b83c2",
   "metadata": {
    "vscode": {
     "languageId": "r"
    }
   },
   "outputs": [
    {
     "name": "stderr",
     "output_type": "stream",
     "text": [
      "\u001b[1mRows: \u001b[22m\u001b[34m123591\u001b[39m \u001b[1mColumns: \u001b[22m\u001b[34m2\u001b[39m\n",
      "\u001b[36m--\u001b[39m \u001b[1mColumn specification\u001b[22m \u001b[36m--------------------------------------------------------\u001b[39m\n",
      "\u001b[1mDelimiter:\u001b[22m \";\"\n",
      "\u001b[31mchr\u001b[39m (1): doi\n",
      "\u001b[32mdbl\u001b[39m (1): is.referenced.by.count\n",
      "\n",
      "\u001b[36mi\u001b[39m Use `spec()` to retrieve the full column specification for this data.\n",
      "\u001b[36mi\u001b[39m Specify the column types or set `show_col_types = FALSE` to quiet this message.\n"
     ]
    }
   ],
   "source": [
    "# Work with the final bucket\n",
    "file_name.2 <- \"3_PublicationCitations_20230516.csv\"\n",
    "publication_citations <- read_delim(file_name.2, delim = \";\", col_names=TRUE)"
   ]
  },
  {
   "cell_type": "code",
   "execution_count": 19,
   "id": "8a3b978a-3484-4541-8274-498ffbceb94f",
   "metadata": {
    "vscode": {
     "languageId": "r"
    }
   },
   "outputs": [],
   "source": [
    "# Make unique\n",
    "publication_citations <- unique(publication_citations)"
   ]
  },
  {
   "cell_type": "code",
   "execution_count": 20,
   "id": "770dd673-dcef-4093-9896-422fd59f86fe",
   "metadata": {
    "vscode": {
     "languageId": "r"
    }
   },
   "outputs": [
    {
     "data": {
      "text/html": [
       "<table class=\"dataframe\">\n",
       "<caption>A tibble: 6 × 2</caption>\n",
       "<thead>\n",
       "\t<tr><th scope=col>doi</th><th scope=col>is.referenced.by.count</th></tr>\n",
       "\t<tr><th scope=col>&lt;chr&gt;</th><th scope=col>&lt;dbl&gt;</th></tr>\n",
       "</thead>\n",
       "<tbody>\n",
       "\t<tr><td>10.1016/j.sbi.2018.03.017   </td><td>30</td></tr>\n",
       "\t<tr><td>10.3791/58109               </td><td> 5</td></tr>\n",
       "\t<tr><td>10.1371/journal.pcbi.1004848</td><td>48</td></tr>\n",
       "\t<tr><td>10.1007/s00204-017-1994-x   </td><td>22</td></tr>\n",
       "\t<tr><td>10.1016/j.neuron.2014.11.024</td><td>56</td></tr>\n",
       "\t<tr><td>10.1016/j.celrep.2017.10.004</td><td>30</td></tr>\n",
       "</tbody>\n",
       "</table>\n"
      ],
      "text/latex": [
       "A tibble: 6 × 2\n",
       "\\begin{tabular}{ll}\n",
       " doi & is.referenced.by.count\\\\\n",
       " <chr> & <dbl>\\\\\n",
       "\\hline\n",
       "\t 10.1016/j.sbi.2018.03.017    & 30\\\\\n",
       "\t 10.3791/58109                &  5\\\\\n",
       "\t 10.1371/journal.pcbi.1004848 & 48\\\\\n",
       "\t 10.1007/s00204-017-1994-x    & 22\\\\\n",
       "\t 10.1016/j.neuron.2014.11.024 & 56\\\\\n",
       "\t 10.1016/j.celrep.2017.10.004 & 30\\\\\n",
       "\\end{tabular}\n"
      ],
      "text/markdown": [
       "\n",
       "A tibble: 6 × 2\n",
       "\n",
       "| doi &lt;chr&gt; | is.referenced.by.count &lt;dbl&gt; |\n",
       "|---|---|\n",
       "| 10.1016/j.sbi.2018.03.017    | 30 |\n",
       "| 10.3791/58109                |  5 |\n",
       "| 10.1371/journal.pcbi.1004848 | 48 |\n",
       "| 10.1007/s00204-017-1994-x    | 22 |\n",
       "| 10.1016/j.neuron.2014.11.024 | 56 |\n",
       "| 10.1016/j.celrep.2017.10.004 | 30 |\n",
       "\n"
      ],
      "text/plain": [
       "  doi                          is.referenced.by.count\n",
       "1 10.1016/j.sbi.2018.03.017    30                    \n",
       "2 10.3791/58109                 5                    \n",
       "3 10.1371/journal.pcbi.1004848 48                    \n",
       "4 10.1007/s00204-017-1994-x    22                    \n",
       "5 10.1016/j.neuron.2014.11.024 56                    \n",
       "6 10.1016/j.celrep.2017.10.004 30                    "
      ]
     },
     "metadata": {},
     "output_type": "display_data"
    }
   ],
   "source": [
    "head(publication_citations)"
   ]
  },
  {
   "cell_type": "code",
   "execution_count": 21,
   "id": "42e76af9-415f-46d4-8588-49e559a6ed8a",
   "metadata": {
    "vscode": {
     "languageId": "r"
    }
   },
   "outputs": [
    {
     "data": {
      "text/html": [
       "<table class=\"dataframe\">\n",
       "<caption>A tibble: 6 × 3</caption>\n",
       "<thead>\n",
       "\t<tr><th scope=col>GrantNumber</th><th scope=col>ScientificPublication_DOI</th><th scope=col>ScientificPublication_Year</th></tr>\n",
       "\t<tr><th scope=col>&lt;dbl&gt;</th><th scope=col>&lt;chr&gt;</th><th scope=col>&lt;dbl&gt;</th></tr>\n",
       "</thead>\n",
       "<tbody>\n",
       "\t<tr><td>173211</td><td>10.1007/s40262-019-00821-w  </td><td>2020</td></tr>\n",
       "\t<tr><td>179247</td><td>10.1038/s41598-020-60709-9  </td><td>2020</td></tr>\n",
       "\t<tr><td>150758</td><td>10.1038/mi.2014.57          </td><td>2015</td></tr>\n",
       "\t<tr><td>150758</td><td>10.1016/j.immuni.2018.12.020</td><td>2019</td></tr>\n",
       "\t<tr><td>150758</td><td>10.1038/mi.2017.2           </td><td>2017</td></tr>\n",
       "\t<tr><td>150758</td><td>10.4414/smw.2016.14350      </td><td>2016</td></tr>\n",
       "</tbody>\n",
       "</table>\n"
      ],
      "text/latex": [
       "A tibble: 6 × 3\n",
       "\\begin{tabular}{lll}\n",
       " GrantNumber & ScientificPublication\\_DOI & ScientificPublication\\_Year\\\\\n",
       " <dbl> & <chr> & <dbl>\\\\\n",
       "\\hline\n",
       "\t 173211 & 10.1007/s40262-019-00821-w   & 2020\\\\\n",
       "\t 179247 & 10.1038/s41598-020-60709-9   & 2020\\\\\n",
       "\t 150758 & 10.1038/mi.2014.57           & 2015\\\\\n",
       "\t 150758 & 10.1016/j.immuni.2018.12.020 & 2019\\\\\n",
       "\t 150758 & 10.1038/mi.2017.2            & 2017\\\\\n",
       "\t 150758 & 10.4414/smw.2016.14350       & 2016\\\\\n",
       "\\end{tabular}\n"
      ],
      "text/markdown": [
       "\n",
       "A tibble: 6 × 3\n",
       "\n",
       "| GrantNumber &lt;dbl&gt; | ScientificPublication_DOI &lt;chr&gt; | ScientificPublication_Year &lt;dbl&gt; |\n",
       "|---|---|---|\n",
       "| 173211 | 10.1007/s40262-019-00821-w   | 2020 |\n",
       "| 179247 | 10.1038/s41598-020-60709-9   | 2020 |\n",
       "| 150758 | 10.1038/mi.2014.57           | 2015 |\n",
       "| 150758 | 10.1016/j.immuni.2018.12.020 | 2019 |\n",
       "| 150758 | 10.1038/mi.2017.2            | 2017 |\n",
       "| 150758 | 10.4414/smw.2016.14350       | 2016 |\n",
       "\n"
      ],
      "text/plain": [
       "  GrantNumber ScientificPublication_DOI    ScientificPublication_Year\n",
       "1 173211      10.1007/s40262-019-00821-w   2020                      \n",
       "2 179247      10.1038/s41598-020-60709-9   2020                      \n",
       "3 150758      10.1038/mi.2014.57           2015                      \n",
       "4 150758      10.1016/j.immuni.2018.12.020 2019                      \n",
       "5 150758      10.1038/mi.2017.2            2017                      \n",
       "6 150758      10.4414/smw.2016.14350       2016                      "
      ]
     },
     "metadata": {},
     "output_type": "display_data"
    }
   ],
   "source": [
    "head(publications)"
   ]
  },
  {
   "cell_type": "code",
   "execution_count": 22,
   "id": "e55e0ff6-a1ae-407e-9d24-9f992be48bea",
   "metadata": {
    "vscode": {
     "languageId": "r"
    }
   },
   "outputs": [],
   "source": [
    "# Merge publications dataframe with the citation data, order by GrantNumber, and reorder columns\n",
    "citation_data <- merge(publications, publication_citations, by.x=\"ScientificPublication_DOI\", by.y=\"doi\", all=TRUE)\n",
    "citation_data <- arrange(citation_data, GrantNumber)\n",
    "citation_data <- select(citation_data, GrantNumber, ScientificPublication_DOI, ScientificPublication_Year, is.referenced.by.count)"
   ]
  },
  {
   "cell_type": "code",
   "execution_count": 23,
   "id": "d4a54469-d073-47f4-a1e7-ab8703f59527",
   "metadata": {
    "vscode": {
     "languageId": "r"
    }
   },
   "outputs": [
    {
     "data": {
      "text/html": [
       "<table class=\"dataframe\">\n",
       "<caption>A data.frame: 6 × 4</caption>\n",
       "<thead>\n",
       "\t<tr><th></th><th scope=col>GrantNumber</th><th scope=col>ScientificPublication_DOI</th><th scope=col>ScientificPublication_Year</th><th scope=col>is.referenced.by.count</th></tr>\n",
       "\t<tr><th></th><th scope=col>&lt;dbl&gt;</th><th scope=col>&lt;chr&gt;</th><th scope=col>&lt;dbl&gt;</th><th scope=col>&lt;dbl&gt;</th></tr>\n",
       "</thead>\n",
       "<tbody>\n",
       "\t<tr><th scope=row>1</th><td>138726</td><td>10.1016/j.jsv.2014.05.024           </td><td>2015</td><td>  8</td></tr>\n",
       "\t<tr><th scope=row>2</th><td>139011</td><td>10.1016/j.theriogenology.2014.11.030</td><td>2015</td><td> 11</td></tr>\n",
       "\t<tr><th scope=row>3</th><td>139011</td><td>10.1242/jeb.133843                  </td><td>2016</td><td>  8</td></tr>\n",
       "\t<tr><th scope=row>4</th><td>139011</td><td>10.3389/fevo.2016.00067             </td><td>2016</td><td>  6</td></tr>\n",
       "\t<tr><th scope=row>5</th><td>139013</td><td>10.1016/j.cub.2014.01.056           </td><td>2014</td><td>271</td></tr>\n",
       "\t<tr><th scope=row>6</th><td>139013</td><td>10.1016/j.cub.2015.05.058           </td><td>2015</td><td> 62</td></tr>\n",
       "</tbody>\n",
       "</table>\n"
      ],
      "text/latex": [
       "A data.frame: 6 × 4\n",
       "\\begin{tabular}{r|llll}\n",
       "  & GrantNumber & ScientificPublication\\_DOI & ScientificPublication\\_Year & is.referenced.by.count\\\\\n",
       "  & <dbl> & <chr> & <dbl> & <dbl>\\\\\n",
       "\\hline\n",
       "\t1 & 138726 & 10.1016/j.jsv.2014.05.024            & 2015 &   8\\\\\n",
       "\t2 & 139011 & 10.1016/j.theriogenology.2014.11.030 & 2015 &  11\\\\\n",
       "\t3 & 139011 & 10.1242/jeb.133843                   & 2016 &   8\\\\\n",
       "\t4 & 139011 & 10.3389/fevo.2016.00067              & 2016 &   6\\\\\n",
       "\t5 & 139013 & 10.1016/j.cub.2014.01.056            & 2014 & 271\\\\\n",
       "\t6 & 139013 & 10.1016/j.cub.2015.05.058            & 2015 &  62\\\\\n",
       "\\end{tabular}\n"
      ],
      "text/markdown": [
       "\n",
       "A data.frame: 6 × 4\n",
       "\n",
       "| <!--/--> | GrantNumber &lt;dbl&gt; | ScientificPublication_DOI &lt;chr&gt; | ScientificPublication_Year &lt;dbl&gt; | is.referenced.by.count &lt;dbl&gt; |\n",
       "|---|---|---|---|---|\n",
       "| 1 | 138726 | 10.1016/j.jsv.2014.05.024            | 2015 |   8 |\n",
       "| 2 | 139011 | 10.1016/j.theriogenology.2014.11.030 | 2015 |  11 |\n",
       "| 3 | 139011 | 10.1242/jeb.133843                   | 2016 |   8 |\n",
       "| 4 | 139011 | 10.3389/fevo.2016.00067              | 2016 |   6 |\n",
       "| 5 | 139013 | 10.1016/j.cub.2014.01.056            | 2014 | 271 |\n",
       "| 6 | 139013 | 10.1016/j.cub.2015.05.058            | 2015 |  62 |\n",
       "\n"
      ],
      "text/plain": [
       "  GrantNumber ScientificPublication_DOI            ScientificPublication_Year\n",
       "1 138726      10.1016/j.jsv.2014.05.024            2015                      \n",
       "2 139011      10.1016/j.theriogenology.2014.11.030 2015                      \n",
       "3 139011      10.1242/jeb.133843                   2016                      \n",
       "4 139011      10.3389/fevo.2016.00067              2016                      \n",
       "5 139013      10.1016/j.cub.2014.01.056            2014                      \n",
       "6 139013      10.1016/j.cub.2015.05.058            2015                      \n",
       "  is.referenced.by.count\n",
       "1   8                   \n",
       "2  11                   \n",
       "3   8                   \n",
       "4   6                   \n",
       "5 271                   \n",
       "6  62                   "
      ]
     },
     "metadata": {},
     "output_type": "display_data"
    }
   ],
   "source": [
    "head(citation_data)"
   ]
  },
  {
   "cell_type": "code",
   "execution_count": 24,
   "id": "968e7f1b-5d7b-4a37-b29e-9b8bd4ca7313",
   "metadata": {
    "vscode": {
     "languageId": "r"
    }
   },
   "outputs": [],
   "source": [
    "# Group the citation_data by GrantNumber and calculate the total number of citations per grant as well as the unique number of cited publications\n",
    "summarized_citations <- summarise(group_by(citation_data, GrantNumber), \n",
    "                                  NrCitablePublications=n_distinct(ScientificPublication_DOI),\n",
    "                                  NrCitationsTotal=sum(is.referenced.by.count),\n",
    "                                  YearFirstCitablePublication=min(ScientificPublication_Year)\n",
    "                                 )"
   ]
  },
  {
   "cell_type": "code",
   "execution_count": 25,
   "id": "22d3ce76-1526-414d-ac98-b039caf988cd",
   "metadata": {
    "vscode": {
     "languageId": "r"
    }
   },
   "outputs": [
    {
     "data": {
      "text/html": [
       "<table class=\"dataframe\">\n",
       "<caption>A tibble: 6 × 4</caption>\n",
       "<thead>\n",
       "\t<tr><th scope=col>GrantNumber</th><th scope=col>NrCitablePublications</th><th scope=col>NrCitationsTotal</th><th scope=col>YearFirstCitablePublication</th></tr>\n",
       "\t<tr><th scope=col>&lt;dbl&gt;</th><th scope=col>&lt;int&gt;</th><th scope=col>&lt;dbl&gt;</th><th scope=col>&lt;dbl&gt;</th></tr>\n",
       "</thead>\n",
       "<tbody>\n",
       "\t<tr><td>138726</td><td> 1</td><td>   8</td><td>2015</td></tr>\n",
       "\t<tr><td>139011</td><td> 3</td><td>  25</td><td>2015</td></tr>\n",
       "\t<tr><td>139013</td><td>14</td><td>1025</td><td>2013</td></tr>\n",
       "\t<tr><td>139021</td><td>94</td><td>  NA</td><td>2013</td></tr>\n",
       "\t<tr><td>139093</td><td>23</td><td>1488</td><td>2015</td></tr>\n",
       "\t<tr><td>139094</td><td> 9</td><td> 904</td><td>  NA</td></tr>\n",
       "</tbody>\n",
       "</table>\n"
      ],
      "text/latex": [
       "A tibble: 6 × 4\n",
       "\\begin{tabular}{llll}\n",
       " GrantNumber & NrCitablePublications & NrCitationsTotal & YearFirstCitablePublication\\\\\n",
       " <dbl> & <int> & <dbl> & <dbl>\\\\\n",
       "\\hline\n",
       "\t 138726 &  1 &    8 & 2015\\\\\n",
       "\t 139011 &  3 &   25 & 2015\\\\\n",
       "\t 139013 & 14 & 1025 & 2013\\\\\n",
       "\t 139021 & 94 &   NA & 2013\\\\\n",
       "\t 139093 & 23 & 1488 & 2015\\\\\n",
       "\t 139094 &  9 &  904 &   NA\\\\\n",
       "\\end{tabular}\n"
      ],
      "text/markdown": [
       "\n",
       "A tibble: 6 × 4\n",
       "\n",
       "| GrantNumber &lt;dbl&gt; | NrCitablePublications &lt;int&gt; | NrCitationsTotal &lt;dbl&gt; | YearFirstCitablePublication &lt;dbl&gt; |\n",
       "|---|---|---|---|\n",
       "| 138726 |  1 |    8 | 2015 |\n",
       "| 139011 |  3 |   25 | 2015 |\n",
       "| 139013 | 14 | 1025 | 2013 |\n",
       "| 139021 | 94 |   NA | 2013 |\n",
       "| 139093 | 23 | 1488 | 2015 |\n",
       "| 139094 |  9 |  904 |   NA |\n",
       "\n"
      ],
      "text/plain": [
       "  GrantNumber NrCitablePublications NrCitationsTotal\n",
       "1 138726       1                       8            \n",
       "2 139011       3                      25            \n",
       "3 139013      14                    1025            \n",
       "4 139021      94                      NA            \n",
       "5 139093      23                    1488            \n",
       "6 139094       9                     904            \n",
       "  YearFirstCitablePublication\n",
       "1 2015                       \n",
       "2 2015                       \n",
       "3 2013                       \n",
       "4 2013                       \n",
       "5 2015                       \n",
       "6   NA                       "
      ]
     },
     "metadata": {},
     "output_type": "display_data"
    }
   ],
   "source": [
    "head(summarized_citations)"
   ]
  },
  {
   "cell_type": "code",
   "execution_count": 26,
   "id": "a8d9f83e-fc05-4ea3-911b-0d1a29aae314",
   "metadata": {
    "vscode": {
     "languageId": "r"
    }
   },
   "outputs": [
    {
     "name": "stderr",
     "output_type": "stream",
     "text": [
      "\u001b[1mRows: \u001b[22m\u001b[34m7609\u001b[39m \u001b[1mColumns: \u001b[22m\u001b[34m44\u001b[39m\n",
      "\u001b[36m--\u001b[39m \u001b[1mColumn specification\u001b[22m \u001b[36m--------------------------------------------------------\u001b[39m\n",
      "\u001b[1mDelimiter:\u001b[22m \";\"\n",
      "\u001b[31mchr\u001b[39m   (7): State, FundingInstrumentLevel1, ResearchInstitution, InstituteCou...\n",
      "\u001b[32mdbl\u001b[39m  (32): GrantNumber, CallDecisionYear, GrantDurationDays, GrantDurationYe...\n",
      "\u001b[34mdate\u001b[39m  (5): EffectiveGrantStartDate, EffectiveGrantEndDate, DateFirstAcademic...\n",
      "\n",
      "\u001b[36mi\u001b[39m Use `spec()` to retrieve the full column specification for this data.\n",
      "\u001b[36mi\u001b[39m Specify the column types or set `show_col_types = FALSE` to quiet this message.\n"
     ]
    }
   ],
   "source": [
    "# Load the prepared subset\n",
    "biomed_grants <- read_delim(\"2_BiomedGrantsSubset.csv\", delim = \";\", col_names=TRUE)"
   ]
  },
  {
   "cell_type": "code",
   "execution_count": 27,
   "id": "27ec9c99-eef1-4282-90c3-eff0fe08f186",
   "metadata": {
    "vscode": {
     "languageId": "r"
    }
   },
   "outputs": [],
   "source": [
    "# Merge summarized citation data with the grant data of interest\n",
    "biomed_grant_data <- left_join(biomed_grants, summarized_citations, by=\"GrantNumber\")"
   ]
  },
  {
   "cell_type": "code",
   "execution_count": 28,
   "id": "fa178b1c",
   "metadata": {
    "vscode": {
     "languageId": "r"
    }
   },
   "outputs": [],
   "source": [
    "biomed_grant_data <- arrange(biomed_grant_data, CallDecisionYear)"
   ]
  },
  {
   "cell_type": "code",
   "execution_count": 29,
   "id": "f51eb01d-e7e7-4053-92ac-a8cb776fa215",
   "metadata": {
    "vscode": {
     "languageId": "r"
    }
   },
   "outputs": [
    {
     "data": {
      "text/html": [
       "<table class=\"dataframe\">\n",
       "<caption>A tibble: 6 × 47</caption>\n",
       "<thead>\n",
       "\t<tr><th scope=col>GrantNumber</th><th scope=col>CallDecisionYear</th><th scope=col>EffectiveGrantStartDate</th><th scope=col>GrantDurationDays</th><th scope=col>GrantDurationYears</th><th scope=col>EffectiveGrantEndDate</th><th scope=col>State</th><th scope=col>FundingInstrumentLevel1</th><th scope=col>AmountGrantedAllSets</th><th scope=col>AmountPerYear</th><th scope=col>AmountPerEmployee</th><th scope=col>AmountPerEmployeeAndYear</th><th scope=col>ResearchInstitution</th><th scope=col>InstituteCountry</th><th scope=col>MainDiscipline_Level1</th><th scope=col>MainDiscipline_Level2</th><th scope=col>MainDiscipline</th><th scope=col>NrEmployees</th><th scope=col>NrEmployeesPerYear</th><th scope=col>NrCollaborations</th><th scope=col>NrCollaborationsPerYear</th><th scope=col>NrAcademicEvents</th><th scope=col>NrAcademicEventsPerYear</th><th scope=col>DateFirstAcademicEvent</th><th scope=col>NrAwards</th><th scope=col>NrAwardsPerYear</th><th scope=col>YearFirstAward</th><th scope=col>NrDatasets</th><th scope=col>NrDatasetsPerYear</th><th scope=col>DateFirstDataset</th><th scope=col>NrKnowledgeTransfer</th><th scope=col>NrKnowledgeTransferPerYear</th><th scope=col>DateFirstKnowledgeTransfer</th><th scope=col>NrCommunication</th><th scope=col>NrCommunicationPerYear</th><th scope=col>YearFirstCommunication</th><th scope=col>NrTotalPublications</th><th scope=col>NrTotalPublicationsPerYear</th><th scope=col>YearFirstPublication</th><th scope=col>NrUses</th><th scope=col>NrUsesPerYear</th><th scope=col>YearFirstUse</th><th scope=col>NrTotalOutputs</th><th scope=col>NrTotalOutputsPerYear</th><th scope=col>NrCitablePublications</th><th scope=col>NrCitationsTotal</th><th scope=col>YearFirstCitablePublication</th></tr>\n",
       "\t<tr><th scope=col>&lt;dbl&gt;</th><th scope=col>&lt;dbl&gt;</th><th scope=col>&lt;date&gt;</th><th scope=col>&lt;dbl&gt;</th><th scope=col>&lt;dbl&gt;</th><th scope=col>&lt;date&gt;</th><th scope=col>&lt;chr&gt;</th><th scope=col>&lt;chr&gt;</th><th scope=col>&lt;dbl&gt;</th><th scope=col>&lt;dbl&gt;</th><th scope=col>&lt;dbl&gt;</th><th scope=col>&lt;dbl&gt;</th><th scope=col>&lt;chr&gt;</th><th scope=col>&lt;chr&gt;</th><th scope=col>&lt;chr&gt;</th><th scope=col>&lt;chr&gt;</th><th scope=col>&lt;chr&gt;</th><th scope=col>&lt;dbl&gt;</th><th scope=col>&lt;dbl&gt;</th><th scope=col>&lt;dbl&gt;</th><th scope=col>&lt;dbl&gt;</th><th scope=col>&lt;dbl&gt;</th><th scope=col>&lt;dbl&gt;</th><th scope=col>&lt;date&gt;</th><th scope=col>&lt;dbl&gt;</th><th scope=col>&lt;dbl&gt;</th><th scope=col>&lt;dbl&gt;</th><th scope=col>&lt;dbl&gt;</th><th scope=col>&lt;dbl&gt;</th><th scope=col>&lt;date&gt;</th><th scope=col>&lt;dbl&gt;</th><th scope=col>&lt;dbl&gt;</th><th scope=col>&lt;date&gt;</th><th scope=col>&lt;dbl&gt;</th><th scope=col>&lt;dbl&gt;</th><th scope=col>&lt;dbl&gt;</th><th scope=col>&lt;dbl&gt;</th><th scope=col>&lt;dbl&gt;</th><th scope=col>&lt;dbl&gt;</th><th scope=col>&lt;dbl&gt;</th><th scope=col>&lt;dbl&gt;</th><th scope=col>&lt;dbl&gt;</th><th scope=col>&lt;dbl&gt;</th><th scope=col>&lt;dbl&gt;</th><th scope=col>&lt;int&gt;</th><th scope=col>&lt;dbl&gt;</th><th scope=col>&lt;dbl&gt;</th></tr>\n",
       "</thead>\n",
       "<tbody>\n",
       "\t<tr><td>142628</td><td>2012</td><td>2013-09-01</td><td>1490</td><td>4.0821918</td><td>2017-09-30</td><td>Completed</td><td>Careers </td><td>578812</td><td>141789.52</td><td>192937.33</td><td> 47263.17</td><td>University of Lausanne - LA                  </td><td>Switzerland             </td><td>Biology and Medicine</td><td>General Biology                                              </td><td>Ecology                                 </td><td>3</td><td>0.7348993</td><td>2</td><td>0.4899329</td><td> 4</td><td>0.9798658</td><td>2015-03-10</td><td>1</td><td>0.2449664</td><td>2013</td><td>0</td><td>0</td><td>NA</td><td>0</td><td>0</td><td>NA</td><td>0</td><td>0.0000000</td><td>  NA</td><td>8</td><td>1.9597315</td><td>2014</td><td>1</td><td>0.2449664</td><td>2015</td><td>14</td><td> 3.429530</td><td> 7</td><td>293</td><td>2014</td></tr>\n",
       "\t<tr><td>142615</td><td>2012</td><td>2013-04-01</td><td>1095</td><td>3.0000000</td><td>2016-03-31</td><td>Completed</td><td>Careers </td><td>534863</td><td>178287.67</td><td>267431.50</td><td> 89143.83</td><td>ETH Zurich - ETHZ                            </td><td>Switzerland             </td><td>Biology and Medicine</td><td>Basic Biological Research                                    </td><td>Cellular Biology, Cytology              </td><td>2</td><td>0.6666667</td><td>9</td><td>3.0000000</td><td>16</td><td>5.3333333</td><td>2013-05-16</td><td>0</td><td>0.0000000</td><td>  NA</td><td>0</td><td>0</td><td>NA</td><td>0</td><td>0</td><td>NA</td><td>1</td><td>0.3333333</td><td>2013</td><td>8</td><td>2.6666667</td><td>  NA</td><td>0</td><td>0.0000000</td><td>  NA</td><td>25</td><td> 8.333333</td><td> 6</td><td> NA</td><td>  NA</td></tr>\n",
       "\t<tr><td>144100</td><td>2012</td><td>2013-09-01</td><td>1641</td><td>4.4958904</td><td>2018-02-28</td><td>Completed</td><td>Projects</td><td>291191</td><td> 64768.26</td><td> 72797.75</td><td> 16192.07</td><td>University of Berne - BE                     </td><td>Switzerland             </td><td>Biology and Medicine</td><td>Preventive Medicine (Epidemiology/Early Diagnosis/Prevention)</td><td>Mental Disorders, Psychosomatic Diseases</td><td>4</td><td>0.8897014</td><td>6</td><td>1.3345521</td><td>43</td><td>9.5642901</td><td>2014-03-01</td><td>0</td><td>0.0000000</td><td>  NA</td><td>0</td><td>0</td><td>NA</td><td>0</td><td>0</td><td>NA</td><td>0</td><td>0.0000000</td><td>  NA</td><td>4</td><td>0.8897014</td><td>  NA</td><td>0</td><td>0.0000000</td><td>  NA</td><td>47</td><td>10.453991</td><td> 3</td><td>145</td><td>2015</td></tr>\n",
       "\t<tr><td>147291</td><td>2012</td><td>2013-02-01</td><td> 364</td><td>0.9972603</td><td>2014-01-31</td><td>Completed</td><td>Careers </td><td> 60400</td><td> 60565.93</td><td>     0.00</td><td>     0.00</td><td>Institution abroad - United States of America</td><td>United States of America</td><td>Biology and Medicine</td><td>Basic Biological Research                                    </td><td>Biochemistry                            </td><td>0</td><td>0.0000000</td><td>1</td><td>1.0027473</td><td> 1</td><td>1.0027473</td><td>2013-05-06</td><td>0</td><td>0.0000000</td><td>  NA</td><td>0</td><td>0</td><td>NA</td><td>0</td><td>0</td><td>NA</td><td>0</td><td>0.0000000</td><td>  NA</td><td>0</td><td>0.0000000</td><td>  NA</td><td>0</td><td>0.0000000</td><td>  NA</td><td> 1</td><td> 1.002747</td><td>NA</td><td> NA</td><td>  NA</td></tr>\n",
       "\t<tr><td>142408</td><td>2012</td><td>2013-01-01</td><td> 545</td><td>1.4931507</td><td>2014-06-30</td><td>Completed</td><td>Careers </td><td>584267</td><td>391298.08</td><td>584267.00</td><td>391298.08</td><td>University of Zurich - ZH                    </td><td>Switzerland             </td><td>Biology and Medicine</td><td>Basic Biological Research                                    </td><td>Experimental Microbiology               </td><td>1</td><td>0.6697248</td><td>4</td><td>2.6788991</td><td> 4</td><td>2.6788991</td><td>2013-05-07</td><td>0</td><td>0.0000000</td><td>  NA</td><td>0</td><td>0</td><td>NA</td><td>0</td><td>0</td><td>NA</td><td>0</td><td>0.0000000</td><td>  NA</td><td>2</td><td>1.3394495</td><td>2013</td><td>0</td><td>0.0000000</td><td>  NA</td><td> 6</td><td> 4.018349</td><td> 1</td><td> NA</td><td>2013</td></tr>\n",
       "\t<tr><td>143733</td><td>2012</td><td>2013-01-01</td><td>1276</td><td>3.4958904</td><td>2016-06-30</td><td>Completed</td><td>Projects</td><td>500000</td><td>143025.08</td><td>125000.00</td><td> 35756.27</td><td>University of Geneva - GE                    </td><td>Switzerland             </td><td>Biology and Medicine</td><td>Basic Biological Research                                    </td><td>Biochemistry                            </td><td>4</td><td>1.1442006</td><td>6</td><td>1.7163009</td><td>18</td><td>5.1489028</td><td>2013-05-16</td><td>0</td><td>0.0000000</td><td>  NA</td><td>0</td><td>0</td><td>NA</td><td>0</td><td>0</td><td>NA</td><td>6</td><td>1.7163009</td><td>2013</td><td>9</td><td>2.5744514</td><td>  NA</td><td>0</td><td>0.0000000</td><td>  NA</td><td>33</td><td> 9.439655</td><td> 8</td><td>216</td><td>  NA</td></tr>\n",
       "</tbody>\n",
       "</table>\n"
      ],
      "text/latex": [
       "A tibble: 6 × 47\n",
       "\\begin{tabular}{lllllllllllllllllllllllllllllllllllllllllllllll}\n",
       " GrantNumber & CallDecisionYear & EffectiveGrantStartDate & GrantDurationDays & GrantDurationYears & EffectiveGrantEndDate & State & FundingInstrumentLevel1 & AmountGrantedAllSets & AmountPerYear & AmountPerEmployee & AmountPerEmployeeAndYear & ResearchInstitution & InstituteCountry & MainDiscipline\\_Level1 & MainDiscipline\\_Level2 & MainDiscipline & NrEmployees & NrEmployeesPerYear & NrCollaborations & NrCollaborationsPerYear & NrAcademicEvents & NrAcademicEventsPerYear & DateFirstAcademicEvent & NrAwards & NrAwardsPerYear & YearFirstAward & NrDatasets & NrDatasetsPerYear & DateFirstDataset & NrKnowledgeTransfer & NrKnowledgeTransferPerYear & DateFirstKnowledgeTransfer & NrCommunication & NrCommunicationPerYear & YearFirstCommunication & NrTotalPublications & NrTotalPublicationsPerYear & YearFirstPublication & NrUses & NrUsesPerYear & YearFirstUse & NrTotalOutputs & NrTotalOutputsPerYear & NrCitablePublications & NrCitationsTotal & YearFirstCitablePublication\\\\\n",
       " <dbl> & <dbl> & <date> & <dbl> & <dbl> & <date> & <chr> & <chr> & <dbl> & <dbl> & <dbl> & <dbl> & <chr> & <chr> & <chr> & <chr> & <chr> & <dbl> & <dbl> & <dbl> & <dbl> & <dbl> & <dbl> & <date> & <dbl> & <dbl> & <dbl> & <dbl> & <dbl> & <date> & <dbl> & <dbl> & <date> & <dbl> & <dbl> & <dbl> & <dbl> & <dbl> & <dbl> & <dbl> & <dbl> & <dbl> & <dbl> & <dbl> & <int> & <dbl> & <dbl>\\\\\n",
       "\\hline\n",
       "\t 142628 & 2012 & 2013-09-01 & 1490 & 4.0821918 & 2017-09-30 & Completed & Careers  & 578812 & 141789.52 & 192937.33 &  47263.17 & University of Lausanne - LA                   & Switzerland              & Biology and Medicine & General Biology                                               & Ecology                                  & 3 & 0.7348993 & 2 & 0.4899329 &  4 & 0.9798658 & 2015-03-10 & 1 & 0.2449664 & 2013 & 0 & 0 & NA & 0 & 0 & NA & 0 & 0.0000000 &   NA & 8 & 1.9597315 & 2014 & 1 & 0.2449664 & 2015 & 14 &  3.429530 &  7 & 293 & 2014\\\\\n",
       "\t 142615 & 2012 & 2013-04-01 & 1095 & 3.0000000 & 2016-03-31 & Completed & Careers  & 534863 & 178287.67 & 267431.50 &  89143.83 & ETH Zurich - ETHZ                             & Switzerland              & Biology and Medicine & Basic Biological Research                                     & Cellular Biology, Cytology               & 2 & 0.6666667 & 9 & 3.0000000 & 16 & 5.3333333 & 2013-05-16 & 0 & 0.0000000 &   NA & 0 & 0 & NA & 0 & 0 & NA & 1 & 0.3333333 & 2013 & 8 & 2.6666667 &   NA & 0 & 0.0000000 &   NA & 25 &  8.333333 &  6 &  NA &   NA\\\\\n",
       "\t 144100 & 2012 & 2013-09-01 & 1641 & 4.4958904 & 2018-02-28 & Completed & Projects & 291191 &  64768.26 &  72797.75 &  16192.07 & University of Berne - BE                      & Switzerland              & Biology and Medicine & Preventive Medicine (Epidemiology/Early Diagnosis/Prevention) & Mental Disorders, Psychosomatic Diseases & 4 & 0.8897014 & 6 & 1.3345521 & 43 & 9.5642901 & 2014-03-01 & 0 & 0.0000000 &   NA & 0 & 0 & NA & 0 & 0 & NA & 0 & 0.0000000 &   NA & 4 & 0.8897014 &   NA & 0 & 0.0000000 &   NA & 47 & 10.453991 &  3 & 145 & 2015\\\\\n",
       "\t 147291 & 2012 & 2013-02-01 &  364 & 0.9972603 & 2014-01-31 & Completed & Careers  &  60400 &  60565.93 &      0.00 &      0.00 & Institution abroad - United States of America & United States of America & Biology and Medicine & Basic Biological Research                                     & Biochemistry                             & 0 & 0.0000000 & 1 & 1.0027473 &  1 & 1.0027473 & 2013-05-06 & 0 & 0.0000000 &   NA & 0 & 0 & NA & 0 & 0 & NA & 0 & 0.0000000 &   NA & 0 & 0.0000000 &   NA & 0 & 0.0000000 &   NA &  1 &  1.002747 & NA &  NA &   NA\\\\\n",
       "\t 142408 & 2012 & 2013-01-01 &  545 & 1.4931507 & 2014-06-30 & Completed & Careers  & 584267 & 391298.08 & 584267.00 & 391298.08 & University of Zurich - ZH                     & Switzerland              & Biology and Medicine & Basic Biological Research                                     & Experimental Microbiology                & 1 & 0.6697248 & 4 & 2.6788991 &  4 & 2.6788991 & 2013-05-07 & 0 & 0.0000000 &   NA & 0 & 0 & NA & 0 & 0 & NA & 0 & 0.0000000 &   NA & 2 & 1.3394495 & 2013 & 0 & 0.0000000 &   NA &  6 &  4.018349 &  1 &  NA & 2013\\\\\n",
       "\t 143733 & 2012 & 2013-01-01 & 1276 & 3.4958904 & 2016-06-30 & Completed & Projects & 500000 & 143025.08 & 125000.00 &  35756.27 & University of Geneva - GE                     & Switzerland              & Biology and Medicine & Basic Biological Research                                     & Biochemistry                             & 4 & 1.1442006 & 6 & 1.7163009 & 18 & 5.1489028 & 2013-05-16 & 0 & 0.0000000 &   NA & 0 & 0 & NA & 0 & 0 & NA & 6 & 1.7163009 & 2013 & 9 & 2.5744514 &   NA & 0 & 0.0000000 &   NA & 33 &  9.439655 &  8 & 216 &   NA\\\\\n",
       "\\end{tabular}\n"
      ],
      "text/markdown": [
       "\n",
       "A tibble: 6 × 47\n",
       "\n",
       "| GrantNumber &lt;dbl&gt; | CallDecisionYear &lt;dbl&gt; | EffectiveGrantStartDate &lt;date&gt; | GrantDurationDays &lt;dbl&gt; | GrantDurationYears &lt;dbl&gt; | EffectiveGrantEndDate &lt;date&gt; | State &lt;chr&gt; | FundingInstrumentLevel1 &lt;chr&gt; | AmountGrantedAllSets &lt;dbl&gt; | AmountPerYear &lt;dbl&gt; | AmountPerEmployee &lt;dbl&gt; | AmountPerEmployeeAndYear &lt;dbl&gt; | ResearchInstitution &lt;chr&gt; | InstituteCountry &lt;chr&gt; | MainDiscipline_Level1 &lt;chr&gt; | MainDiscipline_Level2 &lt;chr&gt; | MainDiscipline &lt;chr&gt; | NrEmployees &lt;dbl&gt; | NrEmployeesPerYear &lt;dbl&gt; | NrCollaborations &lt;dbl&gt; | NrCollaborationsPerYear &lt;dbl&gt; | NrAcademicEvents &lt;dbl&gt; | NrAcademicEventsPerYear &lt;dbl&gt; | DateFirstAcademicEvent &lt;date&gt; | NrAwards &lt;dbl&gt; | NrAwardsPerYear &lt;dbl&gt; | YearFirstAward &lt;dbl&gt; | NrDatasets &lt;dbl&gt; | NrDatasetsPerYear &lt;dbl&gt; | DateFirstDataset &lt;date&gt; | NrKnowledgeTransfer &lt;dbl&gt; | NrKnowledgeTransferPerYear &lt;dbl&gt; | DateFirstKnowledgeTransfer &lt;date&gt; | NrCommunication &lt;dbl&gt; | NrCommunicationPerYear &lt;dbl&gt; | YearFirstCommunication &lt;dbl&gt; | NrTotalPublications &lt;dbl&gt; | NrTotalPublicationsPerYear &lt;dbl&gt; | YearFirstPublication &lt;dbl&gt; | NrUses &lt;dbl&gt; | NrUsesPerYear &lt;dbl&gt; | YearFirstUse &lt;dbl&gt; | NrTotalOutputs &lt;dbl&gt; | NrTotalOutputsPerYear &lt;dbl&gt; | NrCitablePublications &lt;int&gt; | NrCitationsTotal &lt;dbl&gt; | YearFirstCitablePublication &lt;dbl&gt; |\n",
       "|---|---|---|---|---|---|---|---|---|---|---|---|---|---|---|---|---|---|---|---|---|---|---|---|---|---|---|---|---|---|---|---|---|---|---|---|---|---|---|---|---|---|---|---|---|---|---|\n",
       "| 142628 | 2012 | 2013-09-01 | 1490 | 4.0821918 | 2017-09-30 | Completed | Careers  | 578812 | 141789.52 | 192937.33 |  47263.17 | University of Lausanne - LA                   | Switzerland              | Biology and Medicine | General Biology                                               | Ecology                                  | 3 | 0.7348993 | 2 | 0.4899329 |  4 | 0.9798658 | 2015-03-10 | 1 | 0.2449664 | 2013 | 0 | 0 | NA | 0 | 0 | NA | 0 | 0.0000000 |   NA | 8 | 1.9597315 | 2014 | 1 | 0.2449664 | 2015 | 14 |  3.429530 |  7 | 293 | 2014 |\n",
       "| 142615 | 2012 | 2013-04-01 | 1095 | 3.0000000 | 2016-03-31 | Completed | Careers  | 534863 | 178287.67 | 267431.50 |  89143.83 | ETH Zurich - ETHZ                             | Switzerland              | Biology and Medicine | Basic Biological Research                                     | Cellular Biology, Cytology               | 2 | 0.6666667 | 9 | 3.0000000 | 16 | 5.3333333 | 2013-05-16 | 0 | 0.0000000 |   NA | 0 | 0 | NA | 0 | 0 | NA | 1 | 0.3333333 | 2013 | 8 | 2.6666667 |   NA | 0 | 0.0000000 |   NA | 25 |  8.333333 |  6 |  NA |   NA |\n",
       "| 144100 | 2012 | 2013-09-01 | 1641 | 4.4958904 | 2018-02-28 | Completed | Projects | 291191 |  64768.26 |  72797.75 |  16192.07 | University of Berne - BE                      | Switzerland              | Biology and Medicine | Preventive Medicine (Epidemiology/Early Diagnosis/Prevention) | Mental Disorders, Psychosomatic Diseases | 4 | 0.8897014 | 6 | 1.3345521 | 43 | 9.5642901 | 2014-03-01 | 0 | 0.0000000 |   NA | 0 | 0 | NA | 0 | 0 | NA | 0 | 0.0000000 |   NA | 4 | 0.8897014 |   NA | 0 | 0.0000000 |   NA | 47 | 10.453991 |  3 | 145 | 2015 |\n",
       "| 147291 | 2012 | 2013-02-01 |  364 | 0.9972603 | 2014-01-31 | Completed | Careers  |  60400 |  60565.93 |      0.00 |      0.00 | Institution abroad - United States of America | United States of America | Biology and Medicine | Basic Biological Research                                     | Biochemistry                             | 0 | 0.0000000 | 1 | 1.0027473 |  1 | 1.0027473 | 2013-05-06 | 0 | 0.0000000 |   NA | 0 | 0 | NA | 0 | 0 | NA | 0 | 0.0000000 |   NA | 0 | 0.0000000 |   NA | 0 | 0.0000000 |   NA |  1 |  1.002747 | NA |  NA |   NA |\n",
       "| 142408 | 2012 | 2013-01-01 |  545 | 1.4931507 | 2014-06-30 | Completed | Careers  | 584267 | 391298.08 | 584267.00 | 391298.08 | University of Zurich - ZH                     | Switzerland              | Biology and Medicine | Basic Biological Research                                     | Experimental Microbiology                | 1 | 0.6697248 | 4 | 2.6788991 |  4 | 2.6788991 | 2013-05-07 | 0 | 0.0000000 |   NA | 0 | 0 | NA | 0 | 0 | NA | 0 | 0.0000000 |   NA | 2 | 1.3394495 | 2013 | 0 | 0.0000000 |   NA |  6 |  4.018349 |  1 |  NA | 2013 |\n",
       "| 143733 | 2012 | 2013-01-01 | 1276 | 3.4958904 | 2016-06-30 | Completed | Projects | 500000 | 143025.08 | 125000.00 |  35756.27 | University of Geneva - GE                     | Switzerland              | Biology and Medicine | Basic Biological Research                                     | Biochemistry                             | 4 | 1.1442006 | 6 | 1.7163009 | 18 | 5.1489028 | 2013-05-16 | 0 | 0.0000000 |   NA | 0 | 0 | NA | 0 | 0 | NA | 6 | 1.7163009 | 2013 | 9 | 2.5744514 |   NA | 0 | 0.0000000 |   NA | 33 |  9.439655 |  8 | 216 |   NA |\n",
       "\n"
      ],
      "text/plain": [
       "  GrantNumber CallDecisionYear EffectiveGrantStartDate GrantDurationDays\n",
       "1 142628      2012             2013-09-01              1490             \n",
       "2 142615      2012             2013-04-01              1095             \n",
       "3 144100      2012             2013-09-01              1641             \n",
       "4 147291      2012             2013-02-01               364             \n",
       "5 142408      2012             2013-01-01               545             \n",
       "6 143733      2012             2013-01-01              1276             \n",
       "  GrantDurationYears EffectiveGrantEndDate State     FundingInstrumentLevel1\n",
       "1 4.0821918          2017-09-30            Completed Careers                \n",
       "2 3.0000000          2016-03-31            Completed Careers                \n",
       "3 4.4958904          2018-02-28            Completed Projects               \n",
       "4 0.9972603          2014-01-31            Completed Careers                \n",
       "5 1.4931507          2014-06-30            Completed Careers                \n",
       "6 3.4958904          2016-06-30            Completed Projects               \n",
       "  AmountGrantedAllSets AmountPerYear AmountPerEmployee AmountPerEmployeeAndYear\n",
       "1 578812               141789.52     192937.33          47263.17               \n",
       "2 534863               178287.67     267431.50          89143.83               \n",
       "3 291191                64768.26      72797.75          16192.07               \n",
       "4  60400                60565.93          0.00              0.00               \n",
       "5 584267               391298.08     584267.00         391298.08               \n",
       "6 500000               143025.08     125000.00          35756.27               \n",
       "  ResearchInstitution                           InstituteCountry        \n",
       "1 University of Lausanne - LA                   Switzerland             \n",
       "2 ETH Zurich - ETHZ                             Switzerland             \n",
       "3 University of Berne - BE                      Switzerland             \n",
       "4 Institution abroad - United States of America United States of America\n",
       "5 University of Zurich - ZH                     Switzerland             \n",
       "6 University of Geneva - GE                     Switzerland             \n",
       "  MainDiscipline_Level1\n",
       "1 Biology and Medicine \n",
       "2 Biology and Medicine \n",
       "3 Biology and Medicine \n",
       "4 Biology and Medicine \n",
       "5 Biology and Medicine \n",
       "6 Biology and Medicine \n",
       "  MainDiscipline_Level2                                        \n",
       "1 General Biology                                              \n",
       "2 Basic Biological Research                                    \n",
       "3 Preventive Medicine (Epidemiology/Early Diagnosis/Prevention)\n",
       "4 Basic Biological Research                                    \n",
       "5 Basic Biological Research                                    \n",
       "6 Basic Biological Research                                    \n",
       "  MainDiscipline                           NrEmployees NrEmployeesPerYear\n",
       "1 Ecology                                  3           0.7348993         \n",
       "2 Cellular Biology, Cytology               2           0.6666667         \n",
       "3 Mental Disorders, Psychosomatic Diseases 4           0.8897014         \n",
       "4 Biochemistry                             0           0.0000000         \n",
       "5 Experimental Microbiology                1           0.6697248         \n",
       "6 Biochemistry                             4           1.1442006         \n",
       "  NrCollaborations NrCollaborationsPerYear NrAcademicEvents\n",
       "1 2                0.4899329                4              \n",
       "2 9                3.0000000               16              \n",
       "3 6                1.3345521               43              \n",
       "4 1                1.0027473                1              \n",
       "5 4                2.6788991                4              \n",
       "6 6                1.7163009               18              \n",
       "  NrAcademicEventsPerYear DateFirstAcademicEvent NrAwards NrAwardsPerYear\n",
       "1 0.9798658               2015-03-10             1        0.2449664      \n",
       "2 5.3333333               2013-05-16             0        0.0000000      \n",
       "3 9.5642901               2014-03-01             0        0.0000000      \n",
       "4 1.0027473               2013-05-06             0        0.0000000      \n",
       "5 2.6788991               2013-05-07             0        0.0000000      \n",
       "6 5.1489028               2013-05-16             0        0.0000000      \n",
       "  YearFirstAward NrDatasets NrDatasetsPerYear DateFirstDataset\n",
       "1 2013           0          0                 <NA>            \n",
       "2   NA           0          0                 <NA>            \n",
       "3   NA           0          0                 <NA>            \n",
       "4   NA           0          0                 <NA>            \n",
       "5   NA           0          0                 <NA>            \n",
       "6   NA           0          0                 <NA>            \n",
       "  NrKnowledgeTransfer NrKnowledgeTransferPerYear DateFirstKnowledgeTransfer\n",
       "1 0                   0                          <NA>                      \n",
       "2 0                   0                          <NA>                      \n",
       "3 0                   0                          <NA>                      \n",
       "4 0                   0                          <NA>                      \n",
       "5 0                   0                          <NA>                      \n",
       "6 0                   0                          <NA>                      \n",
       "  NrCommunication NrCommunicationPerYear YearFirstCommunication\n",
       "1 0               0.0000000                NA                  \n",
       "2 1               0.3333333              2013                  \n",
       "3 0               0.0000000                NA                  \n",
       "4 0               0.0000000                NA                  \n",
       "5 0               0.0000000                NA                  \n",
       "6 6               1.7163009              2013                  \n",
       "  NrTotalPublications NrTotalPublicationsPerYear YearFirstPublication NrUses\n",
       "1 8                   1.9597315                  2014                 1     \n",
       "2 8                   2.6666667                    NA                 0     \n",
       "3 4                   0.8897014                    NA                 0     \n",
       "4 0                   0.0000000                    NA                 0     \n",
       "5 2                   1.3394495                  2013                 0     \n",
       "6 9                   2.5744514                    NA                 0     \n",
       "  NrUsesPerYear YearFirstUse NrTotalOutputs NrTotalOutputsPerYear\n",
       "1 0.2449664     2015         14              3.429530            \n",
       "2 0.0000000       NA         25              8.333333            \n",
       "3 0.0000000       NA         47             10.453991            \n",
       "4 0.0000000       NA          1              1.002747            \n",
       "5 0.0000000       NA          6              4.018349            \n",
       "6 0.0000000       NA         33              9.439655            \n",
       "  NrCitablePublications NrCitationsTotal YearFirstCitablePublication\n",
       "1  7                    293              2014                       \n",
       "2  6                     NA                NA                       \n",
       "3  3                    145              2015                       \n",
       "4 NA                     NA                NA                       \n",
       "5  1                     NA              2013                       \n",
       "6  8                    216                NA                       "
      ]
     },
     "metadata": {},
     "output_type": "display_data"
    }
   ],
   "source": [
    "head(biomed_grant_data)"
   ]
  },
  {
   "cell_type": "code",
   "execution_count": 30,
   "id": "036b8846-fb37-469a-b7cc-37c68912eec7",
   "metadata": {
    "vscode": {
     "languageId": "r"
    }
   },
   "outputs": [],
   "source": [
    "# Add number of uncitable publications (no DOI)\n",
    "biomed_grant_data <- mutate(biomed_grant_data, NrUncitablePublications=NrTotalPublications-NrCitablePublications, .after=YearFirstPublication)\n",
    "\n",
    "# Add number of uncitable publications (no DOI) per year\n",
    "biomed_grant_data <- mutate(biomed_grant_data, NrUncitablePublicationsPerYear=NrUncitablePublications/GrantDurationYears, .after=NrUncitablePublications)\n",
    "\n",
    "# Add number of citable publications per year\n",
    "biomed_grant_data <- mutate(biomed_grant_data, NrCitablePublicationsPerYear=NrCitablePublications/GrantDurationYears, .after=NrCitablePublications)\n",
    "\n",
    "# Add number of citations per citable publication\n",
    "biomed_grant_data <- mutate(biomed_grant_data, NrCitationsPerPublication=NrCitationsTotal/NrCitablePublications, .after=NrCitationsTotal)"
   ]
  },
  {
   "cell_type": "code",
   "execution_count": 31,
   "id": "7f00e0aa-0f20-4002-99f6-15ae5919758e",
   "metadata": {
    "vscode": {
     "languageId": "r"
    }
   },
   "outputs": [
    {
     "data": {
      "text/html": [
       "<table class=\"dataframe\">\n",
       "<caption>A tibble: 6 × 51</caption>\n",
       "<thead>\n",
       "\t<tr><th scope=col>GrantNumber</th><th scope=col>CallDecisionYear</th><th scope=col>EffectiveGrantStartDate</th><th scope=col>GrantDurationDays</th><th scope=col>GrantDurationYears</th><th scope=col>EffectiveGrantEndDate</th><th scope=col>State</th><th scope=col>FundingInstrumentLevel1</th><th scope=col>AmountGrantedAllSets</th><th scope=col>AmountPerYear</th><th scope=col>AmountPerEmployee</th><th scope=col>AmountPerEmployeeAndYear</th><th scope=col>ResearchInstitution</th><th scope=col>InstituteCountry</th><th scope=col>MainDiscipline_Level1</th><th scope=col>MainDiscipline_Level2</th><th scope=col>MainDiscipline</th><th scope=col>NrEmployees</th><th scope=col>NrEmployeesPerYear</th><th scope=col>NrCollaborations</th><th scope=col>NrCollaborationsPerYear</th><th scope=col>NrAcademicEvents</th><th scope=col>NrAcademicEventsPerYear</th><th scope=col>DateFirstAcademicEvent</th><th scope=col>NrAwards</th><th scope=col>NrAwardsPerYear</th><th scope=col>YearFirstAward</th><th scope=col>NrDatasets</th><th scope=col>NrDatasetsPerYear</th><th scope=col>DateFirstDataset</th><th scope=col>NrKnowledgeTransfer</th><th scope=col>NrKnowledgeTransferPerYear</th><th scope=col>DateFirstKnowledgeTransfer</th><th scope=col>NrCommunication</th><th scope=col>NrCommunicationPerYear</th><th scope=col>YearFirstCommunication</th><th scope=col>NrTotalPublications</th><th scope=col>NrTotalPublicationsPerYear</th><th scope=col>YearFirstPublication</th><th scope=col>NrUncitablePublications</th><th scope=col>NrUncitablePublicationsPerYear</th><th scope=col>NrUses</th><th scope=col>NrUsesPerYear</th><th scope=col>YearFirstUse</th><th scope=col>NrTotalOutputs</th><th scope=col>NrTotalOutputsPerYear</th><th scope=col>NrCitablePublications</th><th scope=col>NrCitablePublicationsPerYear</th><th scope=col>NrCitationsTotal</th><th scope=col>NrCitationsPerPublication</th><th scope=col>YearFirstCitablePublication</th></tr>\n",
       "\t<tr><th scope=col>&lt;dbl&gt;</th><th scope=col>&lt;dbl&gt;</th><th scope=col>&lt;date&gt;</th><th scope=col>&lt;dbl&gt;</th><th scope=col>&lt;dbl&gt;</th><th scope=col>&lt;date&gt;</th><th scope=col>&lt;chr&gt;</th><th scope=col>&lt;chr&gt;</th><th scope=col>&lt;dbl&gt;</th><th scope=col>&lt;dbl&gt;</th><th scope=col>&lt;dbl&gt;</th><th scope=col>&lt;dbl&gt;</th><th scope=col>&lt;chr&gt;</th><th scope=col>&lt;chr&gt;</th><th scope=col>&lt;chr&gt;</th><th scope=col>&lt;chr&gt;</th><th scope=col>&lt;chr&gt;</th><th scope=col>&lt;dbl&gt;</th><th scope=col>&lt;dbl&gt;</th><th scope=col>&lt;dbl&gt;</th><th scope=col>&lt;dbl&gt;</th><th scope=col>&lt;dbl&gt;</th><th scope=col>&lt;dbl&gt;</th><th scope=col>&lt;date&gt;</th><th scope=col>&lt;dbl&gt;</th><th scope=col>&lt;dbl&gt;</th><th scope=col>&lt;dbl&gt;</th><th scope=col>&lt;dbl&gt;</th><th scope=col>&lt;dbl&gt;</th><th scope=col>&lt;date&gt;</th><th scope=col>&lt;dbl&gt;</th><th scope=col>&lt;dbl&gt;</th><th scope=col>&lt;date&gt;</th><th scope=col>&lt;dbl&gt;</th><th scope=col>&lt;dbl&gt;</th><th scope=col>&lt;dbl&gt;</th><th scope=col>&lt;dbl&gt;</th><th scope=col>&lt;dbl&gt;</th><th scope=col>&lt;dbl&gt;</th><th scope=col>&lt;dbl&gt;</th><th scope=col>&lt;dbl&gt;</th><th scope=col>&lt;dbl&gt;</th><th scope=col>&lt;dbl&gt;</th><th scope=col>&lt;dbl&gt;</th><th scope=col>&lt;dbl&gt;</th><th scope=col>&lt;dbl&gt;</th><th scope=col>&lt;int&gt;</th><th scope=col>&lt;dbl&gt;</th><th scope=col>&lt;dbl&gt;</th><th scope=col>&lt;dbl&gt;</th><th scope=col>&lt;dbl&gt;</th></tr>\n",
       "</thead>\n",
       "<tbody>\n",
       "\t<tr><td>142628</td><td>2012</td><td>2013-09-01</td><td>1490</td><td>4.0821918</td><td>2017-09-30</td><td>Completed</td><td>Careers </td><td>578812</td><td>141789.52</td><td>192937.33</td><td> 47263.17</td><td>University of Lausanne - LA                  </td><td>Switzerland             </td><td>Biology and Medicine</td><td>General Biology                                              </td><td>Ecology                                 </td><td>3</td><td>0.7348993</td><td>2</td><td>0.4899329</td><td> 4</td><td>0.9798658</td><td>2015-03-10</td><td>1</td><td>0.2449664</td><td>2013</td><td>0</td><td>0</td><td>NA</td><td>0</td><td>0</td><td>NA</td><td>0</td><td>0.0000000</td><td>  NA</td><td>8</td><td>1.9597315</td><td>2014</td><td> 1</td><td>0.2449664</td><td>1</td><td>0.2449664</td><td>2015</td><td>14</td><td> 3.429530</td><td> 7</td><td>1.7147651</td><td>293</td><td>41.85714</td><td>2014</td></tr>\n",
       "\t<tr><td>142615</td><td>2012</td><td>2013-04-01</td><td>1095</td><td>3.0000000</td><td>2016-03-31</td><td>Completed</td><td>Careers </td><td>534863</td><td>178287.67</td><td>267431.50</td><td> 89143.83</td><td>ETH Zurich - ETHZ                            </td><td>Switzerland             </td><td>Biology and Medicine</td><td>Basic Biological Research                                    </td><td>Cellular Biology, Cytology              </td><td>2</td><td>0.6666667</td><td>9</td><td>3.0000000</td><td>16</td><td>5.3333333</td><td>2013-05-16</td><td>0</td><td>0.0000000</td><td>  NA</td><td>0</td><td>0</td><td>NA</td><td>0</td><td>0</td><td>NA</td><td>1</td><td>0.3333333</td><td>2013</td><td>8</td><td>2.6666667</td><td>  NA</td><td> 2</td><td>0.6666667</td><td>0</td><td>0.0000000</td><td>  NA</td><td>25</td><td> 8.333333</td><td> 6</td><td>2.0000000</td><td> NA</td><td>      NA</td><td>  NA</td></tr>\n",
       "\t<tr><td>144100</td><td>2012</td><td>2013-09-01</td><td>1641</td><td>4.4958904</td><td>2018-02-28</td><td>Completed</td><td>Projects</td><td>291191</td><td> 64768.26</td><td> 72797.75</td><td> 16192.07</td><td>University of Berne - BE                     </td><td>Switzerland             </td><td>Biology and Medicine</td><td>Preventive Medicine (Epidemiology/Early Diagnosis/Prevention)</td><td>Mental Disorders, Psychosomatic Diseases</td><td>4</td><td>0.8897014</td><td>6</td><td>1.3345521</td><td>43</td><td>9.5642901</td><td>2014-03-01</td><td>0</td><td>0.0000000</td><td>  NA</td><td>0</td><td>0</td><td>NA</td><td>0</td><td>0</td><td>NA</td><td>0</td><td>0.0000000</td><td>  NA</td><td>4</td><td>0.8897014</td><td>  NA</td><td> 1</td><td>0.2224254</td><td>0</td><td>0.0000000</td><td>  NA</td><td>47</td><td>10.453991</td><td> 3</td><td>0.6672761</td><td>145</td><td>48.33333</td><td>2015</td></tr>\n",
       "\t<tr><td>147291</td><td>2012</td><td>2013-02-01</td><td> 364</td><td>0.9972603</td><td>2014-01-31</td><td>Completed</td><td>Careers </td><td> 60400</td><td> 60565.93</td><td>     0.00</td><td>     0.00</td><td>Institution abroad - United States of America</td><td>United States of America</td><td>Biology and Medicine</td><td>Basic Biological Research                                    </td><td>Biochemistry                            </td><td>0</td><td>0.0000000</td><td>1</td><td>1.0027473</td><td> 1</td><td>1.0027473</td><td>2013-05-06</td><td>0</td><td>0.0000000</td><td>  NA</td><td>0</td><td>0</td><td>NA</td><td>0</td><td>0</td><td>NA</td><td>0</td><td>0.0000000</td><td>  NA</td><td>0</td><td>0.0000000</td><td>  NA</td><td>NA</td><td>       NA</td><td>0</td><td>0.0000000</td><td>  NA</td><td> 1</td><td> 1.002747</td><td>NA</td><td>       NA</td><td> NA</td><td>      NA</td><td>  NA</td></tr>\n",
       "\t<tr><td>142408</td><td>2012</td><td>2013-01-01</td><td> 545</td><td>1.4931507</td><td>2014-06-30</td><td>Completed</td><td>Careers </td><td>584267</td><td>391298.08</td><td>584267.00</td><td>391298.08</td><td>University of Zurich - ZH                    </td><td>Switzerland             </td><td>Biology and Medicine</td><td>Basic Biological Research                                    </td><td>Experimental Microbiology               </td><td>1</td><td>0.6697248</td><td>4</td><td>2.6788991</td><td> 4</td><td>2.6788991</td><td>2013-05-07</td><td>0</td><td>0.0000000</td><td>  NA</td><td>0</td><td>0</td><td>NA</td><td>0</td><td>0</td><td>NA</td><td>0</td><td>0.0000000</td><td>  NA</td><td>2</td><td>1.3394495</td><td>2013</td><td> 1</td><td>0.6697248</td><td>0</td><td>0.0000000</td><td>  NA</td><td> 6</td><td> 4.018349</td><td> 1</td><td>0.6697248</td><td> NA</td><td>      NA</td><td>2013</td></tr>\n",
       "\t<tr><td>143733</td><td>2012</td><td>2013-01-01</td><td>1276</td><td>3.4958904</td><td>2016-06-30</td><td>Completed</td><td>Projects</td><td>500000</td><td>143025.08</td><td>125000.00</td><td> 35756.27</td><td>University of Geneva - GE                    </td><td>Switzerland             </td><td>Biology and Medicine</td><td>Basic Biological Research                                    </td><td>Biochemistry                            </td><td>4</td><td>1.1442006</td><td>6</td><td>1.7163009</td><td>18</td><td>5.1489028</td><td>2013-05-16</td><td>0</td><td>0.0000000</td><td>  NA</td><td>0</td><td>0</td><td>NA</td><td>0</td><td>0</td><td>NA</td><td>6</td><td>1.7163009</td><td>2013</td><td>9</td><td>2.5744514</td><td>  NA</td><td> 1</td><td>0.2860502</td><td>0</td><td>0.0000000</td><td>  NA</td><td>33</td><td> 9.439655</td><td> 8</td><td>2.2884013</td><td>216</td><td>27.00000</td><td>  NA</td></tr>\n",
       "</tbody>\n",
       "</table>\n"
      ],
      "text/latex": [
       "A tibble: 6 × 51\n",
       "\\begin{tabular}{lllllllllllllllllllllllllllllllllllllllllllllllllll}\n",
       " GrantNumber & CallDecisionYear & EffectiveGrantStartDate & GrantDurationDays & GrantDurationYears & EffectiveGrantEndDate & State & FundingInstrumentLevel1 & AmountGrantedAllSets & AmountPerYear & AmountPerEmployee & AmountPerEmployeeAndYear & ResearchInstitution & InstituteCountry & MainDiscipline\\_Level1 & MainDiscipline\\_Level2 & MainDiscipline & NrEmployees & NrEmployeesPerYear & NrCollaborations & NrCollaborationsPerYear & NrAcademicEvents & NrAcademicEventsPerYear & DateFirstAcademicEvent & NrAwards & NrAwardsPerYear & YearFirstAward & NrDatasets & NrDatasetsPerYear & DateFirstDataset & NrKnowledgeTransfer & NrKnowledgeTransferPerYear & DateFirstKnowledgeTransfer & NrCommunication & NrCommunicationPerYear & YearFirstCommunication & NrTotalPublications & NrTotalPublicationsPerYear & YearFirstPublication & NrUncitablePublications & NrUncitablePublicationsPerYear & NrUses & NrUsesPerYear & YearFirstUse & NrTotalOutputs & NrTotalOutputsPerYear & NrCitablePublications & NrCitablePublicationsPerYear & NrCitationsTotal & NrCitationsPerPublication & YearFirstCitablePublication\\\\\n",
       " <dbl> & <dbl> & <date> & <dbl> & <dbl> & <date> & <chr> & <chr> & <dbl> & <dbl> & <dbl> & <dbl> & <chr> & <chr> & <chr> & <chr> & <chr> & <dbl> & <dbl> & <dbl> & <dbl> & <dbl> & <dbl> & <date> & <dbl> & <dbl> & <dbl> & <dbl> & <dbl> & <date> & <dbl> & <dbl> & <date> & <dbl> & <dbl> & <dbl> & <dbl> & <dbl> & <dbl> & <dbl> & <dbl> & <dbl> & <dbl> & <dbl> & <dbl> & <dbl> & <int> & <dbl> & <dbl> & <dbl> & <dbl>\\\\\n",
       "\\hline\n",
       "\t 142628 & 2012 & 2013-09-01 & 1490 & 4.0821918 & 2017-09-30 & Completed & Careers  & 578812 & 141789.52 & 192937.33 &  47263.17 & University of Lausanne - LA                   & Switzerland              & Biology and Medicine & General Biology                                               & Ecology                                  & 3 & 0.7348993 & 2 & 0.4899329 &  4 & 0.9798658 & 2015-03-10 & 1 & 0.2449664 & 2013 & 0 & 0 & NA & 0 & 0 & NA & 0 & 0.0000000 &   NA & 8 & 1.9597315 & 2014 &  1 & 0.2449664 & 1 & 0.2449664 & 2015 & 14 &  3.429530 &  7 & 1.7147651 & 293 & 41.85714 & 2014\\\\\n",
       "\t 142615 & 2012 & 2013-04-01 & 1095 & 3.0000000 & 2016-03-31 & Completed & Careers  & 534863 & 178287.67 & 267431.50 &  89143.83 & ETH Zurich - ETHZ                             & Switzerland              & Biology and Medicine & Basic Biological Research                                     & Cellular Biology, Cytology               & 2 & 0.6666667 & 9 & 3.0000000 & 16 & 5.3333333 & 2013-05-16 & 0 & 0.0000000 &   NA & 0 & 0 & NA & 0 & 0 & NA & 1 & 0.3333333 & 2013 & 8 & 2.6666667 &   NA &  2 & 0.6666667 & 0 & 0.0000000 &   NA & 25 &  8.333333 &  6 & 2.0000000 &  NA &       NA &   NA\\\\\n",
       "\t 144100 & 2012 & 2013-09-01 & 1641 & 4.4958904 & 2018-02-28 & Completed & Projects & 291191 &  64768.26 &  72797.75 &  16192.07 & University of Berne - BE                      & Switzerland              & Biology and Medicine & Preventive Medicine (Epidemiology/Early Diagnosis/Prevention) & Mental Disorders, Psychosomatic Diseases & 4 & 0.8897014 & 6 & 1.3345521 & 43 & 9.5642901 & 2014-03-01 & 0 & 0.0000000 &   NA & 0 & 0 & NA & 0 & 0 & NA & 0 & 0.0000000 &   NA & 4 & 0.8897014 &   NA &  1 & 0.2224254 & 0 & 0.0000000 &   NA & 47 & 10.453991 &  3 & 0.6672761 & 145 & 48.33333 & 2015\\\\\n",
       "\t 147291 & 2012 & 2013-02-01 &  364 & 0.9972603 & 2014-01-31 & Completed & Careers  &  60400 &  60565.93 &      0.00 &      0.00 & Institution abroad - United States of America & United States of America & Biology and Medicine & Basic Biological Research                                     & Biochemistry                             & 0 & 0.0000000 & 1 & 1.0027473 &  1 & 1.0027473 & 2013-05-06 & 0 & 0.0000000 &   NA & 0 & 0 & NA & 0 & 0 & NA & 0 & 0.0000000 &   NA & 0 & 0.0000000 &   NA & NA &        NA & 0 & 0.0000000 &   NA &  1 &  1.002747 & NA &        NA &  NA &       NA &   NA\\\\\n",
       "\t 142408 & 2012 & 2013-01-01 &  545 & 1.4931507 & 2014-06-30 & Completed & Careers  & 584267 & 391298.08 & 584267.00 & 391298.08 & University of Zurich - ZH                     & Switzerland              & Biology and Medicine & Basic Biological Research                                     & Experimental Microbiology                & 1 & 0.6697248 & 4 & 2.6788991 &  4 & 2.6788991 & 2013-05-07 & 0 & 0.0000000 &   NA & 0 & 0 & NA & 0 & 0 & NA & 0 & 0.0000000 &   NA & 2 & 1.3394495 & 2013 &  1 & 0.6697248 & 0 & 0.0000000 &   NA &  6 &  4.018349 &  1 & 0.6697248 &  NA &       NA & 2013\\\\\n",
       "\t 143733 & 2012 & 2013-01-01 & 1276 & 3.4958904 & 2016-06-30 & Completed & Projects & 500000 & 143025.08 & 125000.00 &  35756.27 & University of Geneva - GE                     & Switzerland              & Biology and Medicine & Basic Biological Research                                     & Biochemistry                             & 4 & 1.1442006 & 6 & 1.7163009 & 18 & 5.1489028 & 2013-05-16 & 0 & 0.0000000 &   NA & 0 & 0 & NA & 0 & 0 & NA & 6 & 1.7163009 & 2013 & 9 & 2.5744514 &   NA &  1 & 0.2860502 & 0 & 0.0000000 &   NA & 33 &  9.439655 &  8 & 2.2884013 & 216 & 27.00000 &   NA\\\\\n",
       "\\end{tabular}\n"
      ],
      "text/markdown": [
       "\n",
       "A tibble: 6 × 51\n",
       "\n",
       "| GrantNumber &lt;dbl&gt; | CallDecisionYear &lt;dbl&gt; | EffectiveGrantStartDate &lt;date&gt; | GrantDurationDays &lt;dbl&gt; | GrantDurationYears &lt;dbl&gt; | EffectiveGrantEndDate &lt;date&gt; | State &lt;chr&gt; | FundingInstrumentLevel1 &lt;chr&gt; | AmountGrantedAllSets &lt;dbl&gt; | AmountPerYear &lt;dbl&gt; | AmountPerEmployee &lt;dbl&gt; | AmountPerEmployeeAndYear &lt;dbl&gt; | ResearchInstitution &lt;chr&gt; | InstituteCountry &lt;chr&gt; | MainDiscipline_Level1 &lt;chr&gt; | MainDiscipline_Level2 &lt;chr&gt; | MainDiscipline &lt;chr&gt; | NrEmployees &lt;dbl&gt; | NrEmployeesPerYear &lt;dbl&gt; | NrCollaborations &lt;dbl&gt; | NrCollaborationsPerYear &lt;dbl&gt; | NrAcademicEvents &lt;dbl&gt; | NrAcademicEventsPerYear &lt;dbl&gt; | DateFirstAcademicEvent &lt;date&gt; | NrAwards &lt;dbl&gt; | NrAwardsPerYear &lt;dbl&gt; | YearFirstAward &lt;dbl&gt; | NrDatasets &lt;dbl&gt; | NrDatasetsPerYear &lt;dbl&gt; | DateFirstDataset &lt;date&gt; | NrKnowledgeTransfer &lt;dbl&gt; | NrKnowledgeTransferPerYear &lt;dbl&gt; | DateFirstKnowledgeTransfer &lt;date&gt; | NrCommunication &lt;dbl&gt; | NrCommunicationPerYear &lt;dbl&gt; | YearFirstCommunication &lt;dbl&gt; | NrTotalPublications &lt;dbl&gt; | NrTotalPublicationsPerYear &lt;dbl&gt; | YearFirstPublication &lt;dbl&gt; | NrUncitablePublications &lt;dbl&gt; | NrUncitablePublicationsPerYear &lt;dbl&gt; | NrUses &lt;dbl&gt; | NrUsesPerYear &lt;dbl&gt; | YearFirstUse &lt;dbl&gt; | NrTotalOutputs &lt;dbl&gt; | NrTotalOutputsPerYear &lt;dbl&gt; | NrCitablePublications &lt;int&gt; | NrCitablePublicationsPerYear &lt;dbl&gt; | NrCitationsTotal &lt;dbl&gt; | NrCitationsPerPublication &lt;dbl&gt; | YearFirstCitablePublication &lt;dbl&gt; |\n",
       "|---|---|---|---|---|---|---|---|---|---|---|---|---|---|---|---|---|---|---|---|---|---|---|---|---|---|---|---|---|---|---|---|---|---|---|---|---|---|---|---|---|---|---|---|---|---|---|---|---|---|---|\n",
       "| 142628 | 2012 | 2013-09-01 | 1490 | 4.0821918 | 2017-09-30 | Completed | Careers  | 578812 | 141789.52 | 192937.33 |  47263.17 | University of Lausanne - LA                   | Switzerland              | Biology and Medicine | General Biology                                               | Ecology                                  | 3 | 0.7348993 | 2 | 0.4899329 |  4 | 0.9798658 | 2015-03-10 | 1 | 0.2449664 | 2013 | 0 | 0 | NA | 0 | 0 | NA | 0 | 0.0000000 |   NA | 8 | 1.9597315 | 2014 |  1 | 0.2449664 | 1 | 0.2449664 | 2015 | 14 |  3.429530 |  7 | 1.7147651 | 293 | 41.85714 | 2014 |\n",
       "| 142615 | 2012 | 2013-04-01 | 1095 | 3.0000000 | 2016-03-31 | Completed | Careers  | 534863 | 178287.67 | 267431.50 |  89143.83 | ETH Zurich - ETHZ                             | Switzerland              | Biology and Medicine | Basic Biological Research                                     | Cellular Biology, Cytology               | 2 | 0.6666667 | 9 | 3.0000000 | 16 | 5.3333333 | 2013-05-16 | 0 | 0.0000000 |   NA | 0 | 0 | NA | 0 | 0 | NA | 1 | 0.3333333 | 2013 | 8 | 2.6666667 |   NA |  2 | 0.6666667 | 0 | 0.0000000 |   NA | 25 |  8.333333 |  6 | 2.0000000 |  NA |       NA |   NA |\n",
       "| 144100 | 2012 | 2013-09-01 | 1641 | 4.4958904 | 2018-02-28 | Completed | Projects | 291191 |  64768.26 |  72797.75 |  16192.07 | University of Berne - BE                      | Switzerland              | Biology and Medicine | Preventive Medicine (Epidemiology/Early Diagnosis/Prevention) | Mental Disorders, Psychosomatic Diseases | 4 | 0.8897014 | 6 | 1.3345521 | 43 | 9.5642901 | 2014-03-01 | 0 | 0.0000000 |   NA | 0 | 0 | NA | 0 | 0 | NA | 0 | 0.0000000 |   NA | 4 | 0.8897014 |   NA |  1 | 0.2224254 | 0 | 0.0000000 |   NA | 47 | 10.453991 |  3 | 0.6672761 | 145 | 48.33333 | 2015 |\n",
       "| 147291 | 2012 | 2013-02-01 |  364 | 0.9972603 | 2014-01-31 | Completed | Careers  |  60400 |  60565.93 |      0.00 |      0.00 | Institution abroad - United States of America | United States of America | Biology and Medicine | Basic Biological Research                                     | Biochemistry                             | 0 | 0.0000000 | 1 | 1.0027473 |  1 | 1.0027473 | 2013-05-06 | 0 | 0.0000000 |   NA | 0 | 0 | NA | 0 | 0 | NA | 0 | 0.0000000 |   NA | 0 | 0.0000000 |   NA | NA |        NA | 0 | 0.0000000 |   NA |  1 |  1.002747 | NA |        NA |  NA |       NA |   NA |\n",
       "| 142408 | 2012 | 2013-01-01 |  545 | 1.4931507 | 2014-06-30 | Completed | Careers  | 584267 | 391298.08 | 584267.00 | 391298.08 | University of Zurich - ZH                     | Switzerland              | Biology and Medicine | Basic Biological Research                                     | Experimental Microbiology                | 1 | 0.6697248 | 4 | 2.6788991 |  4 | 2.6788991 | 2013-05-07 | 0 | 0.0000000 |   NA | 0 | 0 | NA | 0 | 0 | NA | 0 | 0.0000000 |   NA | 2 | 1.3394495 | 2013 |  1 | 0.6697248 | 0 | 0.0000000 |   NA |  6 |  4.018349 |  1 | 0.6697248 |  NA |       NA | 2013 |\n",
       "| 143733 | 2012 | 2013-01-01 | 1276 | 3.4958904 | 2016-06-30 | Completed | Projects | 500000 | 143025.08 | 125000.00 |  35756.27 | University of Geneva - GE                     | Switzerland              | Biology and Medicine | Basic Biological Research                                     | Biochemistry                             | 4 | 1.1442006 | 6 | 1.7163009 | 18 | 5.1489028 | 2013-05-16 | 0 | 0.0000000 |   NA | 0 | 0 | NA | 0 | 0 | NA | 6 | 1.7163009 | 2013 | 9 | 2.5744514 |   NA |  1 | 0.2860502 | 0 | 0.0000000 |   NA | 33 |  9.439655 |  8 | 2.2884013 | 216 | 27.00000 |   NA |\n",
       "\n"
      ],
      "text/plain": [
       "  GrantNumber CallDecisionYear EffectiveGrantStartDate GrantDurationDays\n",
       "1 142628      2012             2013-09-01              1490             \n",
       "2 142615      2012             2013-04-01              1095             \n",
       "3 144100      2012             2013-09-01              1641             \n",
       "4 147291      2012             2013-02-01               364             \n",
       "5 142408      2012             2013-01-01               545             \n",
       "6 143733      2012             2013-01-01              1276             \n",
       "  GrantDurationYears EffectiveGrantEndDate State     FundingInstrumentLevel1\n",
       "1 4.0821918          2017-09-30            Completed Careers                \n",
       "2 3.0000000          2016-03-31            Completed Careers                \n",
       "3 4.4958904          2018-02-28            Completed Projects               \n",
       "4 0.9972603          2014-01-31            Completed Careers                \n",
       "5 1.4931507          2014-06-30            Completed Careers                \n",
       "6 3.4958904          2016-06-30            Completed Projects               \n",
       "  AmountGrantedAllSets AmountPerYear AmountPerEmployee AmountPerEmployeeAndYear\n",
       "1 578812               141789.52     192937.33          47263.17               \n",
       "2 534863               178287.67     267431.50          89143.83               \n",
       "3 291191                64768.26      72797.75          16192.07               \n",
       "4  60400                60565.93          0.00              0.00               \n",
       "5 584267               391298.08     584267.00         391298.08               \n",
       "6 500000               143025.08     125000.00          35756.27               \n",
       "  ResearchInstitution                           InstituteCountry        \n",
       "1 University of Lausanne - LA                   Switzerland             \n",
       "2 ETH Zurich - ETHZ                             Switzerland             \n",
       "3 University of Berne - BE                      Switzerland             \n",
       "4 Institution abroad - United States of America United States of America\n",
       "5 University of Zurich - ZH                     Switzerland             \n",
       "6 University of Geneva - GE                     Switzerland             \n",
       "  MainDiscipline_Level1\n",
       "1 Biology and Medicine \n",
       "2 Biology and Medicine \n",
       "3 Biology and Medicine \n",
       "4 Biology and Medicine \n",
       "5 Biology and Medicine \n",
       "6 Biology and Medicine \n",
       "  MainDiscipline_Level2                                        \n",
       "1 General Biology                                              \n",
       "2 Basic Biological Research                                    \n",
       "3 Preventive Medicine (Epidemiology/Early Diagnosis/Prevention)\n",
       "4 Basic Biological Research                                    \n",
       "5 Basic Biological Research                                    \n",
       "6 Basic Biological Research                                    \n",
       "  MainDiscipline                           NrEmployees NrEmployeesPerYear\n",
       "1 Ecology                                  3           0.7348993         \n",
       "2 Cellular Biology, Cytology               2           0.6666667         \n",
       "3 Mental Disorders, Psychosomatic Diseases 4           0.8897014         \n",
       "4 Biochemistry                             0           0.0000000         \n",
       "5 Experimental Microbiology                1           0.6697248         \n",
       "6 Biochemistry                             4           1.1442006         \n",
       "  NrCollaborations NrCollaborationsPerYear NrAcademicEvents\n",
       "1 2                0.4899329                4              \n",
       "2 9                3.0000000               16              \n",
       "3 6                1.3345521               43              \n",
       "4 1                1.0027473                1              \n",
       "5 4                2.6788991                4              \n",
       "6 6                1.7163009               18              \n",
       "  NrAcademicEventsPerYear DateFirstAcademicEvent NrAwards NrAwardsPerYear\n",
       "1 0.9798658               2015-03-10             1        0.2449664      \n",
       "2 5.3333333               2013-05-16             0        0.0000000      \n",
       "3 9.5642901               2014-03-01             0        0.0000000      \n",
       "4 1.0027473               2013-05-06             0        0.0000000      \n",
       "5 2.6788991               2013-05-07             0        0.0000000      \n",
       "6 5.1489028               2013-05-16             0        0.0000000      \n",
       "  YearFirstAward NrDatasets NrDatasetsPerYear DateFirstDataset\n",
       "1 2013           0          0                 <NA>            \n",
       "2   NA           0          0                 <NA>            \n",
       "3   NA           0          0                 <NA>            \n",
       "4   NA           0          0                 <NA>            \n",
       "5   NA           0          0                 <NA>            \n",
       "6   NA           0          0                 <NA>            \n",
       "  NrKnowledgeTransfer NrKnowledgeTransferPerYear DateFirstKnowledgeTransfer\n",
       "1 0                   0                          <NA>                      \n",
       "2 0                   0                          <NA>                      \n",
       "3 0                   0                          <NA>                      \n",
       "4 0                   0                          <NA>                      \n",
       "5 0                   0                          <NA>                      \n",
       "6 0                   0                          <NA>                      \n",
       "  NrCommunication NrCommunicationPerYear YearFirstCommunication\n",
       "1 0               0.0000000                NA                  \n",
       "2 1               0.3333333              2013                  \n",
       "3 0               0.0000000                NA                  \n",
       "4 0               0.0000000                NA                  \n",
       "5 0               0.0000000                NA                  \n",
       "6 6               1.7163009              2013                  \n",
       "  NrTotalPublications NrTotalPublicationsPerYear YearFirstPublication\n",
       "1 8                   1.9597315                  2014                \n",
       "2 8                   2.6666667                    NA                \n",
       "3 4                   0.8897014                    NA                \n",
       "4 0                   0.0000000                    NA                \n",
       "5 2                   1.3394495                  2013                \n",
       "6 9                   2.5744514                    NA                \n",
       "  NrUncitablePublications NrUncitablePublicationsPerYear NrUses NrUsesPerYear\n",
       "1  1                      0.2449664                      1      0.2449664    \n",
       "2  2                      0.6666667                      0      0.0000000    \n",
       "3  1                      0.2224254                      0      0.0000000    \n",
       "4 NA                             NA                      0      0.0000000    \n",
       "5  1                      0.6697248                      0      0.0000000    \n",
       "6  1                      0.2860502                      0      0.0000000    \n",
       "  YearFirstUse NrTotalOutputs NrTotalOutputsPerYear NrCitablePublications\n",
       "1 2015         14              3.429530              7                   \n",
       "2   NA         25              8.333333              6                   \n",
       "3   NA         47             10.453991              3                   \n",
       "4   NA          1              1.002747             NA                   \n",
       "5   NA          6              4.018349              1                   \n",
       "6   NA         33              9.439655              8                   \n",
       "  NrCitablePublicationsPerYear NrCitationsTotal NrCitationsPerPublication\n",
       "1 1.7147651                    293              41.85714                 \n",
       "2 2.0000000                     NA                    NA                 \n",
       "3 0.6672761                    145              48.33333                 \n",
       "4        NA                     NA                    NA                 \n",
       "5 0.6697248                     NA                    NA                 \n",
       "6 2.2884013                    216              27.00000                 \n",
       "  YearFirstCitablePublication\n",
       "1 2014                       \n",
       "2   NA                       \n",
       "3 2015                       \n",
       "4   NA                       \n",
       "5 2013                       \n",
       "6   NA                       "
      ]
     },
     "metadata": {},
     "output_type": "display_data"
    }
   ],
   "source": [
    "head(biomed_grant_data)"
   ]
  },
  {
   "cell_type": "code",
   "execution_count": 32,
   "id": "994e07a0",
   "metadata": {
    "vscode": {
     "languageId": "r"
    }
   },
   "outputs": [],
   "source": [
    "# NA --> 0 in certain columns\n",
    "columns_to_mutate <- c(\n",
    "  \"NrCitablePublications\",\n",
    "  \"NrCitablePublicationsPerYear\",\n",
    "  \"NrUncitablePublications\",\n",
    "  \"NrUncitablePublicationsPerYear\"\n",
    ")\n",
    "\n",
    "biomed_grant_data <- mutate(biomed_grant_data, across(all_of(columns_to_mutate), ~ ifelse(is.na(.), 0, .)))"
   ]
  },
  {
   "cell_type": "code",
   "execution_count": 33,
   "id": "a4d70a92",
   "metadata": {
    "vscode": {
     "languageId": "r"
    }
   },
   "outputs": [],
   "source": [
    "# Add the total number of uncitable outputs (outputs other than peer-reviewed articles with a DOI)\n",
    "biomed_grant_data <- mutate(biomed_grant_data, NrTotalUncitableOutputs=NrTotalOutputs - NrCitablePublications, .after=NrTotalOutputsPerYear)\n",
    "\n",
    "# Total number of uncitable outputs per year\n",
    "biomed_grant_data <- mutate(biomed_grant_data, NrTotalUncitableOutputsPerYear=NrTotalUncitableOutputs/GrantDurationYears, .after=NrTotalUncitableOutputs)"
   ]
  },
  {
   "cell_type": "code",
   "execution_count": 34,
   "id": "f68c7531",
   "metadata": {
    "vscode": {
     "languageId": "r"
    }
   },
   "outputs": [
    {
     "data": {
      "text/html": [
       "<style>\n",
       ".list-inline {list-style: none; margin:0; padding: 0}\n",
       ".list-inline>li {display: inline-block}\n",
       ".list-inline>li:not(:last-child)::after {content: \"\\00b7\"; padding: 0 .5ex}\n",
       "</style>\n",
       "<ol class=list-inline><li>7609</li><li>53</li></ol>\n"
      ],
      "text/latex": [
       "\\begin{enumerate*}\n",
       "\\item 7609\n",
       "\\item 53\n",
       "\\end{enumerate*}\n"
      ],
      "text/markdown": [
       "1. 7609\n",
       "2. 53\n",
       "\n",
       "\n"
      ],
      "text/plain": [
       "[1] 7609   53"
      ]
     },
     "metadata": {},
     "output_type": "display_data"
    },
    {
     "data": {
      "text/html": [
       "<table class=\"dataframe\">\n",
       "<caption>A tibble: 6 × 53</caption>\n",
       "<thead>\n",
       "\t<tr><th scope=col>GrantNumber</th><th scope=col>CallDecisionYear</th><th scope=col>EffectiveGrantStartDate</th><th scope=col>GrantDurationDays</th><th scope=col>GrantDurationYears</th><th scope=col>EffectiveGrantEndDate</th><th scope=col>State</th><th scope=col>FundingInstrumentLevel1</th><th scope=col>AmountGrantedAllSets</th><th scope=col>AmountPerYear</th><th scope=col>AmountPerEmployee</th><th scope=col>AmountPerEmployeeAndYear</th><th scope=col>ResearchInstitution</th><th scope=col>InstituteCountry</th><th scope=col>MainDiscipline_Level1</th><th scope=col>MainDiscipline_Level2</th><th scope=col>MainDiscipline</th><th scope=col>NrEmployees</th><th scope=col>NrEmployeesPerYear</th><th scope=col>NrCollaborations</th><th scope=col>NrCollaborationsPerYear</th><th scope=col>NrAcademicEvents</th><th scope=col>NrAcademicEventsPerYear</th><th scope=col>DateFirstAcademicEvent</th><th scope=col>NrAwards</th><th scope=col>NrAwardsPerYear</th><th scope=col>YearFirstAward</th><th scope=col>NrDatasets</th><th scope=col>NrDatasetsPerYear</th><th scope=col>DateFirstDataset</th><th scope=col>NrKnowledgeTransfer</th><th scope=col>NrKnowledgeTransferPerYear</th><th scope=col>DateFirstKnowledgeTransfer</th><th scope=col>NrCommunication</th><th scope=col>NrCommunicationPerYear</th><th scope=col>YearFirstCommunication</th><th scope=col>NrTotalPublications</th><th scope=col>NrTotalPublicationsPerYear</th><th scope=col>YearFirstPublication</th><th scope=col>NrUncitablePublications</th><th scope=col>NrUncitablePublicationsPerYear</th><th scope=col>NrUses</th><th scope=col>NrUsesPerYear</th><th scope=col>YearFirstUse</th><th scope=col>NrTotalOutputs</th><th scope=col>NrTotalOutputsPerYear</th><th scope=col>NrTotalUncitableOutputs</th><th scope=col>NrTotalUncitableOutputsPerYear</th><th scope=col>NrCitablePublications</th><th scope=col>NrCitablePublicationsPerYear</th><th scope=col>NrCitationsTotal</th><th scope=col>NrCitationsPerPublication</th><th scope=col>YearFirstCitablePublication</th></tr>\n",
       "\t<tr><th scope=col>&lt;dbl&gt;</th><th scope=col>&lt;dbl&gt;</th><th scope=col>&lt;date&gt;</th><th scope=col>&lt;dbl&gt;</th><th scope=col>&lt;dbl&gt;</th><th scope=col>&lt;date&gt;</th><th scope=col>&lt;chr&gt;</th><th scope=col>&lt;chr&gt;</th><th scope=col>&lt;dbl&gt;</th><th scope=col>&lt;dbl&gt;</th><th scope=col>&lt;dbl&gt;</th><th scope=col>&lt;dbl&gt;</th><th scope=col>&lt;chr&gt;</th><th scope=col>&lt;chr&gt;</th><th scope=col>&lt;chr&gt;</th><th scope=col>&lt;chr&gt;</th><th scope=col>&lt;chr&gt;</th><th scope=col>&lt;dbl&gt;</th><th scope=col>&lt;dbl&gt;</th><th scope=col>&lt;dbl&gt;</th><th scope=col>&lt;dbl&gt;</th><th scope=col>&lt;dbl&gt;</th><th scope=col>&lt;dbl&gt;</th><th scope=col>&lt;date&gt;</th><th scope=col>&lt;dbl&gt;</th><th scope=col>&lt;dbl&gt;</th><th scope=col>&lt;dbl&gt;</th><th scope=col>&lt;dbl&gt;</th><th scope=col>&lt;dbl&gt;</th><th scope=col>&lt;date&gt;</th><th scope=col>&lt;dbl&gt;</th><th scope=col>&lt;dbl&gt;</th><th scope=col>&lt;date&gt;</th><th scope=col>&lt;dbl&gt;</th><th scope=col>&lt;dbl&gt;</th><th scope=col>&lt;dbl&gt;</th><th scope=col>&lt;dbl&gt;</th><th scope=col>&lt;dbl&gt;</th><th scope=col>&lt;dbl&gt;</th><th scope=col>&lt;dbl&gt;</th><th scope=col>&lt;dbl&gt;</th><th scope=col>&lt;dbl&gt;</th><th scope=col>&lt;dbl&gt;</th><th scope=col>&lt;dbl&gt;</th><th scope=col>&lt;dbl&gt;</th><th scope=col>&lt;dbl&gt;</th><th scope=col>&lt;dbl&gt;</th><th scope=col>&lt;dbl&gt;</th><th scope=col>&lt;dbl&gt;</th><th scope=col>&lt;dbl&gt;</th><th scope=col>&lt;dbl&gt;</th><th scope=col>&lt;dbl&gt;</th><th scope=col>&lt;dbl&gt;</th></tr>\n",
       "</thead>\n",
       "<tbody>\n",
       "\t<tr><td>142628</td><td>2012</td><td>2013-09-01</td><td>1490</td><td>4.0821918</td><td>2017-09-30</td><td>Completed</td><td>Careers </td><td>578812</td><td>141789.52</td><td>192937.33</td><td> 47263.17</td><td>University of Lausanne - LA                  </td><td>Switzerland             </td><td>Biology and Medicine</td><td>General Biology                                              </td><td>Ecology                                 </td><td>3</td><td>0.7348993</td><td>2</td><td>0.4899329</td><td> 4</td><td>0.9798658</td><td>2015-03-10</td><td>1</td><td>0.2449664</td><td>2013</td><td>0</td><td>0</td><td>NA</td><td>0</td><td>0</td><td>NA</td><td>0</td><td>0.0000000</td><td>  NA</td><td>8</td><td>1.9597315</td><td>2014</td><td>1</td><td>0.2449664</td><td>1</td><td>0.2449664</td><td>2015</td><td>14</td><td> 3.429530</td><td> 7</td><td>1.714765</td><td>7</td><td>1.7147651</td><td>293</td><td>41.85714</td><td>2014</td></tr>\n",
       "\t<tr><td>142615</td><td>2012</td><td>2013-04-01</td><td>1095</td><td>3.0000000</td><td>2016-03-31</td><td>Completed</td><td>Careers </td><td>534863</td><td>178287.67</td><td>267431.50</td><td> 89143.83</td><td>ETH Zurich - ETHZ                            </td><td>Switzerland             </td><td>Biology and Medicine</td><td>Basic Biological Research                                    </td><td>Cellular Biology, Cytology              </td><td>2</td><td>0.6666667</td><td>9</td><td>3.0000000</td><td>16</td><td>5.3333333</td><td>2013-05-16</td><td>0</td><td>0.0000000</td><td>  NA</td><td>0</td><td>0</td><td>NA</td><td>0</td><td>0</td><td>NA</td><td>1</td><td>0.3333333</td><td>2013</td><td>8</td><td>2.6666667</td><td>  NA</td><td>2</td><td>0.6666667</td><td>0</td><td>0.0000000</td><td>  NA</td><td>25</td><td> 8.333333</td><td>19</td><td>6.333333</td><td>6</td><td>2.0000000</td><td> NA</td><td>      NA</td><td>  NA</td></tr>\n",
       "\t<tr><td>144100</td><td>2012</td><td>2013-09-01</td><td>1641</td><td>4.4958904</td><td>2018-02-28</td><td>Completed</td><td>Projects</td><td>291191</td><td> 64768.26</td><td> 72797.75</td><td> 16192.07</td><td>University of Berne - BE                     </td><td>Switzerland             </td><td>Biology and Medicine</td><td>Preventive Medicine (Epidemiology/Early Diagnosis/Prevention)</td><td>Mental Disorders, Psychosomatic Diseases</td><td>4</td><td>0.8897014</td><td>6</td><td>1.3345521</td><td>43</td><td>9.5642901</td><td>2014-03-01</td><td>0</td><td>0.0000000</td><td>  NA</td><td>0</td><td>0</td><td>NA</td><td>0</td><td>0</td><td>NA</td><td>0</td><td>0.0000000</td><td>  NA</td><td>4</td><td>0.8897014</td><td>  NA</td><td>1</td><td>0.2224254</td><td>0</td><td>0.0000000</td><td>  NA</td><td>47</td><td>10.453991</td><td>44</td><td>9.786715</td><td>3</td><td>0.6672761</td><td>145</td><td>48.33333</td><td>2015</td></tr>\n",
       "\t<tr><td>147291</td><td>2012</td><td>2013-02-01</td><td> 364</td><td>0.9972603</td><td>2014-01-31</td><td>Completed</td><td>Careers </td><td> 60400</td><td> 60565.93</td><td>     0.00</td><td>     0.00</td><td>Institution abroad - United States of America</td><td>United States of America</td><td>Biology and Medicine</td><td>Basic Biological Research                                    </td><td>Biochemistry                            </td><td>0</td><td>0.0000000</td><td>1</td><td>1.0027473</td><td> 1</td><td>1.0027473</td><td>2013-05-06</td><td>0</td><td>0.0000000</td><td>  NA</td><td>0</td><td>0</td><td>NA</td><td>0</td><td>0</td><td>NA</td><td>0</td><td>0.0000000</td><td>  NA</td><td>0</td><td>0.0000000</td><td>  NA</td><td>0</td><td>0.0000000</td><td>0</td><td>0.0000000</td><td>  NA</td><td> 1</td><td> 1.002747</td><td> 1</td><td>1.002747</td><td>0</td><td>0.0000000</td><td> NA</td><td>      NA</td><td>  NA</td></tr>\n",
       "\t<tr><td>142408</td><td>2012</td><td>2013-01-01</td><td> 545</td><td>1.4931507</td><td>2014-06-30</td><td>Completed</td><td>Careers </td><td>584267</td><td>391298.08</td><td>584267.00</td><td>391298.08</td><td>University of Zurich - ZH                    </td><td>Switzerland             </td><td>Biology and Medicine</td><td>Basic Biological Research                                    </td><td>Experimental Microbiology               </td><td>1</td><td>0.6697248</td><td>4</td><td>2.6788991</td><td> 4</td><td>2.6788991</td><td>2013-05-07</td><td>0</td><td>0.0000000</td><td>  NA</td><td>0</td><td>0</td><td>NA</td><td>0</td><td>0</td><td>NA</td><td>0</td><td>0.0000000</td><td>  NA</td><td>2</td><td>1.3394495</td><td>2013</td><td>1</td><td>0.6697248</td><td>0</td><td>0.0000000</td><td>  NA</td><td> 6</td><td> 4.018349</td><td> 5</td><td>3.348624</td><td>1</td><td>0.6697248</td><td> NA</td><td>      NA</td><td>2013</td></tr>\n",
       "\t<tr><td>143733</td><td>2012</td><td>2013-01-01</td><td>1276</td><td>3.4958904</td><td>2016-06-30</td><td>Completed</td><td>Projects</td><td>500000</td><td>143025.08</td><td>125000.00</td><td> 35756.27</td><td>University of Geneva - GE                    </td><td>Switzerland             </td><td>Biology and Medicine</td><td>Basic Biological Research                                    </td><td>Biochemistry                            </td><td>4</td><td>1.1442006</td><td>6</td><td>1.7163009</td><td>18</td><td>5.1489028</td><td>2013-05-16</td><td>0</td><td>0.0000000</td><td>  NA</td><td>0</td><td>0</td><td>NA</td><td>0</td><td>0</td><td>NA</td><td>6</td><td>1.7163009</td><td>2013</td><td>9</td><td>2.5744514</td><td>  NA</td><td>1</td><td>0.2860502</td><td>0</td><td>0.0000000</td><td>  NA</td><td>33</td><td> 9.439655</td><td>25</td><td>7.151254</td><td>8</td><td>2.2884013</td><td>216</td><td>27.00000</td><td>  NA</td></tr>\n",
       "</tbody>\n",
       "</table>\n"
      ],
      "text/latex": [
       "A tibble: 6 × 53\n",
       "\\begin{tabular}{lllllllllllllllllllllllllllllllllllllllllllllllllllll}\n",
       " GrantNumber & CallDecisionYear & EffectiveGrantStartDate & GrantDurationDays & GrantDurationYears & EffectiveGrantEndDate & State & FundingInstrumentLevel1 & AmountGrantedAllSets & AmountPerYear & AmountPerEmployee & AmountPerEmployeeAndYear & ResearchInstitution & InstituteCountry & MainDiscipline\\_Level1 & MainDiscipline\\_Level2 & MainDiscipline & NrEmployees & NrEmployeesPerYear & NrCollaborations & NrCollaborationsPerYear & NrAcademicEvents & NrAcademicEventsPerYear & DateFirstAcademicEvent & NrAwards & NrAwardsPerYear & YearFirstAward & NrDatasets & NrDatasetsPerYear & DateFirstDataset & NrKnowledgeTransfer & NrKnowledgeTransferPerYear & DateFirstKnowledgeTransfer & NrCommunication & NrCommunicationPerYear & YearFirstCommunication & NrTotalPublications & NrTotalPublicationsPerYear & YearFirstPublication & NrUncitablePublications & NrUncitablePublicationsPerYear & NrUses & NrUsesPerYear & YearFirstUse & NrTotalOutputs & NrTotalOutputsPerYear & NrTotalUncitableOutputs & NrTotalUncitableOutputsPerYear & NrCitablePublications & NrCitablePublicationsPerYear & NrCitationsTotal & NrCitationsPerPublication & YearFirstCitablePublication\\\\\n",
       " <dbl> & <dbl> & <date> & <dbl> & <dbl> & <date> & <chr> & <chr> & <dbl> & <dbl> & <dbl> & <dbl> & <chr> & <chr> & <chr> & <chr> & <chr> & <dbl> & <dbl> & <dbl> & <dbl> & <dbl> & <dbl> & <date> & <dbl> & <dbl> & <dbl> & <dbl> & <dbl> & <date> & <dbl> & <dbl> & <date> & <dbl> & <dbl> & <dbl> & <dbl> & <dbl> & <dbl> & <dbl> & <dbl> & <dbl> & <dbl> & <dbl> & <dbl> & <dbl> & <dbl> & <dbl> & <dbl> & <dbl> & <dbl> & <dbl> & <dbl>\\\\\n",
       "\\hline\n",
       "\t 142628 & 2012 & 2013-09-01 & 1490 & 4.0821918 & 2017-09-30 & Completed & Careers  & 578812 & 141789.52 & 192937.33 &  47263.17 & University of Lausanne - LA                   & Switzerland              & Biology and Medicine & General Biology                                               & Ecology                                  & 3 & 0.7348993 & 2 & 0.4899329 &  4 & 0.9798658 & 2015-03-10 & 1 & 0.2449664 & 2013 & 0 & 0 & NA & 0 & 0 & NA & 0 & 0.0000000 &   NA & 8 & 1.9597315 & 2014 & 1 & 0.2449664 & 1 & 0.2449664 & 2015 & 14 &  3.429530 &  7 & 1.714765 & 7 & 1.7147651 & 293 & 41.85714 & 2014\\\\\n",
       "\t 142615 & 2012 & 2013-04-01 & 1095 & 3.0000000 & 2016-03-31 & Completed & Careers  & 534863 & 178287.67 & 267431.50 &  89143.83 & ETH Zurich - ETHZ                             & Switzerland              & Biology and Medicine & Basic Biological Research                                     & Cellular Biology, Cytology               & 2 & 0.6666667 & 9 & 3.0000000 & 16 & 5.3333333 & 2013-05-16 & 0 & 0.0000000 &   NA & 0 & 0 & NA & 0 & 0 & NA & 1 & 0.3333333 & 2013 & 8 & 2.6666667 &   NA & 2 & 0.6666667 & 0 & 0.0000000 &   NA & 25 &  8.333333 & 19 & 6.333333 & 6 & 2.0000000 &  NA &       NA &   NA\\\\\n",
       "\t 144100 & 2012 & 2013-09-01 & 1641 & 4.4958904 & 2018-02-28 & Completed & Projects & 291191 &  64768.26 &  72797.75 &  16192.07 & University of Berne - BE                      & Switzerland              & Biology and Medicine & Preventive Medicine (Epidemiology/Early Diagnosis/Prevention) & Mental Disorders, Psychosomatic Diseases & 4 & 0.8897014 & 6 & 1.3345521 & 43 & 9.5642901 & 2014-03-01 & 0 & 0.0000000 &   NA & 0 & 0 & NA & 0 & 0 & NA & 0 & 0.0000000 &   NA & 4 & 0.8897014 &   NA & 1 & 0.2224254 & 0 & 0.0000000 &   NA & 47 & 10.453991 & 44 & 9.786715 & 3 & 0.6672761 & 145 & 48.33333 & 2015\\\\\n",
       "\t 147291 & 2012 & 2013-02-01 &  364 & 0.9972603 & 2014-01-31 & Completed & Careers  &  60400 &  60565.93 &      0.00 &      0.00 & Institution abroad - United States of America & United States of America & Biology and Medicine & Basic Biological Research                                     & Biochemistry                             & 0 & 0.0000000 & 1 & 1.0027473 &  1 & 1.0027473 & 2013-05-06 & 0 & 0.0000000 &   NA & 0 & 0 & NA & 0 & 0 & NA & 0 & 0.0000000 &   NA & 0 & 0.0000000 &   NA & 0 & 0.0000000 & 0 & 0.0000000 &   NA &  1 &  1.002747 &  1 & 1.002747 & 0 & 0.0000000 &  NA &       NA &   NA\\\\\n",
       "\t 142408 & 2012 & 2013-01-01 &  545 & 1.4931507 & 2014-06-30 & Completed & Careers  & 584267 & 391298.08 & 584267.00 & 391298.08 & University of Zurich - ZH                     & Switzerland              & Biology and Medicine & Basic Biological Research                                     & Experimental Microbiology                & 1 & 0.6697248 & 4 & 2.6788991 &  4 & 2.6788991 & 2013-05-07 & 0 & 0.0000000 &   NA & 0 & 0 & NA & 0 & 0 & NA & 0 & 0.0000000 &   NA & 2 & 1.3394495 & 2013 & 1 & 0.6697248 & 0 & 0.0000000 &   NA &  6 &  4.018349 &  5 & 3.348624 & 1 & 0.6697248 &  NA &       NA & 2013\\\\\n",
       "\t 143733 & 2012 & 2013-01-01 & 1276 & 3.4958904 & 2016-06-30 & Completed & Projects & 500000 & 143025.08 & 125000.00 &  35756.27 & University of Geneva - GE                     & Switzerland              & Biology and Medicine & Basic Biological Research                                     & Biochemistry                             & 4 & 1.1442006 & 6 & 1.7163009 & 18 & 5.1489028 & 2013-05-16 & 0 & 0.0000000 &   NA & 0 & 0 & NA & 0 & 0 & NA & 6 & 1.7163009 & 2013 & 9 & 2.5744514 &   NA & 1 & 0.2860502 & 0 & 0.0000000 &   NA & 33 &  9.439655 & 25 & 7.151254 & 8 & 2.2884013 & 216 & 27.00000 &   NA\\\\\n",
       "\\end{tabular}\n"
      ],
      "text/markdown": [
       "\n",
       "A tibble: 6 × 53\n",
       "\n",
       "| GrantNumber &lt;dbl&gt; | CallDecisionYear &lt;dbl&gt; | EffectiveGrantStartDate &lt;date&gt; | GrantDurationDays &lt;dbl&gt; | GrantDurationYears &lt;dbl&gt; | EffectiveGrantEndDate &lt;date&gt; | State &lt;chr&gt; | FundingInstrumentLevel1 &lt;chr&gt; | AmountGrantedAllSets &lt;dbl&gt; | AmountPerYear &lt;dbl&gt; | AmountPerEmployee &lt;dbl&gt; | AmountPerEmployeeAndYear &lt;dbl&gt; | ResearchInstitution &lt;chr&gt; | InstituteCountry &lt;chr&gt; | MainDiscipline_Level1 &lt;chr&gt; | MainDiscipline_Level2 &lt;chr&gt; | MainDiscipline &lt;chr&gt; | NrEmployees &lt;dbl&gt; | NrEmployeesPerYear &lt;dbl&gt; | NrCollaborations &lt;dbl&gt; | NrCollaborationsPerYear &lt;dbl&gt; | NrAcademicEvents &lt;dbl&gt; | NrAcademicEventsPerYear &lt;dbl&gt; | DateFirstAcademicEvent &lt;date&gt; | NrAwards &lt;dbl&gt; | NrAwardsPerYear &lt;dbl&gt; | YearFirstAward &lt;dbl&gt; | NrDatasets &lt;dbl&gt; | NrDatasetsPerYear &lt;dbl&gt; | DateFirstDataset &lt;date&gt; | NrKnowledgeTransfer &lt;dbl&gt; | NrKnowledgeTransferPerYear &lt;dbl&gt; | DateFirstKnowledgeTransfer &lt;date&gt; | NrCommunication &lt;dbl&gt; | NrCommunicationPerYear &lt;dbl&gt; | YearFirstCommunication &lt;dbl&gt; | NrTotalPublications &lt;dbl&gt; | NrTotalPublicationsPerYear &lt;dbl&gt; | YearFirstPublication &lt;dbl&gt; | NrUncitablePublications &lt;dbl&gt; | NrUncitablePublicationsPerYear &lt;dbl&gt; | NrUses &lt;dbl&gt; | NrUsesPerYear &lt;dbl&gt; | YearFirstUse &lt;dbl&gt; | NrTotalOutputs &lt;dbl&gt; | NrTotalOutputsPerYear &lt;dbl&gt; | NrTotalUncitableOutputs &lt;dbl&gt; | NrTotalUncitableOutputsPerYear &lt;dbl&gt; | NrCitablePublications &lt;dbl&gt; | NrCitablePublicationsPerYear &lt;dbl&gt; | NrCitationsTotal &lt;dbl&gt; | NrCitationsPerPublication &lt;dbl&gt; | YearFirstCitablePublication &lt;dbl&gt; |\n",
       "|---|---|---|---|---|---|---|---|---|---|---|---|---|---|---|---|---|---|---|---|---|---|---|---|---|---|---|---|---|---|---|---|---|---|---|---|---|---|---|---|---|---|---|---|---|---|---|---|---|---|---|---|---|\n",
       "| 142628 | 2012 | 2013-09-01 | 1490 | 4.0821918 | 2017-09-30 | Completed | Careers  | 578812 | 141789.52 | 192937.33 |  47263.17 | University of Lausanne - LA                   | Switzerland              | Biology and Medicine | General Biology                                               | Ecology                                  | 3 | 0.7348993 | 2 | 0.4899329 |  4 | 0.9798658 | 2015-03-10 | 1 | 0.2449664 | 2013 | 0 | 0 | NA | 0 | 0 | NA | 0 | 0.0000000 |   NA | 8 | 1.9597315 | 2014 | 1 | 0.2449664 | 1 | 0.2449664 | 2015 | 14 |  3.429530 |  7 | 1.714765 | 7 | 1.7147651 | 293 | 41.85714 | 2014 |\n",
       "| 142615 | 2012 | 2013-04-01 | 1095 | 3.0000000 | 2016-03-31 | Completed | Careers  | 534863 | 178287.67 | 267431.50 |  89143.83 | ETH Zurich - ETHZ                             | Switzerland              | Biology and Medicine | Basic Biological Research                                     | Cellular Biology, Cytology               | 2 | 0.6666667 | 9 | 3.0000000 | 16 | 5.3333333 | 2013-05-16 | 0 | 0.0000000 |   NA | 0 | 0 | NA | 0 | 0 | NA | 1 | 0.3333333 | 2013 | 8 | 2.6666667 |   NA | 2 | 0.6666667 | 0 | 0.0000000 |   NA | 25 |  8.333333 | 19 | 6.333333 | 6 | 2.0000000 |  NA |       NA |   NA |\n",
       "| 144100 | 2012 | 2013-09-01 | 1641 | 4.4958904 | 2018-02-28 | Completed | Projects | 291191 |  64768.26 |  72797.75 |  16192.07 | University of Berne - BE                      | Switzerland              | Biology and Medicine | Preventive Medicine (Epidemiology/Early Diagnosis/Prevention) | Mental Disorders, Psychosomatic Diseases | 4 | 0.8897014 | 6 | 1.3345521 | 43 | 9.5642901 | 2014-03-01 | 0 | 0.0000000 |   NA | 0 | 0 | NA | 0 | 0 | NA | 0 | 0.0000000 |   NA | 4 | 0.8897014 |   NA | 1 | 0.2224254 | 0 | 0.0000000 |   NA | 47 | 10.453991 | 44 | 9.786715 | 3 | 0.6672761 | 145 | 48.33333 | 2015 |\n",
       "| 147291 | 2012 | 2013-02-01 |  364 | 0.9972603 | 2014-01-31 | Completed | Careers  |  60400 |  60565.93 |      0.00 |      0.00 | Institution abroad - United States of America | United States of America | Biology and Medicine | Basic Biological Research                                     | Biochemistry                             | 0 | 0.0000000 | 1 | 1.0027473 |  1 | 1.0027473 | 2013-05-06 | 0 | 0.0000000 |   NA | 0 | 0 | NA | 0 | 0 | NA | 0 | 0.0000000 |   NA | 0 | 0.0000000 |   NA | 0 | 0.0000000 | 0 | 0.0000000 |   NA |  1 |  1.002747 |  1 | 1.002747 | 0 | 0.0000000 |  NA |       NA |   NA |\n",
       "| 142408 | 2012 | 2013-01-01 |  545 | 1.4931507 | 2014-06-30 | Completed | Careers  | 584267 | 391298.08 | 584267.00 | 391298.08 | University of Zurich - ZH                     | Switzerland              | Biology and Medicine | Basic Biological Research                                     | Experimental Microbiology                | 1 | 0.6697248 | 4 | 2.6788991 |  4 | 2.6788991 | 2013-05-07 | 0 | 0.0000000 |   NA | 0 | 0 | NA | 0 | 0 | NA | 0 | 0.0000000 |   NA | 2 | 1.3394495 | 2013 | 1 | 0.6697248 | 0 | 0.0000000 |   NA |  6 |  4.018349 |  5 | 3.348624 | 1 | 0.6697248 |  NA |       NA | 2013 |\n",
       "| 143733 | 2012 | 2013-01-01 | 1276 | 3.4958904 | 2016-06-30 | Completed | Projects | 500000 | 143025.08 | 125000.00 |  35756.27 | University of Geneva - GE                     | Switzerland              | Biology and Medicine | Basic Biological Research                                     | Biochemistry                             | 4 | 1.1442006 | 6 | 1.7163009 | 18 | 5.1489028 | 2013-05-16 | 0 | 0.0000000 |   NA | 0 | 0 | NA | 0 | 0 | NA | 6 | 1.7163009 | 2013 | 9 | 2.5744514 |   NA | 1 | 0.2860502 | 0 | 0.0000000 |   NA | 33 |  9.439655 | 25 | 7.151254 | 8 | 2.2884013 | 216 | 27.00000 |   NA |\n",
       "\n"
      ],
      "text/plain": [
       "  GrantNumber CallDecisionYear EffectiveGrantStartDate GrantDurationDays\n",
       "1 142628      2012             2013-09-01              1490             \n",
       "2 142615      2012             2013-04-01              1095             \n",
       "3 144100      2012             2013-09-01              1641             \n",
       "4 147291      2012             2013-02-01               364             \n",
       "5 142408      2012             2013-01-01               545             \n",
       "6 143733      2012             2013-01-01              1276             \n",
       "  GrantDurationYears EffectiveGrantEndDate State     FundingInstrumentLevel1\n",
       "1 4.0821918          2017-09-30            Completed Careers                \n",
       "2 3.0000000          2016-03-31            Completed Careers                \n",
       "3 4.4958904          2018-02-28            Completed Projects               \n",
       "4 0.9972603          2014-01-31            Completed Careers                \n",
       "5 1.4931507          2014-06-30            Completed Careers                \n",
       "6 3.4958904          2016-06-30            Completed Projects               \n",
       "  AmountGrantedAllSets AmountPerYear AmountPerEmployee AmountPerEmployeeAndYear\n",
       "1 578812               141789.52     192937.33          47263.17               \n",
       "2 534863               178287.67     267431.50          89143.83               \n",
       "3 291191                64768.26      72797.75          16192.07               \n",
       "4  60400                60565.93          0.00              0.00               \n",
       "5 584267               391298.08     584267.00         391298.08               \n",
       "6 500000               143025.08     125000.00          35756.27               \n",
       "  ResearchInstitution                           InstituteCountry        \n",
       "1 University of Lausanne - LA                   Switzerland             \n",
       "2 ETH Zurich - ETHZ                             Switzerland             \n",
       "3 University of Berne - BE                      Switzerland             \n",
       "4 Institution abroad - United States of America United States of America\n",
       "5 University of Zurich - ZH                     Switzerland             \n",
       "6 University of Geneva - GE                     Switzerland             \n",
       "  MainDiscipline_Level1\n",
       "1 Biology and Medicine \n",
       "2 Biology and Medicine \n",
       "3 Biology and Medicine \n",
       "4 Biology and Medicine \n",
       "5 Biology and Medicine \n",
       "6 Biology and Medicine \n",
       "  MainDiscipline_Level2                                        \n",
       "1 General Biology                                              \n",
       "2 Basic Biological Research                                    \n",
       "3 Preventive Medicine (Epidemiology/Early Diagnosis/Prevention)\n",
       "4 Basic Biological Research                                    \n",
       "5 Basic Biological Research                                    \n",
       "6 Basic Biological Research                                    \n",
       "  MainDiscipline                           NrEmployees NrEmployeesPerYear\n",
       "1 Ecology                                  3           0.7348993         \n",
       "2 Cellular Biology, Cytology               2           0.6666667         \n",
       "3 Mental Disorders, Psychosomatic Diseases 4           0.8897014         \n",
       "4 Biochemistry                             0           0.0000000         \n",
       "5 Experimental Microbiology                1           0.6697248         \n",
       "6 Biochemistry                             4           1.1442006         \n",
       "  NrCollaborations NrCollaborationsPerYear NrAcademicEvents\n",
       "1 2                0.4899329                4              \n",
       "2 9                3.0000000               16              \n",
       "3 6                1.3345521               43              \n",
       "4 1                1.0027473                1              \n",
       "5 4                2.6788991                4              \n",
       "6 6                1.7163009               18              \n",
       "  NrAcademicEventsPerYear DateFirstAcademicEvent NrAwards NrAwardsPerYear\n",
       "1 0.9798658               2015-03-10             1        0.2449664      \n",
       "2 5.3333333               2013-05-16             0        0.0000000      \n",
       "3 9.5642901               2014-03-01             0        0.0000000      \n",
       "4 1.0027473               2013-05-06             0        0.0000000      \n",
       "5 2.6788991               2013-05-07             0        0.0000000      \n",
       "6 5.1489028               2013-05-16             0        0.0000000      \n",
       "  YearFirstAward NrDatasets NrDatasetsPerYear DateFirstDataset\n",
       "1 2013           0          0                 <NA>            \n",
       "2   NA           0          0                 <NA>            \n",
       "3   NA           0          0                 <NA>            \n",
       "4   NA           0          0                 <NA>            \n",
       "5   NA           0          0                 <NA>            \n",
       "6   NA           0          0                 <NA>            \n",
       "  NrKnowledgeTransfer NrKnowledgeTransferPerYear DateFirstKnowledgeTransfer\n",
       "1 0                   0                          <NA>                      \n",
       "2 0                   0                          <NA>                      \n",
       "3 0                   0                          <NA>                      \n",
       "4 0                   0                          <NA>                      \n",
       "5 0                   0                          <NA>                      \n",
       "6 0                   0                          <NA>                      \n",
       "  NrCommunication NrCommunicationPerYear YearFirstCommunication\n",
       "1 0               0.0000000                NA                  \n",
       "2 1               0.3333333              2013                  \n",
       "3 0               0.0000000                NA                  \n",
       "4 0               0.0000000                NA                  \n",
       "5 0               0.0000000                NA                  \n",
       "6 6               1.7163009              2013                  \n",
       "  NrTotalPublications NrTotalPublicationsPerYear YearFirstPublication\n",
       "1 8                   1.9597315                  2014                \n",
       "2 8                   2.6666667                    NA                \n",
       "3 4                   0.8897014                    NA                \n",
       "4 0                   0.0000000                    NA                \n",
       "5 2                   1.3394495                  2013                \n",
       "6 9                   2.5744514                    NA                \n",
       "  NrUncitablePublications NrUncitablePublicationsPerYear NrUses NrUsesPerYear\n",
       "1 1                       0.2449664                      1      0.2449664    \n",
       "2 2                       0.6666667                      0      0.0000000    \n",
       "3 1                       0.2224254                      0      0.0000000    \n",
       "4 0                       0.0000000                      0      0.0000000    \n",
       "5 1                       0.6697248                      0      0.0000000    \n",
       "6 1                       0.2860502                      0      0.0000000    \n",
       "  YearFirstUse NrTotalOutputs NrTotalOutputsPerYear NrTotalUncitableOutputs\n",
       "1 2015         14              3.429530              7                     \n",
       "2   NA         25              8.333333             19                     \n",
       "3   NA         47             10.453991             44                     \n",
       "4   NA          1              1.002747              1                     \n",
       "5   NA          6              4.018349              5                     \n",
       "6   NA         33              9.439655             25                     \n",
       "  NrTotalUncitableOutputsPerYear NrCitablePublications\n",
       "1 1.714765                       7                    \n",
       "2 6.333333                       6                    \n",
       "3 9.786715                       3                    \n",
       "4 1.002747                       0                    \n",
       "5 3.348624                       1                    \n",
       "6 7.151254                       8                    \n",
       "  NrCitablePublicationsPerYear NrCitationsTotal NrCitationsPerPublication\n",
       "1 1.7147651                    293              41.85714                 \n",
       "2 2.0000000                     NA                    NA                 \n",
       "3 0.6672761                    145              48.33333                 \n",
       "4 0.0000000                     NA                    NA                 \n",
       "5 0.6697248                     NA                    NA                 \n",
       "6 2.2884013                    216              27.00000                 \n",
       "  YearFirstCitablePublication\n",
       "1 2014                       \n",
       "2   NA                       \n",
       "3 2015                       \n",
       "4   NA                       \n",
       "5 2013                       \n",
       "6   NA                       "
      ]
     },
     "metadata": {},
     "output_type": "display_data"
    }
   ],
   "source": [
    "dim(biomed_grant_data)\n",
    "head(biomed_grant_data)"
   ]
  },
  {
   "cell_type": "code",
   "execution_count": 35,
   "id": "c06abb0f-b527-47be-b51c-35a8704cf716",
   "metadata": {
    "vscode": {
     "languageId": "r"
    }
   },
   "outputs": [],
   "source": [
    "# Write  data to file\n",
    "date_string <- format(Sys.Date(), \"%Y%m%d\")\n",
    "file_name.3 <- sprintf(\"3_BiomedGrantData_%s.csv\", date_string)\n",
    "\n",
    "# Into tidy\n",
    "write.table(biomed_grant_data, file_name.3, sep=\";\", fileEncoding=\"UTF-8\", row.names = FALSE)"
   ]
  }
 ],
 "metadata": {
  "kernelspec": {
   "display_name": "R",
   "language": "R",
   "name": "ir"
  },
  "language_info": {
   "codemirror_mode": "r",
   "file_extension": ".r",
   "mimetype": "text/x-r-source",
   "name": "R",
   "pygments_lexer": "r",
   "version": "4.1.3"
  }
 },
 "nbformat": 4,
 "nbformat_minor": 5
}
