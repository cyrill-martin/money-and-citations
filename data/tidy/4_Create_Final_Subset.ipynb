{
 "cells": [
  {
   "cell_type": "code",
   "execution_count": 146,
   "id": "9e0a25c5-0b1c-4391-aec1-6bb0845db554",
   "metadata": {
    "vscode": {
     "languageId": "r"
    }
   },
   "outputs": [],
   "source": [
    "library(tidyverse)"
   ]
  },
  {
   "cell_type": "code",
   "execution_count": 147,
   "id": "436ebe07",
   "metadata": {
    "vscode": {
     "languageId": "r"
    }
   },
   "outputs": [],
   "source": [
    "# Make sure all columns of a tibble are being shown\n",
    "options(repr.matrix.max.rows = Inf, repr.matrix.max.cols = Inf)"
   ]
  },
  {
   "cell_type": "code",
   "execution_count": 148,
   "id": "489fee4d-5cad-4a54-ad69-8e6fc456a918",
   "metadata": {
    "vscode": {
     "languageId": "r"
    }
   },
   "outputs": [
    {
     "name": "stderr",
     "output_type": "stream",
     "text": [
      "\u001b[1mRows: \u001b[22m\u001b[34m7609\u001b[39m \u001b[1mColumns: \u001b[22m\u001b[34m53\u001b[39m\n",
      "\u001b[36m--\u001b[39m \u001b[1mColumn specification\u001b[22m \u001b[36m--------------------------------------------------------\u001b[39m\n",
      "\u001b[1mDelimiter:\u001b[22m \";\"\n",
      "\u001b[31mchr\u001b[39m   (7): State, FundingInstrumentLevel1, ResearchInstitution, InstituteCou...\n",
      "\u001b[32mdbl\u001b[39m  (41): GrantNumber, CallDecisionYear, GrantDurationDays, GrantDurationYe...\n",
      "\u001b[34mdate\u001b[39m  (5): EffectiveGrantStartDate, EffectiveGrantEndDate, DateFirstAcademic...\n",
      "\n",
      "\u001b[36mi\u001b[39m Use `spec()` to retrieve the full column specification for this data.\n",
      "\u001b[36mi\u001b[39m Specify the column types or set `show_col_types = FALSE` to quiet this message.\n"
     ]
    }
   ],
   "source": [
    "grant_data <- read_delim(\"3_BiomedGrantData_20230517.csv\", delim = \";\", col_names=TRUE)"
   ]
  },
  {
   "cell_type": "code",
   "execution_count": 149,
   "id": "c811cde6",
   "metadata": {
    "vscode": {
     "languageId": "r"
    }
   },
   "outputs": [
    {
     "data": {
      "text/html": [
       "<style>\n",
       ".list-inline {list-style: none; margin:0; padding: 0}\n",
       ".list-inline>li {display: inline-block}\n",
       ".list-inline>li:not(:last-child)::after {content: \"\\00b7\"; padding: 0 .5ex}\n",
       "</style>\n",
       "<ol class=list-inline><li>7609</li><li>53</li></ol>\n"
      ],
      "text/latex": [
       "\\begin{enumerate*}\n",
       "\\item 7609\n",
       "\\item 53\n",
       "\\end{enumerate*}\n"
      ],
      "text/markdown": [
       "1. 7609\n",
       "2. 53\n",
       "\n",
       "\n"
      ],
      "text/plain": [
       "[1] 7609   53"
      ]
     },
     "metadata": {},
     "output_type": "display_data"
    },
    {
     "data": {
      "text/html": [
       "<table class=\"dataframe\">\n",
       "<caption>A tibble: 6 × 53</caption>\n",
       "<thead>\n",
       "\t<tr><th scope=col>GrantNumber</th><th scope=col>CallDecisionYear</th><th scope=col>EffectiveGrantStartDate</th><th scope=col>GrantDurationDays</th><th scope=col>GrantDurationYears</th><th scope=col>EffectiveGrantEndDate</th><th scope=col>State</th><th scope=col>FundingInstrumentLevel1</th><th scope=col>AmountGrantedAllSets</th><th scope=col>AmountPerYear</th><th scope=col>AmountPerEmployee</th><th scope=col>AmountPerEmployeeAndYear</th><th scope=col>ResearchInstitution</th><th scope=col>InstituteCountry</th><th scope=col>MainDiscipline_Level1</th><th scope=col>MainDiscipline_Level2</th><th scope=col>MainDiscipline</th><th scope=col>NrEmployees</th><th scope=col>NrEmployeesPerYear</th><th scope=col>NrCollaborations</th><th scope=col>NrCollaborationsPerYear</th><th scope=col>NrAcademicEvents</th><th scope=col>NrAcademicEventsPerYear</th><th scope=col>DateFirstAcademicEvent</th><th scope=col>NrAwards</th><th scope=col>NrAwardsPerYear</th><th scope=col>YearFirstAward</th><th scope=col>NrDatasets</th><th scope=col>NrDatasetsPerYear</th><th scope=col>DateFirstDataset</th><th scope=col>NrKnowledgeTransfer</th><th scope=col>NrKnowledgeTransferPerYear</th><th scope=col>DateFirstKnowledgeTransfer</th><th scope=col>NrCommunication</th><th scope=col>NrCommunicationPerYear</th><th scope=col>YearFirstCommunication</th><th scope=col>NrTotalPublications</th><th scope=col>NrTotalPublicationsPerYear</th><th scope=col>YearFirstPublication</th><th scope=col>NrUncitablePublications</th><th scope=col>NrUncitablePublicationsPerYear</th><th scope=col>NrUses</th><th scope=col>NrUsesPerYear</th><th scope=col>YearFirstUse</th><th scope=col>NrTotalOutputs</th><th scope=col>NrTotalOutputsPerYear</th><th scope=col>NrTotalUncitableOutputs</th><th scope=col>NrTotalUncitableOutputsPerYear</th><th scope=col>NrCitablePublications</th><th scope=col>NrCitablePublicationsPerYear</th><th scope=col>NrCitationsTotal</th><th scope=col>NrCitationsPerPublication</th><th scope=col>YearFirstCitablePublication</th></tr>\n",
       "\t<tr><th scope=col>&lt;dbl&gt;</th><th scope=col>&lt;dbl&gt;</th><th scope=col>&lt;date&gt;</th><th scope=col>&lt;dbl&gt;</th><th scope=col>&lt;dbl&gt;</th><th scope=col>&lt;date&gt;</th><th scope=col>&lt;chr&gt;</th><th scope=col>&lt;chr&gt;</th><th scope=col>&lt;dbl&gt;</th><th scope=col>&lt;dbl&gt;</th><th scope=col>&lt;dbl&gt;</th><th scope=col>&lt;dbl&gt;</th><th scope=col>&lt;chr&gt;</th><th scope=col>&lt;chr&gt;</th><th scope=col>&lt;chr&gt;</th><th scope=col>&lt;chr&gt;</th><th scope=col>&lt;chr&gt;</th><th scope=col>&lt;dbl&gt;</th><th scope=col>&lt;dbl&gt;</th><th scope=col>&lt;dbl&gt;</th><th scope=col>&lt;dbl&gt;</th><th scope=col>&lt;dbl&gt;</th><th scope=col>&lt;dbl&gt;</th><th scope=col>&lt;date&gt;</th><th scope=col>&lt;dbl&gt;</th><th scope=col>&lt;dbl&gt;</th><th scope=col>&lt;dbl&gt;</th><th scope=col>&lt;dbl&gt;</th><th scope=col>&lt;dbl&gt;</th><th scope=col>&lt;date&gt;</th><th scope=col>&lt;dbl&gt;</th><th scope=col>&lt;dbl&gt;</th><th scope=col>&lt;date&gt;</th><th scope=col>&lt;dbl&gt;</th><th scope=col>&lt;dbl&gt;</th><th scope=col>&lt;dbl&gt;</th><th scope=col>&lt;dbl&gt;</th><th scope=col>&lt;dbl&gt;</th><th scope=col>&lt;dbl&gt;</th><th scope=col>&lt;dbl&gt;</th><th scope=col>&lt;dbl&gt;</th><th scope=col>&lt;dbl&gt;</th><th scope=col>&lt;dbl&gt;</th><th scope=col>&lt;dbl&gt;</th><th scope=col>&lt;dbl&gt;</th><th scope=col>&lt;dbl&gt;</th><th scope=col>&lt;dbl&gt;</th><th scope=col>&lt;dbl&gt;</th><th scope=col>&lt;dbl&gt;</th><th scope=col>&lt;dbl&gt;</th><th scope=col>&lt;dbl&gt;</th><th scope=col>&lt;dbl&gt;</th><th scope=col>&lt;dbl&gt;</th></tr>\n",
       "</thead>\n",
       "<tbody>\n",
       "\t<tr><td>142628</td><td>2012</td><td>2013-09-01</td><td>1490</td><td>4.0821918</td><td>2017-09-30</td><td>Completed</td><td>Careers </td><td>578812</td><td>141789.52</td><td>192937.33</td><td> 47263.17</td><td>University of Lausanne - LA                  </td><td>Switzerland             </td><td>Biology and Medicine</td><td>General Biology                                              </td><td>Ecology                                 </td><td>3</td><td>0.7348993</td><td>2</td><td>0.4899329</td><td> 4</td><td>0.9798658</td><td>2015-03-10</td><td>1</td><td>0.2449664</td><td>2013</td><td>0</td><td>0</td><td>NA</td><td>0</td><td>0</td><td>NA</td><td>0</td><td>0.0000000</td><td>  NA</td><td>8</td><td>1.9597315</td><td>2014</td><td>1</td><td>0.2449664</td><td>1</td><td>0.2449664</td><td>2015</td><td>14</td><td> 3.429530</td><td> 7</td><td>1.714765</td><td>7</td><td>1.7147651</td><td>293</td><td>41.85714</td><td>2014</td></tr>\n",
       "\t<tr><td>142615</td><td>2012</td><td>2013-04-01</td><td>1095</td><td>3.0000000</td><td>2016-03-31</td><td>Completed</td><td>Careers </td><td>534863</td><td>178287.67</td><td>267431.50</td><td> 89143.83</td><td>ETH Zurich - ETHZ                            </td><td>Switzerland             </td><td>Biology and Medicine</td><td>Basic Biological Research                                    </td><td>Cellular Biology, Cytology              </td><td>2</td><td>0.6666667</td><td>9</td><td>3.0000000</td><td>16</td><td>5.3333333</td><td>2013-05-16</td><td>0</td><td>0.0000000</td><td>  NA</td><td>0</td><td>0</td><td>NA</td><td>0</td><td>0</td><td>NA</td><td>1</td><td>0.3333333</td><td>2013</td><td>8</td><td>2.6666667</td><td>  NA</td><td>2</td><td>0.6666667</td><td>0</td><td>0.0000000</td><td>  NA</td><td>25</td><td> 8.333333</td><td>19</td><td>6.333333</td><td>6</td><td>2.0000000</td><td> NA</td><td>      NA</td><td>  NA</td></tr>\n",
       "\t<tr><td>144100</td><td>2012</td><td>2013-09-01</td><td>1641</td><td>4.4958904</td><td>2018-02-28</td><td>Completed</td><td>Projects</td><td>291191</td><td> 64768.26</td><td> 72797.75</td><td> 16192.07</td><td>University of Berne - BE                     </td><td>Switzerland             </td><td>Biology and Medicine</td><td>Preventive Medicine (Epidemiology/Early Diagnosis/Prevention)</td><td>Mental Disorders, Psychosomatic Diseases</td><td>4</td><td>0.8897014</td><td>6</td><td>1.3345521</td><td>43</td><td>9.5642901</td><td>2014-03-01</td><td>0</td><td>0.0000000</td><td>  NA</td><td>0</td><td>0</td><td>NA</td><td>0</td><td>0</td><td>NA</td><td>0</td><td>0.0000000</td><td>  NA</td><td>4</td><td>0.8897014</td><td>  NA</td><td>1</td><td>0.2224254</td><td>0</td><td>0.0000000</td><td>  NA</td><td>47</td><td>10.453991</td><td>44</td><td>9.786715</td><td>3</td><td>0.6672761</td><td>145</td><td>48.33333</td><td>2015</td></tr>\n",
       "\t<tr><td>147291</td><td>2012</td><td>2013-02-01</td><td> 364</td><td>0.9972603</td><td>2014-01-31</td><td>Completed</td><td>Careers </td><td> 60400</td><td> 60565.93</td><td>     0.00</td><td>     0.00</td><td>Institution abroad - United States of America</td><td>United States of America</td><td>Biology and Medicine</td><td>Basic Biological Research                                    </td><td>Biochemistry                            </td><td>0</td><td>0.0000000</td><td>1</td><td>1.0027473</td><td> 1</td><td>1.0027473</td><td>2013-05-06</td><td>0</td><td>0.0000000</td><td>  NA</td><td>0</td><td>0</td><td>NA</td><td>0</td><td>0</td><td>NA</td><td>0</td><td>0.0000000</td><td>  NA</td><td>0</td><td>0.0000000</td><td>  NA</td><td>0</td><td>0.0000000</td><td>0</td><td>0.0000000</td><td>  NA</td><td> 1</td><td> 1.002747</td><td> 1</td><td>1.002747</td><td>0</td><td>0.0000000</td><td> NA</td><td>      NA</td><td>  NA</td></tr>\n",
       "\t<tr><td>142408</td><td>2012</td><td>2013-01-01</td><td> 545</td><td>1.4931507</td><td>2014-06-30</td><td>Completed</td><td>Careers </td><td>584267</td><td>391298.08</td><td>584267.00</td><td>391298.08</td><td>University of Zurich - ZH                    </td><td>Switzerland             </td><td>Biology and Medicine</td><td>Basic Biological Research                                    </td><td>Experimental Microbiology               </td><td>1</td><td>0.6697248</td><td>4</td><td>2.6788991</td><td> 4</td><td>2.6788991</td><td>2013-05-07</td><td>0</td><td>0.0000000</td><td>  NA</td><td>0</td><td>0</td><td>NA</td><td>0</td><td>0</td><td>NA</td><td>0</td><td>0.0000000</td><td>  NA</td><td>2</td><td>1.3394495</td><td>2013</td><td>1</td><td>0.6697248</td><td>0</td><td>0.0000000</td><td>  NA</td><td> 6</td><td> 4.018349</td><td> 5</td><td>3.348624</td><td>1</td><td>0.6697248</td><td> NA</td><td>      NA</td><td>2013</td></tr>\n",
       "\t<tr><td>143733</td><td>2012</td><td>2013-01-01</td><td>1276</td><td>3.4958904</td><td>2016-06-30</td><td>Completed</td><td>Projects</td><td>500000</td><td>143025.08</td><td>125000.00</td><td> 35756.27</td><td>University of Geneva - GE                    </td><td>Switzerland             </td><td>Biology and Medicine</td><td>Basic Biological Research                                    </td><td>Biochemistry                            </td><td>4</td><td>1.1442006</td><td>6</td><td>1.7163009</td><td>18</td><td>5.1489028</td><td>2013-05-16</td><td>0</td><td>0.0000000</td><td>  NA</td><td>0</td><td>0</td><td>NA</td><td>0</td><td>0</td><td>NA</td><td>6</td><td>1.7163009</td><td>2013</td><td>9</td><td>2.5744514</td><td>  NA</td><td>1</td><td>0.2860502</td><td>0</td><td>0.0000000</td><td>  NA</td><td>33</td><td> 9.439655</td><td>25</td><td>7.151254</td><td>8</td><td>2.2884013</td><td>216</td><td>27.00000</td><td>  NA</td></tr>\n",
       "</tbody>\n",
       "</table>\n"
      ],
      "text/latex": [
       "A tibble: 6 × 53\n",
       "\\begin{tabular}{lllllllllllllllllllllllllllllllllllllllllllllllllllll}\n",
       " GrantNumber & CallDecisionYear & EffectiveGrantStartDate & GrantDurationDays & GrantDurationYears & EffectiveGrantEndDate & State & FundingInstrumentLevel1 & AmountGrantedAllSets & AmountPerYear & AmountPerEmployee & AmountPerEmployeeAndYear & ResearchInstitution & InstituteCountry & MainDiscipline\\_Level1 & MainDiscipline\\_Level2 & MainDiscipline & NrEmployees & NrEmployeesPerYear & NrCollaborations & NrCollaborationsPerYear & NrAcademicEvents & NrAcademicEventsPerYear & DateFirstAcademicEvent & NrAwards & NrAwardsPerYear & YearFirstAward & NrDatasets & NrDatasetsPerYear & DateFirstDataset & NrKnowledgeTransfer & NrKnowledgeTransferPerYear & DateFirstKnowledgeTransfer & NrCommunication & NrCommunicationPerYear & YearFirstCommunication & NrTotalPublications & NrTotalPublicationsPerYear & YearFirstPublication & NrUncitablePublications & NrUncitablePublicationsPerYear & NrUses & NrUsesPerYear & YearFirstUse & NrTotalOutputs & NrTotalOutputsPerYear & NrTotalUncitableOutputs & NrTotalUncitableOutputsPerYear & NrCitablePublications & NrCitablePublicationsPerYear & NrCitationsTotal & NrCitationsPerPublication & YearFirstCitablePublication\\\\\n",
       " <dbl> & <dbl> & <date> & <dbl> & <dbl> & <date> & <chr> & <chr> & <dbl> & <dbl> & <dbl> & <dbl> & <chr> & <chr> & <chr> & <chr> & <chr> & <dbl> & <dbl> & <dbl> & <dbl> & <dbl> & <dbl> & <date> & <dbl> & <dbl> & <dbl> & <dbl> & <dbl> & <date> & <dbl> & <dbl> & <date> & <dbl> & <dbl> & <dbl> & <dbl> & <dbl> & <dbl> & <dbl> & <dbl> & <dbl> & <dbl> & <dbl> & <dbl> & <dbl> & <dbl> & <dbl> & <dbl> & <dbl> & <dbl> & <dbl> & <dbl>\\\\\n",
       "\\hline\n",
       "\t 142628 & 2012 & 2013-09-01 & 1490 & 4.0821918 & 2017-09-30 & Completed & Careers  & 578812 & 141789.52 & 192937.33 &  47263.17 & University of Lausanne - LA                   & Switzerland              & Biology and Medicine & General Biology                                               & Ecology                                  & 3 & 0.7348993 & 2 & 0.4899329 &  4 & 0.9798658 & 2015-03-10 & 1 & 0.2449664 & 2013 & 0 & 0 & NA & 0 & 0 & NA & 0 & 0.0000000 &   NA & 8 & 1.9597315 & 2014 & 1 & 0.2449664 & 1 & 0.2449664 & 2015 & 14 &  3.429530 &  7 & 1.714765 & 7 & 1.7147651 & 293 & 41.85714 & 2014\\\\\n",
       "\t 142615 & 2012 & 2013-04-01 & 1095 & 3.0000000 & 2016-03-31 & Completed & Careers  & 534863 & 178287.67 & 267431.50 &  89143.83 & ETH Zurich - ETHZ                             & Switzerland              & Biology and Medicine & Basic Biological Research                                     & Cellular Biology, Cytology               & 2 & 0.6666667 & 9 & 3.0000000 & 16 & 5.3333333 & 2013-05-16 & 0 & 0.0000000 &   NA & 0 & 0 & NA & 0 & 0 & NA & 1 & 0.3333333 & 2013 & 8 & 2.6666667 &   NA & 2 & 0.6666667 & 0 & 0.0000000 &   NA & 25 &  8.333333 & 19 & 6.333333 & 6 & 2.0000000 &  NA &       NA &   NA\\\\\n",
       "\t 144100 & 2012 & 2013-09-01 & 1641 & 4.4958904 & 2018-02-28 & Completed & Projects & 291191 &  64768.26 &  72797.75 &  16192.07 & University of Berne - BE                      & Switzerland              & Biology and Medicine & Preventive Medicine (Epidemiology/Early Diagnosis/Prevention) & Mental Disorders, Psychosomatic Diseases & 4 & 0.8897014 & 6 & 1.3345521 & 43 & 9.5642901 & 2014-03-01 & 0 & 0.0000000 &   NA & 0 & 0 & NA & 0 & 0 & NA & 0 & 0.0000000 &   NA & 4 & 0.8897014 &   NA & 1 & 0.2224254 & 0 & 0.0000000 &   NA & 47 & 10.453991 & 44 & 9.786715 & 3 & 0.6672761 & 145 & 48.33333 & 2015\\\\\n",
       "\t 147291 & 2012 & 2013-02-01 &  364 & 0.9972603 & 2014-01-31 & Completed & Careers  &  60400 &  60565.93 &      0.00 &      0.00 & Institution abroad - United States of America & United States of America & Biology and Medicine & Basic Biological Research                                     & Biochemistry                             & 0 & 0.0000000 & 1 & 1.0027473 &  1 & 1.0027473 & 2013-05-06 & 0 & 0.0000000 &   NA & 0 & 0 & NA & 0 & 0 & NA & 0 & 0.0000000 &   NA & 0 & 0.0000000 &   NA & 0 & 0.0000000 & 0 & 0.0000000 &   NA &  1 &  1.002747 &  1 & 1.002747 & 0 & 0.0000000 &  NA &       NA &   NA\\\\\n",
       "\t 142408 & 2012 & 2013-01-01 &  545 & 1.4931507 & 2014-06-30 & Completed & Careers  & 584267 & 391298.08 & 584267.00 & 391298.08 & University of Zurich - ZH                     & Switzerland              & Biology and Medicine & Basic Biological Research                                     & Experimental Microbiology                & 1 & 0.6697248 & 4 & 2.6788991 &  4 & 2.6788991 & 2013-05-07 & 0 & 0.0000000 &   NA & 0 & 0 & NA & 0 & 0 & NA & 0 & 0.0000000 &   NA & 2 & 1.3394495 & 2013 & 1 & 0.6697248 & 0 & 0.0000000 &   NA &  6 &  4.018349 &  5 & 3.348624 & 1 & 0.6697248 &  NA &       NA & 2013\\\\\n",
       "\t 143733 & 2012 & 2013-01-01 & 1276 & 3.4958904 & 2016-06-30 & Completed & Projects & 500000 & 143025.08 & 125000.00 &  35756.27 & University of Geneva - GE                     & Switzerland              & Biology and Medicine & Basic Biological Research                                     & Biochemistry                             & 4 & 1.1442006 & 6 & 1.7163009 & 18 & 5.1489028 & 2013-05-16 & 0 & 0.0000000 &   NA & 0 & 0 & NA & 0 & 0 & NA & 6 & 1.7163009 & 2013 & 9 & 2.5744514 &   NA & 1 & 0.2860502 & 0 & 0.0000000 &   NA & 33 &  9.439655 & 25 & 7.151254 & 8 & 2.2884013 & 216 & 27.00000 &   NA\\\\\n",
       "\\end{tabular}\n"
      ],
      "text/markdown": [
       "\n",
       "A tibble: 6 × 53\n",
       "\n",
       "| GrantNumber &lt;dbl&gt; | CallDecisionYear &lt;dbl&gt; | EffectiveGrantStartDate &lt;date&gt; | GrantDurationDays &lt;dbl&gt; | GrantDurationYears &lt;dbl&gt; | EffectiveGrantEndDate &lt;date&gt; | State &lt;chr&gt; | FundingInstrumentLevel1 &lt;chr&gt; | AmountGrantedAllSets &lt;dbl&gt; | AmountPerYear &lt;dbl&gt; | AmountPerEmployee &lt;dbl&gt; | AmountPerEmployeeAndYear &lt;dbl&gt; | ResearchInstitution &lt;chr&gt; | InstituteCountry &lt;chr&gt; | MainDiscipline_Level1 &lt;chr&gt; | MainDiscipline_Level2 &lt;chr&gt; | MainDiscipline &lt;chr&gt; | NrEmployees &lt;dbl&gt; | NrEmployeesPerYear &lt;dbl&gt; | NrCollaborations &lt;dbl&gt; | NrCollaborationsPerYear &lt;dbl&gt; | NrAcademicEvents &lt;dbl&gt; | NrAcademicEventsPerYear &lt;dbl&gt; | DateFirstAcademicEvent &lt;date&gt; | NrAwards &lt;dbl&gt; | NrAwardsPerYear &lt;dbl&gt; | YearFirstAward &lt;dbl&gt; | NrDatasets &lt;dbl&gt; | NrDatasetsPerYear &lt;dbl&gt; | DateFirstDataset &lt;date&gt; | NrKnowledgeTransfer &lt;dbl&gt; | NrKnowledgeTransferPerYear &lt;dbl&gt; | DateFirstKnowledgeTransfer &lt;date&gt; | NrCommunication &lt;dbl&gt; | NrCommunicationPerYear &lt;dbl&gt; | YearFirstCommunication &lt;dbl&gt; | NrTotalPublications &lt;dbl&gt; | NrTotalPublicationsPerYear &lt;dbl&gt; | YearFirstPublication &lt;dbl&gt; | NrUncitablePublications &lt;dbl&gt; | NrUncitablePublicationsPerYear &lt;dbl&gt; | NrUses &lt;dbl&gt; | NrUsesPerYear &lt;dbl&gt; | YearFirstUse &lt;dbl&gt; | NrTotalOutputs &lt;dbl&gt; | NrTotalOutputsPerYear &lt;dbl&gt; | NrTotalUncitableOutputs &lt;dbl&gt; | NrTotalUncitableOutputsPerYear &lt;dbl&gt; | NrCitablePublications &lt;dbl&gt; | NrCitablePublicationsPerYear &lt;dbl&gt; | NrCitationsTotal &lt;dbl&gt; | NrCitationsPerPublication &lt;dbl&gt; | YearFirstCitablePublication &lt;dbl&gt; |\n",
       "|---|---|---|---|---|---|---|---|---|---|---|---|---|---|---|---|---|---|---|---|---|---|---|---|---|---|---|---|---|---|---|---|---|---|---|---|---|---|---|---|---|---|---|---|---|---|---|---|---|---|---|---|---|\n",
       "| 142628 | 2012 | 2013-09-01 | 1490 | 4.0821918 | 2017-09-30 | Completed | Careers  | 578812 | 141789.52 | 192937.33 |  47263.17 | University of Lausanne - LA                   | Switzerland              | Biology and Medicine | General Biology                                               | Ecology                                  | 3 | 0.7348993 | 2 | 0.4899329 |  4 | 0.9798658 | 2015-03-10 | 1 | 0.2449664 | 2013 | 0 | 0 | NA | 0 | 0 | NA | 0 | 0.0000000 |   NA | 8 | 1.9597315 | 2014 | 1 | 0.2449664 | 1 | 0.2449664 | 2015 | 14 |  3.429530 |  7 | 1.714765 | 7 | 1.7147651 | 293 | 41.85714 | 2014 |\n",
       "| 142615 | 2012 | 2013-04-01 | 1095 | 3.0000000 | 2016-03-31 | Completed | Careers  | 534863 | 178287.67 | 267431.50 |  89143.83 | ETH Zurich - ETHZ                             | Switzerland              | Biology and Medicine | Basic Biological Research                                     | Cellular Biology, Cytology               | 2 | 0.6666667 | 9 | 3.0000000 | 16 | 5.3333333 | 2013-05-16 | 0 | 0.0000000 |   NA | 0 | 0 | NA | 0 | 0 | NA | 1 | 0.3333333 | 2013 | 8 | 2.6666667 |   NA | 2 | 0.6666667 | 0 | 0.0000000 |   NA | 25 |  8.333333 | 19 | 6.333333 | 6 | 2.0000000 |  NA |       NA |   NA |\n",
       "| 144100 | 2012 | 2013-09-01 | 1641 | 4.4958904 | 2018-02-28 | Completed | Projects | 291191 |  64768.26 |  72797.75 |  16192.07 | University of Berne - BE                      | Switzerland              | Biology and Medicine | Preventive Medicine (Epidemiology/Early Diagnosis/Prevention) | Mental Disorders, Psychosomatic Diseases | 4 | 0.8897014 | 6 | 1.3345521 | 43 | 9.5642901 | 2014-03-01 | 0 | 0.0000000 |   NA | 0 | 0 | NA | 0 | 0 | NA | 0 | 0.0000000 |   NA | 4 | 0.8897014 |   NA | 1 | 0.2224254 | 0 | 0.0000000 |   NA | 47 | 10.453991 | 44 | 9.786715 | 3 | 0.6672761 | 145 | 48.33333 | 2015 |\n",
       "| 147291 | 2012 | 2013-02-01 |  364 | 0.9972603 | 2014-01-31 | Completed | Careers  |  60400 |  60565.93 |      0.00 |      0.00 | Institution abroad - United States of America | United States of America | Biology and Medicine | Basic Biological Research                                     | Biochemistry                             | 0 | 0.0000000 | 1 | 1.0027473 |  1 | 1.0027473 | 2013-05-06 | 0 | 0.0000000 |   NA | 0 | 0 | NA | 0 | 0 | NA | 0 | 0.0000000 |   NA | 0 | 0.0000000 |   NA | 0 | 0.0000000 | 0 | 0.0000000 |   NA |  1 |  1.002747 |  1 | 1.002747 | 0 | 0.0000000 |  NA |       NA |   NA |\n",
       "| 142408 | 2012 | 2013-01-01 |  545 | 1.4931507 | 2014-06-30 | Completed | Careers  | 584267 | 391298.08 | 584267.00 | 391298.08 | University of Zurich - ZH                     | Switzerland              | Biology and Medicine | Basic Biological Research                                     | Experimental Microbiology                | 1 | 0.6697248 | 4 | 2.6788991 |  4 | 2.6788991 | 2013-05-07 | 0 | 0.0000000 |   NA | 0 | 0 | NA | 0 | 0 | NA | 0 | 0.0000000 |   NA | 2 | 1.3394495 | 2013 | 1 | 0.6697248 | 0 | 0.0000000 |   NA |  6 |  4.018349 |  5 | 3.348624 | 1 | 0.6697248 |  NA |       NA | 2013 |\n",
       "| 143733 | 2012 | 2013-01-01 | 1276 | 3.4958904 | 2016-06-30 | Completed | Projects | 500000 | 143025.08 | 125000.00 |  35756.27 | University of Geneva - GE                     | Switzerland              | Biology and Medicine | Basic Biological Research                                     | Biochemistry                             | 4 | 1.1442006 | 6 | 1.7163009 | 18 | 5.1489028 | 2013-05-16 | 0 | 0.0000000 |   NA | 0 | 0 | NA | 0 | 0 | NA | 6 | 1.7163009 | 2013 | 9 | 2.5744514 |   NA | 1 | 0.2860502 | 0 | 0.0000000 |   NA | 33 |  9.439655 | 25 | 7.151254 | 8 | 2.2884013 | 216 | 27.00000 |   NA |\n",
       "\n"
      ],
      "text/plain": [
       "  GrantNumber CallDecisionYear EffectiveGrantStartDate GrantDurationDays\n",
       "1 142628      2012             2013-09-01              1490             \n",
       "2 142615      2012             2013-04-01              1095             \n",
       "3 144100      2012             2013-09-01              1641             \n",
       "4 147291      2012             2013-02-01               364             \n",
       "5 142408      2012             2013-01-01               545             \n",
       "6 143733      2012             2013-01-01              1276             \n",
       "  GrantDurationYears EffectiveGrantEndDate State     FundingInstrumentLevel1\n",
       "1 4.0821918          2017-09-30            Completed Careers                \n",
       "2 3.0000000          2016-03-31            Completed Careers                \n",
       "3 4.4958904          2018-02-28            Completed Projects               \n",
       "4 0.9972603          2014-01-31            Completed Careers                \n",
       "5 1.4931507          2014-06-30            Completed Careers                \n",
       "6 3.4958904          2016-06-30            Completed Projects               \n",
       "  AmountGrantedAllSets AmountPerYear AmountPerEmployee AmountPerEmployeeAndYear\n",
       "1 578812               141789.52     192937.33          47263.17               \n",
       "2 534863               178287.67     267431.50          89143.83               \n",
       "3 291191                64768.26      72797.75          16192.07               \n",
       "4  60400                60565.93          0.00              0.00               \n",
       "5 584267               391298.08     584267.00         391298.08               \n",
       "6 500000               143025.08     125000.00          35756.27               \n",
       "  ResearchInstitution                           InstituteCountry        \n",
       "1 University of Lausanne - LA                   Switzerland             \n",
       "2 ETH Zurich - ETHZ                             Switzerland             \n",
       "3 University of Berne - BE                      Switzerland             \n",
       "4 Institution abroad - United States of America United States of America\n",
       "5 University of Zurich - ZH                     Switzerland             \n",
       "6 University of Geneva - GE                     Switzerland             \n",
       "  MainDiscipline_Level1\n",
       "1 Biology and Medicine \n",
       "2 Biology and Medicine \n",
       "3 Biology and Medicine \n",
       "4 Biology and Medicine \n",
       "5 Biology and Medicine \n",
       "6 Biology and Medicine \n",
       "  MainDiscipline_Level2                                        \n",
       "1 General Biology                                              \n",
       "2 Basic Biological Research                                    \n",
       "3 Preventive Medicine (Epidemiology/Early Diagnosis/Prevention)\n",
       "4 Basic Biological Research                                    \n",
       "5 Basic Biological Research                                    \n",
       "6 Basic Biological Research                                    \n",
       "  MainDiscipline                           NrEmployees NrEmployeesPerYear\n",
       "1 Ecology                                  3           0.7348993         \n",
       "2 Cellular Biology, Cytology               2           0.6666667         \n",
       "3 Mental Disorders, Psychosomatic Diseases 4           0.8897014         \n",
       "4 Biochemistry                             0           0.0000000         \n",
       "5 Experimental Microbiology                1           0.6697248         \n",
       "6 Biochemistry                             4           1.1442006         \n",
       "  NrCollaborations NrCollaborationsPerYear NrAcademicEvents\n",
       "1 2                0.4899329                4              \n",
       "2 9                3.0000000               16              \n",
       "3 6                1.3345521               43              \n",
       "4 1                1.0027473                1              \n",
       "5 4                2.6788991                4              \n",
       "6 6                1.7163009               18              \n",
       "  NrAcademicEventsPerYear DateFirstAcademicEvent NrAwards NrAwardsPerYear\n",
       "1 0.9798658               2015-03-10             1        0.2449664      \n",
       "2 5.3333333               2013-05-16             0        0.0000000      \n",
       "3 9.5642901               2014-03-01             0        0.0000000      \n",
       "4 1.0027473               2013-05-06             0        0.0000000      \n",
       "5 2.6788991               2013-05-07             0        0.0000000      \n",
       "6 5.1489028               2013-05-16             0        0.0000000      \n",
       "  YearFirstAward NrDatasets NrDatasetsPerYear DateFirstDataset\n",
       "1 2013           0          0                 <NA>            \n",
       "2   NA           0          0                 <NA>            \n",
       "3   NA           0          0                 <NA>            \n",
       "4   NA           0          0                 <NA>            \n",
       "5   NA           0          0                 <NA>            \n",
       "6   NA           0          0                 <NA>            \n",
       "  NrKnowledgeTransfer NrKnowledgeTransferPerYear DateFirstKnowledgeTransfer\n",
       "1 0                   0                          <NA>                      \n",
       "2 0                   0                          <NA>                      \n",
       "3 0                   0                          <NA>                      \n",
       "4 0                   0                          <NA>                      \n",
       "5 0                   0                          <NA>                      \n",
       "6 0                   0                          <NA>                      \n",
       "  NrCommunication NrCommunicationPerYear YearFirstCommunication\n",
       "1 0               0.0000000                NA                  \n",
       "2 1               0.3333333              2013                  \n",
       "3 0               0.0000000                NA                  \n",
       "4 0               0.0000000                NA                  \n",
       "5 0               0.0000000                NA                  \n",
       "6 6               1.7163009              2013                  \n",
       "  NrTotalPublications NrTotalPublicationsPerYear YearFirstPublication\n",
       "1 8                   1.9597315                  2014                \n",
       "2 8                   2.6666667                    NA                \n",
       "3 4                   0.8897014                    NA                \n",
       "4 0                   0.0000000                    NA                \n",
       "5 2                   1.3394495                  2013                \n",
       "6 9                   2.5744514                    NA                \n",
       "  NrUncitablePublications NrUncitablePublicationsPerYear NrUses NrUsesPerYear\n",
       "1 1                       0.2449664                      1      0.2449664    \n",
       "2 2                       0.6666667                      0      0.0000000    \n",
       "3 1                       0.2224254                      0      0.0000000    \n",
       "4 0                       0.0000000                      0      0.0000000    \n",
       "5 1                       0.6697248                      0      0.0000000    \n",
       "6 1                       0.2860502                      0      0.0000000    \n",
       "  YearFirstUse NrTotalOutputs NrTotalOutputsPerYear NrTotalUncitableOutputs\n",
       "1 2015         14              3.429530              7                     \n",
       "2   NA         25              8.333333             19                     \n",
       "3   NA         47             10.453991             44                     \n",
       "4   NA          1              1.002747              1                     \n",
       "5   NA          6              4.018349              5                     \n",
       "6   NA         33              9.439655             25                     \n",
       "  NrTotalUncitableOutputsPerYear NrCitablePublications\n",
       "1 1.714765                       7                    \n",
       "2 6.333333                       6                    \n",
       "3 9.786715                       3                    \n",
       "4 1.002747                       0                    \n",
       "5 3.348624                       1                    \n",
       "6 7.151254                       8                    \n",
       "  NrCitablePublicationsPerYear NrCitationsTotal NrCitationsPerPublication\n",
       "1 1.7147651                    293              41.85714                 \n",
       "2 2.0000000                     NA                    NA                 \n",
       "3 0.6672761                    145              48.33333                 \n",
       "4 0.0000000                     NA                    NA                 \n",
       "5 0.6697248                     NA                    NA                 \n",
       "6 2.2884013                    216              27.00000                 \n",
       "  YearFirstCitablePublication\n",
       "1 2014                       \n",
       "2   NA                       \n",
       "3 2015                       \n",
       "4   NA                       \n",
       "5 2013                       \n",
       "6   NA                       "
      ]
     },
     "metadata": {},
     "output_type": "display_data"
    }
   ],
   "source": [
    "dim(grant_data)\n",
    "head(grant_data)"
   ]
  },
  {
   "cell_type": "code",
   "execution_count": 150,
   "id": "d9b3a8ff",
   "metadata": {
    "vscode": {
     "languageId": "r"
    }
   },
   "outputs": [],
   "source": [
    "# Shorten Preventive Medicine (Epidemiology/Early Diagnosis/Prevention)\n",
    "grant_data <- mutate(grant_data, MainDiscipline_Level2 = ifelse(MainDiscipline_Level2 == \"Preventive Medicine (Epidemiology/Early Diagnosis/Prevention)\", \"Preventive Medicine\", MainDiscipline_Level2))"
   ]
  },
  {
   "cell_type": "code",
   "execution_count": 151,
   "id": "1a540a28",
   "metadata": {
    "vscode": {
     "languageId": "r"
    }
   },
   "outputs": [],
   "source": [
    "# Create factors\n",
    "cols <- c(\n",
    "    \"State\",\n",
    "    \"FundingInstrumentLevel1\",\n",
    "    \"ResearchInstitution\",\n",
    "    \"InstituteCountry\",\n",
    "    \"MainDiscipline_Level1\", \n",
    "    \"MainDiscipline_Level2\", \n",
    "    \"MainDiscipline\"\n",
    ")\n",
    "\n",
    "grant_data[, cols] <- lapply(grant_data[, cols], as.factor)"
   ]
  },
  {
   "cell_type": "code",
   "execution_count": 152,
   "id": "f35d2608",
   "metadata": {
    "vscode": {
     "languageId": "r"
    }
   },
   "outputs": [
    {
     "data": {
      "text/plain": [
       "  GrantNumber     CallDecisionYear EffectiveGrantStartDate GrantDurationDays\n",
       " Min.   :138726   Min.   :2012     Min.   :2012-02-01      Min.   :  27.0   \n",
       " 1st Qu.:155115   1st Qu.:2014     1st Qu.:2014-10-01      1st Qu.: 122.0   \n",
       " Median :170810   Median :2016     Median :2017-04-01      Median : 548.0   \n",
       " Mean   :172289   Mean   :2016     Mean   :2017-03-18      Mean   : 701.8   \n",
       " 3rd Qu.:190016   3rd Qu.:2019     3rd Qu.:2019-10-01      3rd Qu.:1095.0   \n",
       " Max.   :215930   Max.   :2022     Max.   :2023-02-01      Max.   :2524.0   \n",
       "                                                                            \n",
       " GrantDurationYears EffectiveGrantEndDate       State     \n",
       " Min.   :0.07397    Min.   :2012-03-31    Completed:7609  \n",
       " 1st Qu.:0.33425    1st Qu.:2017-03-31                    \n",
       " Median :1.50137    Median :2019-05-31                    \n",
       " Mean   :1.92282    Mean   :2019-02-18                    \n",
       " 3rd Qu.:3.00000    3rd Qu.:2021-03-31                    \n",
       " Max.   :6.91507    Max.   :2023-04-30                    \n",
       "                                                          \n",
       "          FundingInstrumentLevel1 AmountGrantedAllSets AmountPerYear    \n",
       " Careers              :2466       Min.   :       0     Min.   :      0  \n",
       " Infrastructure       : 163       1st Qu.:   18500     1st Qu.:  46828  \n",
       " Programmes           : 569       Median :  116100     Median :  75224  \n",
       " Projects             :2565       Mean   :  318492     Mean   : 124542  \n",
       " Science communication:1846       3rd Qu.:  469575     3rd Qu.: 149181  \n",
       "                                  Max.   :17917500     Max.   :4898250  \n",
       "                                                                        \n",
       " AmountPerEmployee AmountPerEmployeeAndYear\n",
       " Min.   :      0   Min.   :      0         \n",
       " 1st Qu.:      0   1st Qu.:      0         \n",
       " Median :      0   Median :      0         \n",
       " Mean   :  79466   Mean   :  29121         \n",
       " 3rd Qu.: 133333   3rd Qu.:  44552         \n",
       " Max.   :1861315   Max.   :4469605         \n",
       "                                           \n",
       "                                    ResearchInstitution\n",
       " University of Zurich - ZH                    : 908    \n",
       " Institution abroad - United States of America: 778    \n",
       " University of Lausanne - LA                  : 611    \n",
       " University of Berne - BE                     : 571    \n",
       " University of Geneva - GE                    : 562    \n",
       " (Other)                                      :2874    \n",
       " NA's                                         :1305    \n",
       "                           InstituteCountry          MainDiscipline_Level1\n",
       " Switzerland                       :5494    Biology and Medicine:7609     \n",
       " United States of America          : 798                                  \n",
       " Great Britain and Northern Ireland: 250                                  \n",
       " Germany                           : 114                                  \n",
       " Canada                            :  98                                  \n",
       " (Other)                           : 372                                  \n",
       " NA's                              : 483                                  \n",
       "               MainDiscipline_Level2                            MainDiscipline\n",
       " Basic Biological Research:2505      Neurophysiology and Brain Research: 762  \n",
       " Basic Medical Sciences   :1395      Molecular Biology                 : 746  \n",
       " Clinical Medicine        :1067      Immunology, Immunopathology       : 502  \n",
       " Experimental Medicine    :1043      Ecology                           : 450  \n",
       " General Biology          : 989      Cellular Biology, Cytology        : 395  \n",
       " Preventive Medicine      : 425      Genetics                          : 364  \n",
       " Social Medicine          : 185      (Other)                           :4390  \n",
       "  NrEmployees     NrEmployeesPerYear NrCollaborations NrCollaborationsPerYear\n",
       " Min.   : 0.000   Min.   : 0.0000    Min.   : 0.000   Min.   :  0.000        \n",
       " 1st Qu.: 0.000   1st Qu.: 0.0000    1st Qu.: 0.000   1st Qu.:  0.000        \n",
       " Median : 0.000   Median : 0.0000    Median : 1.000   Median :  0.400        \n",
       " Mean   : 1.964   Mean   : 0.6486    Mean   : 2.491   Mean   :  1.902        \n",
       " 3rd Qu.: 3.000   3rd Qu.: 1.0000    3rd Qu.: 4.000   3rd Qu.:  1.659        \n",
       " Max.   :96.000   Max.   :28.1220    Max.   :77.000   Max.   :226.552        \n",
       "                                                                             \n",
       " NrAcademicEvents  NrAcademicEventsPerYear DateFirstAcademicEvent\n",
       " Min.   :  0.000   Min.   : 0.000          Min.   :2012-02-24    \n",
       " 1st Qu.:  0.000   1st Qu.: 0.000          1st Qu.:2015-01-02    \n",
       " Median :  1.000   Median : 0.500          Median :2016-11-17    \n",
       " Mean   :  4.364   Mean   : 1.728          Mean   :2017-01-10    \n",
       " 3rd Qu.:  5.000   3rd Qu.: 2.335          3rd Qu.:2018-09-25    \n",
       " Max.   :146.000   Max.   :70.511          Max.   :2023-03-22    \n",
       "                                           NA's   :3566          \n",
       "    NrAwards       NrAwardsPerYear   YearFirstAward   NrDatasets      \n",
       " Min.   : 0.0000   Min.   : 0.0000   Min.   :2012   Min.   :  0.0000  \n",
       " 1st Qu.: 0.0000   1st Qu.: 0.0000   1st Qu.:2015   1st Qu.:  0.0000  \n",
       " Median : 0.0000   Median : 0.0000   Median :2017   Median :  0.0000  \n",
       " Mean   : 0.4062   Mean   : 0.1692   Mean   :2017   Mean   :  0.1895  \n",
       " 3rd Qu.: 0.0000   3rd Qu.: 0.0000   3rd Qu.:2019   3rd Qu.:  0.0000  \n",
       " Max.   :20.0000   Max.   :14.1944   Max.   :2023   Max.   :121.0000  \n",
       "                                     NA's   :6084                     \n",
       " NrDatasetsPerYear  DateFirstDataset     NrKnowledgeTransfer\n",
       " Min.   : 0.00000   Min.   :2014-08-07   Min.   : 0.0000    \n",
       " 1st Qu.: 0.00000   1st Qu.:2018-10-24   1st Qu.: 0.0000    \n",
       " Median : 0.00000   Median :2020-01-22   Median : 0.0000    \n",
       " Mean   : 0.07611   Mean   :2020-02-10   Mean   : 0.3526    \n",
       " 3rd Qu.: 0.00000   3rd Qu.:2021-06-29   3rd Qu.: 0.0000    \n",
       " Max.   :30.25000   Max.   :2024-05-06   Max.   :53.0000    \n",
       "                    NA's   :7231                            \n",
       " NrKnowledgeTransferPerYear DateFirstKnowledgeTransfer NrCommunication   \n",
       " Min.   : 0.00              Min.   :2012-05-22         Min.   :  0.0000  \n",
       " 1st Qu.: 0.00              1st Qu.:2015-10-09         1st Qu.:  0.0000  \n",
       " Median : 0.00              Median :2017-06-13         Median :  0.0000  \n",
       " Mean   : 0.15              Mean   :2017-07-17         Mean   :  0.8905  \n",
       " 3rd Qu.: 0.00              3rd Qu.:2019-02-26         3rd Qu.:  0.0000  \n",
       " Max.   :36.50              Max.   :2023-02-16         Max.   :144.0000  \n",
       "                            NA's   :6701                                 \n",
       " NrCommunicationPerYear YearFirstCommunication NrTotalPublications\n",
       " Min.   :  0.0000       Min.   :2012           Min.   :  0.000    \n",
       " 1st Qu.:  0.0000       1st Qu.:2015           1st Qu.:  0.000    \n",
       " Median :  0.0000       Median :2017           Median :  1.000    \n",
       " Mean   :  0.4944       Mean   :2017           Mean   :  4.632    \n",
       " 3rd Qu.:  0.0000       3rd Qu.:2019           3rd Qu.:  6.000    \n",
       " Max.   :314.6552       Max.   :2023           Max.   :237.000    \n",
       "                        NA's   :5997                              \n",
       " NrTotalPublicationsPerYear YearFirstPublication NrUncitablePublications\n",
       " Min.   : 0.0000            Min.   :1987         Min.   : 0.0000        \n",
       " 1st Qu.: 0.0000            1st Qu.:2015         1st Qu.: 0.0000        \n",
       " Median : 0.6673            Median :2017         Median : 0.0000        \n",
       " Mean   : 1.8225            Mean   :2017         Mean   : 0.4691        \n",
       " 3rd Qu.: 2.3355            3rd Qu.:2019         3rd Qu.: 0.0000        \n",
       " Max.   :64.5885            Max.   :2023         Max.   :61.0000        \n",
       "                            NA's   :4037                                \n",
       " NrUncitablePublicationsPerYear     NrUses        NrUsesPerYear    \n",
       " Min.   : 0.0000                Min.   : 0.0000   Min.   :0.00000  \n",
       " 1st Qu.: 0.0000                1st Qu.: 0.0000   1st Qu.:0.00000  \n",
       " Median : 0.0000                Median : 0.0000   Median :0.00000  \n",
       " Mean   : 0.1844                Mean   : 0.1377   Mean   :0.05704  \n",
       " 3rd Qu.: 0.0000                3rd Qu.: 0.0000   3rd Qu.:0.00000  \n",
       " Max.   :18.5254                Max.   :14.0000   Max.   :7.01923  \n",
       "                                                                   \n",
       "  YearFirstUse  NrTotalOutputs   NrTotalOutputsPerYear NrTotalUncitableOutputs\n",
       " Min.   :2012   Min.   :  0.00   Min.   :  0.000       Min.   :  0.000        \n",
       " 1st Qu.:2015   1st Qu.:  0.00   1st Qu.:  0.000       1st Qu.:  0.000        \n",
       " Median :2017   Median :  4.00   Median :  2.258       Median :  2.000        \n",
       " Mean   :2017   Mean   : 10.97   Mean   :  4.497       Mean   :  6.897        \n",
       " 3rd Qu.:2019   3rd Qu.: 14.00   3rd Qu.:  6.000       3rd Qu.:  8.000        \n",
       " Max.   :2023   Max.   :238.00   Max.   :314.655       Max.   :179.000        \n",
       " NA's   :7155                                                                 \n",
       " NrTotalUncitableOutputsPerYear NrCitablePublications\n",
       " Min.   :  0.000                Min.   :  0.000      \n",
       " 1st Qu.:  0.000                1st Qu.:  0.000      \n",
       " Median :  1.003                Median :  1.000      \n",
       " Mean   :  2.921                Mean   :  4.076      \n",
       " 3rd Qu.:  3.996                3rd Qu.:  5.000      \n",
       " Max.   :314.655                Max.   :235.000      \n",
       "                                                     \n",
       " NrCitablePublicationsPerYear NrCitationsTotal  NrCitationsPerPublication\n",
       " Min.   : 0.0000              Min.   :    0.0   Min.   :   0.00          \n",
       " 1st Qu.: 0.0000              1st Qu.:   36.0   1st Qu.:  12.00          \n",
       " Median : 0.5007              Median :  123.0   Median :  26.00          \n",
       " Mean   : 1.5758              Mean   :  339.4   Mean   :  46.63          \n",
       " 3rd Qu.: 2.0055              3rd Qu.:  355.8   3rd Qu.:  52.48          \n",
       " Max.   :61.0837              Max.   :11713.0   Max.   :1964.50          \n",
       "                              NA's   :3951      NA's   :3951             \n",
       " YearFirstCitablePublication\n",
       " Min.   :2010               \n",
       " 1st Qu.:2015               \n",
       " Median :2017               \n",
       " Mean   :2017               \n",
       " 3rd Qu.:2019               \n",
       " Max.   :2023               \n",
       " NA's   :3846               "
      ]
     },
     "metadata": {},
     "output_type": "display_data"
    }
   ],
   "source": [
    "summary(grant_data)"
   ]
  },
  {
   "cell_type": "code",
   "execution_count": 153,
   "id": "d5b054d8",
   "metadata": {
    "vscode": {
     "languageId": "r"
    }
   },
   "outputs": [],
   "source": [
    "# Keep the columns of interest\n",
    "\n",
    "grants <- select(grant_data,\n",
    "  GrantNumber,\n",
    "  CallDecisionYear,\n",
    "  GrantDurationYears,\n",
    "  FundingInstrumentLevel1,\n",
    "  AmountGrantedAllSets,\n",
    "  AmountPerYear,\n",
    "  # ResearchInstitution,\n",
    "  InstituteCountry,\n",
    "  # MainDiscipline_Level1,\n",
    "  MainDiscipline_Level2,\n",
    "  # MainDiscipline,\n",
    "  NrTotalUncitableOutputs,\n",
    "  NrTotalUncitableOutputsPerYear,\n",
    "  NrCitablePublications,\n",
    "  NrCitablePublicationsPerYear,\n",
    "  NrCitationsTotal,\n",
    "  NrCitationsPerPublication)"
   ]
  },
  {
   "cell_type": "code",
   "execution_count": 154,
   "id": "c1f2b521",
   "metadata": {
    "vscode": {
     "languageId": "r"
    }
   },
   "outputs": [],
   "source": [
    "# Keep the relevant medical grants only\n",
    "\n",
    "grants <- filter(grants, \n",
    "                  MainDiscipline_Level2 %in% c(\n",
    "                    \"Basic Medical Sciences\", \n",
    "                    \"Experimental Medicine\", \n",
    "                    \"Clinical Medicine\",\n",
    "                    \"Preventive Medicine\",\n",
    "                    \"Social Medicine\"\n",
    "                    )\n",
    "                )"
   ]
  },
  {
   "cell_type": "code",
   "execution_count": 155,
   "id": "762e289e",
   "metadata": {
    "vscode": {
     "languageId": "r"
    }
   },
   "outputs": [
    {
     "data": {
      "text/html": [
       "<style>\n",
       ".list-inline {list-style: none; margin:0; padding: 0}\n",
       ".list-inline>li {display: inline-block}\n",
       ".list-inline>li:not(:last-child)::after {content: \"\\00b7\"; padding: 0 .5ex}\n",
       "</style>\n",
       "<ol class=list-inline><li>4115</li><li>14</li></ol>\n"
      ],
      "text/latex": [
       "\\begin{enumerate*}\n",
       "\\item 4115\n",
       "\\item 14\n",
       "\\end{enumerate*}\n"
      ],
      "text/markdown": [
       "1. 4115\n",
       "2. 14\n",
       "\n",
       "\n"
      ],
      "text/plain": [
       "[1] 4115   14"
      ]
     },
     "metadata": {},
     "output_type": "display_data"
    },
    {
     "data": {
      "text/html": [
       "<table class=\"dataframe\">\n",
       "<caption>A tibble: 6 × 14</caption>\n",
       "<thead>\n",
       "\t<tr><th scope=col>GrantNumber</th><th scope=col>CallDecisionYear</th><th scope=col>GrantDurationYears</th><th scope=col>FundingInstrumentLevel1</th><th scope=col>AmountGrantedAllSets</th><th scope=col>AmountPerYear</th><th scope=col>InstituteCountry</th><th scope=col>MainDiscipline_Level2</th><th scope=col>NrTotalUncitableOutputs</th><th scope=col>NrTotalUncitableOutputsPerYear</th><th scope=col>NrCitablePublications</th><th scope=col>NrCitablePublicationsPerYear</th><th scope=col>NrCitationsTotal</th><th scope=col>NrCitationsPerPublication</th></tr>\n",
       "\t<tr><th scope=col>&lt;dbl&gt;</th><th scope=col>&lt;dbl&gt;</th><th scope=col>&lt;dbl&gt;</th><th scope=col>&lt;fct&gt;</th><th scope=col>&lt;dbl&gt;</th><th scope=col>&lt;dbl&gt;</th><th scope=col>&lt;fct&gt;</th><th scope=col>&lt;fct&gt;</th><th scope=col>&lt;dbl&gt;</th><th scope=col>&lt;dbl&gt;</th><th scope=col>&lt;dbl&gt;</th><th scope=col>&lt;dbl&gt;</th><th scope=col>&lt;dbl&gt;</th><th scope=col>&lt;dbl&gt;</th></tr>\n",
       "</thead>\n",
       "<tbody>\n",
       "\t<tr><td>144100</td><td>2012</td><td>4.4958904</td><td>Projects</td><td>291191</td><td> 64768.26</td><td>Switzerland             </td><td>Preventive Medicine   </td><td>44</td><td>9.786715</td><td> 3</td><td>0.6672761</td><td>145</td><td>48.33333</td></tr>\n",
       "\t<tr><td>145705</td><td>2012</td><td>0.9972603</td><td>Careers </td><td> 66120</td><td> 66301.65</td><td>United States of America</td><td>Basic Medical Sciences</td><td> 0</td><td>0.000000</td><td> 0</td><td>0.0000000</td><td> NA</td><td>      NA</td></tr>\n",
       "\t<tr><td>144172</td><td>2012</td><td>2.2493151</td><td>Projects</td><td>212782</td><td> 94598.57</td><td>Switzerland             </td><td>Clinical Medicine     </td><td> 0</td><td>0.000000</td><td> 0</td><td>0.0000000</td><td> NA</td><td>      NA</td></tr>\n",
       "\t<tr><td>142663</td><td>2012</td><td>1.9972603</td><td>Careers </td><td>544935</td><td>272841.26</td><td>Switzerland             </td><td>Basic Medical Sciences</td><td> 4</td><td>2.002743</td><td> 3</td><td>1.5020576</td><td> NA</td><td>      NA</td></tr>\n",
       "\t<tr><td>140514</td><td>2012</td><td>4.0000000</td><td>Projects</td><td>442000</td><td>110500.00</td><td>Switzerland             </td><td>Basic Medical Sciences</td><td> 0</td><td>0.000000</td><td> 1</td><td>0.2500000</td><td> NA</td><td>      NA</td></tr>\n",
       "\t<tr><td>143748</td><td>2012</td><td>2.9972603</td><td>Projects</td><td>544800</td><td>181766.00</td><td>Switzerland             </td><td>Basic Medical Sciences</td><td> 8</td><td>2.669104</td><td>12</td><td>4.0036563</td><td> NA</td><td>      NA</td></tr>\n",
       "</tbody>\n",
       "</table>\n"
      ],
      "text/latex": [
       "A tibble: 6 × 14\n",
       "\\begin{tabular}{llllllllllllll}\n",
       " GrantNumber & CallDecisionYear & GrantDurationYears & FundingInstrumentLevel1 & AmountGrantedAllSets & AmountPerYear & InstituteCountry & MainDiscipline\\_Level2 & NrTotalUncitableOutputs & NrTotalUncitableOutputsPerYear & NrCitablePublications & NrCitablePublicationsPerYear & NrCitationsTotal & NrCitationsPerPublication\\\\\n",
       " <dbl> & <dbl> & <dbl> & <fct> & <dbl> & <dbl> & <fct> & <fct> & <dbl> & <dbl> & <dbl> & <dbl> & <dbl> & <dbl>\\\\\n",
       "\\hline\n",
       "\t 144100 & 2012 & 4.4958904 & Projects & 291191 &  64768.26 & Switzerland              & Preventive Medicine    & 44 & 9.786715 &  3 & 0.6672761 & 145 & 48.33333\\\\\n",
       "\t 145705 & 2012 & 0.9972603 & Careers  &  66120 &  66301.65 & United States of America & Basic Medical Sciences &  0 & 0.000000 &  0 & 0.0000000 &  NA &       NA\\\\\n",
       "\t 144172 & 2012 & 2.2493151 & Projects & 212782 &  94598.57 & Switzerland              & Clinical Medicine      &  0 & 0.000000 &  0 & 0.0000000 &  NA &       NA\\\\\n",
       "\t 142663 & 2012 & 1.9972603 & Careers  & 544935 & 272841.26 & Switzerland              & Basic Medical Sciences &  4 & 2.002743 &  3 & 1.5020576 &  NA &       NA\\\\\n",
       "\t 140514 & 2012 & 4.0000000 & Projects & 442000 & 110500.00 & Switzerland              & Basic Medical Sciences &  0 & 0.000000 &  1 & 0.2500000 &  NA &       NA\\\\\n",
       "\t 143748 & 2012 & 2.9972603 & Projects & 544800 & 181766.00 & Switzerland              & Basic Medical Sciences &  8 & 2.669104 & 12 & 4.0036563 &  NA &       NA\\\\\n",
       "\\end{tabular}\n"
      ],
      "text/markdown": [
       "\n",
       "A tibble: 6 × 14\n",
       "\n",
       "| GrantNumber &lt;dbl&gt; | CallDecisionYear &lt;dbl&gt; | GrantDurationYears &lt;dbl&gt; | FundingInstrumentLevel1 &lt;fct&gt; | AmountGrantedAllSets &lt;dbl&gt; | AmountPerYear &lt;dbl&gt; | InstituteCountry &lt;fct&gt; | MainDiscipline_Level2 &lt;fct&gt; | NrTotalUncitableOutputs &lt;dbl&gt; | NrTotalUncitableOutputsPerYear &lt;dbl&gt; | NrCitablePublications &lt;dbl&gt; | NrCitablePublicationsPerYear &lt;dbl&gt; | NrCitationsTotal &lt;dbl&gt; | NrCitationsPerPublication &lt;dbl&gt; |\n",
       "|---|---|---|---|---|---|---|---|---|---|---|---|---|---|\n",
       "| 144100 | 2012 | 4.4958904 | Projects | 291191 |  64768.26 | Switzerland              | Preventive Medicine    | 44 | 9.786715 |  3 | 0.6672761 | 145 | 48.33333 |\n",
       "| 145705 | 2012 | 0.9972603 | Careers  |  66120 |  66301.65 | United States of America | Basic Medical Sciences |  0 | 0.000000 |  0 | 0.0000000 |  NA |       NA |\n",
       "| 144172 | 2012 | 2.2493151 | Projects | 212782 |  94598.57 | Switzerland              | Clinical Medicine      |  0 | 0.000000 |  0 | 0.0000000 |  NA |       NA |\n",
       "| 142663 | 2012 | 1.9972603 | Careers  | 544935 | 272841.26 | Switzerland              | Basic Medical Sciences |  4 | 2.002743 |  3 | 1.5020576 |  NA |       NA |\n",
       "| 140514 | 2012 | 4.0000000 | Projects | 442000 | 110500.00 | Switzerland              | Basic Medical Sciences |  0 | 0.000000 |  1 | 0.2500000 |  NA |       NA |\n",
       "| 143748 | 2012 | 2.9972603 | Projects | 544800 | 181766.00 | Switzerland              | Basic Medical Sciences |  8 | 2.669104 | 12 | 4.0036563 |  NA |       NA |\n",
       "\n"
      ],
      "text/plain": [
       "  GrantNumber CallDecisionYear GrantDurationYears FundingInstrumentLevel1\n",
       "1 144100      2012             4.4958904          Projects               \n",
       "2 145705      2012             0.9972603          Careers                \n",
       "3 144172      2012             2.2493151          Projects               \n",
       "4 142663      2012             1.9972603          Careers                \n",
       "5 140514      2012             4.0000000          Projects               \n",
       "6 143748      2012             2.9972603          Projects               \n",
       "  AmountGrantedAllSets AmountPerYear InstituteCountry        \n",
       "1 291191                64768.26     Switzerland             \n",
       "2  66120                66301.65     United States of America\n",
       "3 212782                94598.57     Switzerland             \n",
       "4 544935               272841.26     Switzerland             \n",
       "5 442000               110500.00     Switzerland             \n",
       "6 544800               181766.00     Switzerland             \n",
       "  MainDiscipline_Level2  NrTotalUncitableOutputs NrTotalUncitableOutputsPerYear\n",
       "1 Preventive Medicine    44                      9.786715                      \n",
       "2 Basic Medical Sciences  0                      0.000000                      \n",
       "3 Clinical Medicine       0                      0.000000                      \n",
       "4 Basic Medical Sciences  4                      2.002743                      \n",
       "5 Basic Medical Sciences  0                      0.000000                      \n",
       "6 Basic Medical Sciences  8                      2.669104                      \n",
       "  NrCitablePublications NrCitablePublicationsPerYear NrCitationsTotal\n",
       "1  3                    0.6672761                    145             \n",
       "2  0                    0.0000000                     NA             \n",
       "3  0                    0.0000000                     NA             \n",
       "4  3                    1.5020576                     NA             \n",
       "5  1                    0.2500000                     NA             \n",
       "6 12                    4.0036563                     NA             \n",
       "  NrCitationsPerPublication\n",
       "1 48.33333                 \n",
       "2       NA                 \n",
       "3       NA                 \n",
       "4       NA                 \n",
       "5       NA                 \n",
       "6       NA                 "
      ]
     },
     "metadata": {},
     "output_type": "display_data"
    }
   ],
   "source": [
    "dim(grants)\n",
    "head(grants)"
   ]
  },
  {
   "cell_type": "code",
   "execution_count": 156,
   "id": "35908b04",
   "metadata": {
    "vscode": {
     "languageId": "r"
    }
   },
   "outputs": [],
   "source": [
    "# Check for grants with at least 1 known publication and some known citations\n",
    "test <- filter(grants, NrCitablePublications != 0)\n",
    "test <- filter(grants, !is.na(NrCitationsTotal))"
   ]
  },
  {
   "cell_type": "code",
   "execution_count": 157,
   "id": "5ac53520",
   "metadata": {
    "vscode": {
     "languageId": "r"
    }
   },
   "outputs": [
    {
     "data": {
      "text/html": [
       "37"
      ],
      "text/latex": [
       "37"
      ],
      "text/markdown": [
       "37"
      ],
      "text/plain": [
       "[1] 37"
      ]
     },
     "metadata": {},
     "output_type": "display_data"
    }
   ],
   "source": [
    "# Check the number of grants with 0 citation despite at least 1 known publication\n",
    "sum(test$NrCitationsTotal == 0)"
   ]
  },
  {
   "cell_type": "code",
   "execution_count": 158,
   "id": "0772b47b",
   "metadata": {
    "vscode": {
     "languageId": "r"
    }
   },
   "outputs": [
    {
     "data": {
      "text/html": [
       "<style>\n",
       ".list-inline {list-style: none; margin:0; padding: 0}\n",
       ".list-inline>li {display: inline-block}\n",
       ".list-inline>li:not(:last-child)::after {content: \"\\00b7\"; padding: 0 .5ex}\n",
       "</style>\n",
       "<ol class=list-inline><li>1960</li><li>14</li></ol>\n"
      ],
      "text/latex": [
       "\\begin{enumerate*}\n",
       "\\item 1960\n",
       "\\item 14\n",
       "\\end{enumerate*}\n"
      ],
      "text/markdown": [
       "1. 1960\n",
       "2. 14\n",
       "\n",
       "\n"
      ],
      "text/plain": [
       "[1] 1960   14"
      ]
     },
     "metadata": {},
     "output_type": "display_data"
    }
   ],
   "source": [
    "dim(test)"
   ]
  },
  {
   "cell_type": "code",
   "execution_count": 159,
   "id": "3883a984",
   "metadata": {
    "vscode": {
     "languageId": "r"
    }
   },
   "outputs": [],
   "source": [
    "# Keep only the grants which generated at least 1 publication with at least 1 citations as well as at least 1 general output\n",
    "pub_grants <- filter(grants, NrCitablePublications != 0)\n",
    "cited_grants <- filter(pub_grants, !is.na(NrCitationsTotal))\n",
    "final_grants <- filter(cited_grants, NrCitationsTotal > 0)\n",
    "# final_grants <- filter(cited_grants, NrTotalUncitableOutputs > 0)"
   ]
  },
  {
   "cell_type": "code",
   "execution_count": 160,
   "id": "e31015e2",
   "metadata": {
    "vscode": {
     "languageId": "r"
    }
   },
   "outputs": [
    {
     "data": {
      "text/html": [
       "<style>\n",
       ".list-inline {list-style: none; margin:0; padding: 0}\n",
       ".list-inline>li {display: inline-block}\n",
       ".list-inline>li:not(:last-child)::after {content: \"\\00b7\"; padding: 0 .5ex}\n",
       "</style>\n",
       "<ol class=list-inline><li>1923</li><li>14</li></ol>\n"
      ],
      "text/latex": [
       "\\begin{enumerate*}\n",
       "\\item 1923\n",
       "\\item 14\n",
       "\\end{enumerate*}\n"
      ],
      "text/markdown": [
       "1. 1923\n",
       "2. 14\n",
       "\n",
       "\n"
      ],
      "text/plain": [
       "[1] 1923   14"
      ]
     },
     "metadata": {},
     "output_type": "display_data"
    },
    {
     "data": {
      "text/html": [
       "<table class=\"dataframe\">\n",
       "<caption>A tibble: 6 × 14</caption>\n",
       "<thead>\n",
       "\t<tr><th scope=col>GrantNumber</th><th scope=col>CallDecisionYear</th><th scope=col>GrantDurationYears</th><th scope=col>FundingInstrumentLevel1</th><th scope=col>AmountGrantedAllSets</th><th scope=col>AmountPerYear</th><th scope=col>InstituteCountry</th><th scope=col>MainDiscipline_Level2</th><th scope=col>NrTotalUncitableOutputs</th><th scope=col>NrTotalUncitableOutputsPerYear</th><th scope=col>NrCitablePublications</th><th scope=col>NrCitablePublicationsPerYear</th><th scope=col>NrCitationsTotal</th><th scope=col>NrCitationsPerPublication</th></tr>\n",
       "\t<tr><th scope=col>&lt;dbl&gt;</th><th scope=col>&lt;dbl&gt;</th><th scope=col>&lt;dbl&gt;</th><th scope=col>&lt;fct&gt;</th><th scope=col>&lt;dbl&gt;</th><th scope=col>&lt;dbl&gt;</th><th scope=col>&lt;fct&gt;</th><th scope=col>&lt;fct&gt;</th><th scope=col>&lt;dbl&gt;</th><th scope=col>&lt;dbl&gt;</th><th scope=col>&lt;dbl&gt;</th><th scope=col>&lt;dbl&gt;</th><th scope=col>&lt;dbl&gt;</th><th scope=col>&lt;dbl&gt;</th></tr>\n",
       "</thead>\n",
       "<tbody>\n",
       "\t<tr><td>144100</td><td>2012</td><td>4.4958904</td><td>Projects  </td><td>291191</td><td> 64768.26</td><td>Switzerland</td><td>Preventive Medicine   </td><td>44</td><td>9.786715</td><td> 3</td><td>0.6672761</td><td>145</td><td> 48.33333</td></tr>\n",
       "\t<tr><td>139309</td><td>2012</td><td>4.9232877</td><td>Programmes</td><td>640027</td><td>129999.92</td><td>Switzerland</td><td>Social Medicine       </td><td>13</td><td>2.640512</td><td> 7</td><td>1.4218141</td><td> 89</td><td> 12.71429</td></tr>\n",
       "\t<tr><td>145985</td><td>2012</td><td>0.9972603</td><td>Careers   </td><td> 42800</td><td> 42917.58</td><td>Germany    </td><td>Basic Medical Sciences</td><td> 3</td><td>3.008242</td><td> 1</td><td>1.0027473</td><td>146</td><td>146.00000</td></tr>\n",
       "\t<tr><td>144072</td><td>2012</td><td>2.9972603</td><td>Projects  </td><td>570301</td><td>190274.10</td><td>Switzerland</td><td>Experimental Medicine </td><td> 1</td><td>0.333638</td><td> 6</td><td>2.0018282</td><td>940</td><td>156.66667</td></tr>\n",
       "\t<tr><td>142585</td><td>2012</td><td>2.9972603</td><td>Careers   </td><td>593352</td><td>197964.79</td><td>Switzerland</td><td>Clinical Medicine     </td><td> 1</td><td>0.333638</td><td>10</td><td>3.3363803</td><td>242</td><td> 24.20000</td></tr>\n",
       "\t<tr><td>145760</td><td>2012</td><td>1.9972603</td><td>Careers   </td><td>100000</td><td> 50068.59</td><td>NA         </td><td>Basic Medical Sciences</td><td>14</td><td>7.009602</td><td> 4</td><td>2.0027435</td><td>214</td><td> 53.50000</td></tr>\n",
       "</tbody>\n",
       "</table>\n"
      ],
      "text/latex": [
       "A tibble: 6 × 14\n",
       "\\begin{tabular}{llllllllllllll}\n",
       " GrantNumber & CallDecisionYear & GrantDurationYears & FundingInstrumentLevel1 & AmountGrantedAllSets & AmountPerYear & InstituteCountry & MainDiscipline\\_Level2 & NrTotalUncitableOutputs & NrTotalUncitableOutputsPerYear & NrCitablePublications & NrCitablePublicationsPerYear & NrCitationsTotal & NrCitationsPerPublication\\\\\n",
       " <dbl> & <dbl> & <dbl> & <fct> & <dbl> & <dbl> & <fct> & <fct> & <dbl> & <dbl> & <dbl> & <dbl> & <dbl> & <dbl>\\\\\n",
       "\\hline\n",
       "\t 144100 & 2012 & 4.4958904 & Projects   & 291191 &  64768.26 & Switzerland & Preventive Medicine    & 44 & 9.786715 &  3 & 0.6672761 & 145 &  48.33333\\\\\n",
       "\t 139309 & 2012 & 4.9232877 & Programmes & 640027 & 129999.92 & Switzerland & Social Medicine        & 13 & 2.640512 &  7 & 1.4218141 &  89 &  12.71429\\\\\n",
       "\t 145985 & 2012 & 0.9972603 & Careers    &  42800 &  42917.58 & Germany     & Basic Medical Sciences &  3 & 3.008242 &  1 & 1.0027473 & 146 & 146.00000\\\\\n",
       "\t 144072 & 2012 & 2.9972603 & Projects   & 570301 & 190274.10 & Switzerland & Experimental Medicine  &  1 & 0.333638 &  6 & 2.0018282 & 940 & 156.66667\\\\\n",
       "\t 142585 & 2012 & 2.9972603 & Careers    & 593352 & 197964.79 & Switzerland & Clinical Medicine      &  1 & 0.333638 & 10 & 3.3363803 & 242 &  24.20000\\\\\n",
       "\t 145760 & 2012 & 1.9972603 & Careers    & 100000 &  50068.59 & NA          & Basic Medical Sciences & 14 & 7.009602 &  4 & 2.0027435 & 214 &  53.50000\\\\\n",
       "\\end{tabular}\n"
      ],
      "text/markdown": [
       "\n",
       "A tibble: 6 × 14\n",
       "\n",
       "| GrantNumber &lt;dbl&gt; | CallDecisionYear &lt;dbl&gt; | GrantDurationYears &lt;dbl&gt; | FundingInstrumentLevel1 &lt;fct&gt; | AmountGrantedAllSets &lt;dbl&gt; | AmountPerYear &lt;dbl&gt; | InstituteCountry &lt;fct&gt; | MainDiscipline_Level2 &lt;fct&gt; | NrTotalUncitableOutputs &lt;dbl&gt; | NrTotalUncitableOutputsPerYear &lt;dbl&gt; | NrCitablePublications &lt;dbl&gt; | NrCitablePublicationsPerYear &lt;dbl&gt; | NrCitationsTotal &lt;dbl&gt; | NrCitationsPerPublication &lt;dbl&gt; |\n",
       "|---|---|---|---|---|---|---|---|---|---|---|---|---|---|\n",
       "| 144100 | 2012 | 4.4958904 | Projects   | 291191 |  64768.26 | Switzerland | Preventive Medicine    | 44 | 9.786715 |  3 | 0.6672761 | 145 |  48.33333 |\n",
       "| 139309 | 2012 | 4.9232877 | Programmes | 640027 | 129999.92 | Switzerland | Social Medicine        | 13 | 2.640512 |  7 | 1.4218141 |  89 |  12.71429 |\n",
       "| 145985 | 2012 | 0.9972603 | Careers    |  42800 |  42917.58 | Germany     | Basic Medical Sciences |  3 | 3.008242 |  1 | 1.0027473 | 146 | 146.00000 |\n",
       "| 144072 | 2012 | 2.9972603 | Projects   | 570301 | 190274.10 | Switzerland | Experimental Medicine  |  1 | 0.333638 |  6 | 2.0018282 | 940 | 156.66667 |\n",
       "| 142585 | 2012 | 2.9972603 | Careers    | 593352 | 197964.79 | Switzerland | Clinical Medicine      |  1 | 0.333638 | 10 | 3.3363803 | 242 |  24.20000 |\n",
       "| 145760 | 2012 | 1.9972603 | Careers    | 100000 |  50068.59 | NA          | Basic Medical Sciences | 14 | 7.009602 |  4 | 2.0027435 | 214 |  53.50000 |\n",
       "\n"
      ],
      "text/plain": [
       "  GrantNumber CallDecisionYear GrantDurationYears FundingInstrumentLevel1\n",
       "1 144100      2012             4.4958904          Projects               \n",
       "2 139309      2012             4.9232877          Programmes             \n",
       "3 145985      2012             0.9972603          Careers                \n",
       "4 144072      2012             2.9972603          Projects               \n",
       "5 142585      2012             2.9972603          Careers                \n",
       "6 145760      2012             1.9972603          Careers                \n",
       "  AmountGrantedAllSets AmountPerYear InstituteCountry MainDiscipline_Level2 \n",
       "1 291191                64768.26     Switzerland      Preventive Medicine   \n",
       "2 640027               129999.92     Switzerland      Social Medicine       \n",
       "3  42800                42917.58     Germany          Basic Medical Sciences\n",
       "4 570301               190274.10     Switzerland      Experimental Medicine \n",
       "5 593352               197964.79     Switzerland      Clinical Medicine     \n",
       "6 100000                50068.59     NA               Basic Medical Sciences\n",
       "  NrTotalUncitableOutputs NrTotalUncitableOutputsPerYear NrCitablePublications\n",
       "1 44                      9.786715                        3                   \n",
       "2 13                      2.640512                        7                   \n",
       "3  3                      3.008242                        1                   \n",
       "4  1                      0.333638                        6                   \n",
       "5  1                      0.333638                       10                   \n",
       "6 14                      7.009602                        4                   \n",
       "  NrCitablePublicationsPerYear NrCitationsTotal NrCitationsPerPublication\n",
       "1 0.6672761                    145               48.33333                \n",
       "2 1.4218141                     89               12.71429                \n",
       "3 1.0027473                    146              146.00000                \n",
       "4 2.0018282                    940              156.66667                \n",
       "5 3.3363803                    242               24.20000                \n",
       "6 2.0027435                    214               53.50000                "
      ]
     },
     "metadata": {},
     "output_type": "display_data"
    }
   ],
   "source": [
    "dim(cited_grants)\n",
    "head(cited_grants)"
   ]
  },
  {
   "cell_type": "code",
   "execution_count": 161,
   "id": "c06abb0f-b527-47be-b51c-35a8704cf716",
   "metadata": {
    "vscode": {
     "languageId": "r"
    }
   },
   "outputs": [],
   "source": [
    "# Write  data to file\n",
    "date_string <- format(Sys.Date(), \"%Y%m%d\")\n",
    "file_name <- sprintf(\"BiomedGrants_%s.csv\", date_string)\n",
    "\n",
    "# Into tidy\n",
    "write.table(final_grants, sprintf(\"4_%s\", file_name), sep=\";\", fileEncoding=\"UTF-8\", row.names = FALSE)\n",
    "\n",
    "# Into analysis\n",
    "write.table(final_grants, sprintf(\"../analysis/%s\", file_name), sep=\";\", fileEncoding=\"UTF-8\", row.names = FALSE)\n",
    "\n",
    "# Into DaVi (comma-separated, not semi-colon)\n",
    "write.table(final_grants, sprintf(\"../../visualization/%s\", file_name), sep=\",\", fileEncoding=\"UTF-8\", row.names = FALSE)"
   ]
  }
 ],
 "metadata": {
  "kernelspec": {
   "display_name": "R",
   "language": "R",
   "name": "ir"
  },
  "language_info": {
   "codemirror_mode": "r",
   "file_extension": ".r",
   "mimetype": "text/x-r-source",
   "name": "R",
   "pygments_lexer": "r",
   "version": "4.1.3"
  }
 },
 "nbformat": 4,
 "nbformat_minor": 5
}
